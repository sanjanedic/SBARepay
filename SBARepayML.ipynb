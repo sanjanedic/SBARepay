{
 "cells": [
  {
   "cell_type": "markdown",
   "metadata": {},
   "source": [
    "# SBA Repay: Predicting Loan Defaults for Small Business Loans\n",
    "\n",
    "## Table of Contents\n",
    "1. [Initial Model Testing - Logistic Regression](#cell1)\n",
    "2. [A Simple Decision Tree](#cell2)\n",
    "3. [Random Forest](#cell3)\n",
    "3. [Random Forest Feature Importances](#cell4)\n",
    "3. [Focusing on Shorter Duration Loans](#cell5)\n",
    "\n",
    "\n",
    "\n",
    "\n",
    "<a id=\"cell1\"></a>\n",
    "## 1. Initial Model Testing - Logistic Regression"
   ]
  },
  {
   "cell_type": "code",
   "execution_count": 1,
   "metadata": {
    "collapsed": true
   },
   "outputs": [],
   "source": [
    "#Import necessary Python packages \n",
    "\n",
    "#data analysis tools\n",
    "import numpy as np\n",
    "import pandas as pd\n",
    "import datetime\n",
    "from dateutil.relativedelta import relativedelta\n",
    "\n",
    "#plotting tools\n",
    "import matplotlib.pyplot as plt\n",
    "%matplotlib inline\n",
    "import seaborn as sns\n",
    "import graphviz \n",
    "\n",
    "#classification \n",
    "from sklearn.preprocessing import StandardScaler\n",
    "from sklearn.model_selection import train_test_split, GridSearchCV, cross_val_score, cross_val_predict, StratifiedShuffleSplit\n",
    "from sklearn.linear_model import LogisticRegression\n",
    "from sklearn.metrics import classification_report, confusion_matrix\n",
    "from sklearn import tree\n",
    "from sklearn.tree import DecisionTreeClassifier\n",
    "from sklearn.ensemble import RandomForestClassifier\n",
    "from sklearn.metrics import make_scorer, precision_score"
   ]
  },
  {
   "cell_type": "code",
   "execution_count": 2,
   "metadata": {
    "collapsed": true
   },
   "outputs": [],
   "source": [
    "#Load cleaned data\n",
    "data = pd.read_pickle('loans_7a_matured')"
   ]
  },
  {
   "cell_type": "code",
   "execution_count": 3,
   "metadata": {
    "collapsed": false
   },
   "outputs": [
    {
     "data": {
      "text/plain": [
       "Index([      'ApprovalFiscalYear',             'TermInMonths',\n",
       "                 'RevolverStatus',            'JobsSupported',\n",
       "               'FranchiseCodeBin',                'SP_to2016',\n",
       "       'SBAGuaranteedApprovalAdj',                       'AL',\n",
       "                             'AR',                       'AZ',\n",
       "       ...\n",
       "                             2008,                       2009,\n",
       "                             2010,                       2011,\n",
       "                             2012,                       2013,\n",
       "                             2014,                       2015,\n",
       "                             2016,                       2017],\n",
       "      dtype='object', length=106)"
      ]
     },
     "execution_count": 3,
     "metadata": {},
     "output_type": "execute_result"
    }
   ],
   "source": [
    "data.columns"
   ]
  },
  {
   "cell_type": "markdown",
   "metadata": {},
   "source": [
    "We will **remove the approval year** information in order to make the model useful for future years (not included in the data)."
   ]
  },
  {
   "cell_type": "code",
   "execution_count": 4,
   "metadata": {
    "collapsed": true
   },
   "outputs": [],
   "source": [
    "data.drop(list(data.columns)[80:], axis = 1, inplace = True)\n",
    "data.drop('ApprovalFiscalYear', axis = 1, inplace = True)"
   ]
  },
  {
   "cell_type": "markdown",
   "metadata": {},
   "source": [
    "Target variable is Loan Status - Paid in Full (PIF) versus Defaulted. Right now:\n",
    "* Negative class = defaulted.\n",
    "* Postive class = repaid (paid in full).\n",
    "\n",
    "\n"
   ]
  },
  {
   "cell_type": "code",
   "execution_count": 5,
   "metadata": {
    "collapsed": false
   },
   "outputs": [
    {
     "data": {
      "text/plain": [
       "1    492214\n",
       "0    158049\n",
       "Name: PIF, dtype: int64"
      ]
     },
     "execution_count": 5,
     "metadata": {},
     "output_type": "execute_result"
    }
   ],
   "source": [
    "data['PIF'].value_counts()"
   ]
  },
  {
   "cell_type": "code",
   "execution_count": 6,
   "metadata": {
    "collapsed": false
   },
   "outputs": [
    {
     "name": "stdout",
     "output_type": "stream",
     "text": [
      "24.31% of matured loans defaulted\n"
     ]
    }
   ],
   "source": [
    "# Percent of loans that defaulted out of paid in full + defaulted loans\n",
    "print(str(np.round(100*(data['PIF']==0).sum() / len(data), 2)) + '% of matured loans defaulted')"
   ]
  },
  {
   "cell_type": "code",
   "execution_count": 7,
   "metadata": {
    "collapsed": true
   },
   "outputs": [],
   "source": [
    "# Select the features\n",
    "X = data.drop(['PIF'], axis = 1)\n",
    "# Select the target variable: switch class labels so that \"defaulted\" is the postive class \n",
    "# since this is what we really care about\n",
    "y = (1 - data['PIF'])\n",
    "\n",
    "class_names = ['Paid in Full', 'Defaulted']"
   ]
  },
  {
   "cell_type": "markdown",
   "metadata": {},
   "source": [
    "From here on: \n",
    "<br>\n",
    "   **  Class 0 = Paid in Full <br>\n",
    "     Class 1 = Defaulted **"
   ]
  },
  {
   "cell_type": "markdown",
   "metadata": {},
   "source": [
    "We will first split our data into **training and testing** sets. We will use a **stratified** split since classes are somewhat imbalanced. We will always run model optimization/selection on the training data (by introducing an additional cross validation portion/k-fold cross validation) and testing on the untouched test set. "
   ]
  },
  {
   "cell_type": "code",
   "execution_count": 8,
   "metadata": {
    "collapsed": true
   },
   "outputs": [],
   "source": [
    "# Set aside a test set\n",
    "# Random stratified 70-30 split: preserves the original proportion of positive and negative class \n",
    "# examples in train and test\n",
    "X_train, X_test, y_train, y_test = train_test_split(X, y, stratify = y,\n",
    "                                                        test_size = 0.30, random_state = 101)"
   ]
  },
  {
   "cell_type": "markdown",
   "metadata": {},
   "source": [
    "We will start with (L2-regularized) logistic regression with default hyperparameters. We will **scale all numeric features** prior to model training and testing. "
   ]
  },
  {
   "cell_type": "code",
   "execution_count": 9,
   "metadata": {
    "collapsed": true
   },
   "outputs": [],
   "source": [
    "# Scale numerical features for logistic regression (with regularization)\n",
    "\n",
    "from sklearn.preprocessing import StandardScaler\n",
    "\n",
    "# Get scaling parameters from training data, then apply the scaler to testing data as well\n",
    "std_scale = StandardScaler().fit(X_train[['TermInMonths', 'JobsSupported', 'SP_to2016', 'SBAGuaranteedApprovalAdj']])\n",
    "X_train_std = std_scale.transform(X_train[['TermInMonths', 'JobsSupported', 'SP_to2016', 'SBAGuaranteedApprovalAdj']])\n",
    "X_test_std = std_scale.transform(X_test[['TermInMonths', 'JobsSupported', 'SP_to2016', 'SBAGuaranteedApprovalAdj']])"
   ]
  },
  {
   "cell_type": "markdown",
   "metadata": {},
   "source": [
    "We will first run logistic regression with default hyperparamters. We will use **class_weight = 'balanced'** to introduce higher penalty for missclassifying the minority class. "
   ]
  },
  {
   "cell_type": "code",
   "execution_count": 10,
   "metadata": {
    "collapsed": false
   },
   "outputs": [
    {
     "name": "stdout",
     "output_type": "stream",
     "text": [
      "             precision    recall  f1-score   support\n",
      "\n",
      "          0       0.76      0.90      0.82    123397\n",
      "          1       0.75      0.50      0.60     71682\n",
      "\n",
      "avg / total       0.75      0.75      0.74    195079\n",
      "\n"
     ]
    }
   ],
   "source": [
    "# Define the model\n",
    "def_logreg_model = LogisticRegression(class_weight = 'balanced', random_state = 101)\n",
    "# Train the model on scaled training data\n",
    "def_logreg_model.fit(X_train_std, y_train)\n",
    "# Test the model: make predictions on testing data\n",
    "def_logreg_pred = def_logreg_model.predict(X_test_std)\n",
    "# Compare model outputs with actual outputs\n",
    "print(classification_report(def_logreg_pred, y_test))"
   ]
  },
  {
   "cell_type": "markdown",
   "metadata": {},
   "source": [
    "We should aim to avoid predicting that a loan will be paid in full, when in fact it will default, i.e., we want to detect all of defaults (positive class). False negatives should be important. Therefore, **we'll pay particular attention to recall ** (of the positive/Default class).\n",
    "\n",
    "This is exactly the metric that the above classifier struggles with - it is 0.50. \n",
    "We can gain more insight as to what went wrong by examining the confusion matrix. "
   ]
  },
  {
   "cell_type": "code",
   "execution_count": 11,
   "metadata": {
    "collapsed": true
   },
   "outputs": [],
   "source": [
    "# Function to display the confusion matrix - original or normalized\n",
    "\n",
    "import itertools\n",
    "def plot_confusion_matrix(cm, classes, title = 'Confusion matrix', cmap = plt.cm.Blues, normalize = False):\n",
    "    \"\"\"\n",
    "    This function prints and plots the confusion matrix.\n",
    "    \"\"\"\n",
    "    \n",
    "    if normalize:\n",
    "        cm = cm.astype('float') / cm.sum(axis=1)[:, np.newaxis]\n",
    "        print(\"Normalized confusion matrix\")\n",
    "    else:\n",
    "      print('Confusion matrix, without normalization')\n",
    "\n",
    "    print(cm)\n",
    "\n",
    "    plt.imshow(cm, interpolation='nearest', cmap = cmap)\n",
    "    plt.title(title, fontsize = 20)\n",
    "    plt.colorbar()\n",
    "    tick_marks = np.arange(len(classes))\n",
    "    plt.xticks(tick_marks, classes, fontsize = 20)\n",
    "    plt.yticks(tick_marks, classes, fontsize = 20)\n",
    "    fmt = '.2f' if normalize else 'd'\n",
    "    thresh = cm.max() / 2.\n",
    "    for i, j in itertools.product(range(cm.shape[0]), range(cm.shape[1])):\n",
    "        plt.text(j, i, format(cm[i, j], fmt),\n",
    "                 horizontalalignment=\"center\",\n",
    "                 color=\"white\" if cm[i, j] > thresh else \"black\")\n",
    "\n",
    "    plt.tight_layout()\n",
    "    plt.ylabel('True Label', fontsize = 20)\n",
    "    plt.xlabel('Predicted Label', fontsize = 20)\n",
    "    plt.grid(False)"
   ]
  },
  {
   "cell_type": "code",
   "execution_count": 12,
   "metadata": {
    "collapsed": false
   },
   "outputs": [
    {
     "name": "stdout",
     "output_type": "stream",
     "text": [
      "Confusion matrix, without normalization\n",
      "[[111521  11876]\n",
      " [ 36143  35539]]\n",
      "Normalized confusion matrix\n",
      "[[ 0.90375779  0.09624221]\n",
      " [ 0.50421305  0.49578695]]\n"
     ]
    },
    {
     "data": {
      "image/png": "[encoded data removed]",
      "text/plain": [
       "<matplotlib.figure.Figure at 0x117047e48>"
      ]
     },
     "metadata": {},
     "output_type": "display_data"
    },
    {
     "data": {
      "text/plain": [
       "<matplotlib.figure.Figure at 0x111793240>"
      ]
     },
     "metadata": {},
     "output_type": "display_data"
    },
    {
     "data": {
      "image/png": "[encoded data removed]",
      "text/plain": [
       "<matplotlib.figure.Figure at 0x120e4ae10>"
      ]
     },
     "metadata": {},
     "output_type": "display_data"
    }
   ],
   "source": [
    "# Plot confusion matrix without normalization\n",
    "\n",
    "def_logreg_cm = confusion_matrix(def_logreg_pred, y_test)\n",
    "\n",
    "plt.figure(figsize = (8,4))\n",
    "plot_confusion_matrix(def_logreg_cm, classes = class_names, normalize = False,\n",
    "                      title = 'Confusion Matrix')# Plot normalized confusion matrix\n",
    "plt.figure(figsize = (8,4))\n",
    "plt.figure(figsize = (8,4))\n",
    "plot_confusion_matrix(def_logreg_cm, classes = class_names, normalize = True,\n",
    "                      title = 'Confusion Matrix with Normalization')"
   ]
  },
  {
   "cell_type": "markdown",
   "metadata": {},
   "source": [
    "We see that many defaulted loans got labeled as paid in full (actually, as many as were classified correctly). We will try to improve the perofrmance by **optimizing hyperparamters** using a **Grid Search with 10-fold Cross Validation (stratified split)** on training data, picking the best model (optimal hyperparameters), and then applying it to the test data. One hyperparameter that is of importance to logistic regression is C - the amount of regularization used. "
   ]
  },
  {
   "cell_type": "code",
   "execution_count": 14,
   "metadata": {
    "collapsed": false
   },
   "outputs": [
    {
     "name": "stdout",
     "output_type": "stream",
     "text": [
      "Fitting 10 folds for each of 14 candidates, totalling 140 fits\n"
     ]
    },
    {
     "name": "stderr",
     "output_type": "stream",
     "text": [
      "[Parallel(n_jobs=1)]: Done 140 out of 140 | elapsed:   52.4s finished\n"
     ]
    },
    {
     "data": {
      "text/plain": [
       "GridSearchCV(cv=StratifiedShuffleSplit(n_splits=10, random_state=101, test_size=0.3,\n",
       "            train_size=None),\n",
       "       error_score='raise',\n",
       "       estimator=LogisticRegression(C=1.0, class_weight='balanced', dual=False,\n",
       "          fit_intercept=True, intercept_scaling=1, max_iter=100,\n",
       "          multi_class='ovr', n_jobs=1, penalty='l2', random_state=None,\n",
       "          solver='liblinear', tol=0.0001, verbose=0, warm_start=False),\n",
       "       fit_params={}, iid=True, n_jobs=1,\n",
       "       param_grid={'C': [0.0001, 0.0005, 0.001, 0.005, 0.1, 0.5, 1, 5, 10, 50, 100, 500, 1000, 5000]},\n",
       "       pre_dispatch='2*n_jobs', refit=True, return_train_score=True,\n",
       "       scoring=None, verbose=1)"
      ]
     },
     "execution_count": 14,
     "metadata": {},
     "output_type": "execute_result"
    }
   ],
   "source": [
    "# Tune the hyperparameters: vary the regularization paramter\n",
    "# Try an exhaustive range of values\n",
    "\n",
    "param_grid = {'C': [0.0001, 0.0005, 0.001, 0.005, 0.1, 0.5, 1, 5, 10, 50, 100, 500, 1000, 5000]}\n",
    "\n",
    "# 10-fold cross validation on training data to tune C\n",
    "grid_logmodel = GridSearchCV(LogisticRegression(class_weight = 'balanced'), \n",
    "                             param_grid, refit = True, verbose = 1,  \n",
    "                             cv = StratifiedShuffleSplit(n_splits = 10, test_size = 0.3, random_state = 101))\n",
    "grid_logmodel.fit(X_train_std, y_train)"
   ]
  },
  {
   "cell_type": "code",
   "execution_count": 15,
   "metadata": {
    "collapsed": false
   },
   "outputs": [
    {
     "data": {
      "text/plain": [
       "{'C': 1}"
      ]
     },
     "execution_count": 15,
     "metadata": {},
     "output_type": "execute_result"
    }
   ],
   "source": [
    "# See the chosen optimal parameter\n",
    "grid_logmodel.best_params_"
   ]
  },
  {
   "cell_type": "markdown",
   "metadata": {},
   "source": [
    "Looks like the default parameter was the best choice! "
   ]
  },
  {
   "cell_type": "markdown",
   "metadata": {},
   "source": [
    "<a id=\"cell2\"></a>\n",
    "## 2. A Simple Decision Tree\n",
    "\n",
    "We will next implement a simple decision tree model. We will limit the depth to four, for simplicity. "
   ]
  },
  {
   "cell_type": "code",
   "execution_count": 9,
   "metadata": {
    "collapsed": false
   },
   "outputs": [
    {
     "name": "stdout",
     "output_type": "stream",
     "text": [
      "             precision    recall  f1-score   support\n",
      "\n",
      "          0       0.77      0.97      0.86    117221\n",
      "          1       0.94      0.57      0.71     77858\n",
      "\n",
      "avg / total       0.84      0.81      0.80    195079\n",
      "\n"
     ]
    }
   ],
   "source": [
    "# Train and test a simple decision tree with random stratified split and 10-fold cross validation.\n",
    "# Better accuracy could be achieved without the max_depth and min_samples_leaf constraints,\n",
    "# but we will aim for simplicity here (to avoid overfitting and it easier to visualize).\n",
    "\n",
    "# Decision trees do not need features to be scaled. For easier interpretability, we will go back to original data.\n",
    "dtree = DecisionTreeClassifier(max_depth = 4, min_samples_leaf = 5, class_weight = 'balanced')\n",
    "\n",
    "# Fit/train the model \n",
    "dtree.fit(X_train, y_train)\n",
    "\n",
    "# Test the model\n",
    "dtree_pred = dtree.predict(X_test)\n",
    "# Display results\n",
    "print(classification_report(dtree_pred, y_test))"
   ]
  },
  {
   "cell_type": "code",
   "execution_count": 12,
   "metadata": {
    "collapsed": false
   },
   "outputs": [
    {
     "name": "stdout",
     "output_type": "stream",
     "text": [
      "Normalized confusion matrix\n",
      "[[ 0.97472296  0.02527704]\n",
      " [ 0.42906317  0.57093683]]\n"
     ]
    },
    {
     "data": {
      "image/png": "[encoded data removed]",
      "text/plain": [
       "<matplotlib.figure.Figure at 0x1223e8630>"
      ]
     },
     "metadata": {},
     "output_type": "display_data"
    }
   ],
   "source": [
    "#Plot normalized confusion matrix\n",
    "dtree_cm = confusion_matrix(dtree_pred, y_test)\n",
    "\n",
    "plt.figure(figsize = (8,4))\n",
    "plot_confusion_matrix(dtree_cm, classes = class_names, normalize = True,\n",
    "                      title = 'Normalized Confusion Matrix')"
   ]
  },
  {
   "cell_type": "markdown",
   "metadata": {},
   "source": [
    "We can see that, relative to logistic regression, this model is overall doing better - precision of the positive class has significantly improved (from 0.75 to 0.94). However, this is only  **slightly better** in terms of **recall** (0.50 to 0.57).  We would like to further improve recall as well. Let's see what an individual tree looks like.  "
   ]
  },
  {
   "cell_type": "code",
   "execution_count": 27,
   "metadata": {
    "collapsed": false
   },
   "outputs": [
    {
     "data": {
      "image/svg+xml": [
       "<?xml version=\"1.0\" encoding=\"UTF-8\" standalone=\"no\"?>\n",
       "<!DOCTYPE svg PUBLIC \"-//W3C//DTD SVG 1.1//EN\"\n",
       " \"http://www.w3.org/Graphics/SVG/1.1/DTD/svg11.dtd\">\n",
       "<!-- Generated by graphviz version 2.38.0 (20140413.2041)\n",
       " -->\n",
       "<!-- Title: Tree Pages: 1 -->\n",
       "<svg width=\"3443pt\" height=\"528pt\"\n",
       " viewBox=\"0.00 0.00 3442.93 528.00\" xmlns=\"http://www.w3.org/2000/svg\" xmlns:xlink=\"http://www.w3.org/1999/xlink\">\n",
       "<g id=\"graph0\" class=\"graph\" transform=\"scale(1 1) rotate(0) translate(4 524)\">\n",
       "<title>Tree</title>\n",
       "<polygon fill=\"white\" stroke=\"none\" points=\"-4,4 -4,-524 3438.93,-524 3438.93,4 -4,4\"/>\n",
       "<!-- 0 -->\n",
       "<g id=\"node1\" class=\"node\"><title>0</title>\n",
       "<path fill=\"none\" stroke=\"black\" d=\"M1813.92,-520C1813.92,-520 1640.39,-520 1640.39,-520 1634.39,-520 1628.39,-514 1628.39,-508 1628.39,-508 1628.39,-454 1628.39,-454 1628.39,-448 1634.39,-442 1640.39,-442 1640.39,-442 1813.92,-442 1813.92,-442 1819.92,-442 1825.92,-448 1825.92,-454 1825.92,-454 1825.92,-508 1825.92,-508 1825.92,-514 1819.92,-520 1813.92,-520\"/>\n",
       "<text text-anchor=\"start\" x=\"1661.45\" y=\"-504.8\" font-family=\"Helvetica,sans-Serif\" font-size=\"14.00\">TermInMonths ≤ 82.5</text>\n",
       "<text text-anchor=\"start\" x=\"1698.55\" y=\"-490.8\" font-family=\"Helvetica,sans-Serif\" font-size=\"14.00\">gini = 0.5</text>\n",
       "<text text-anchor=\"start\" x=\"1669.75\" y=\"-476.8\" font-family=\"Helvetica,sans-Serif\" font-size=\"14.00\">samples = 455184</text>\n",
       "<text text-anchor=\"start\" x=\"1636.27\" y=\"-462.8\" font-family=\"Helvetica,sans-Serif\" font-size=\"14.00\">value = [227592.0, 227592.0]</text>\n",
       "<text text-anchor=\"start\" x=\"1689.23\" y=\"-448.8\" font-family=\"Helvetica,sans-Serif\" font-size=\"14.00\">class = DEF</text>\n",
       "</g>\n",
       "<!-- 1 -->\n",
       "<g id=\"node2\" class=\"node\"><title>1</title>\n",
       "<path fill=\"#399de5\" fill-opacity=\"0.611765\" stroke=\"black\" d=\"M1415.78,-406C1415.78,-406 1218.53,-406 1218.53,-406 1212.53,-406 1206.53,-400 1206.53,-394 1206.53,-394 1206.53,-340 1206.53,-340 1206.53,-334 1212.53,-328 1218.53,-328 1218.53,-328 1415.78,-328 1415.78,-328 1421.78,-328 1427.78,-334 1427.78,-340 1427.78,-340 1427.78,-394 1427.78,-394 1427.78,-400 1421.78,-406 1415.78,-406\"/>\n",
       "<text text-anchor=\"start\" x=\"1251.45\" y=\"-390.8\" font-family=\"Helvetica,sans-Serif\" font-size=\"14.00\">TermInMonths ≤ 59.5</text>\n",
       "<text text-anchor=\"start\" x=\"1280.76\" y=\"-376.8\" font-family=\"Helvetica,sans-Serif\" font-size=\"14.00\">gini = 0.403</text>\n",
       "<text text-anchor=\"start\" x=\"1259.75\" y=\"-362.8\" font-family=\"Helvetica,sans-Serif\" font-size=\"14.00\">samples = 215828</text>\n",
       "<text text-anchor=\"start\" x=\"1214.59\" y=\"-348.8\" font-family=\"Helvetica,sans-Serif\" font-size=\"14.00\">value = [78123.076, 200692.557]</text>\n",
       "<text text-anchor=\"start\" x=\"1282.34\" y=\"-334.8\" font-family=\"Helvetica,sans-Serif\" font-size=\"14.00\">class = PIF</text>\n",
       "</g>\n",
       "<!-- 0&#45;&gt;1 -->\n",
       "<g id=\"edge1\" class=\"edge\"><title>0&#45;&gt;1</title>\n",
       "<path fill=\"none\" stroke=\"black\" d=\"M1628.17,-452.959C1570.92,-437.323 1498.47,-417.53 1437.9,-400.983\"/>\n",
       "<polygon fill=\"black\" stroke=\"black\" points=\"1438.46,-397.51 1427.9,-398.251 1436.62,-404.263 1438.46,-397.51\"/>\n",
       "<text text-anchor=\"middle\" x=\"1440.29\" y=\"-415.762\" font-family=\"Helvetica,sans-Serif\" font-size=\"14.00\">True</text>\n",
       "</g>\n",
       "<!-- 16 -->\n",
       "<g id=\"node17\" class=\"node\"><title>16</title>\n",
       "<path fill=\"#e58139\" fill-opacity=\"0.819608\" stroke=\"black\" d=\"M2258.78,-406C2258.78,-406 2061.53,-406 2061.53,-406 2055.53,-406 2049.53,-400 2049.53,-394 2049.53,-394 2049.53,-340 2049.53,-340 2049.53,-334 2055.53,-328 2061.53,-328 2061.53,-328 2258.78,-328 2258.78,-328 2264.78,-328 2270.78,-334 2270.78,-340 2270.78,-340 2270.78,-394 2270.78,-394 2270.78,-400 2264.78,-406 2258.78,-406\"/>\n",
       "<text text-anchor=\"start\" x=\"2094.45\" y=\"-390.8\" font-family=\"Helvetica,sans-Serif\" font-size=\"14.00\">TermInMonths ≤ 84.5</text>\n",
       "<text text-anchor=\"start\" x=\"2123.76\" y=\"-376.8\" font-family=\"Helvetica,sans-Serif\" font-size=\"14.00\">gini = 0.259</text>\n",
       "<text text-anchor=\"start\" x=\"2102.75\" y=\"-362.8\" font-family=\"Helvetica,sans-Serif\" font-size=\"14.00\">samples = 239356</text>\n",
       "<text text-anchor=\"start\" x=\"2057.59\" y=\"-348.8\" font-family=\"Helvetica,sans-Serif\" font-size=\"14.00\">value = [149468.924, 26899.443]</text>\n",
       "<text text-anchor=\"start\" x=\"2122.23\" y=\"-334.8\" font-family=\"Helvetica,sans-Serif\" font-size=\"14.00\">class = DEF</text>\n",
       "</g>\n",
       "<!-- 0&#45;&gt;16 -->\n",
       "<g id=\"edge16\" class=\"edge\"><title>0&#45;&gt;16</title>\n",
       "<path fill=\"none\" stroke=\"black\" d=\"M1825.95,-454.445C1889.35,-438.046 1972.1,-416.642 2039.39,-399.236\"/>\n",
       "<polygon fill=\"black\" stroke=\"black\" points=\"2040.4,-402.59 2049.21,-396.697 2038.65,-395.813 2040.4,-402.59\"/>\n",
       "<text text-anchor=\"middle\" x=\"2036.52\" y=\"-414.039\" font-family=\"Helvetica,sans-Serif\" font-size=\"14.00\">False</text>\n",
       "</g>\n",
       "<!-- 2 -->\n",
       "<g id=\"node3\" class=\"node\"><title>2</title>\n",
       "<path fill=\"#399de5\" fill-opacity=\"0.780392\" stroke=\"black\" d=\"M751.78,-292C751.78,-292 554.528,-292 554.528,-292 548.528,-292 542.528,-286 542.528,-280 542.528,-280 542.528,-226 542.528,-226 542.528,-220 548.528,-214 554.528,-214 554.528,-214 751.78,-214 751.78,-214 757.78,-214 763.78,-220 763.78,-226 763.78,-226 763.78,-280 763.78,-280 763.78,-286 757.78,-292 751.78,-292\"/>\n",
       "<text text-anchor=\"start\" x=\"587.45\" y=\"-276.8\" font-family=\"Helvetica,sans-Serif\" font-size=\"14.00\">TermInMonths ≤ 48.5</text>\n",
       "<text text-anchor=\"start\" x=\"616.763\" y=\"-262.8\" font-family=\"Helvetica,sans-Serif\" font-size=\"14.00\">gini = 0.296</text>\n",
       "<text text-anchor=\"start\" x=\"595.752\" y=\"-248.8\" font-family=\"Helvetica,sans-Serif\" font-size=\"14.00\">samples = 124718</text>\n",
       "<text text-anchor=\"start\" x=\"550.591\" y=\"-234.8\" font-family=\"Helvetica,sans-Serif\" font-size=\"14.00\">value = [33516.894, 152182.633]</text>\n",
       "<text text-anchor=\"start\" x=\"618.338\" y=\"-220.8\" font-family=\"Helvetica,sans-Serif\" font-size=\"14.00\">class = PIF</text>\n",
       "</g>\n",
       "<!-- 1&#45;&gt;2 -->\n",
       "<g id=\"edge2\" class=\"edge\"><title>1&#45;&gt;2</title>\n",
       "<path fill=\"none\" stroke=\"black\" d=\"M1206.39,-347.317C1086.85,-327.153 897.078,-295.144 773.82,-274.353\"/>\n",
       "<polygon fill=\"black\" stroke=\"black\" points=\"774.398,-270.901 763.955,-272.689 773.234,-277.804 774.398,-270.901\"/>\n",
       "</g>\n",
       "<!-- 9 -->\n",
       "<g id=\"node10\" class=\"node\"><title>9</title>\n",
       "<path fill=\"#399de5\" fill-opacity=\"0.082353\" stroke=\"black\" d=\"M1411.99,-292C1411.99,-292 1222.31,-292 1222.31,-292 1216.31,-292 1210.31,-286 1210.31,-280 1210.31,-280 1210.31,-226 1210.31,-226 1210.31,-220 1216.31,-214 1222.31,-214 1222.31,-214 1411.99,-214 1411.99,-214 1417.99,-214 1423.99,-220 1423.99,-226 1423.99,-226 1423.99,-280 1423.99,-280 1423.99,-286 1417.99,-292 1411.99,-292\"/>\n",
       "<text text-anchor=\"start\" x=\"1251.45\" y=\"-276.8\" font-family=\"Helvetica,sans-Serif\" font-size=\"14.00\">TermInMonths ≤ 60.5</text>\n",
       "<text text-anchor=\"start\" x=\"1280.76\" y=\"-262.8\" font-family=\"Helvetica,sans-Serif\" font-size=\"14.00\">gini = 0.499</text>\n",
       "<text text-anchor=\"start\" x=\"1264.68\" y=\"-248.8\" font-family=\"Helvetica,sans-Serif\" font-size=\"14.00\">samples = 91110</text>\n",
       "<text text-anchor=\"start\" x=\"1218.48\" y=\"-234.8\" font-family=\"Helvetica,sans-Serif\" font-size=\"14.00\">value = [44606.182, 48509.924]</text>\n",
       "<text text-anchor=\"start\" x=\"1282.34\" y=\"-220.8\" font-family=\"Helvetica,sans-Serif\" font-size=\"14.00\">class = PIF</text>\n",
       "</g>\n",
       "<!-- 1&#45;&gt;9 -->\n",
       "<g id=\"edge9\" class=\"edge\"><title>1&#45;&gt;9</title>\n",
       "<path fill=\"none\" stroke=\"black\" d=\"M1317.15,-327.769C1317.15,-319.57 1317.15,-310.803 1317.15,-302.28\"/>\n",
       "<polygon fill=\"black\" stroke=\"black\" points=\"1320.65,-302.058 1317.15,-292.058 1313.65,-302.059 1320.65,-302.058\"/>\n",
       "</g>\n",
       "<!-- 3 -->\n",
       "<g id=\"node4\" class=\"node\"><title>3</title>\n",
       "<path fill=\"#399de5\" fill-opacity=\"0.733333\" stroke=\"black\" d=\"M415.176,-178C415.176,-178 235.132,-178 235.132,-178 229.132,-178 223.132,-172 223.132,-166 223.132,-166 223.132,-112 223.132,-112 223.132,-106 229.132,-100 235.132,-100 235.132,-100 415.176,-100 415.176,-100 421.176,-100 427.176,-106 427.176,-112 427.176,-112 427.176,-166 427.176,-166 427.176,-172 421.176,-178 415.176,-178\"/>\n",
       "<text text-anchor=\"start\" x=\"259.45\" y=\"-162.8\" font-family=\"Helvetica,sans-Serif\" font-size=\"14.00\">TermInMonths ≤ 47.5</text>\n",
       "<text text-anchor=\"start\" x=\"288.763\" y=\"-148.8\" font-family=\"Helvetica,sans-Serif\" font-size=\"14.00\">gini = 0.332</text>\n",
       "<text text-anchor=\"start\" x=\"267.752\" y=\"-134.8\" font-family=\"Helvetica,sans-Serif\" font-size=\"14.00\">samples = 104366</text>\n",
       "<text text-anchor=\"start\" x=\"230.893\" y=\"-120.8\" font-family=\"Helvetica,sans-Serif\" font-size=\"14.00\">value = [31273.01, 117303.46]</text>\n",
       "<text text-anchor=\"start\" x=\"290.338\" y=\"-106.8\" font-family=\"Helvetica,sans-Serif\" font-size=\"14.00\">class = PIF</text>\n",
       "</g>\n",
       "<!-- 2&#45;&gt;3 -->\n",
       "<g id=\"edge3\" class=\"edge\"><title>2&#45;&gt;3</title>\n",
       "<path fill=\"none\" stroke=\"black\" d=\"M542.565,-214.238C508.481,-202.599 470.941,-189.781 436.787,-178.119\"/>\n",
       "<polygon fill=\"black\" stroke=\"black\" points=\"437.843,-174.781 427.249,-174.862 435.581,-181.405 437.843,-174.781\"/>\n",
       "</g>\n",
       "<!-- 6 -->\n",
       "<g id=\"node7\" class=\"node\"><title>6</title>\n",
       "<path fill=\"#399de5\" fill-opacity=\"0.937255\" stroke=\"black\" d=\"M743.708,-178C743.708,-178 562.6,-178 562.6,-178 556.6,-178 550.6,-172 550.6,-166 550.6,-166 550.6,-112 550.6,-112 550.6,-106 556.6,-100 562.6,-100 562.6,-100 743.708,-100 743.708,-100 749.708,-100 755.708,-106 755.708,-112 755.708,-112 755.708,-166 755.708,-166 755.708,-172 749.708,-178 743.708,-178\"/>\n",
       "<text text-anchor=\"start\" x=\"581.585\" y=\"-162.8\" font-family=\"Helvetica,sans-Serif\" font-size=\"14.00\">SP_to2016 ≤ 1414.495</text>\n",
       "<text text-anchor=\"start\" x=\"617.279\" y=\"-148.8\" font-family=\"Helvetica,sans-Serif\" font-size=\"14.00\">gini = 0.114</text>\n",
       "<text text-anchor=\"start\" x=\"599.646\" y=\"-134.8\" font-family=\"Helvetica,sans-Serif\" font-size=\"14.00\">samples = 20352</text>\n",
       "<text text-anchor=\"start\" x=\"558.377\" y=\"-120.8\" font-family=\"Helvetica,sans-Serif\" font-size=\"14.00\">value = [2243.883, 34879.172]</text>\n",
       "<text text-anchor=\"start\" x=\"618.338\" y=\"-106.8\" font-family=\"Helvetica,sans-Serif\" font-size=\"14.00\">class = PIF</text>\n",
       "</g>\n",
       "<!-- 2&#45;&gt;6 -->\n",
       "<g id=\"edge6\" class=\"edge\"><title>2&#45;&gt;6</title>\n",
       "<path fill=\"none\" stroke=\"black\" d=\"M653.154,-213.769C653.154,-205.57 653.154,-196.803 653.154,-188.28\"/>\n",
       "<polygon fill=\"black\" stroke=\"black\" points=\"656.654,-188.058 653.154,-178.058 649.654,-188.059 656.654,-188.058\"/>\n",
       "</g>\n",
       "<!-- 4 -->\n",
       "<g id=\"node5\" class=\"node\"><title>4</title>\n",
       "<path fill=\"#399de5\" fill-opacity=\"0.772549\" stroke=\"black\" d=\"M200.462,-64C200.462,-64 11.846,-64 11.846,-64 5.84597,-64 -0.154032,-58 -0.154032,-52 -0.154032,-52 -0.154032,-12 -0.154032,-12 -0.154032,-6 5.84597,-0 11.846,-0 11.846,-0 200.462,-0 200.462,-0 206.462,-0 212.462,-6 212.462,-12 212.462,-12 212.462,-52 212.462,-52 212.462,-58 206.462,-64 200.462,-64\"/>\n",
       "<text text-anchor=\"start\" x=\"69.7627\" y=\"-48.8\" font-family=\"Helvetica,sans-Serif\" font-size=\"14.00\">gini = 0.301</text>\n",
       "<text text-anchor=\"start\" x=\"52.6455\" y=\"-34.8\" font-family=\"Helvetica,sans-Serif\" font-size=\"14.00\">samples = 94572</text>\n",
       "<text text-anchor=\"start\" x=\"8\" y=\"-20.8\" font-family=\"Helvetica,sans-Serif\" font-size=\"14.00\">value = [25817.54, 114145.717]</text>\n",
       "<text text-anchor=\"start\" x=\"71.3384\" y=\"-6.8\" font-family=\"Helvetica,sans-Serif\" font-size=\"14.00\">class = PIF</text>\n",
       "</g>\n",
       "<!-- 3&#45;&gt;4 -->\n",
       "<g id=\"edge4\" class=\"edge\"><title>3&#45;&gt;4</title>\n",
       "<path fill=\"none\" stroke=\"black\" d=\"M245.78,-99.9441C224.347,-89.6681 201.245,-78.5916 180.121,-68.4637\"/>\n",
       "<polygon fill=\"black\" stroke=\"black\" points=\"181.415,-65.2028 170.885,-64.0355 178.389,-71.5148 181.415,-65.2028\"/>\n",
       "</g>\n",
       "<!-- 5 -->\n",
       "<g id=\"node6\" class=\"node\"><title>5</title>\n",
       "<path fill=\"#e58139\" fill-opacity=\"0.419608\" stroke=\"black\" d=\"M408.135,-64C408.135,-64 242.172,-64 242.172,-64 236.172,-64 230.172,-58 230.172,-52 230.172,-52 230.172,-12 230.172,-12 230.172,-6 236.172,-0 242.172,-0 242.172,-0 408.135,-0 408.135,-0 414.135,-0 420.135,-6 420.135,-12 420.135,-12 420.135,-52 420.135,-52 420.135,-58 414.135,-64 408.135,-64\"/>\n",
       "<text text-anchor=\"start\" x=\"288.763\" y=\"-48.8\" font-family=\"Helvetica,sans-Serif\" font-size=\"14.00\">gini = 0.464</text>\n",
       "<text text-anchor=\"start\" x=\"275.539\" y=\"-34.8\" font-family=\"Helvetica,sans-Serif\" font-size=\"14.00\">samples = 9794</text>\n",
       "<text text-anchor=\"start\" x=\"238.163\" y=\"-20.8\" font-family=\"Helvetica,sans-Serif\" font-size=\"14.00\">value = [5455.47, 3157.743]</text>\n",
       "<text text-anchor=\"start\" x=\"287.228\" y=\"-6.8\" font-family=\"Helvetica,sans-Serif\" font-size=\"14.00\">class = DEF</text>\n",
       "</g>\n",
       "<!-- 3&#45;&gt;5 -->\n",
       "<g id=\"edge5\" class=\"edge\"><title>3&#45;&gt;5</title>\n",
       "<path fill=\"none\" stroke=\"black\" d=\"M325.154,-99.7956C325.154,-91.4581 325.154,-82.6 325.154,-74.1534\"/>\n",
       "<polygon fill=\"black\" stroke=\"black\" points=\"328.654,-74.1171 325.154,-64.1172 321.654,-74.1172 328.654,-74.1171\"/>\n",
       "</g>\n",
       "<!-- 7 -->\n",
       "<g id=\"node8\" class=\"node\"><title>7</title>\n",
       "<path fill=\"#399de5\" fill-opacity=\"0.878431\" stroke=\"black\" d=\"M623.922,-64C623.922,-64 450.386,-64 450.386,-64 444.386,-64 438.386,-58 438.386,-52 438.386,-52 438.386,-12 438.386,-12 438.386,-6 444.386,-0 450.386,-0 450.386,-0 623.922,-0 623.922,-0 629.922,-0 635.922,-6 635.922,-12 635.922,-12 635.922,-52 635.922,-52 635.922,-58 629.922,-64 623.922,-64\"/>\n",
       "<text text-anchor=\"start\" x=\"500.763\" y=\"-48.8\" font-family=\"Helvetica,sans-Serif\" font-size=\"14.00\">gini = 0.192</text>\n",
       "<text text-anchor=\"start\" x=\"487.539\" y=\"-34.8\" font-family=\"Helvetica,sans-Serif\" font-size=\"14.00\">samples = 5559</text>\n",
       "<text text-anchor=\"start\" x=\"446.27\" y=\"-20.8\" font-family=\"Helvetica,sans-Serif\" font-size=\"14.00\">value = [1002.052, 8315.047]</text>\n",
       "<text text-anchor=\"start\" x=\"502.338\" y=\"-6.8\" font-family=\"Helvetica,sans-Serif\" font-size=\"14.00\">class = PIF</text>\n",
       "</g>\n",
       "<!-- 6&#45;&gt;7 -->\n",
       "<g id=\"edge7\" class=\"edge\"><title>6&#45;&gt;7</title>\n",
       "<path fill=\"none\" stroke=\"black\" d=\"M610.947,-99.7956C600.522,-90.3587 589.359,-80.2547 578.953,-70.8355\"/>\n",
       "<polygon fill=\"black\" stroke=\"black\" points=\"581.294,-68.2332 571.531,-64.1172 576.596,-73.4229 581.294,-68.2332\"/>\n",
       "</g>\n",
       "<!-- 8 -->\n",
       "<g id=\"node9\" class=\"node\"><title>8</title>\n",
       "<path fill=\"#399de5\" fill-opacity=\"0.952941\" stroke=\"black\" d=\"M847.708,-64C847.708,-64 666.6,-64 666.6,-64 660.6,-64 654.6,-58 654.6,-52 654.6,-52 654.6,-12 654.6,-12 654.6,-6 660.6,-0 666.6,-0 666.6,-0 847.708,-0 847.708,-0 853.708,-0 859.708,-6 859.708,-12 859.708,-12 859.708,-52 859.708,-52 859.708,-58 853.708,-64 847.708,-64\"/>\n",
       "<text text-anchor=\"start\" x=\"720.763\" y=\"-48.8\" font-family=\"Helvetica,sans-Serif\" font-size=\"14.00\">gini = 0.085</text>\n",
       "<text text-anchor=\"start\" x=\"703.646\" y=\"-34.8\" font-family=\"Helvetica,sans-Serif\" font-size=\"14.00\">samples = 14793</text>\n",
       "<text text-anchor=\"start\" x=\"662.377\" y=\"-20.8\" font-family=\"Helvetica,sans-Serif\" font-size=\"14.00\">value = [1241.831, 26564.126]</text>\n",
       "<text text-anchor=\"start\" x=\"722.338\" y=\"-6.8\" font-family=\"Helvetica,sans-Serif\" font-size=\"14.00\">class = PIF</text>\n",
       "</g>\n",
       "<!-- 6&#45;&gt;8 -->\n",
       "<g id=\"edge8\" class=\"edge\"><title>6&#45;&gt;8</title>\n",
       "<path fill=\"none\" stroke=\"black\" d=\"M690.994,-99.7956C700.16,-90.5419 709.961,-80.6469 719.134,-71.385\"/>\n",
       "<polygon fill=\"black\" stroke=\"black\" points=\"721.783,-73.685 726.333,-64.1172 716.809,-68.759 721.783,-73.685\"/>\n",
       "</g>\n",
       "<!-- 10 -->\n",
       "<g id=\"node11\" class=\"node\"><title>10</title>\n",
       "<path fill=\"#e58139\" fill-opacity=\"0.901961\" stroke=\"black\" d=\"M1291.92,-178C1291.92,-178 1118.39,-178 1118.39,-178 1112.39,-178 1106.39,-172 1106.39,-166 1106.39,-166 1106.39,-112 1106.39,-112 1106.39,-106 1112.39,-100 1118.39,-100 1118.39,-100 1291.92,-100 1291.92,-100 1297.92,-100 1303.92,-106 1303.92,-112 1303.92,-112 1303.92,-166 1303.92,-166 1303.92,-172 1297.92,-178 1291.92,-178\"/>\n",
       "<text text-anchor=\"start\" x=\"1133.58\" y=\"-162.8\" font-family=\"Helvetica,sans-Serif\" font-size=\"14.00\">SP_to2016 ≤ 1457.874</text>\n",
       "<text text-anchor=\"start\" x=\"1168.76\" y=\"-148.8\" font-family=\"Helvetica,sans-Serif\" font-size=\"14.00\">gini = 0.162</text>\n",
       "<text text-anchor=\"start\" x=\"1151.65\" y=\"-134.8\" font-family=\"Helvetica,sans-Serif\" font-size=\"14.00\">samples = 52375</text>\n",
       "<text text-anchor=\"start\" x=\"1114.27\" y=\"-120.8\" font-family=\"Helvetica,sans-Serif\" font-size=\"14.00\">value = [33541.994, 3283.23]</text>\n",
       "<text text-anchor=\"start\" x=\"1167.23\" y=\"-106.8\" font-family=\"Helvetica,sans-Serif\" font-size=\"14.00\">class = DEF</text>\n",
       "</g>\n",
       "<!-- 9&#45;&gt;10 -->\n",
       "<g id=\"edge10\" class=\"edge\"><title>9&#45;&gt;10</title>\n",
       "<path fill=\"none\" stroke=\"black\" d=\"M1278.92,-213.769C1269.73,-204.579 1259.83,-194.676 1250.35,-185.201\"/>\n",
       "<polygon fill=\"black\" stroke=\"black\" points=\"1252.76,-182.655 1243.21,-178.058 1247.81,-187.604 1252.76,-182.655\"/>\n",
       "</g>\n",
       "<!-- 13 -->\n",
       "<g id=\"node14\" class=\"node\"><title>13</title>\n",
       "<path fill=\"#399de5\" fill-opacity=\"0.756863\" stroke=\"black\" d=\"M1523.46,-178C1523.46,-178 1334.85,-178 1334.85,-178 1328.85,-178 1322.85,-172 1322.85,-166 1322.85,-166 1322.85,-112 1322.85,-112 1322.85,-106 1328.85,-100 1334.85,-100 1334.85,-100 1523.46,-100 1523.46,-100 1529.46,-100 1535.46,-106 1535.46,-112 1535.46,-112 1535.46,-166 1535.46,-166 1535.46,-172 1529.46,-178 1523.46,-178\"/>\n",
       "<text text-anchor=\"start\" x=\"1363.45\" y=\"-162.8\" font-family=\"Helvetica,sans-Serif\" font-size=\"14.00\">TermInMonths ≤ 71.5</text>\n",
       "<text text-anchor=\"start\" x=\"1392.76\" y=\"-148.8\" font-family=\"Helvetica,sans-Serif\" font-size=\"14.00\">gini = 0.316</text>\n",
       "<text text-anchor=\"start\" x=\"1375.65\" y=\"-134.8\" font-family=\"Helvetica,sans-Serif\" font-size=\"14.00\">samples = 38735</text>\n",
       "<text text-anchor=\"start\" x=\"1331\" y=\"-120.8\" font-family=\"Helvetica,sans-Serif\" font-size=\"14.00\">value = [11064.188, 45226.695]</text>\n",
       "<text text-anchor=\"start\" x=\"1394.34\" y=\"-106.8\" font-family=\"Helvetica,sans-Serif\" font-size=\"14.00\">class = PIF</text>\n",
       "</g>\n",
       "<!-- 9&#45;&gt;13 -->\n",
       "<g id=\"edge13\" class=\"edge\"><title>9&#45;&gt;13</title>\n",
       "<path fill=\"none\" stroke=\"black\" d=\"M1355.38,-213.769C1364.58,-204.579 1374.48,-194.676 1383.95,-185.201\"/>\n",
       "<polygon fill=\"black\" stroke=\"black\" points=\"1386.5,-187.604 1391.1,-178.058 1381.55,-182.655 1386.5,-187.604\"/>\n",
       "</g>\n",
       "<!-- 11 -->\n",
       "<g id=\"node12\" class=\"node\"><title>11</title>\n",
       "<path fill=\"#e58139\" fill-opacity=\"0.949020\" stroke=\"black\" d=\"M1071.71,-64C1071.71,-64 890.6,-64 890.6,-64 884.6,-64 878.6,-58 878.6,-52 878.6,-52 878.6,-12 878.6,-12 878.6,-6 884.6,-0 890.6,-0 890.6,-0 1071.71,-0 1071.71,-0 1077.71,-0 1083.71,-6 1083.71,-12 1083.71,-12 1083.71,-52 1083.71,-52 1083.71,-58 1077.71,-64 1071.71,-64\"/>\n",
       "<text text-anchor=\"start\" x=\"944.763\" y=\"-48.8\" font-family=\"Helvetica,sans-Serif\" font-size=\"14.00\">gini = 0.095</text>\n",
       "<text text-anchor=\"start\" x=\"927.646\" y=\"-34.8\" font-family=\"Helvetica,sans-Serif\" font-size=\"14.00\">samples = 31316</text>\n",
       "<text text-anchor=\"start\" x=\"886.377\" y=\"-20.8\" font-family=\"Helvetica,sans-Serif\" font-size=\"14.00\">value = [20340.932, 1073.838]</text>\n",
       "<text text-anchor=\"start\" x=\"943.228\" y=\"-6.8\" font-family=\"Helvetica,sans-Serif\" font-size=\"14.00\">class = DEF</text>\n",
       "</g>\n",
       "<!-- 10&#45;&gt;11 -->\n",
       "<g id=\"edge11\" class=\"edge\"><title>10&#45;&gt;11</title>\n",
       "<path fill=\"none\" stroke=\"black\" d=\"M1123.97,-99.9441C1101.95,-89.6221 1078.2,-78.4922 1056.52,-68.3275\"/>\n",
       "<polygon fill=\"black\" stroke=\"black\" points=\"1057.9,-65.1108 1047.36,-64.0355 1054.93,-71.449 1057.9,-65.1108\"/>\n",
       "</g>\n",
       "<!-- 12 -->\n",
       "<g id=\"node13\" class=\"node\"><title>12</title>\n",
       "<path fill=\"#e58139\" fill-opacity=\"0.831373\" stroke=\"black\" d=\"M1295.71,-64C1295.71,-64 1114.6,-64 1114.6,-64 1108.6,-64 1102.6,-58 1102.6,-52 1102.6,-52 1102.6,-12 1102.6,-12 1102.6,-6 1108.6,-0 1114.6,-0 1114.6,-0 1295.71,-0 1295.71,-0 1301.71,-0 1307.71,-6 1307.71,-12 1307.71,-12 1307.71,-52 1307.71,-52 1307.71,-58 1301.71,-64 1295.71,-64\"/>\n",
       "<text text-anchor=\"start\" x=\"1168.76\" y=\"-48.8\" font-family=\"Helvetica,sans-Serif\" font-size=\"14.00\">gini = 0.246</text>\n",
       "<text text-anchor=\"start\" x=\"1151.65\" y=\"-34.8\" font-family=\"Helvetica,sans-Serif\" font-size=\"14.00\">samples = 21059</text>\n",
       "<text text-anchor=\"start\" x=\"1110.38\" y=\"-20.8\" font-family=\"Helvetica,sans-Serif\" font-size=\"14.00\">value = [13201.063, 2209.391]</text>\n",
       "<text text-anchor=\"start\" x=\"1167.23\" y=\"-6.8\" font-family=\"Helvetica,sans-Serif\" font-size=\"14.00\">class = DEF</text>\n",
       "</g>\n",
       "<!-- 10&#45;&gt;12 -->\n",
       "<g id=\"edge12\" class=\"edge\"><title>10&#45;&gt;12</title>\n",
       "<path fill=\"none\" stroke=\"black\" d=\"M1205.15,-99.7956C1205.15,-91.4581 1205.15,-82.6 1205.15,-74.1534\"/>\n",
       "<polygon fill=\"black\" stroke=\"black\" points=\"1208.65,-74.1171 1205.15,-64.1172 1201.65,-74.1172 1208.65,-74.1171\"/>\n",
       "</g>\n",
       "<!-- 14 -->\n",
       "<g id=\"node15\" class=\"node\"><title>14</title>\n",
       "<path fill=\"#399de5\" fill-opacity=\"0.858824\" stroke=\"black\" d=\"M1519.71,-64C1519.71,-64 1338.6,-64 1338.6,-64 1332.6,-64 1326.6,-58 1326.6,-52 1326.6,-52 1326.6,-12 1326.6,-12 1326.6,-6 1332.6,-0 1338.6,-0 1338.6,-0 1519.71,-0 1519.71,-0 1525.71,-0 1531.71,-6 1531.71,-12 1531.71,-12 1531.71,-52 1531.71,-52 1531.71,-58 1525.71,-64 1519.71,-64\"/>\n",
       "<text text-anchor=\"start\" x=\"1392.76\" y=\"-48.8\" font-family=\"Helvetica,sans-Serif\" font-size=\"14.00\">gini = 0.215</text>\n",
       "<text text-anchor=\"start\" x=\"1375.65\" y=\"-34.8\" font-family=\"Helvetica,sans-Serif\" font-size=\"14.00\">samples = 21966</text>\n",
       "<text text-anchor=\"start\" x=\"1334.38\" y=\"-20.8\" font-family=\"Helvetica,sans-Serif\" font-size=\"14.00\">value = [4399.253, 31486.913]</text>\n",
       "<text text-anchor=\"start\" x=\"1394.34\" y=\"-6.8\" font-family=\"Helvetica,sans-Serif\" font-size=\"14.00\">class = PIF</text>\n",
       "</g>\n",
       "<!-- 13&#45;&gt;14 -->\n",
       "<g id=\"edge14\" class=\"edge\"><title>13&#45;&gt;14</title>\n",
       "<path fill=\"none\" stroke=\"black\" d=\"M1429.15,-99.7956C1429.15,-91.4581 1429.15,-82.6 1429.15,-74.1534\"/>\n",
       "<polygon fill=\"black\" stroke=\"black\" points=\"1432.65,-74.1171 1429.15,-64.1172 1425.65,-74.1172 1432.65,-74.1171\"/>\n",
       "</g>\n",
       "<!-- 15 -->\n",
       "<g id=\"node16\" class=\"node\"><title>15</title>\n",
       "<path fill=\"#399de5\" fill-opacity=\"0.513725\" stroke=\"black\" d=\"M1743.71,-64C1743.71,-64 1562.6,-64 1562.6,-64 1556.6,-64 1550.6,-58 1550.6,-52 1550.6,-52 1550.6,-12 1550.6,-12 1550.6,-6 1556.6,-0 1562.6,-0 1562.6,-0 1743.71,-0 1743.71,-0 1749.71,-0 1755.71,-6 1755.71,-12 1755.71,-12 1755.71,-52 1755.71,-52 1755.71,-58 1749.71,-64 1743.71,-64\"/>\n",
       "<text text-anchor=\"start\" x=\"1620.66\" y=\"-48.8\" font-family=\"Helvetica,sans-Serif\" font-size=\"14.00\">gini = 0.44</text>\n",
       "<text text-anchor=\"start\" x=\"1599.65\" y=\"-34.8\" font-family=\"Helvetica,sans-Serif\" font-size=\"14.00\">samples = 16769</text>\n",
       "<text text-anchor=\"start\" x=\"1558.38\" y=\"-20.8\" font-family=\"Helvetica,sans-Serif\" font-size=\"14.00\">value = [6664.935, 13739.781]</text>\n",
       "<text text-anchor=\"start\" x=\"1618.34\" y=\"-6.8\" font-family=\"Helvetica,sans-Serif\" font-size=\"14.00\">class = PIF</text>\n",
       "</g>\n",
       "<!-- 13&#45;&gt;15 -->\n",
       "<g id=\"edge15\" class=\"edge\"><title>13&#45;&gt;15</title>\n",
       "<path fill=\"none\" stroke=\"black\" d=\"M1510.34,-99.9441C1532.36,-89.6221 1556.1,-78.4922 1577.79,-68.3275\"/>\n",
       "<polygon fill=\"black\" stroke=\"black\" points=\"1579.38,-71.449 1586.94,-64.0355 1576.4,-65.1108 1579.38,-71.449\"/>\n",
       "</g>\n",
       "<!-- 17 -->\n",
       "<g id=\"node18\" class=\"node\"><title>17</title>\n",
       "<path fill=\"#e58139\" fill-opacity=\"0.976471\" stroke=\"black\" d=\"M2250.71,-292C2250.71,-292 2069.6,-292 2069.6,-292 2063.6,-292 2057.6,-286 2057.6,-280 2057.6,-280 2057.6,-226 2057.6,-226 2057.6,-220 2063.6,-214 2069.6,-214 2069.6,-214 2250.71,-214 2250.71,-214 2256.71,-214 2262.71,-220 2262.71,-226 2262.71,-226 2262.71,-280 2262.71,-280 2262.71,-286 2256.71,-292 2250.71,-292\"/>\n",
       "<text text-anchor=\"start\" x=\"2094.45\" y=\"-276.8\" font-family=\"Helvetica,sans-Serif\" font-size=\"14.00\">TermInMonths ≤ 83.5</text>\n",
       "<text text-anchor=\"start\" x=\"2123.76\" y=\"-262.8\" font-family=\"Helvetica,sans-Serif\" font-size=\"14.00\">gini = 0.048</text>\n",
       "<text text-anchor=\"start\" x=\"2102.75\" y=\"-248.8\" font-family=\"Helvetica,sans-Serif\" font-size=\"14.00\">samples = 148151</text>\n",
       "<text text-anchor=\"start\" x=\"2065.38\" y=\"-234.8\" font-family=\"Helvetica,sans-Serif\" font-size=\"14.00\">value = [97072.893, 2454.194]</text>\n",
       "<text text-anchor=\"start\" x=\"2122.23\" y=\"-220.8\" font-family=\"Helvetica,sans-Serif\" font-size=\"14.00\">class = DEF</text>\n",
       "</g>\n",
       "<!-- 16&#45;&gt;17 -->\n",
       "<g id=\"edge17\" class=\"edge\"><title>16&#45;&gt;17</title>\n",
       "<path fill=\"none\" stroke=\"black\" d=\"M2160.15,-327.769C2160.15,-319.57 2160.15,-310.803 2160.15,-302.28\"/>\n",
       "<polygon fill=\"black\" stroke=\"black\" points=\"2163.65,-302.058 2160.15,-292.058 2156.65,-302.059 2163.65,-302.058\"/>\n",
       "</g>\n",
       "<!-- 24 -->\n",
       "<g id=\"node25\" class=\"node\"><title>24</title>\n",
       "<path fill=\"#e58139\" fill-opacity=\"0.533333\" stroke=\"black\" d=\"M2861.71,-292C2861.71,-292 2680.6,-292 2680.6,-292 2674.6,-292 2668.6,-286 2668.6,-280 2668.6,-280 2668.6,-226 2668.6,-226 2668.6,-220 2674.6,-214 2680.6,-214 2680.6,-214 2861.71,-214 2861.71,-214 2867.71,-214 2873.71,-220 2873.71,-226 2873.71,-226 2873.71,-280 2873.71,-280 2873.71,-286 2867.71,-292 2861.71,-292\"/>\n",
       "<text text-anchor=\"start\" x=\"2702.07\" y=\"-276.8\" font-family=\"Helvetica,sans-Serif\" font-size=\"14.00\">TermInMonths ≤ 116.5</text>\n",
       "<text text-anchor=\"start\" x=\"2734.76\" y=\"-262.8\" font-family=\"Helvetica,sans-Serif\" font-size=\"14.00\">gini = 0.434</text>\n",
       "<text text-anchor=\"start\" x=\"2717.65\" y=\"-248.8\" font-family=\"Helvetica,sans-Serif\" font-size=\"14.00\">samples = 91205</text>\n",
       "<text text-anchor=\"start\" x=\"2676.38\" y=\"-234.8\" font-family=\"Helvetica,sans-Serif\" font-size=\"14.00\">value = [52396.031, 24445.25]</text>\n",
       "<text text-anchor=\"start\" x=\"2733.23\" y=\"-220.8\" font-family=\"Helvetica,sans-Serif\" font-size=\"14.00\">class = DEF</text>\n",
       "</g>\n",
       "<!-- 16&#45;&gt;24 -->\n",
       "<g id=\"edge24\" class=\"edge\"><title>16&#45;&gt;24</title>\n",
       "<path fill=\"none\" stroke=\"black\" d=\"M2270.8,-345.718C2380.63,-325.586 2548.12,-294.884 2658.6,-274.631\"/>\n",
       "<polygon fill=\"black\" stroke=\"black\" points=\"2659.24,-278.072 2668.45,-272.827 2657.98,-271.187 2659.24,-278.072\"/>\n",
       "</g>\n",
       "<!-- 18 -->\n",
       "<g id=\"node19\" class=\"node\"><title>18</title>\n",
       "<path fill=\"#e58139\" fill-opacity=\"0.517647\" stroke=\"black\" d=\"M2116.14,-178C2116.14,-178 1950.17,-178 1950.17,-178 1944.17,-178 1938.17,-172 1938.17,-166 1938.17,-166 1938.17,-112 1938.17,-112 1938.17,-106 1944.17,-100 1950.17,-100 1950.17,-100 2116.14,-100 2116.14,-100 2122.14,-100 2128.14,-106 2128.14,-112 2128.14,-112 2128.14,-166 2128.14,-166 2128.14,-172 2122.14,-178 2116.14,-178\"/>\n",
       "<text text-anchor=\"start\" x=\"1968.23\" y=\"-162.8\" font-family=\"Helvetica,sans-Serif\" font-size=\"14.00\">RevolverStatus ≤ 0.5</text>\n",
       "<text text-anchor=\"start\" x=\"1996.76\" y=\"-148.8\" font-family=\"Helvetica,sans-Serif\" font-size=\"14.00\">gini = 0.438</text>\n",
       "<text text-anchor=\"start\" x=\"1983.54\" y=\"-134.8\" font-family=\"Helvetica,sans-Serif\" font-size=\"14.00\">samples = 2962</text>\n",
       "<text text-anchor=\"start\" x=\"1946.16\" y=\"-120.8\" font-family=\"Helvetica,sans-Serif\" font-size=\"14.00\">value = [1694.968, 814.636]</text>\n",
       "<text text-anchor=\"start\" x=\"1995.23\" y=\"-106.8\" font-family=\"Helvetica,sans-Serif\" font-size=\"14.00\">class = DEF</text>\n",
       "</g>\n",
       "<!-- 17&#45;&gt;18 -->\n",
       "<g id=\"edge18\" class=\"edge\"><title>17&#45;&gt;18</title>\n",
       "<path fill=\"none\" stroke=\"black\" d=\"M2116.8,-213.769C2106.28,-204.488 2094.93,-194.481 2084.09,-184.923\"/>\n",
       "<polygon fill=\"black\" stroke=\"black\" points=\"2086.12,-182.048 2076.31,-178.058 2081.49,-187.298 2086.12,-182.048\"/>\n",
       "</g>\n",
       "<!-- 21 -->\n",
       "<g id=\"node22\" class=\"node\"><title>21</title>\n",
       "<path fill=\"#e58139\" fill-opacity=\"0.984314\" stroke=\"black\" d=\"M2416.53,-178C2416.53,-178 2157.78,-178 2157.78,-178 2151.78,-178 2145.78,-172 2145.78,-166 2145.78,-166 2145.78,-112 2145.78,-112 2145.78,-106 2151.78,-100 2157.78,-100 2157.78,-100 2416.53,-100 2416.53,-100 2422.53,-100 2428.53,-106 2428.53,-112 2428.53,-112 2428.53,-166 2428.53,-166 2428.53,-172 2422.53,-178 2416.53,-178\"/>\n",
       "<text text-anchor=\"start\" x=\"2153.72\" y=\"-162.8\" font-family=\"Helvetica,sans-Serif\" font-size=\"14.00\">SBAGuaranteedApprovalAdj ≤ 209551.312</text>\n",
       "<text text-anchor=\"start\" x=\"2250.76\" y=\"-148.8\" font-family=\"Helvetica,sans-Serif\" font-size=\"14.00\">gini = 0.033</text>\n",
       "<text text-anchor=\"start\" x=\"2229.75\" y=\"-134.8\" font-family=\"Helvetica,sans-Serif\" font-size=\"14.00\">samples = 145189</text>\n",
       "<text text-anchor=\"start\" x=\"2192.38\" y=\"-120.8\" font-family=\"Helvetica,sans-Serif\" font-size=\"14.00\">value = [95377.925, 1639.558]</text>\n",
       "<text text-anchor=\"start\" x=\"2249.23\" y=\"-106.8\" font-family=\"Helvetica,sans-Serif\" font-size=\"14.00\">class = DEF</text>\n",
       "</g>\n",
       "<!-- 17&#45;&gt;21 -->\n",
       "<g id=\"edge21\" class=\"edge\"><title>17&#45;&gt;21</title>\n",
       "<path fill=\"none\" stroke=\"black\" d=\"M2203.5,-213.769C2214.03,-204.488 2225.38,-194.481 2236.21,-184.923\"/>\n",
       "<polygon fill=\"black\" stroke=\"black\" points=\"2238.81,-187.298 2244,-178.058 2234.18,-182.048 2238.81,-187.298\"/>\n",
       "</g>\n",
       "<!-- 19 -->\n",
       "<g id=\"node20\" class=\"node\"><title>19</title>\n",
       "<path fill=\"#399de5\" fill-opacity=\"0.298039\" stroke=\"black\" d=\"M1936.56,-64C1936.56,-64 1785.74,-64 1785.74,-64 1779.74,-64 1773.74,-58 1773.74,-52 1773.74,-52 1773.74,-12 1773.74,-12 1773.74,-6 1779.74,-0 1785.74,-0 1785.74,-0 1936.56,-0 1936.56,-0 1942.56,-0 1948.56,-6 1948.56,-12 1948.56,-12 1948.56,-52 1948.56,-52 1948.56,-58 1942.56,-64 1936.56,-64\"/>\n",
       "<text text-anchor=\"start\" x=\"1824.76\" y=\"-48.8\" font-family=\"Helvetica,sans-Serif\" font-size=\"14.00\">gini = 0.485</text>\n",
       "<text text-anchor=\"start\" x=\"1811.54\" y=\"-34.8\" font-family=\"Helvetica,sans-Serif\" font-size=\"14.00\">samples = 1224</text>\n",
       "<text text-anchor=\"start\" x=\"1781.95\" y=\"-20.8\" font-family=\"Helvetica,sans-Serif\" font-size=\"14.00\">value = [554.861, 789.95]</text>\n",
       "<text text-anchor=\"start\" x=\"1826.34\" y=\"-6.8\" font-family=\"Helvetica,sans-Serif\" font-size=\"14.00\">class = PIF</text>\n",
       "</g>\n",
       "<!-- 18&#45;&gt;19 -->\n",
       "<g id=\"edge19\" class=\"edge\"><title>18&#45;&gt;19</title>\n",
       "<path fill=\"none\" stroke=\"black\" d=\"M1970.57,-99.7956C1954.36,-89.9006 1936.95,-79.2722 1920.89,-69.4688\"/>\n",
       "<polygon fill=\"black\" stroke=\"black\" points=\"1922.49,-66.3404 1912.13,-64.1172 1918.84,-72.3151 1922.49,-66.3404\"/>\n",
       "</g>\n",
       "<!-- 20 -->\n",
       "<g id=\"node21\" class=\"node\"><title>20</title>\n",
       "<path fill=\"#e58139\" fill-opacity=\"0.976471\" stroke=\"black\" d=\"M2135.82,-64C2135.82,-64 1978.49,-64 1978.49,-64 1972.49,-64 1966.49,-58 1966.49,-52 1966.49,-52 1966.49,-12 1966.49,-12 1966.49,-6 1972.49,-0 1978.49,-0 1978.49,-0 2135.82,-0 2135.82,-0 2141.82,-0 2147.82,-6 2147.82,-12 2147.82,-12 2147.82,-52 2147.82,-52 2147.82,-58 2141.82,-64 2135.82,-64\"/>\n",
       "<text text-anchor=\"start\" x=\"2020.76\" y=\"-48.8\" font-family=\"Helvetica,sans-Serif\" font-size=\"14.00\">gini = 0.041</text>\n",
       "<text text-anchor=\"start\" x=\"2007.54\" y=\"-34.8\" font-family=\"Helvetica,sans-Serif\" font-size=\"14.00\">samples = 1738</text>\n",
       "<text text-anchor=\"start\" x=\"1974.57\" y=\"-20.8\" font-family=\"Helvetica,sans-Serif\" font-size=\"14.00\">value = [1140.107, 24.686]</text>\n",
       "<text text-anchor=\"start\" x=\"2019.23\" y=\"-6.8\" font-family=\"Helvetica,sans-Serif\" font-size=\"14.00\">class = DEF</text>\n",
       "</g>\n",
       "<!-- 18&#45;&gt;20 -->\n",
       "<g id=\"edge20\" class=\"edge\"><title>18&#45;&gt;20</title>\n",
       "<path fill=\"none\" stroke=\"black\" d=\"M2041.89,-99.7956C2043.81,-91.3665 2045.86,-82.4053 2047.81,-73.8751\"/>\n",
       "<polygon fill=\"black\" stroke=\"black\" points=\"2051.22,-74.6457 2050.04,-64.1172 2044.4,-73.0858 2051.22,-74.6457\"/>\n",
       "</g>\n",
       "<!-- 22 -->\n",
       "<g id=\"node23\" class=\"node\"><title>22</title>\n",
       "<path fill=\"#e58139\" fill-opacity=\"0.984314\" stroke=\"black\" d=\"M2350.92,-64C2350.92,-64 2177.39,-64 2177.39,-64 2171.39,-64 2165.39,-58 2165.39,-52 2165.39,-52 2165.39,-12 2165.39,-12 2165.39,-6 2171.39,-0 2177.39,-0 2177.39,-0 2350.92,-0 2350.92,-0 2356.92,-0 2362.92,-6 2362.92,-12 2362.92,-12 2362.92,-52 2362.92,-52 2362.92,-58 2356.92,-64 2350.92,-64\"/>\n",
       "<text text-anchor=\"start\" x=\"2227.76\" y=\"-48.8\" font-family=\"Helvetica,sans-Serif\" font-size=\"14.00\">gini = 0.028</text>\n",
       "<text text-anchor=\"start\" x=\"2206.75\" y=\"-34.8\" font-family=\"Helvetica,sans-Serif\" font-size=\"14.00\">samples = 135876</text>\n",
       "<text text-anchor=\"start\" x=\"2173.27\" y=\"-20.8\" font-family=\"Helvetica,sans-Serif\" font-size=\"14.00\">value = [89339.19, 1287.783]</text>\n",
       "<text text-anchor=\"start\" x=\"2226.23\" y=\"-6.8\" font-family=\"Helvetica,sans-Serif\" font-size=\"14.00\">class = DEF</text>\n",
       "</g>\n",
       "<!-- 21&#45;&gt;22 -->\n",
       "<g id=\"edge22\" class=\"edge\"><title>21&#45;&gt;22</title>\n",
       "<path fill=\"none\" stroke=\"black\" d=\"M2278.79,-99.7956C2276.96,-91.4581 2275.02,-82.6 2273.17,-74.1534\"/>\n",
       "<polygon fill=\"black\" stroke=\"black\" points=\"2276.53,-73.1366 2270.97,-64.1172 2269.69,-74.6345 2276.53,-73.1366\"/>\n",
       "</g>\n",
       "<!-- 23 -->\n",
       "<g id=\"node24\" class=\"node\"><title>23</title>\n",
       "<path fill=\"#e58139\" fill-opacity=\"0.941176\" stroke=\"black\" d=\"M2559.14,-64C2559.14,-64 2393.17,-64 2393.17,-64 2387.17,-64 2381.17,-58 2381.17,-52 2381.17,-52 2381.17,-12 2381.17,-12 2381.17,-6 2387.17,-0 2393.17,-0 2393.17,-0 2559.14,-0 2559.14,-0 2565.14,-0 2571.14,-6 2571.14,-12 2571.14,-12 2571.14,-52 2571.14,-52 2571.14,-58 2565.14,-64 2559.14,-64\"/>\n",
       "<text text-anchor=\"start\" x=\"2439.76\" y=\"-48.8\" font-family=\"Helvetica,sans-Serif\" font-size=\"14.00\">gini = 0.104</text>\n",
       "<text text-anchor=\"start\" x=\"2426.54\" y=\"-34.8\" font-family=\"Helvetica,sans-Serif\" font-size=\"14.00\">samples = 9313</text>\n",
       "<text text-anchor=\"start\" x=\"2389.16\" y=\"-20.8\" font-family=\"Helvetica,sans-Serif\" font-size=\"14.00\">value = [6038.735, 351.775]</text>\n",
       "<text text-anchor=\"start\" x=\"2438.23\" y=\"-6.8\" font-family=\"Helvetica,sans-Serif\" font-size=\"14.00\">class = DEF</text>\n",
       "</g>\n",
       "<!-- 21&#45;&gt;23 -->\n",
       "<g id=\"edge23\" class=\"edge\"><title>21&#45;&gt;23</title>\n",
       "<path fill=\"none\" stroke=\"black\" d=\"M2355.65,-99.9441C2373.74,-89.8985 2393.2,-79.0879 2411.09,-69.1464\"/>\n",
       "<polygon fill=\"black\" stroke=\"black\" points=\"2413.25,-71.9515 2420.29,-64.0355 2409.85,-65.8324 2413.25,-71.9515\"/>\n",
       "</g>\n",
       "<!-- 25 -->\n",
       "<g id=\"node26\" class=\"node\"><title>25</title>\n",
       "<path fill=\"#399de5\" fill-opacity=\"0.349020\" stroke=\"black\" d=\"M2900.53,-178C2900.53,-178 2641.78,-178 2641.78,-178 2635.78,-178 2629.78,-172 2629.78,-166 2629.78,-166 2629.78,-112 2629.78,-112 2629.78,-106 2635.78,-100 2641.78,-100 2641.78,-100 2900.53,-100 2900.53,-100 2906.53,-100 2912.53,-106 2912.53,-112 2912.53,-112 2912.53,-166 2912.53,-166 2912.53,-172 2906.53,-178 2900.53,-178\"/>\n",
       "<text text-anchor=\"start\" x=\"2637.72\" y=\"-162.8\" font-family=\"Helvetica,sans-Serif\" font-size=\"14.00\">SBAGuaranteedApprovalAdj ≤ 173531.875</text>\n",
       "<text text-anchor=\"start\" x=\"2734.76\" y=\"-148.8\" font-family=\"Helvetica,sans-Serif\" font-size=\"14.00\">gini = 0.478</text>\n",
       "<text text-anchor=\"start\" x=\"2717.65\" y=\"-134.8\" font-family=\"Helvetica,sans-Serif\" font-size=\"14.00\">samples = 27852</text>\n",
       "<text text-anchor=\"start\" x=\"2672.48\" y=\"-120.8\" font-family=\"Helvetica,sans-Serif\" font-size=\"14.00\">value = [12315.928, 18940.285]</text>\n",
       "<text text-anchor=\"start\" x=\"2736.34\" y=\"-106.8\" font-family=\"Helvetica,sans-Serif\" font-size=\"14.00\">class = PIF</text>\n",
       "</g>\n",
       "<!-- 24&#45;&gt;25 -->\n",
       "<g id=\"edge25\" class=\"edge\"><title>24&#45;&gt;25</title>\n",
       "<path fill=\"none\" stroke=\"black\" d=\"M2771.15,-213.769C2771.15,-205.57 2771.15,-196.803 2771.15,-188.28\"/>\n",
       "<polygon fill=\"black\" stroke=\"black\" points=\"2774.65,-188.058 2771.15,-178.058 2767.65,-188.059 2774.65,-188.058\"/>\n",
       "</g>\n",
       "<!-- 28 -->\n",
       "<g id=\"node29\" class=\"node\"><title>28</title>\n",
       "<path fill=\"#e58139\" fill-opacity=\"0.862745\" stroke=\"black\" d=\"M3206.71,-178C3206.71,-178 3025.6,-178 3025.6,-178 3019.6,-178 3013.6,-172 3013.6,-166 3013.6,-166 3013.6,-112 3013.6,-112 3013.6,-106 3019.6,-100 3025.6,-100 3025.6,-100 3206.71,-100 3206.71,-100 3212.71,-100 3218.71,-106 3218.71,-112 3218.71,-112 3218.71,-166 3218.71,-166 3218.71,-172 3212.71,-178 3206.71,-178\"/>\n",
       "<text text-anchor=\"start\" x=\"3046.56\" y=\"-162.8\" font-family=\"Helvetica,sans-Serif\" font-size=\"14.00\">TermInMonths ≤ 120.5</text>\n",
       "<text text-anchor=\"start\" x=\"3079.76\" y=\"-148.8\" font-family=\"Helvetica,sans-Serif\" font-size=\"14.00\">gini = 0.212</text>\n",
       "<text text-anchor=\"start\" x=\"3062.65\" y=\"-134.8\" font-family=\"Helvetica,sans-Serif\" font-size=\"14.00\">samples = 63353</text>\n",
       "<text text-anchor=\"start\" x=\"3021.38\" y=\"-120.8\" font-family=\"Helvetica,sans-Serif\" font-size=\"14.00\">value = [40080.104, 5504.964]</text>\n",
       "<text text-anchor=\"start\" x=\"3078.23\" y=\"-106.8\" font-family=\"Helvetica,sans-Serif\" font-size=\"14.00\">class = DEF</text>\n",
       "</g>\n",
       "<!-- 24&#45;&gt;28 -->\n",
       "<g id=\"edge28\" class=\"edge\"><title>24&#45;&gt;28</title>\n",
       "<path fill=\"none\" stroke=\"black\" d=\"M2873.73,-218.7C2914.64,-205.419 2961.86,-190.088 3003.7,-176.506\"/>\n",
       "<polygon fill=\"black\" stroke=\"black\" points=\"3004.95,-179.782 3013.38,-173.366 3002.78,-173.124 3004.95,-179.782\"/>\n",
       "</g>\n",
       "<!-- 26 -->\n",
       "<g id=\"node27\" class=\"node\"><title>26</title>\n",
       "<path fill=\"#399de5\" fill-opacity=\"0.027451\" stroke=\"black\" d=\"M2774.92,-64C2774.92,-64 2601.39,-64 2601.39,-64 2595.39,-64 2589.39,-58 2589.39,-52 2589.39,-52 2589.39,-12 2589.39,-12 2589.39,-6 2595.39,-0 2601.39,-0 2601.39,-0 2774.92,-0 2774.92,-0 2780.92,-0 2786.92,-6 2786.92,-12 2786.92,-12 2786.92,-52 2786.92,-52 2786.92,-58 2780.92,-64 2774.92,-64\"/>\n",
       "<text text-anchor=\"start\" x=\"2659.55\" y=\"-48.8\" font-family=\"Helvetica,sans-Serif\" font-size=\"14.00\">gini = 0.5</text>\n",
       "<text text-anchor=\"start\" x=\"2634.65\" y=\"-34.8\" font-family=\"Helvetica,sans-Serif\" font-size=\"14.00\">samples = 17499</text>\n",
       "<text text-anchor=\"start\" x=\"2597.27\" y=\"-20.8\" font-family=\"Helvetica,sans-Serif\" font-size=\"14.00\">value = [8687.534, 8942.481]</text>\n",
       "<text text-anchor=\"start\" x=\"2653.34\" y=\"-6.8\" font-family=\"Helvetica,sans-Serif\" font-size=\"14.00\">class = PIF</text>\n",
       "</g>\n",
       "<!-- 25&#45;&gt;26 -->\n",
       "<g id=\"edge26\" class=\"edge\"><title>25&#45;&gt;26</title>\n",
       "<path fill=\"none\" stroke=\"black\" d=\"M2740.95,-99.7956C2733.86,-90.8168 2726.28,-81.2341 2719.15,-72.2119\"/>\n",
       "<polygon fill=\"black\" stroke=\"black\" points=\"2721.7,-69.7917 2712.75,-64.1172 2716.21,-74.1327 2721.7,-69.7917\"/>\n",
       "</g>\n",
       "<!-- 27 -->\n",
       "<g id=\"node28\" class=\"node\"><title>27</title>\n",
       "<path fill=\"#399de5\" fill-opacity=\"0.635294\" stroke=\"black\" d=\"M2990.92,-64C2990.92,-64 2817.39,-64 2817.39,-64 2811.39,-64 2805.39,-58 2805.39,-52 2805.39,-52 2805.39,-12 2805.39,-12 2805.39,-6 2811.39,-0 2817.39,-0 2817.39,-0 2990.92,-0 2990.92,-0 2996.92,-0 3002.92,-6 3002.92,-12 3002.92,-12 3002.92,-52 3002.92,-52 3002.92,-58 2996.92,-64 2990.92,-64\"/>\n",
       "<text text-anchor=\"start\" x=\"2867.76\" y=\"-48.8\" font-family=\"Helvetica,sans-Serif\" font-size=\"14.00\">gini = 0.391</text>\n",
       "<text text-anchor=\"start\" x=\"2850.65\" y=\"-34.8\" font-family=\"Helvetica,sans-Serif\" font-size=\"14.00\">samples = 10353</text>\n",
       "<text text-anchor=\"start\" x=\"2813.27\" y=\"-20.8\" font-family=\"Helvetica,sans-Serif\" font-size=\"14.00\">value = [3628.393, 9997.805]</text>\n",
       "<text text-anchor=\"start\" x=\"2869.34\" y=\"-6.8\" font-family=\"Helvetica,sans-Serif\" font-size=\"14.00\">class = PIF</text>\n",
       "</g>\n",
       "<!-- 25&#45;&gt;27 -->\n",
       "<g id=\"edge27\" class=\"edge\"><title>25&#45;&gt;27</title>\n",
       "<path fill=\"none\" stroke=\"black\" d=\"M2819.55,-99.7956C2831.62,-90.2671 2844.55,-80.0585 2856.58,-70.5614\"/>\n",
       "<polygon fill=\"black\" stroke=\"black\" points=\"2859.06,-73.0607 2864.74,-64.1172 2854.72,-67.5666 2859.06,-73.0607\"/>\n",
       "</g>\n",
       "<!-- 29 -->\n",
       "<g id=\"node30\" class=\"node\"><title>29</title>\n",
       "<path fill=\"#e58139\" fill-opacity=\"0.976471\" stroke=\"black\" d=\"M3199.14,-64C3199.14,-64 3033.17,-64 3033.17,-64 3027.17,-64 3021.17,-58 3021.17,-52 3021.17,-52 3021.17,-12 3021.17,-12 3021.17,-6 3027.17,-0 3033.17,-0 3033.17,-0 3199.14,-0 3199.14,-0 3205.14,-0 3211.14,-6 3211.14,-12 3211.14,-12 3211.14,-52 3211.14,-52 3211.14,-58 3205.14,-64 3199.14,-64\"/>\n",
       "<text text-anchor=\"start\" x=\"3079.76\" y=\"-48.8\" font-family=\"Helvetica,sans-Serif\" font-size=\"14.00\">gini = 0.048</text>\n",
       "<text text-anchor=\"start\" x=\"3062.65\" y=\"-34.8\" font-family=\"Helvetica,sans-Serif\" font-size=\"14.00\">samples = 37490</text>\n",
       "<text text-anchor=\"start\" x=\"3029.16\" y=\"-20.8\" font-family=\"Helvetica,sans-Serif\" font-size=\"14.00\">value = [24563.819, 623.32]</text>\n",
       "<text text-anchor=\"start\" x=\"3078.23\" y=\"-6.8\" font-family=\"Helvetica,sans-Serif\" font-size=\"14.00\">class = DEF</text>\n",
       "</g>\n",
       "<!-- 28&#45;&gt;29 -->\n",
       "<g id=\"edge29\" class=\"edge\"><title>28&#45;&gt;29</title>\n",
       "<path fill=\"none\" stroke=\"black\" d=\"M3116.15,-99.7956C3116.15,-91.4581 3116.15,-82.6 3116.15,-74.1534\"/>\n",
       "<polygon fill=\"black\" stroke=\"black\" points=\"3119.65,-74.1171 3116.15,-64.1172 3112.65,-74.1172 3119.65,-74.1171\"/>\n",
       "</g>\n",
       "<!-- 30 -->\n",
       "<g id=\"node31\" class=\"node\"><title>30</title>\n",
       "<path fill=\"#e58139\" fill-opacity=\"0.686275\" stroke=\"black\" d=\"M3422.71,-64C3422.71,-64 3241.6,-64 3241.6,-64 3235.6,-64 3229.6,-58 3229.6,-52 3229.6,-52 3229.6,-12 3229.6,-12 3229.6,-6 3235.6,-0 3241.6,-0 3241.6,-0 3422.71,-0 3422.71,-0 3428.71,-0 3434.71,-6 3434.71,-12 3434.71,-12 3434.71,-52 3434.71,-52 3434.71,-58 3428.71,-64 3422.71,-64\"/>\n",
       "<text text-anchor=\"start\" x=\"3295.76\" y=\"-48.8\" font-family=\"Helvetica,sans-Serif\" font-size=\"14.00\">gini = 0.364</text>\n",
       "<text text-anchor=\"start\" x=\"3278.65\" y=\"-34.8\" font-family=\"Helvetica,sans-Serif\" font-size=\"14.00\">samples = 25863</text>\n",
       "<text text-anchor=\"start\" x=\"3237.38\" y=\"-20.8\" font-family=\"Helvetica,sans-Serif\" font-size=\"14.00\">value = [15516.285, 4881.644]</text>\n",
       "<text text-anchor=\"start\" x=\"3294.23\" y=\"-6.8\" font-family=\"Helvetica,sans-Serif\" font-size=\"14.00\">class = DEF</text>\n",
       "</g>\n",
       "<!-- 28&#45;&gt;30 -->\n",
       "<g id=\"edge30\" class=\"edge\"><title>28&#45;&gt;30</title>\n",
       "<path fill=\"none\" stroke=\"black\" d=\"M3194.44,-99.9441C3215.58,-89.6681 3238.37,-78.5916 3259.2,-68.4637\"/>\n",
       "<polygon fill=\"black\" stroke=\"black\" points=\"3260.85,-71.5552 3268.31,-64.0355 3257.79,-65.2597 3260.85,-71.5552\"/>\n",
       "</g>\n",
       "</g>\n",
       "</svg>\n"
      ],
      "text/plain": [
       "<graphviz.files.Source at 0x10c59fb38>"
      ]
     },
     "execution_count": 27,
     "metadata": {},
     "output_type": "execute_result"
    }
   ],
   "source": [
    "# Visualize the tree\n",
    "dot_data = tree.export_graphviz(dtree, out_file = None, \n",
    "                         feature_names = X_train.columns,  \n",
    "                         class_names = ['DEF', 'PIF'],  \n",
    "                         filled = True, rounded = True,  \n",
    "                         special_characters = True)  \n",
    "graph = graphviz.Source(dot_data)  \n",
    "graph.render(\"dec_tree_simple\") \n",
    "graph\n"
   ]
  },
  {
   "cell_type": "markdown",
   "metadata": {},
   "source": [
    "From the tree, it looks like the most important features are:\n",
    "    * Term in Months (most decisions/splits are made based on this feature, and it looks like loans < 83 months are more likely to default)\n",
    "    * S&P 1500 Index\n",
    "    * Guaranteed Amount\n",
    "    \n",
    "Let's examine Term in Months in more detail. \n",
    "    "
   ]
  },
  {
   "cell_type": "code",
   "execution_count": 28,
   "metadata": {
    "collapsed": false
   },
   "outputs": [
    {
     "data": {
      "text/plain": [
       "<matplotlib.figure.Figure at 0x10c5a0ef0>"
      ]
     },
     "metadata": {},
     "output_type": "display_data"
    },
    {
     "data": {
      "image/png": "[encoded data removed]",
      "text/plain": [
       "<matplotlib.figure.Figure at 0x10c5a0278>"
      ]
     },
     "metadata": {},
     "output_type": "display_data"
    }
   ],
   "source": [
    "# Term in months seems to be the most important from the Decision Tree\n",
    "fig = plt.figure(figsize = (5,3), facecolor = 'gainsboro')\n",
    "sns.set_context('poster', font_scale = 1.2)\n",
    "\n",
    "\n",
    "g = sns.factorplot(x = 'PIF', y = 'TermInMonths',\n",
    "                   kind = 'bar', data = data, estimator = np.mean, palette = 'Set1' )\n",
    "\n",
    "g.set_xticklabels(['Defaulted', 'Repaid'])\n",
    "sns.plt.xlabel('')\n",
    "sns.plt.title('7A Matured Loans')\n",
    "sns.plt.ylabel('Mean Term in Months')\n",
    "g.savefig('Term.png', dpi = 300)"
   ]
  },
  {
   "cell_type": "markdown",
   "metadata": {},
   "source": [
    "It looks like paid in full loans have, on average, longer duration! "
   ]
  },
  {
   "cell_type": "markdown",
   "metadata": {},
   "source": [
    "<a id=\"cell3\"></a>\n",
    "## 3. Random Forest\n",
    "\n",
    "To improve the performance further, we will use a random forest classifier: random forests are an ensemble learning method  that operates by constructing a multitude of decision trees at training time and outputting the class that is the mode of the classes output by individual trees, or, in Scikit Learn implementation, average of probabilistic outputs of all trees. "
   ]
  },
  {
   "cell_type": "code",
   "execution_count": 21,
   "metadata": {
    "collapsed": false
   },
   "outputs": [
    {
     "name": "stdout",
     "output_type": "stream",
     "text": [
      "             precision    recall  f1-score   support\n",
      "\n",
      "          0       0.93      0.95      0.94    147664\n",
      "          1       0.83      0.77      0.80     47415\n",
      "\n",
      "avg / total       0.90      0.91      0.91    195079\n",
      "\n"
     ]
    }
   ],
   "source": [
    "# Train and test a Random Forest classifier with default hyperparamters first (use 300 estimators to start with)\n",
    "df_rf_n300 = RandomForestClassifier(n_estimators = 300, class_weight = 'balanced', n_jobs=-1)\n",
    "# Fit/train the model\n",
    "df_rf_n300.fit(X_train, y_train)\n",
    "# Test the model: make predictions on the test set\n",
    "df_rf_n300_pred = df_rf_n300.predict(X_test)\n",
    "print(classification_report(y_test, df_rf_n300_pred))"
   ]
  },
  {
   "cell_type": "markdown",
   "metadata": {},
   "source": [
    "This is much better compared to both logistic regression and single simple decision tree above. Let's tune the hyperparamters next. We will again use **10-fold cross validation with stratified splits** on the training data, pick the optimal parameters, and then apply the selected model to test data. \n",
    "\n",
    "We would will to look at a range of following hyperparameters:\n",
    "        1. n_estimators - the number of trees\n",
    "        2. max_features - the maximum number of features Random Forest is allowed to try in individual tree\n",
    "        3. min_samples_leaf -  leaf is the end node of a decision tree - a smaller leaf makes the model more prone to capturing noise in training data\n",
    "        \n",
    "We will optimize for **f1 score** to acount for both precision and recall of Defaults. \n",
    "\n",
    "Due to high computational demands of grid search, we will first check if we can reduce the number of estimators, without affecting the performance. (the optimal way to do this would be to use a range of n_estimators in all possible combinations with other parameters we want to tune)"
   ]
  },
  {
   "cell_type": "code",
   "execution_count": 22,
   "metadata": {
    "collapsed": false
   },
   "outputs": [
    {
     "name": "stdout",
     "output_type": "stream",
     "text": [
      "             precision    recall  f1-score   support\n",
      "\n",
      "          0       0.93      0.95      0.94    147664\n",
      "          1       0.83      0.76      0.80     47415\n",
      "\n",
      "avg / total       0.90      0.91      0.90    195079\n",
      "\n"
     ]
    }
   ],
   "source": [
    "# Train and test a Random Forest classifier with default hyperparamters first - use 100 estimators \n",
    "df_rf_n100 = RandomForestClassifier(n_estimators = 100, class_weight = 'balanced', n_jobs=-1)\n",
    "# Fit/train the model\n",
    "df_rf_n100.fit(X_train, y_train)\n",
    "# Test the model: make predictions on the test set\n",
    "df_rf_n100_pred = df_rf_n100.predict(X_test)\n",
    "print(classification_report(y_test, df_rf_n100_pred))"
   ]
  },
  {
   "cell_type": "markdown",
   "metadata": {},
   "source": [
    "A random forest with 100 estimators achieves the same precision and recall as when using 300 estimators, so let's use at most 100 estimators. "
   ]
  },
  {
   "cell_type": "code",
   "execution_count": 25,
   "metadata": {
    "collapsed": true
   },
   "outputs": [],
   "source": [
    "# GridSearch for RF\n",
    "param_grid = {'max_features': [0.2, 'auto', 'log2'], \n",
    "              'n_estimators': [50, 100], 'min_samples_leaf': [1, 5, 10, 50, 100]}\n",
    "grid_rf = GridSearchCV(RandomForestClassifier(class_weight = 'balanced', n_jobs = 4),\n",
    "                param_grid, cv = 10, refit = True, verbose = 3, scoring = 'f1')\n"
   ]
  },
  {
   "cell_type": "code",
   "execution_count": 26,
   "metadata": {
    "collapsed": false
   },
   "outputs": [
    {
     "name": "stdout",
     "output_type": "stream",
     "text": [
      "Fitting 10 folds for each of 30 candidates, totalling 300 fits\n",
      "[CV] max_features=0.2, min_samples_leaf=1, n_estimators=50 ...........\n",
      "[CV]  max_features=0.2, min_samples_leaf=1, n_estimators=50, score=0.822812, total=  26.1s\n",
      "[CV] max_features=0.2, min_samples_leaf=1, n_estimators=50 ...........\n"
     ]
    },
    {
     "name": "stderr",
     "output_type": "stream",
     "text": [
      "[Parallel(n_jobs=1)]: Done   1 out of   1 | elapsed:   29.3s remaining:    0.0s\n"
     ]
    },
    {
     "name": "stdout",
     "output_type": "stream",
     "text": [
      "[CV]  max_features=0.2, min_samples_leaf=1, n_estimators=50, score=0.821995, total=  26.4s\n",
      "[CV] max_features=0.2, min_samples_leaf=1, n_estimators=50 ...........\n"
     ]
    },
    {
     "name": "stderr",
     "output_type": "stream",
     "text": [
      "[Parallel(n_jobs=1)]: Done   2 out of   2 | elapsed:   59.0s remaining:    0.0s\n"
     ]
    },
    {
     "name": "stdout",
     "output_type": "stream",
     "text": [
      "[CV]  max_features=0.2, min_samples_leaf=1, n_estimators=50, score=0.819099, total=  26.3s\n",
      "[CV] max_features=0.2, min_samples_leaf=1, n_estimators=50 ...........\n",
      "[CV]  max_features=0.2, min_samples_leaf=1, n_estimators=50, score=0.823077, total=  26.2s\n",
      "[CV] max_features=0.2, min_samples_leaf=1, n_estimators=50 ...........\n",
      "[CV]  max_features=0.2, min_samples_leaf=1, n_estimators=50, score=0.826259, total=  26.4s\n",
      "[CV] max_features=0.2, min_samples_leaf=1, n_estimators=50 ...........\n",
      "[CV]  max_features=0.2, min_samples_leaf=1, n_estimators=50, score=0.822390, total=  26.5s\n",
      "[CV] max_features=0.2, min_samples_leaf=1, n_estimators=50 ...........\n",
      "[CV]  max_features=0.2, min_samples_leaf=1, n_estimators=50, score=0.820685, total=  26.6s\n",
      "[CV] max_features=0.2, min_samples_leaf=1, n_estimators=50 ...........\n",
      "[CV]  max_features=0.2, min_samples_leaf=1, n_estimators=50, score=0.819922, total=  26.3s\n",
      "[CV] max_features=0.2, min_samples_leaf=1, n_estimators=50 ...........\n",
      "[CV]  max_features=0.2, min_samples_leaf=1, n_estimators=50, score=0.826482, total=  26.4s\n",
      "[CV] max_features=0.2, min_samples_leaf=1, n_estimators=50 ...........\n",
      "[CV]  max_features=0.2, min_samples_leaf=1, n_estimators=50, score=0.827973, total=  26.2s\n",
      "[CV] max_features=0.2, min_samples_leaf=1, n_estimators=100 ..........\n",
      "[CV]  max_features=0.2, min_samples_leaf=1, n_estimators=100, score=0.826250, total=  49.9s\n",
      "[CV] max_features=0.2, min_samples_leaf=1, n_estimators=100 ..........\n",
      "[CV]  max_features=0.2, min_samples_leaf=1, n_estimators=100, score=0.824767, total=  51.9s\n",
      "[CV] max_features=0.2, min_samples_leaf=1, n_estimators=100 ..........\n",
      "[CV]  max_features=0.2, min_samples_leaf=1, n_estimators=100, score=0.826709, total=  51.3s\n",
      "[CV] max_features=0.2, min_samples_leaf=1, n_estimators=100 ..........\n",
      "[CV]  max_features=0.2, min_samples_leaf=1, n_estimators=100, score=0.826768, total=  50.3s\n",
      "[CV] max_features=0.2, min_samples_leaf=1, n_estimators=100 ..........\n",
      "[CV]  max_features=0.2, min_samples_leaf=1, n_estimators=100, score=0.830190, total=  51.5s\n",
      "[CV] max_features=0.2, min_samples_leaf=1, n_estimators=100 ..........\n",
      "[CV]  max_features=0.2, min_samples_leaf=1, n_estimators=100, score=0.827788, total=  50.3s\n",
      "[CV] max_features=0.2, min_samples_leaf=1, n_estimators=100 ..........\n",
      "[CV]  max_features=0.2, min_samples_leaf=1, n_estimators=100, score=0.823809, total=  50.4s\n",
      "[CV] max_features=0.2, min_samples_leaf=1, n_estimators=100 ..........\n",
      "[CV]  max_features=0.2, min_samples_leaf=1, n_estimators=100, score=0.823270, total=  52.5s\n",
      "[CV] max_features=0.2, min_samples_leaf=1, n_estimators=100 ..........\n",
      "[CV]  max_features=0.2, min_samples_leaf=1, n_estimators=100, score=0.826742, total=  50.8s\n",
      "[CV] max_features=0.2, min_samples_leaf=1, n_estimators=100 ..........\n",
      "[CV]  max_features=0.2, min_samples_leaf=1, n_estimators=100, score=0.830230, total=  50.3s\n",
      "[CV] max_features=0.2, min_samples_leaf=5, n_estimators=50 ...........\n",
      "[CV]  max_features=0.2, min_samples_leaf=5, n_estimators=50, score=0.819457, total=  24.8s\n",
      "[CV] max_features=0.2, min_samples_leaf=5, n_estimators=50 ...........\n",
      "[CV]  max_features=0.2, min_samples_leaf=5, n_estimators=50, score=0.816024, total=  25.3s\n",
      "[CV] max_features=0.2, min_samples_leaf=5, n_estimators=50 ...........\n",
      "[CV]  max_features=0.2, min_samples_leaf=5, n_estimators=50, score=0.815613, total=  25.1s\n",
      "[CV] max_features=0.2, min_samples_leaf=5, n_estimators=50 ...........\n",
      "[CV]  max_features=0.2, min_samples_leaf=5, n_estimators=50, score=0.817356, total=  24.9s\n",
      "[CV] max_features=0.2, min_samples_leaf=5, n_estimators=50 ...........\n",
      "[CV]  max_features=0.2, min_samples_leaf=5, n_estimators=50, score=0.819884, total=  25.1s\n",
      "[CV] max_features=0.2, min_samples_leaf=5, n_estimators=50 ...........\n",
      "[CV]  max_features=0.2, min_samples_leaf=5, n_estimators=50, score=0.815272, total=  24.7s\n",
      "[CV] max_features=0.2, min_samples_leaf=5, n_estimators=50 ...........\n",
      "[CV]  max_features=0.2, min_samples_leaf=5, n_estimators=50, score=0.815471, total=  25.0s\n",
      "[CV] max_features=0.2, min_samples_leaf=5, n_estimators=50 ...........\n",
      "[CV]  max_features=0.2, min_samples_leaf=5, n_estimators=50, score=0.816678, total=  24.9s\n",
      "[CV] max_features=0.2, min_samples_leaf=5, n_estimators=50 ...........\n",
      "[CV]  max_features=0.2, min_samples_leaf=5, n_estimators=50, score=0.815843, total=  24.9s\n",
      "[CV] max_features=0.2, min_samples_leaf=5, n_estimators=50 ...........\n",
      "[CV]  max_features=0.2, min_samples_leaf=5, n_estimators=50, score=0.820258, total=  26.6s\n",
      "[CV] max_features=0.2, min_samples_leaf=5, n_estimators=100 ..........\n",
      "[CV]  max_features=0.2, min_samples_leaf=5, n_estimators=100, score=0.818818, total=  49.6s\n",
      "[CV] max_features=0.2, min_samples_leaf=5, n_estimators=100 ..........\n",
      "[CV]  max_features=0.2, min_samples_leaf=5, n_estimators=100, score=0.817279, total=  47.3s\n",
      "[CV] max_features=0.2, min_samples_leaf=5, n_estimators=100 ..........\n",
      "[CV]  max_features=0.2, min_samples_leaf=5, n_estimators=100, score=0.819443, total=  49.0s\n",
      "[CV] max_features=0.2, min_samples_leaf=5, n_estimators=100 ..........\n",
      "[CV]  max_features=0.2, min_samples_leaf=5, n_estimators=100, score=0.817839, total=  47.8s\n",
      "[CV] max_features=0.2, min_samples_leaf=5, n_estimators=100 ..........\n",
      "[CV]  max_features=0.2, min_samples_leaf=5, n_estimators=100, score=0.820136, total=  49.0s\n",
      "[CV] max_features=0.2, min_samples_leaf=5, n_estimators=100 ..........\n",
      "[CV]  max_features=0.2, min_samples_leaf=5, n_estimators=100, score=0.817533, total=  50.4s\n",
      "[CV] max_features=0.2, min_samples_leaf=5, n_estimators=100 ..........\n",
      "[CV]  max_features=0.2, min_samples_leaf=5, n_estimators=100, score=0.816363, total=  47.5s\n",
      "[CV] max_features=0.2, min_samples_leaf=5, n_estimators=100 ..........\n",
      "[CV]  max_features=0.2, min_samples_leaf=5, n_estimators=100, score=0.816496, total=  47.0s\n",
      "[CV] max_features=0.2, min_samples_leaf=5, n_estimators=100 ..........\n",
      "[CV]  max_features=0.2, min_samples_leaf=5, n_estimators=100, score=0.820061, total=  48.1s\n",
      "[CV] max_features=0.2, min_samples_leaf=5, n_estimators=100 ..........\n",
      "[CV]  max_features=0.2, min_samples_leaf=5, n_estimators=100, score=0.820984, total=  48.0s\n",
      "[CV] max_features=0.2, min_samples_leaf=10, n_estimators=50 ..........\n",
      "[CV]  max_features=0.2, min_samples_leaf=10, n_estimators=50, score=0.800907, total=  26.4s\n",
      "[CV] max_features=0.2, min_samples_leaf=10, n_estimators=50 ..........\n",
      "[CV]  max_features=0.2, min_samples_leaf=10, n_estimators=50, score=0.801775, total=  26.3s\n",
      "[CV] max_features=0.2, min_samples_leaf=10, n_estimators=50 ..........\n",
      "[CV]  max_features=0.2, min_samples_leaf=10, n_estimators=50, score=0.803187, total=  25.1s\n",
      "[CV] max_features=0.2, min_samples_leaf=10, n_estimators=50 ..........\n",
      "[CV]  max_features=0.2, min_samples_leaf=10, n_estimators=50, score=0.804058, total=  25.9s\n",
      "[CV] max_features=0.2, min_samples_leaf=10, n_estimators=50 ..........\n",
      "[CV]  max_features=0.2, min_samples_leaf=10, n_estimators=50, score=0.805232, total=  24.8s\n",
      "[CV] max_features=0.2, min_samples_leaf=10, n_estimators=50 ..........\n",
      "[CV]  max_features=0.2, min_samples_leaf=10, n_estimators=50, score=0.801368, total=  24.0s\n",
      "[CV] max_features=0.2, min_samples_leaf=10, n_estimators=50 ..........\n",
      "[CV]  max_features=0.2, min_samples_leaf=10, n_estimators=50, score=0.802166, total=  24.1s\n",
      "[CV] max_features=0.2, min_samples_leaf=10, n_estimators=50 ..........\n",
      "[CV]  max_features=0.2, min_samples_leaf=10, n_estimators=50, score=0.803506, total=  24.1s\n",
      "[CV] max_features=0.2, min_samples_leaf=10, n_estimators=50 ..........\n",
      "[CV]  max_features=0.2, min_samples_leaf=10, n_estimators=50, score=0.801112, total=  24.2s\n",
      "[CV] max_features=0.2, min_samples_leaf=10, n_estimators=50 ..........\n",
      "[CV]  max_features=0.2, min_samples_leaf=10, n_estimators=50, score=0.805290, total=  24.4s\n",
      "[CV] max_features=0.2, min_samples_leaf=10, n_estimators=100 .........\n",
      "[CV]  max_features=0.2, min_samples_leaf=10, n_estimators=100, score=0.804357, total=  45.8s\n",
      "[CV] max_features=0.2, min_samples_leaf=10, n_estimators=100 .........\n",
      "[CV]  max_features=0.2, min_samples_leaf=10, n_estimators=100, score=0.804234, total=  45.9s\n",
      "[CV] max_features=0.2, min_samples_leaf=10, n_estimators=100 .........\n",
      "[CV]  max_features=0.2, min_samples_leaf=10, n_estimators=100, score=0.804193, total=  45.9s\n",
      "[CV] max_features=0.2, min_samples_leaf=10, n_estimators=100 .........\n",
      "[CV]  max_features=0.2, min_samples_leaf=10, n_estimators=100, score=0.801868, total=  45.9s\n",
      "[CV] max_features=0.2, min_samples_leaf=10, n_estimators=100 .........\n",
      "[CV]  max_features=0.2, min_samples_leaf=10, n_estimators=100, score=0.805073, total=  45.6s\n",
      "[CV] max_features=0.2, min_samples_leaf=10, n_estimators=100 .........\n",
      "[CV]  max_features=0.2, min_samples_leaf=10, n_estimators=100, score=0.800729, total=  45.8s\n",
      "[CV] max_features=0.2, min_samples_leaf=10, n_estimators=100 .........\n",
      "[CV]  max_features=0.2, min_samples_leaf=10, n_estimators=100, score=0.804767, total=  45.6s\n",
      "[CV] max_features=0.2, min_samples_leaf=10, n_estimators=100 .........\n",
      "[CV]  max_features=0.2, min_samples_leaf=10, n_estimators=100, score=0.805042, total=  46.0s\n",
      "[CV] max_features=0.2, min_samples_leaf=10, n_estimators=100 .........\n",
      "[CV]  max_features=0.2, min_samples_leaf=10, n_estimators=100, score=0.804882, total=  45.8s\n",
      "[CV] max_features=0.2, min_samples_leaf=10, n_estimators=100 .........\n",
      "[CV]  max_features=0.2, min_samples_leaf=10, n_estimators=100, score=0.806866, total=  45.7s\n",
      "[CV] max_features=0.2, min_samples_leaf=50, n_estimators=50 ..........\n",
      "[CV]  max_features=0.2, min_samples_leaf=50, n_estimators=50, score=0.769518, total=  21.5s\n",
      "[CV] max_features=0.2, min_samples_leaf=50, n_estimators=50 ..........\n",
      "[CV]  max_features=0.2, min_samples_leaf=50, n_estimators=50, score=0.769688, total=  21.4s\n",
      "[CV] max_features=0.2, min_samples_leaf=50, n_estimators=50 ..........\n",
      "[CV]  max_features=0.2, min_samples_leaf=50, n_estimators=50, score=0.771007, total=  21.8s\n",
      "[CV] max_features=0.2, min_samples_leaf=50, n_estimators=50 ..........\n",
      "[CV]  max_features=0.2, min_samples_leaf=50, n_estimators=50, score=0.772477, total=  21.3s\n",
      "[CV] max_features=0.2, min_samples_leaf=50, n_estimators=50 ..........\n",
      "[CV]  max_features=0.2, min_samples_leaf=50, n_estimators=50, score=0.768874, total=  21.6s\n",
      "[CV] max_features=0.2, min_samples_leaf=50, n_estimators=50 ..........\n",
      "[CV]  max_features=0.2, min_samples_leaf=50, n_estimators=50, score=0.764182, total=  21.4s\n",
      "[CV] max_features=0.2, min_samples_leaf=50, n_estimators=50 ..........\n",
      "[CV]  max_features=0.2, min_samples_leaf=50, n_estimators=50, score=0.769818, total=  21.6s\n",
      "[CV] max_features=0.2, min_samples_leaf=50, n_estimators=50 ..........\n",
      "[CV]  max_features=0.2, min_samples_leaf=50, n_estimators=50, score=0.773662, total=  21.6s\n",
      "[CV] max_features=0.2, min_samples_leaf=50, n_estimators=50 ..........\n",
      "[CV]  max_features=0.2, min_samples_leaf=50, n_estimators=50, score=0.768132, total=  21.9s\n",
      "[CV] max_features=0.2, min_samples_leaf=50, n_estimators=50 ..........\n",
      "[CV]  max_features=0.2, min_samples_leaf=50, n_estimators=50, score=0.774597, total=  21.6s\n",
      "[CV] max_features=0.2, min_samples_leaf=50, n_estimators=100 .........\n",
      "[CV]  max_features=0.2, min_samples_leaf=50, n_estimators=100, score=0.770677, total=  40.3s\n",
      "[CV] max_features=0.2, min_samples_leaf=50, n_estimators=100 .........\n",
      "[CV]  max_features=0.2, min_samples_leaf=50, n_estimators=100, score=0.771818, total=  40.4s\n",
      "[CV] max_features=0.2, min_samples_leaf=50, n_estimators=100 .........\n",
      "[CV]  max_features=0.2, min_samples_leaf=50, n_estimators=100, score=0.767322, total=  40.6s\n",
      "[CV] max_features=0.2, min_samples_leaf=50, n_estimators=100 .........\n",
      "[CV]  max_features=0.2, min_samples_leaf=50, n_estimators=100, score=0.773008, total=  40.9s\n",
      "[CV] max_features=0.2, min_samples_leaf=50, n_estimators=100 .........\n",
      "[CV]  max_features=0.2, min_samples_leaf=50, n_estimators=100, score=0.769412, total=  40.5s\n",
      "[CV] max_features=0.2, min_samples_leaf=50, n_estimators=100 .........\n",
      "[CV]  max_features=0.2, min_samples_leaf=50, n_estimators=100, score=0.768126, total=  41.0s\n",
      "[CV] max_features=0.2, min_samples_leaf=50, n_estimators=100 .........\n",
      "[CV]  max_features=0.2, min_samples_leaf=50, n_estimators=100, score=0.770527, total=  40.3s\n",
      "[CV] max_features=0.2, min_samples_leaf=50, n_estimators=100 .........\n",
      "[CV]  max_features=0.2, min_samples_leaf=50, n_estimators=100, score=0.769926, total=  40.6s\n",
      "[CV] max_features=0.2, min_samples_leaf=50, n_estimators=100 .........\n",
      "[CV]  max_features=0.2, min_samples_leaf=50, n_estimators=100, score=0.771033, total=  40.9s\n",
      "[CV] max_features=0.2, min_samples_leaf=50, n_estimators=100 .........\n",
      "[CV]  max_features=0.2, min_samples_leaf=50, n_estimators=100, score=0.772339, total=  40.6s\n",
      "[CV] max_features=0.2, min_samples_leaf=100, n_estimators=50 .........\n",
      "[CV]  max_features=0.2, min_samples_leaf=100, n_estimators=50, score=0.755668, total=  20.0s\n",
      "[CV] max_features=0.2, min_samples_leaf=100, n_estimators=50 .........\n",
      "[CV]  max_features=0.2, min_samples_leaf=100, n_estimators=50, score=0.754290, total=  19.7s\n",
      "[CV] max_features=0.2, min_samples_leaf=100, n_estimators=50 .........\n",
      "[CV]  max_features=0.2, min_samples_leaf=100, n_estimators=50, score=0.757671, total=  19.8s\n",
      "[CV] max_features=0.2, min_samples_leaf=100, n_estimators=50 .........\n",
      "[CV]  max_features=0.2, min_samples_leaf=100, n_estimators=50, score=0.758522, total=  20.0s\n",
      "[CV] max_features=0.2, min_samples_leaf=100, n_estimators=50 .........\n",
      "[CV]  max_features=0.2, min_samples_leaf=100, n_estimators=50, score=0.757174, total=  20.0s\n",
      "[CV] max_features=0.2, min_samples_leaf=100, n_estimators=50 .........\n",
      "[CV]  max_features=0.2, min_samples_leaf=100, n_estimators=50, score=0.755467, total=  19.7s\n",
      "[CV] max_features=0.2, min_samples_leaf=100, n_estimators=50 .........\n",
      "[CV]  max_features=0.2, min_samples_leaf=100, n_estimators=50, score=0.755290, total=  19.9s\n",
      "[CV] max_features=0.2, min_samples_leaf=100, n_estimators=50 .........\n",
      "[CV]  max_features=0.2, min_samples_leaf=100, n_estimators=50, score=0.755762, total=  20.0s\n",
      "[CV] max_features=0.2, min_samples_leaf=100, n_estimators=50 .........\n",
      "[CV]  max_features=0.2, min_samples_leaf=100, n_estimators=50, score=0.756656, total=  20.1s\n",
      "[CV] max_features=0.2, min_samples_leaf=100, n_estimators=50 .........\n",
      "[CV]  max_features=0.2, min_samples_leaf=100, n_estimators=50, score=0.762889, total=  20.2s\n",
      "[CV] max_features=0.2, min_samples_leaf=100, n_estimators=100 ........\n",
      "[CV]  max_features=0.2, min_samples_leaf=100, n_estimators=100, score=0.757252, total=  37.8s\n",
      "[CV] max_features=0.2, min_samples_leaf=100, n_estimators=100 ........\n",
      "[CV]  max_features=0.2, min_samples_leaf=100, n_estimators=100, score=0.757917, total=  37.8s\n",
      "[CV] max_features=0.2, min_samples_leaf=100, n_estimators=100 ........\n",
      "[CV]  max_features=0.2, min_samples_leaf=100, n_estimators=100, score=0.754572, total=  37.5s\n",
      "[CV] max_features=0.2, min_samples_leaf=100, n_estimators=100 ........\n",
      "[CV]  max_features=0.2, min_samples_leaf=100, n_estimators=100, score=0.753713, total=  37.1s\n",
      "[CV] max_features=0.2, min_samples_leaf=100, n_estimators=100 ........\n",
      "[CV]  max_features=0.2, min_samples_leaf=100, n_estimators=100, score=0.759662, total=  37.6s\n",
      "[CV] max_features=0.2, min_samples_leaf=100, n_estimators=100 ........\n",
      "[CV]  max_features=0.2, min_samples_leaf=100, n_estimators=100, score=0.752650, total=  38.0s\n",
      "[CV] max_features=0.2, min_samples_leaf=100, n_estimators=100 ........\n",
      "[CV]  max_features=0.2, min_samples_leaf=100, n_estimators=100, score=0.755101, total=  38.2s\n",
      "[CV] max_features=0.2, min_samples_leaf=100, n_estimators=100 ........\n",
      "[CV]  max_features=0.2, min_samples_leaf=100, n_estimators=100, score=0.755576, total=  37.3s\n",
      "[CV] max_features=0.2, min_samples_leaf=100, n_estimators=100 ........\n",
      "[CV]  max_features=0.2, min_samples_leaf=100, n_estimators=100, score=0.754389, total=  39.5s\n",
      "[CV] max_features=0.2, min_samples_leaf=100, n_estimators=100 ........\n",
      "[CV]  max_features=0.2, min_samples_leaf=100, n_estimators=100, score=0.759494, total=  39.3s\n",
      "[CV] max_features=auto, min_samples_leaf=1, n_estimators=50 ..........\n",
      "[CV]  max_features=auto, min_samples_leaf=1, n_estimators=50, score=0.789098, total=  19.5s\n",
      "[CV] max_features=auto, min_samples_leaf=1, n_estimators=50 ..........\n",
      "[CV]  max_features=auto, min_samples_leaf=1, n_estimators=50, score=0.788866, total=  19.5s\n",
      "[CV] max_features=auto, min_samples_leaf=1, n_estimators=50 ..........\n",
      "[CV]  max_features=auto, min_samples_leaf=1, n_estimators=50, score=0.787423, total=  19.5s\n",
      "[CV] max_features=auto, min_samples_leaf=1, n_estimators=50 ..........\n",
      "[CV]  max_features=auto, min_samples_leaf=1, n_estimators=50, score=0.795968, total=  21.3s\n",
      "[CV] max_features=auto, min_samples_leaf=1, n_estimators=50 ..........\n",
      "[CV]  max_features=auto, min_samples_leaf=1, n_estimators=50, score=0.792870, total=  19.5s\n",
      "[CV] max_features=auto, min_samples_leaf=1, n_estimators=50 ..........\n",
      "[CV]  max_features=auto, min_samples_leaf=1, n_estimators=50, score=0.790485, total=  19.7s\n",
      "[CV] max_features=auto, min_samples_leaf=1, n_estimators=50 ..........\n",
      "[CV]  max_features=auto, min_samples_leaf=1, n_estimators=50, score=0.788405, total=  19.5s\n",
      "[CV] max_features=auto, min_samples_leaf=1, n_estimators=50 ..........\n",
      "[CV]  max_features=auto, min_samples_leaf=1, n_estimators=50, score=0.788646, total=  19.4s\n",
      "[CV] max_features=auto, min_samples_leaf=1, n_estimators=50 ..........\n",
      "[CV]  max_features=auto, min_samples_leaf=1, n_estimators=50, score=0.794184, total=  19.7s\n",
      "[CV] max_features=auto, min_samples_leaf=1, n_estimators=50 ..........\n",
      "[CV]  max_features=auto, min_samples_leaf=1, n_estimators=50, score=0.799055, total=  19.8s\n",
      "[CV] max_features=auto, min_samples_leaf=1, n_estimators=100 .........\n",
      "[CV]  max_features=auto, min_samples_leaf=1, n_estimators=100, score=0.790986, total=  36.8s\n",
      "[CV] max_features=auto, min_samples_leaf=1, n_estimators=100 .........\n",
      "[CV]  max_features=auto, min_samples_leaf=1, n_estimators=100, score=0.794776, total=  36.9s\n",
      "[CV] max_features=auto, min_samples_leaf=1, n_estimators=100 .........\n",
      "[CV]  max_features=auto, min_samples_leaf=1, n_estimators=100, score=0.793107, total=  36.6s\n",
      "[CV] max_features=auto, min_samples_leaf=1, n_estimators=100 .........\n",
      "[CV]  max_features=auto, min_samples_leaf=1, n_estimators=100, score=0.800881, total=  37.4s\n",
      "[CV] max_features=auto, min_samples_leaf=1, n_estimators=100 .........\n",
      "[CV]  max_features=auto, min_samples_leaf=1, n_estimators=100, score=0.796997, total=  36.4s\n",
      "[CV] max_features=auto, min_samples_leaf=1, n_estimators=100 .........\n",
      "[CV]  max_features=auto, min_samples_leaf=1, n_estimators=100, score=0.792283, total=  36.4s\n",
      "[CV] max_features=auto, min_samples_leaf=1, n_estimators=100 .........\n",
      "[CV]  max_features=auto, min_samples_leaf=1, n_estimators=100, score=0.793217, total=  36.6s\n",
      "[CV] max_features=auto, min_samples_leaf=1, n_estimators=100 .........\n",
      "[CV]  max_features=auto, min_samples_leaf=1, n_estimators=100, score=0.793037, total=  36.5s\n",
      "[CV] max_features=auto, min_samples_leaf=1, n_estimators=100 .........\n",
      "[CV]  max_features=auto, min_samples_leaf=1, n_estimators=100, score=0.796703, total=  36.9s\n",
      "[CV] max_features=auto, min_samples_leaf=1, n_estimators=100 .........\n",
      "[CV]  max_features=auto, min_samples_leaf=1, n_estimators=100, score=0.799792, total=  36.7s\n",
      "[CV] max_features=auto, min_samples_leaf=5, n_estimators=50 ..........\n",
      "[CV]  max_features=auto, min_samples_leaf=5, n_estimators=50, score=0.783120, total=  17.6s\n",
      "[CV] max_features=auto, min_samples_leaf=5, n_estimators=50 ..........\n",
      "[CV]  max_features=auto, min_samples_leaf=5, n_estimators=50, score=0.783992, total=  17.7s\n",
      "[CV] max_features=auto, min_samples_leaf=5, n_estimators=50 ..........\n",
      "[CV]  max_features=auto, min_samples_leaf=5, n_estimators=50, score=0.779873, total=  17.6s\n",
      "[CV] max_features=auto, min_samples_leaf=5, n_estimators=50 ..........\n",
      "[CV]  max_features=auto, min_samples_leaf=5, n_estimators=50, score=0.781011, total=  17.8s\n",
      "[CV] max_features=auto, min_samples_leaf=5, n_estimators=50 ..........\n",
      "[CV]  max_features=auto, min_samples_leaf=5, n_estimators=50, score=0.783570, total=  17.7s\n",
      "[CV] max_features=auto, min_samples_leaf=5, n_estimators=50 ..........\n",
      "[CV]  max_features=auto, min_samples_leaf=5, n_estimators=50, score=0.781348, total=  17.7s\n",
      "[CV] max_features=auto, min_samples_leaf=5, n_estimators=50 ..........\n",
      "[CV]  max_features=auto, min_samples_leaf=5, n_estimators=50, score=0.781422, total=  17.5s\n",
      "[CV] max_features=auto, min_samples_leaf=5, n_estimators=50 ..........\n",
      "[CV]  max_features=auto, min_samples_leaf=5, n_estimators=50, score=0.779371, total=  17.7s\n",
      "[CV] max_features=auto, min_samples_leaf=5, n_estimators=50 ..........\n",
      "[CV]  max_features=auto, min_samples_leaf=5, n_estimators=50, score=0.781885, total=  17.7s\n",
      "[CV] max_features=auto, min_samples_leaf=5, n_estimators=50 ..........\n",
      "[CV]  max_features=auto, min_samples_leaf=5, n_estimators=50, score=0.784785, total=  17.8s\n",
      "[CV] max_features=auto, min_samples_leaf=5, n_estimators=100 .........\n",
      "[CV]  max_features=auto, min_samples_leaf=5, n_estimators=100, score=0.784980, total=  33.1s\n",
      "[CV] max_features=auto, min_samples_leaf=5, n_estimators=100 .........\n",
      "[CV]  max_features=auto, min_samples_leaf=5, n_estimators=100, score=0.783797, total=  33.7s\n",
      "[CV] max_features=auto, min_samples_leaf=5, n_estimators=100 .........\n",
      "[CV]  max_features=auto, min_samples_leaf=5, n_estimators=100, score=0.782529, total=  33.6s\n",
      "[CV] max_features=auto, min_samples_leaf=5, n_estimators=100 .........\n",
      "[CV]  max_features=auto, min_samples_leaf=5, n_estimators=100, score=0.783696, total=  33.2s\n",
      "[CV] max_features=auto, min_samples_leaf=5, n_estimators=100 .........\n",
      "[CV]  max_features=auto, min_samples_leaf=5, n_estimators=100, score=0.784284, total=  33.2s\n",
      "[CV] max_features=auto, min_samples_leaf=5, n_estimators=100 .........\n",
      "[CV]  max_features=auto, min_samples_leaf=5, n_estimators=100, score=0.780324, total=  33.7s\n",
      "[CV] max_features=auto, min_samples_leaf=5, n_estimators=100 .........\n",
      "[CV]  max_features=auto, min_samples_leaf=5, n_estimators=100, score=0.783430, total=  33.8s\n",
      "[CV] max_features=auto, min_samples_leaf=5, n_estimators=100 .........\n",
      "[CV]  max_features=auto, min_samples_leaf=5, n_estimators=100, score=0.782262, total=  33.6s\n",
      "[CV] max_features=auto, min_samples_leaf=5, n_estimators=100 .........\n",
      "[CV]  max_features=auto, min_samples_leaf=5, n_estimators=100, score=0.782120, total=  33.7s\n",
      "[CV] max_features=auto, min_samples_leaf=5, n_estimators=100 .........\n",
      "[CV]  max_features=auto, min_samples_leaf=5, n_estimators=100, score=0.788233, total=  33.8s\n",
      "[CV] max_features=auto, min_samples_leaf=10, n_estimators=50 .........\n",
      "[CV]  max_features=auto, min_samples_leaf=10, n_estimators=50, score=0.769439, total=  17.6s\n",
      "[CV] max_features=auto, min_samples_leaf=10, n_estimators=50 .........\n",
      "[CV]  max_features=auto, min_samples_leaf=10, n_estimators=50, score=0.768168, total=  17.3s\n",
      "[CV] max_features=auto, min_samples_leaf=10, n_estimators=50 .........\n",
      "[CV]  max_features=auto, min_samples_leaf=10, n_estimators=50, score=0.766856, total=  17.5s\n",
      "[CV] max_features=auto, min_samples_leaf=10, n_estimators=50 .........\n",
      "[CV]  max_features=auto, min_samples_leaf=10, n_estimators=50, score=0.768766, total=  17.1s\n",
      "[CV] max_features=auto, min_samples_leaf=10, n_estimators=50 .........\n",
      "[CV]  max_features=auto, min_samples_leaf=10, n_estimators=50, score=0.770849, total=  17.5s\n",
      "[CV] max_features=auto, min_samples_leaf=10, n_estimators=50 .........\n",
      "[CV]  max_features=auto, min_samples_leaf=10, n_estimators=50, score=0.764690, total=  17.6s\n",
      "[CV] max_features=auto, min_samples_leaf=10, n_estimators=50 .........\n",
      "[CV]  max_features=auto, min_samples_leaf=10, n_estimators=50, score=0.768509, total=  17.4s\n",
      "[CV] max_features=auto, min_samples_leaf=10, n_estimators=50 .........\n",
      "[CV]  max_features=auto, min_samples_leaf=10, n_estimators=50, score=0.766785, total=  17.6s\n",
      "[CV] max_features=auto, min_samples_leaf=10, n_estimators=50 .........\n",
      "[CV]  max_features=auto, min_samples_leaf=10, n_estimators=50, score=0.764005, total=  17.3s\n",
      "[CV] max_features=auto, min_samples_leaf=10, n_estimators=50 .........\n",
      "[CV]  max_features=auto, min_samples_leaf=10, n_estimators=50, score=0.770149, total=  17.0s\n",
      "[CV] max_features=auto, min_samples_leaf=10, n_estimators=100 ........\n",
      "[CV]  max_features=auto, min_samples_leaf=10, n_estimators=100, score=0.768979, total=  32.3s\n",
      "[CV] max_features=auto, min_samples_leaf=10, n_estimators=100 ........\n",
      "[CV]  max_features=auto, min_samples_leaf=10, n_estimators=100, score=0.768879, total=  32.3s\n",
      "[CV] max_features=auto, min_samples_leaf=10, n_estimators=100 ........\n",
      "[CV]  max_features=auto, min_samples_leaf=10, n_estimators=100, score=0.765228, total=  32.0s\n",
      "[CV] max_features=auto, min_samples_leaf=10, n_estimators=100 ........\n",
      "[CV]  max_features=auto, min_samples_leaf=10, n_estimators=100, score=0.772892, total=  32.2s\n",
      "[CV] max_features=auto, min_samples_leaf=10, n_estimators=100 ........\n",
      "[CV]  max_features=auto, min_samples_leaf=10, n_estimators=100, score=0.770867, total=  32.3s\n",
      "[CV] max_features=auto, min_samples_leaf=10, n_estimators=100 ........\n",
      "[CV]  max_features=auto, min_samples_leaf=10, n_estimators=100, score=0.764870, total=  31.9s\n",
      "[CV] max_features=auto, min_samples_leaf=10, n_estimators=100 ........\n",
      "[CV]  max_features=auto, min_samples_leaf=10, n_estimators=100, score=0.769338, total=  32.0s\n",
      "[CV] max_features=auto, min_samples_leaf=10, n_estimators=100 ........\n",
      "[CV]  max_features=auto, min_samples_leaf=10, n_estimators=100, score=0.768186, total=  31.7s\n",
      "[CV] max_features=auto, min_samples_leaf=10, n_estimators=100 ........\n",
      "[CV]  max_features=auto, min_samples_leaf=10, n_estimators=100, score=0.768146, total=  32.0s\n",
      "[CV] max_features=auto, min_samples_leaf=10, n_estimators=100 ........\n",
      "[CV]  max_features=auto, min_samples_leaf=10, n_estimators=100, score=0.774549, total=  32.4s\n",
      "[CV] max_features=auto, min_samples_leaf=50, n_estimators=50 .........\n",
      "[CV]  max_features=auto, min_samples_leaf=50, n_estimators=50, score=0.740047, total=  14.9s\n",
      "[CV] max_features=auto, min_samples_leaf=50, n_estimators=50 .........\n",
      "[CV]  max_features=auto, min_samples_leaf=50, n_estimators=50, score=0.741324, total=  15.1s\n",
      "[CV] max_features=auto, min_samples_leaf=50, n_estimators=50 .........\n",
      "[CV]  max_features=auto, min_samples_leaf=50, n_estimators=50, score=0.737553, total=  15.1s\n",
      "[CV] max_features=auto, min_samples_leaf=50, n_estimators=50 .........\n",
      "[CV]  max_features=auto, min_samples_leaf=50, n_estimators=50, score=0.740671, total=  14.8s\n",
      "[CV] max_features=auto, min_samples_leaf=50, n_estimators=50 .........\n",
      "[CV]  max_features=auto, min_samples_leaf=50, n_estimators=50, score=0.743030, total=  15.0s\n",
      "[CV] max_features=auto, min_samples_leaf=50, n_estimators=50 .........\n",
      "[CV]  max_features=auto, min_samples_leaf=50, n_estimators=50, score=0.735385, total=  14.9s\n",
      "[CV] max_features=auto, min_samples_leaf=50, n_estimators=50 .........\n",
      "[CV]  max_features=auto, min_samples_leaf=50, n_estimators=50, score=0.740025, total=  15.0s\n",
      "[CV] max_features=auto, min_samples_leaf=50, n_estimators=50 .........\n",
      "[CV]  max_features=auto, min_samples_leaf=50, n_estimators=50, score=0.737681, total=  15.0s\n",
      "[CV] max_features=auto, min_samples_leaf=50, n_estimators=50 .........\n",
      "[CV]  max_features=auto, min_samples_leaf=50, n_estimators=50, score=0.739486, total=  15.2s\n",
      "[CV] max_features=auto, min_samples_leaf=50, n_estimators=50 .........\n",
      "[CV]  max_features=auto, min_samples_leaf=50, n_estimators=50, score=0.744797, total=  14.7s\n",
      "[CV] max_features=auto, min_samples_leaf=50, n_estimators=100 ........\n",
      "[CV]  max_features=auto, min_samples_leaf=50, n_estimators=100, score=0.738954, total=  27.8s\n",
      "[CV] max_features=auto, min_samples_leaf=50, n_estimators=100 ........\n",
      "[CV]  max_features=auto, min_samples_leaf=50, n_estimators=100, score=0.739773, total=  27.9s\n",
      "[CV] max_features=auto, min_samples_leaf=50, n_estimators=100 ........\n",
      "[CV]  max_features=auto, min_samples_leaf=50, n_estimators=100, score=0.735560, total=  27.6s\n",
      "[CV] max_features=auto, min_samples_leaf=50, n_estimators=100 ........\n",
      "[CV]  max_features=auto, min_samples_leaf=50, n_estimators=100, score=0.742340, total=  27.6s\n",
      "[CV] max_features=auto, min_samples_leaf=50, n_estimators=100 ........\n",
      "[CV]  max_features=auto, min_samples_leaf=50, n_estimators=100, score=0.742162, total=  28.1s\n",
      "[CV] max_features=auto, min_samples_leaf=50, n_estimators=100 ........\n",
      "[CV]  max_features=auto, min_samples_leaf=50, n_estimators=100, score=0.738863, total=  27.7s\n",
      "[CV] max_features=auto, min_samples_leaf=50, n_estimators=100 ........\n",
      "[CV]  max_features=auto, min_samples_leaf=50, n_estimators=100, score=0.734241, total=  27.8s\n",
      "[CV] max_features=auto, min_samples_leaf=50, n_estimators=100 ........\n",
      "[CV]  max_features=auto, min_samples_leaf=50, n_estimators=100, score=0.736163, total=  27.8s\n",
      "[CV] max_features=auto, min_samples_leaf=50, n_estimators=100 ........\n",
      "[CV]  max_features=auto, min_samples_leaf=50, n_estimators=100, score=0.737120, total=  27.6s\n",
      "[CV] max_features=auto, min_samples_leaf=50, n_estimators=100 ........\n",
      "[CV]  max_features=auto, min_samples_leaf=50, n_estimators=100, score=0.742413, total=  27.4s\n",
      "[CV] max_features=auto, min_samples_leaf=100, n_estimators=50 ........\n",
      "[CV]  max_features=auto, min_samples_leaf=100, n_estimators=50, score=0.725851, total=  13.9s\n",
      "[CV] max_features=auto, min_samples_leaf=100, n_estimators=50 ........\n",
      "[CV]  max_features=auto, min_samples_leaf=100, n_estimators=50, score=0.728177, total=  13.6s\n",
      "[CV] max_features=auto, min_samples_leaf=100, n_estimators=50 ........\n",
      "[CV]  max_features=auto, min_samples_leaf=100, n_estimators=50, score=0.718878, total=  13.7s\n",
      "[CV] max_features=auto, min_samples_leaf=100, n_estimators=50 ........\n",
      "[CV]  max_features=auto, min_samples_leaf=100, n_estimators=50, score=0.730811, total=  13.8s\n",
      "[CV] max_features=auto, min_samples_leaf=100, n_estimators=50 ........\n",
      "[CV]  max_features=auto, min_samples_leaf=100, n_estimators=50, score=0.726632, total=  13.6s\n",
      "[CV] max_features=auto, min_samples_leaf=100, n_estimators=50 ........\n",
      "[CV]  max_features=auto, min_samples_leaf=100, n_estimators=50, score=0.722619, total=  13.8s\n",
      "[CV] max_features=auto, min_samples_leaf=100, n_estimators=50 ........\n",
      "[CV]  max_features=auto, min_samples_leaf=100, n_estimators=50, score=0.729186, total=  13.6s\n",
      "[CV] max_features=auto, min_samples_leaf=100, n_estimators=50 ........\n",
      "[CV]  max_features=auto, min_samples_leaf=100, n_estimators=50, score=0.722838, total=  13.7s\n",
      "[CV] max_features=auto, min_samples_leaf=100, n_estimators=50 ........\n",
      "[CV]  max_features=auto, min_samples_leaf=100, n_estimators=50, score=0.726272, total=  13.7s\n",
      "[CV] max_features=auto, min_samples_leaf=100, n_estimators=50 ........\n",
      "[CV]  max_features=auto, min_samples_leaf=100, n_estimators=50, score=0.728198, total=  13.7s\n",
      "[CV] max_features=auto, min_samples_leaf=100, n_estimators=100 .......\n",
      "[CV]  max_features=auto, min_samples_leaf=100, n_estimators=100, score=0.730429, total=  25.6s\n",
      "[CV] max_features=auto, min_samples_leaf=100, n_estimators=100 .......\n",
      "[CV]  max_features=auto, min_samples_leaf=100, n_estimators=100, score=0.726787, total=  25.6s\n",
      "[CV] max_features=auto, min_samples_leaf=100, n_estimators=100 .......\n",
      "[CV]  max_features=auto, min_samples_leaf=100, n_estimators=100, score=0.722395, total=  25.4s\n",
      "[CV] max_features=auto, min_samples_leaf=100, n_estimators=100 .......\n",
      "[CV]  max_features=auto, min_samples_leaf=100, n_estimators=100, score=0.730147, total=  25.7s\n",
      "[CV] max_features=auto, min_samples_leaf=100, n_estimators=100 .......\n",
      "[CV]  max_features=auto, min_samples_leaf=100, n_estimators=100, score=0.725049, total=  25.6s\n",
      "[CV] max_features=auto, min_samples_leaf=100, n_estimators=100 .......\n",
      "[CV]  max_features=auto, min_samples_leaf=100, n_estimators=100, score=0.724255, total=  25.6s\n",
      "[CV] max_features=auto, min_samples_leaf=100, n_estimators=100 .......\n",
      "[CV]  max_features=auto, min_samples_leaf=100, n_estimators=100, score=0.725910, total=  25.7s\n",
      "[CV] max_features=auto, min_samples_leaf=100, n_estimators=100 .......\n",
      "[CV]  max_features=auto, min_samples_leaf=100, n_estimators=100, score=0.724809, total=  25.3s\n",
      "[CV] max_features=auto, min_samples_leaf=100, n_estimators=100 .......\n",
      "[CV]  max_features=auto, min_samples_leaf=100, n_estimators=100, score=0.723996, total=  25.8s\n",
      "[CV] max_features=auto, min_samples_leaf=100, n_estimators=100 .......\n",
      "[CV]  max_features=auto, min_samples_leaf=100, n_estimators=100, score=0.731742, total=  25.4s\n",
      "[CV] max_features=log2, min_samples_leaf=1, n_estimators=50 ..........\n",
      "[CV]  max_features=log2, min_samples_leaf=1, n_estimators=50, score=0.771579, total=  17.6s\n",
      "[CV] max_features=log2, min_samples_leaf=1, n_estimators=50 ..........\n",
      "[CV]  max_features=log2, min_samples_leaf=1, n_estimators=50, score=0.775592, total=  18.0s\n",
      "[CV] max_features=log2, min_samples_leaf=1, n_estimators=50 ..........\n",
      "[CV]  max_features=log2, min_samples_leaf=1, n_estimators=50, score=0.771046, total=  17.9s\n",
      "[CV] max_features=log2, min_samples_leaf=1, n_estimators=50 ..........\n",
      "[CV]  max_features=log2, min_samples_leaf=1, n_estimators=50, score=0.776629, total=  17.5s\n",
      "[CV] max_features=log2, min_samples_leaf=1, n_estimators=50 ..........\n",
      "[CV]  max_features=log2, min_samples_leaf=1, n_estimators=50, score=0.775401, total=  18.0s\n",
      "[CV] max_features=log2, min_samples_leaf=1, n_estimators=50 ..........\n",
      "[CV]  max_features=log2, min_samples_leaf=1, n_estimators=50, score=0.770999, total=  17.8s\n",
      "[CV] max_features=log2, min_samples_leaf=1, n_estimators=50 ..........\n",
      "[CV]  max_features=log2, min_samples_leaf=1, n_estimators=50, score=0.772879, total=  17.6s\n",
      "[CV] max_features=log2, min_samples_leaf=1, n_estimators=50 ..........\n",
      "[CV]  max_features=log2, min_samples_leaf=1, n_estimators=50, score=0.769371, total=  17.6s\n",
      "[CV] max_features=log2, min_samples_leaf=1, n_estimators=50 ..........\n",
      "[CV]  max_features=log2, min_samples_leaf=1, n_estimators=50, score=0.775044, total=  18.1s\n",
      "[CV] max_features=log2, min_samples_leaf=1, n_estimators=50 ..........\n",
      "[CV]  max_features=log2, min_samples_leaf=1, n_estimators=50, score=0.778135, total=  17.9s\n",
      "[CV] max_features=log2, min_samples_leaf=1, n_estimators=100 .........\n",
      "[CV]  max_features=log2, min_samples_leaf=1, n_estimators=100, score=0.771247, total=  33.3s\n",
      "[CV] max_features=log2, min_samples_leaf=1, n_estimators=100 .........\n",
      "[CV]  max_features=log2, min_samples_leaf=1, n_estimators=100, score=0.775368, total=  33.5s\n",
      "[CV] max_features=log2, min_samples_leaf=1, n_estimators=100 .........\n",
      "[CV]  max_features=log2, min_samples_leaf=1, n_estimators=100, score=0.772690, total=  33.5s\n",
      "[CV] max_features=log2, min_samples_leaf=1, n_estimators=100 .........\n",
      "[CV]  max_features=log2, min_samples_leaf=1, n_estimators=100, score=0.780105, total=  33.2s\n",
      "[CV] max_features=log2, min_samples_leaf=1, n_estimators=100 .........\n",
      "[CV]  max_features=log2, min_samples_leaf=1, n_estimators=100, score=0.779768, total=  33.3s\n",
      "[CV] max_features=log2, min_samples_leaf=1, n_estimators=100 .........\n",
      "[CV]  max_features=log2, min_samples_leaf=1, n_estimators=100, score=0.773055, total=  33.6s\n",
      "[CV] max_features=log2, min_samples_leaf=1, n_estimators=100 .........\n",
      "[CV]  max_features=log2, min_samples_leaf=1, n_estimators=100, score=0.777239, total=  33.5s\n",
      "[CV] max_features=log2, min_samples_leaf=1, n_estimators=100 .........\n",
      "[CV]  max_features=log2, min_samples_leaf=1, n_estimators=100, score=0.775233, total=  33.5s\n",
      "[CV] max_features=log2, min_samples_leaf=1, n_estimators=100 .........\n",
      "[CV]  max_features=log2, min_samples_leaf=1, n_estimators=100, score=0.780794, total=  33.5s\n",
      "[CV] max_features=log2, min_samples_leaf=1, n_estimators=100 .........\n",
      "[CV]  max_features=log2, min_samples_leaf=1, n_estimators=100, score=0.778619, total=  33.7s\n",
      "[CV] max_features=log2, min_samples_leaf=5, n_estimators=50 ..........\n",
      "[CV]  max_features=log2, min_samples_leaf=5, n_estimators=50, score=0.768995, total=  15.5s\n",
      "[CV] max_features=log2, min_samples_leaf=5, n_estimators=50 ..........\n",
      "[CV]  max_features=log2, min_samples_leaf=5, n_estimators=50, score=0.767427, total=  15.6s\n",
      "[CV] max_features=log2, min_samples_leaf=5, n_estimators=50 ..........\n",
      "[CV]  max_features=log2, min_samples_leaf=5, n_estimators=50, score=0.766644, total=  15.5s\n",
      "[CV] max_features=log2, min_samples_leaf=5, n_estimators=50 ..........\n",
      "[CV]  max_features=log2, min_samples_leaf=5, n_estimators=50, score=0.769722, total=  15.6s\n",
      "[CV] max_features=log2, min_samples_leaf=5, n_estimators=50 ..........\n",
      "[CV]  max_features=log2, min_samples_leaf=5, n_estimators=50, score=0.769759, total=  15.8s\n",
      "[CV] max_features=log2, min_samples_leaf=5, n_estimators=50 ..........\n",
      "[CV]  max_features=log2, min_samples_leaf=5, n_estimators=50, score=0.763332, total=  15.6s\n",
      "[CV] max_features=log2, min_samples_leaf=5, n_estimators=50 ..........\n",
      "[CV]  max_features=log2, min_samples_leaf=5, n_estimators=50, score=0.764882, total=  15.8s\n",
      "[CV] max_features=log2, min_samples_leaf=5, n_estimators=50 ..........\n",
      "[CV]  max_features=log2, min_samples_leaf=5, n_estimators=50, score=0.765765, total=  15.7s\n",
      "[CV] max_features=log2, min_samples_leaf=5, n_estimators=50 ..........\n",
      "[CV]  max_features=log2, min_samples_leaf=5, n_estimators=50, score=0.769328, total=  15.6s\n",
      "[CV] max_features=log2, min_samples_leaf=5, n_estimators=50 ..........\n",
      "[CV]  max_features=log2, min_samples_leaf=5, n_estimators=50, score=0.771504, total=  15.5s\n",
      "[CV] max_features=log2, min_samples_leaf=5, n_estimators=100 .........\n",
      "[CV]  max_features=log2, min_samples_leaf=5, n_estimators=100, score=0.769772, total=  29.2s\n",
      "[CV] max_features=log2, min_samples_leaf=5, n_estimators=100 .........\n",
      "[CV]  max_features=log2, min_samples_leaf=5, n_estimators=100, score=0.769255, total=  29.0s\n",
      "[CV] max_features=log2, min_samples_leaf=5, n_estimators=100 .........\n",
      "[CV]  max_features=log2, min_samples_leaf=5, n_estimators=100, score=0.767928, total=  29.2s\n",
      "[CV] max_features=log2, min_samples_leaf=5, n_estimators=100 .........\n",
      "[CV]  max_features=log2, min_samples_leaf=5, n_estimators=100, score=0.772906, total=  29.1s\n",
      "[CV] max_features=log2, min_samples_leaf=5, n_estimators=100 .........\n",
      "[CV]  max_features=log2, min_samples_leaf=5, n_estimators=100, score=0.771267, total=  29.0s\n",
      "[CV] max_features=log2, min_samples_leaf=5, n_estimators=100 .........\n",
      "[CV]  max_features=log2, min_samples_leaf=5, n_estimators=100, score=0.767797, total=  29.4s\n",
      "[CV] max_features=log2, min_samples_leaf=5, n_estimators=100 .........\n",
      "[CV]  max_features=log2, min_samples_leaf=5, n_estimators=100, score=0.766453, total=  28.9s\n",
      "[CV] max_features=log2, min_samples_leaf=5, n_estimators=100 .........\n",
      "[CV]  max_features=log2, min_samples_leaf=5, n_estimators=100, score=0.766503, total=  29.4s\n",
      "[CV] max_features=log2, min_samples_leaf=5, n_estimators=100 .........\n",
      "[CV]  max_features=log2, min_samples_leaf=5, n_estimators=100, score=0.768855, total=  29.8s\n",
      "[CV] max_features=log2, min_samples_leaf=5, n_estimators=100 .........\n",
      "[CV]  max_features=log2, min_samples_leaf=5, n_estimators=100, score=0.774380, total=  29.1s\n",
      "[CV] max_features=log2, min_samples_leaf=10, n_estimators=50 .........\n",
      "[CV]  max_features=log2, min_samples_leaf=10, n_estimators=50, score=0.755976, total=  15.0s\n",
      "[CV] max_features=log2, min_samples_leaf=10, n_estimators=50 .........\n",
      "[CV]  max_features=log2, min_samples_leaf=10, n_estimators=50, score=0.755101, total=  14.9s\n",
      "[CV] max_features=log2, min_samples_leaf=10, n_estimators=50 .........\n",
      "[CV]  max_features=log2, min_samples_leaf=10, n_estimators=50, score=0.753091, total=  15.0s\n",
      "[CV] max_features=log2, min_samples_leaf=10, n_estimators=50 .........\n",
      "[CV]  max_features=log2, min_samples_leaf=10, n_estimators=50, score=0.756435, total=  14.9s\n",
      "[CV] max_features=log2, min_samples_leaf=10, n_estimators=50 .........\n",
      "[CV]  max_features=log2, min_samples_leaf=10, n_estimators=50, score=0.758527, total=  14.9s\n",
      "[CV] max_features=log2, min_samples_leaf=10, n_estimators=50 .........\n",
      "[CV]  max_features=log2, min_samples_leaf=10, n_estimators=50, score=0.755038, total=  14.8s\n",
      "[CV] max_features=log2, min_samples_leaf=10, n_estimators=50 .........\n",
      "[CV]  max_features=log2, min_samples_leaf=10, n_estimators=50, score=0.751448, total=  15.0s\n",
      "[CV] max_features=log2, min_samples_leaf=10, n_estimators=50 .........\n",
      "[CV]  max_features=log2, min_samples_leaf=10, n_estimators=50, score=0.752280, total=  15.0s\n",
      "[CV] max_features=log2, min_samples_leaf=10, n_estimators=50 .........\n",
      "[CV]  max_features=log2, min_samples_leaf=10, n_estimators=50, score=0.754810, total=  15.6s\n",
      "[CV] max_features=log2, min_samples_leaf=10, n_estimators=50 .........\n",
      "[CV]  max_features=log2, min_samples_leaf=10, n_estimators=50, score=0.756131, total=  14.8s\n",
      "[CV] max_features=log2, min_samples_leaf=10, n_estimators=100 ........\n",
      "[CV]  max_features=log2, min_samples_leaf=10, n_estimators=100, score=0.755609, total=  27.8s\n",
      "[CV] max_features=log2, min_samples_leaf=10, n_estimators=100 ........\n",
      "[CV]  max_features=log2, min_samples_leaf=10, n_estimators=100, score=0.754311, total=  27.6s\n",
      "[CV] max_features=log2, min_samples_leaf=10, n_estimators=100 ........\n",
      "[CV]  max_features=log2, min_samples_leaf=10, n_estimators=100, score=0.752564, total=  27.7s\n",
      "[CV] max_features=log2, min_samples_leaf=10, n_estimators=100 ........\n",
      "[CV]  max_features=log2, min_samples_leaf=10, n_estimators=100, score=0.758199, total=  27.9s\n",
      "[CV] max_features=log2, min_samples_leaf=10, n_estimators=100 ........\n",
      "[CV]  max_features=log2, min_samples_leaf=10, n_estimators=100, score=0.757394, total=  27.8s\n",
      "[CV] max_features=log2, min_samples_leaf=10, n_estimators=100 ........\n",
      "[CV]  max_features=log2, min_samples_leaf=10, n_estimators=100, score=0.751990, total=  27.7s\n",
      "[CV] max_features=log2, min_samples_leaf=10, n_estimators=100 ........\n",
      "[CV]  max_features=log2, min_samples_leaf=10, n_estimators=100, score=0.755707, total=  27.8s\n",
      "[CV] max_features=log2, min_samples_leaf=10, n_estimators=100 ........\n",
      "[CV]  max_features=log2, min_samples_leaf=10, n_estimators=100, score=0.752494, total=  27.8s\n",
      "[CV] max_features=log2, min_samples_leaf=10, n_estimators=100 ........\n",
      "[CV]  max_features=log2, min_samples_leaf=10, n_estimators=100, score=0.755277, total=  27.9s\n",
      "[CV] max_features=log2, min_samples_leaf=10, n_estimators=100 ........\n",
      "[CV]  max_features=log2, min_samples_leaf=10, n_estimators=100, score=0.761908, total=  27.6s\n",
      "[CV] max_features=log2, min_samples_leaf=50, n_estimators=50 .........\n",
      "[CV]  max_features=log2, min_samples_leaf=50, n_estimators=50, score=0.725067, total=  12.7s\n",
      "[CV] max_features=log2, min_samples_leaf=50, n_estimators=50 .........\n",
      "[CV]  max_features=log2, min_samples_leaf=50, n_estimators=50, score=0.726513, total=  12.9s\n",
      "[CV] max_features=log2, min_samples_leaf=50, n_estimators=50 .........\n",
      "[CV]  max_features=log2, min_samples_leaf=50, n_estimators=50, score=0.723438, total=  12.9s\n",
      "[CV] max_features=log2, min_samples_leaf=50, n_estimators=50 .........\n",
      "[CV]  max_features=log2, min_samples_leaf=50, n_estimators=50, score=0.724138, total=  13.1s\n",
      "[CV] max_features=log2, min_samples_leaf=50, n_estimators=50 .........\n",
      "[CV]  max_features=log2, min_samples_leaf=50, n_estimators=50, score=0.725614, total=  13.1s\n",
      "[CV] max_features=log2, min_samples_leaf=50, n_estimators=50 .........\n",
      "[CV]  max_features=log2, min_samples_leaf=50, n_estimators=50, score=0.723401, total=  13.2s\n",
      "[CV] max_features=log2, min_samples_leaf=50, n_estimators=50 .........\n",
      "[CV]  max_features=log2, min_samples_leaf=50, n_estimators=50, score=0.722531, total=  12.9s\n",
      "[CV] max_features=log2, min_samples_leaf=50, n_estimators=50 .........\n",
      "[CV]  max_features=log2, min_samples_leaf=50, n_estimators=50, score=0.718260, total=  12.9s\n",
      "[CV] max_features=log2, min_samples_leaf=50, n_estimators=50 .........\n",
      "[CV]  max_features=log2, min_samples_leaf=50, n_estimators=50, score=0.717949, total=  13.0s\n",
      "[CV] max_features=log2, min_samples_leaf=50, n_estimators=50 .........\n",
      "[CV]  max_features=log2, min_samples_leaf=50, n_estimators=50, score=0.724194, total=  13.1s\n",
      "[CV] max_features=log2, min_samples_leaf=50, n_estimators=100 ........\n",
      "[CV]  max_features=log2, min_samples_leaf=50, n_estimators=100, score=0.724772, total=  23.9s\n",
      "[CV] max_features=log2, min_samples_leaf=50, n_estimators=100 ........\n",
      "[CV]  max_features=log2, min_samples_leaf=50, n_estimators=100, score=0.723723, total=  23.9s\n",
      "[CV] max_features=log2, min_samples_leaf=50, n_estimators=100 ........\n",
      "[CV]  max_features=log2, min_samples_leaf=50, n_estimators=100, score=0.723406, total=  24.0s\n",
      "[CV] max_features=log2, min_samples_leaf=50, n_estimators=100 ........\n",
      "[CV]  max_features=log2, min_samples_leaf=50, n_estimators=100, score=0.728705, total=  24.1s\n",
      "[CV] max_features=log2, min_samples_leaf=50, n_estimators=100 ........\n",
      "[CV]  max_features=log2, min_samples_leaf=50, n_estimators=100, score=0.725271, total=  24.0s\n",
      "[CV] max_features=log2, min_samples_leaf=50, n_estimators=100 ........\n",
      "[CV]  max_features=log2, min_samples_leaf=50, n_estimators=100, score=0.720827, total=  23.8s\n",
      "[CV] max_features=log2, min_samples_leaf=50, n_estimators=100 ........\n",
      "[CV]  max_features=log2, min_samples_leaf=50, n_estimators=100, score=0.721981, total=  24.0s\n",
      "[CV] max_features=log2, min_samples_leaf=50, n_estimators=100 ........\n",
      "[CV]  max_features=log2, min_samples_leaf=50, n_estimators=100, score=0.724429, total=  24.0s\n",
      "[CV] max_features=log2, min_samples_leaf=50, n_estimators=100 ........\n",
      "[CV]  max_features=log2, min_samples_leaf=50, n_estimators=100, score=0.722022, total=  24.1s\n",
      "[CV] max_features=log2, min_samples_leaf=50, n_estimators=100 ........\n",
      "[CV]  max_features=log2, min_samples_leaf=50, n_estimators=100, score=0.729810, total=  24.0s\n",
      "[CV] max_features=log2, min_samples_leaf=100, n_estimators=50 ........\n",
      "[CV]  max_features=log2, min_samples_leaf=100, n_estimators=50, score=0.717261, total=  12.1s\n",
      "[CV] max_features=log2, min_samples_leaf=100, n_estimators=50 ........\n",
      "[CV]  max_features=log2, min_samples_leaf=100, n_estimators=50, score=0.715291, total=  11.7s\n",
      "[CV] max_features=log2, min_samples_leaf=100, n_estimators=50 ........\n",
      "[CV]  max_features=log2, min_samples_leaf=100, n_estimators=50, score=0.712228, total=  12.1s\n",
      "[CV] max_features=log2, min_samples_leaf=100, n_estimators=50 ........\n",
      "[CV]  max_features=log2, min_samples_leaf=100, n_estimators=50, score=0.704463, total=  11.9s\n",
      "[CV] max_features=log2, min_samples_leaf=100, n_estimators=50 ........\n",
      "[CV]  max_features=log2, min_samples_leaf=100, n_estimators=50, score=0.706415, total=  11.9s\n",
      "[CV] max_features=log2, min_samples_leaf=100, n_estimators=50 ........\n",
      "[CV]  max_features=log2, min_samples_leaf=100, n_estimators=50, score=0.703549, total=  11.9s\n",
      "[CV] max_features=log2, min_samples_leaf=100, n_estimators=50 ........\n",
      "[CV]  max_features=log2, min_samples_leaf=100, n_estimators=50, score=0.711116, total=  12.0s\n",
      "[CV] max_features=log2, min_samples_leaf=100, n_estimators=50 ........\n",
      "[CV]  max_features=log2, min_samples_leaf=100, n_estimators=50, score=0.703142, total=  12.0s\n",
      "[CV] max_features=log2, min_samples_leaf=100, n_estimators=50 ........\n",
      "[CV]  max_features=log2, min_samples_leaf=100, n_estimators=50, score=0.706257, total=  12.1s\n",
      "[CV] max_features=log2, min_samples_leaf=100, n_estimators=50 ........\n",
      "[CV]  max_features=log2, min_samples_leaf=100, n_estimators=50, score=0.710932, total=  12.2s\n",
      "[CV] max_features=log2, min_samples_leaf=100, n_estimators=100 .......\n",
      "[CV]  max_features=log2, min_samples_leaf=100, n_estimators=100, score=0.713746, total=  22.1s\n",
      "[CV] max_features=log2, min_samples_leaf=100, n_estimators=100 .......\n",
      "[CV]  max_features=log2, min_samples_leaf=100, n_estimators=100, score=0.708931, total=  21.8s\n",
      "[CV] max_features=log2, min_samples_leaf=100, n_estimators=100 .......\n",
      "[CV]  max_features=log2, min_samples_leaf=100, n_estimators=100, score=0.703739, total=  22.2s\n",
      "[CV] max_features=log2, min_samples_leaf=100, n_estimators=100 .......\n",
      "[CV]  max_features=log2, min_samples_leaf=100, n_estimators=100, score=0.708230, total=  21.9s\n",
      "[CV] max_features=log2, min_samples_leaf=100, n_estimators=100 .......\n",
      "[CV]  max_features=log2, min_samples_leaf=100, n_estimators=100, score=0.707451, total=  22.0s\n",
      "[CV] max_features=log2, min_samples_leaf=100, n_estimators=100 .......\n",
      "[CV]  max_features=log2, min_samples_leaf=100, n_estimators=100, score=0.705157, total=  22.1s\n",
      "[CV] max_features=log2, min_samples_leaf=100, n_estimators=100 .......\n",
      "[CV]  max_features=log2, min_samples_leaf=100, n_estimators=100, score=0.709115, total=  22.1s\n",
      "[CV] max_features=log2, min_samples_leaf=100, n_estimators=100 .......\n",
      "[CV]  max_features=log2, min_samples_leaf=100, n_estimators=100, score=0.704891, total=  22.1s\n",
      "[CV] max_features=log2, min_samples_leaf=100, n_estimators=100 .......\n",
      "[CV]  max_features=log2, min_samples_leaf=100, n_estimators=100, score=0.706719, total=  22.1s\n",
      "[CV] max_features=log2, min_samples_leaf=100, n_estimators=100 .......\n",
      "[CV]  max_features=log2, min_samples_leaf=100, n_estimators=100, score=0.714761, total=  22.2s\n"
     ]
    },
    {
     "name": "stderr",
     "output_type": "stream",
     "text": [
      "[Parallel(n_jobs=1)]: Done 300 out of 300 | elapsed: 148.4min finished\n"
     ]
    },
    {
     "data": {
      "text/plain": [
       "GridSearchCV(cv=10, error_score='raise',\n",
       "       estimator=RandomForestClassifier(bootstrap=True, class_weight='balanced',\n",
       "            criterion='gini', max_depth=None, max_features='auto',\n",
       "            max_leaf_nodes=None, min_impurity_split=1e-07,\n",
       "            min_samples_leaf=1, min_samples_split=2,\n",
       "            min_weight_fraction_leaf=0.0, n_estimators=10, n_jobs=4,\n",
       "            oob_score=False, random_state=None, verbose=0,\n",
       "            warm_start=False),\n",
       "       fit_params={}, iid=True, n_jobs=1,\n",
       "       param_grid={'max_features': [0.2, 'auto', 'log2'], 'n_estimators': [50, 100], 'min_samples_leaf': [1, 5, 10, 50, 100]},\n",
       "       pre_dispatch='2*n_jobs', refit=True, return_train_score=True,\n",
       "       scoring='f1', verbose=3)"
      ]
     },
     "execution_count": 26,
     "metadata": {},
     "output_type": "execute_result"
    }
   ],
   "source": [
    "grid_rf.fit(X_train, y_train)"
   ]
  },
  {
   "cell_type": "code",
   "execution_count": 28,
   "metadata": {
    "collapsed": false
   },
   "outputs": [
    {
     "name": "stdout",
     "output_type": "stream",
     "text": [
      "{'max_features': 0.2, 'min_samples_leaf': 1, 'n_estimators': 100}\n"
     ]
    }
   ],
   "source": [
    "print(grid_rf.best_params_)"
   ]
  },
  {
   "cell_type": "code",
   "execution_count": 29,
   "metadata": {
    "collapsed": true
   },
   "outputs": [],
   "source": [
    "grid_rf_pred = grid_rf.predict(X_test)"
   ]
  },
  {
   "cell_type": "code",
   "execution_count": 30,
   "metadata": {
    "collapsed": false
   },
   "outputs": [
    {
     "name": "stdout",
     "output_type": "stream",
     "text": [
      "             precision    recall  f1-score   support\n",
      "\n",
      "          0       0.95      0.94      0.94    148944\n",
      "          1       0.81      0.84      0.82     46135\n",
      "\n",
      "avg / total       0.92      0.92      0.92    195079\n",
      "\n"
     ]
    }
   ],
   "source": [
    "print(classification_report(grid_rf_pred, y_test))"
   ]
  },
  {
   "cell_type": "code",
   "execution_count": 29,
   "metadata": {
    "collapsed": false
   },
   "outputs": [
    {
     "name": "stdout",
     "output_type": "stream",
     "text": [
      "             precision    recall  f1-score   support\n",
      "\n",
      "          0       0.95      0.94      0.94    148745\n",
      "          1       0.82      0.84      0.83     46334\n",
      "\n",
      "avg / total       0.92      0.92      0.92    195079\n",
      "\n"
     ]
    }
   ],
   "source": [
    "opt_rf = RandomForestClassifier(n_estimators = 100, max_features = 0.2, min_samples_leaf = 1, class_weight='balanced')\n",
    "opt_rf.fit(X_train, y_train) \n",
    "opt_rf_pred = opt_rf.predict(X_test)\n",
    "print(classification_report(opt_rf_pred, y_test))"
   ]
  },
  {
   "cell_type": "markdown",
   "metadata": {},
   "source": [
    "<a id=\"cell4\"></a>\n",
    "## 4. Random Forest Feature Importances\n",
    "\n",
    "Let's examine which features are contributing most in the optimal Random Forest model. "
   ]
  },
  {
   "cell_type": "code",
   "execution_count": 124,
   "metadata": {
    "collapsed": false
   },
   "outputs": [
    {
     "name": "stdout",
     "output_type": "stream",
     "text": [
      "Feature ranking:\n",
      "1. feature TermInMonths (0.581841)\n",
      "2. feature SBAGuaranteedApprovalAdj (0.100831)\n",
      "3. feature SP_to2016 (0.095488)\n",
      "4. feature JobsSupported (0.044329)\n",
      "5. feature RevolverStatus (0.015106)\n",
      "6. feature INDIVIDUAL (0.007285)\n",
      "7. feature CA (0.006983)\n",
      "8. feature Retail Trade (0.005919)\n",
      "9. feature Construction (0.004892)\n",
      "10. feature FL (0.004850)\n",
      "11. feature Other Services (0.004760)\n",
      "12. feature TX (0.004569)\n",
      "13. feature Manufacturing (0.004552)\n",
      "14. feature Health Care & Social Assistance (0.004445)\n",
      "15. feature NY (0.004441)\n",
      "16. feature Professional, Scientific, & Technical Services (0.004419)\n",
      "17. feature Wholesale Trade (0.004034)\n",
      "18. feature FranchiseCodeBin (0.003977)\n",
      "19. feature PA (0.003539)\n",
      "20. feature Administrative/Support/Waste Management (0.003285)\n",
      "21. feature OH (0.003242)\n",
      "22. feature NJ (0.003086)\n",
      "23. feature Transportation & Warehousing (0.002931)\n",
      "24. feature IL (0.002751)\n",
      "25. feature PARTNERSHIP (0.002705)\n",
      "26. feature GA (0.002697)\n",
      "27. feature MA (0.002668)\n",
      "28. feature MN (0.002650)\n",
      "29. feature MI (0.002408)\n",
      "30. feature WI (0.002305)\n",
      "31. feature MO (0.002285)\n",
      "32. feature UT (0.002187)\n",
      "33. feature NC (0.002147)\n",
      "34. feature WA (0.002098)\n",
      "35. feature IN (0.002057)\n",
      "36. feature Arts, Entertainment, & Recreation (0.001995)\n",
      "37. feature MD (0.001954)\n",
      "38. feature CO (0.001930)\n",
      "39. feature PR (0.001907)\n",
      "40. feature Real Estate Rental & Leasing (0.001827)\n",
      "41. feature AZ (0.001801)\n",
      "42. feature VA (0.001789)\n",
      "43. feature MT (0.001763)\n",
      "44. feature CT (0.001757)\n",
      "45. feature Information (0.001722)\n",
      "46. feature Agriculture (0.001664)\n",
      "47. feature IA (0.001650)\n",
      "48. feature TN (0.001601)\n",
      "49. feature KS (0.001575)\n",
      "50. feature OK (0.001547)\n",
      "51. feature NH (0.001488)\n",
      "52. feature MS (0.001398)\n",
      "53. feature KY (0.001378)\n",
      "54. feature OR (0.001360)\n",
      "55. feature ME (0.001347)\n",
      "56. feature LA (0.001311)\n",
      "57. feature RI (0.001288)\n",
      "58. feature Finance & Insurance (0.001275)\n",
      "59. feature NE (0.001170)\n",
      "60. feature AL (0.001136)\n",
      "61. feature NV (0.001108)\n",
      "62. feature ND (0.001105)\n",
      "63. feature ID (0.001101)\n",
      "64. feature Educational Services (0.001089)\n",
      "65. feature VT (0.001055)\n",
      "66. feature AR (0.001013)\n",
      "67. feature NM (0.000916)\n",
      "68. feature SC (0.000898)\n",
      "69. feature HI (0.000895)\n",
      "70. feature WV (0.000714)\n",
      "71. feature SD (0.000553)\n",
      "72. feature Mining (0.000543)\n",
      "73. feature WY (0.000540)\n",
      "74. feature DE (0.000463)\n",
      "75. feature DC (0.000353)\n",
      "76. feature Utilities (0.000157)\n",
      "77. feature Public Administration (0.000052)\n",
      "78. feature Management of Companies & Enterprises (0.000047)\n"
     ]
    },
    {
     "data": {
      "text/plain": [
       "<matplotlib.figure.Figure at 0x142623780>"
      ]
     },
     "metadata": {},
     "output_type": "display_data"
    }
   ],
   "source": [
    "#Feature ranking for random forest\n",
    "fig = plt.figure(figsize = (10,5))\n",
    "importances = opt_rf.feature_importances_\n",
    "std = np.std([tree.feature_importances_ for tree in opt_rf.estimators_],\n",
    "            axis=0)\n",
    "indices = np.argsort(importances)[::-1]\n",
    "fts = list(X_train.columns)\n",
    "# Print the feature ranking\n",
    "print(\"Feature ranking:\")\n",
    "\n",
    "for f in range(X_train.shape[1]):\n",
    "   print(\"%d. feature %s (%f)\" % (f + 1, fts[indices[f]], importances[indices[f]]))\n"
   ]
  },
  {
   "cell_type": "code",
   "execution_count": 176,
   "metadata": {
    "collapsed": false
   },
   "outputs": [
    {
     "data": {
      "image/png": "[encoded data removed]",
      "text/plain": [
       "<matplotlib.figure.Figure at 0x143c7beb8>"
      ]
     },
     "metadata": {},
     "output_type": "display_data"
    }
   ],
   "source": [
    "# Plot the top ten feature importances of the optimized random forest method\n",
    "importances = opt_rf.feature_importances_\n",
    "std = np.std([tree.feature_importances_ for tree in opt_rf.estimators_],\n",
    "             axis=0)\n",
    "indices = np.argsort(importances)[::-1]\n",
    "\n",
    "# Plot the feature importances of the forest\n",
    "fig = plt.figure(figsize = (10,5))\n",
    "\n",
    "plt.title(\"Feature Importances\")\n",
    "plt.barh(range(10), importances[indices][0:10][::-1],\n",
    "       color=\"r\", xerr = std[indices][0:10][::-1], align=\"center\")\n",
    "# If you want to define your own labels,\n",
    "# change indices to a list of labels on the following line.\n",
    "plt.yticks(range(10), ['Term in Months', 'Amount', 'S&P 1500', 'Jobs Supported', 'Revolver Status',\n",
    "                      'Individual', 'CA', 'Retail Trade', 'Construction', 'FL'][::-1])\n",
    "    \n",
    "plt.yticks(range(10))\n",
    "plt.ylim([-1,10])\n",
    "plt.tight_layout()\n",
    "\n",
    "\n",
    "fig.savefig('OPTIMAL_RF_FImportance.png', dpi = 300)"
   ]
  },
  {
   "cell_type": "markdown",
   "metadata": {},
   "source": [
    "Since Random Forests are nonlinear classifiers and we cannot tell if these features are having a negative or positive effect, let's try to infer the direction from the original data. "
   ]
  },
  {
   "cell_type": "code",
   "execution_count": 105,
   "metadata": {
    "collapsed": false
   },
   "outputs": [
    {
     "name": "stdout",
     "output_type": "stream",
     "text": [
      "-311.664506627 0.0\n"
     ]
    }
   ],
   "source": [
    "# Check if there is a difference in mean duration\n",
    "import scipy\n",
    "from scipy.stats import ttest_ind\n",
    "t, prob = scipy.stats.ttest_ind(data[data['PIF']==0]['TermInMonths'], data[data['PIF']==1]['TermInMonths'] )\n",
    "print(t, prob)"
   ]
  },
  {
   "cell_type": "markdown",
   "metadata": {},
   "source": [
    "Looks like duration is significantly longer for paid in full loans. "
   ]
  },
  {
   "cell_type": "code",
   "execution_count": 106,
   "metadata": {
    "collapsed": false
   },
   "outputs": [
    {
     "name": "stdout",
     "output_type": "stream",
     "text": [
      "-33.4039391709 1.94024593685e-244\n"
     ]
    }
   ],
   "source": [
    "# Check if there is a difference in mean amount\n",
    "t, prob = scipy.stats.ttest_ind(data[data['PIF']==0]['SBAGuaranteedApprovalAdj'], data[data['PIF']==1]['SBAGuaranteedApprovalAdj'] )\n",
    "print(t, prob)"
   ]
  },
  {
   "cell_type": "markdown",
   "metadata": {},
   "source": [
    "Average amount is lower for defaulted loans. "
   ]
  },
  {
   "cell_type": "code",
   "execution_count": 125,
   "metadata": {
    "collapsed": false
   },
   "outputs": [
    {
     "name": "stdout",
     "output_type": "stream",
     "text": [
      "5.73036927693 1.00256282317e-08\n"
     ]
    }
   ],
   "source": [
    "# Check if there is a difference in mean number of jobs\n",
    "t, prob = scipy.stats.ttest_ind(data[data['PIF']==0]['JobsSupported'], data[data['PIF']==1]['JobsSupported'] )\n",
    "print(t, prob)"
   ]
  },
  {
   "cell_type": "code",
   "execution_count": 79,
   "metadata": {
    "collapsed": false
   },
   "outputs": [],
   "source": [
    "#Examine loans with TermDuration = 84\n",
    "data_84 = data[data['TermInMonths'] == 84]\n",
    "data_84.reset_index(inplace=True, drop = True)"
   ]
  },
  {
   "cell_type": "code",
   "execution_count": 35,
   "metadata": {
    "collapsed": false
   },
   "outputs": [
    {
     "data": {
      "text/plain": [
       "1    206616\n",
       "0      1157\n",
       "Name: PIF, dtype: int64"
      ]
     },
     "execution_count": 35,
     "metadata": {},
     "output_type": "execute_result"
    }
   ],
   "source": [
    "data_84['PIF'].value_counts()"
   ]
  },
  {
   "cell_type": "markdown",
   "metadata": {},
   "source": [
    "For loans of duration = 84 months, < 0.5% default!"
   ]
  },
  {
   "cell_type": "markdown",
   "metadata": {},
   "source": [
    "<a id=\"cell5\"></a>\n",
    "## 5. Focusing on Shorter Duration Loans\n",
    "\n",
    "Let's examine loans with duration < 84 months and repeat all the steps from above without TermInMonths. "
   ]
  },
  {
   "cell_type": "code",
   "execution_count": 140,
   "metadata": {
    "collapsed": true
   },
   "outputs": [],
   "source": [
    "# Consider only loans with TermDuration < 84\n",
    "data_l84 = data[data['TermInMonths'] < 84]\n",
    "data.reset_index(inplace = True, drop = True)\n",
    "\n",
    "target_l84 = y = (1 - data[data['TermInMonths'] < 84]['PIF'])"
   ]
  },
  {
   "cell_type": "code",
   "execution_count": 141,
   "metadata": {
    "collapsed": false
   },
   "outputs": [],
   "source": [
    "# Split into training and testing data as before\n",
    "X_train_l84, X_test_l84, y_train_l84, y_test_l84 = train_test_split(data_l84.drop(['TermInMonths',  'PIF'],axis = 1), \n",
    "                                                                target_l84, \n",
    "                                                                stratify = target_l84,\n",
    "                                                                test_size = 0.30, random_state = 101)"
   ]
  },
  {
   "cell_type": "code",
   "execution_count": 145,
   "metadata": {
    "collapsed": false
   },
   "outputs": [
    {
     "name": "stdout",
     "output_type": "stream",
     "text": [
      "             precision    recall  f1-score   support\n",
      "\n",
      "          0       0.59      0.15      0.24     51666\n",
      "          1       0.46      0.87      0.60     41974\n",
      "\n",
      "avg / total       0.53      0.48      0.40     93640\n",
      "\n"
     ]
    }
   ],
   "source": [
    "# Logistic Regression Classification \n",
    "logmodel_l84 = LogisticRegression(class_weight = 'balanced')\n",
    "logmodel_l84.fit(X_train_l84, y_train_l84)\n",
    "lm_l84_pred = logmodel_l84.predict(X_test_l84)\n",
    "print(classification_report(y_test_l84, lm_l84_pred))"
   ]
  },
  {
   "cell_type": "code",
   "execution_count": 146,
   "metadata": {
    "collapsed": false
   },
   "outputs": [
    {
     "name": "stdout",
     "output_type": "stream",
     "text": [
      "Fitting 3 folds for each of 13 candidates, totalling 39 fits\n"
     ]
    },
    {
     "name": "stderr",
     "output_type": "stream",
     "text": [
      "[Parallel(n_jobs=1)]: Done  39 out of  39 | elapsed:  1.6min finished\n"
     ]
    },
    {
     "name": "stdout",
     "output_type": "stream",
     "text": [
      "{'C': 0.001}\n"
     ]
    }
   ],
   "source": [
    "# GridSearch for Logistic Regression\n",
    "param_grid = {'C': [0.001, 0.005, 0.1, 0.5, 1, 5, 10, 50, 100, 500, 1000, 5000, 10000]}\n",
    "grid_l84 = GridSearchCV(LogisticRegression(class_weight = 'balanced'), param_grid, refit=True,verbose=1)\n",
    "grid_l84.fit(X_train_l84, y_train_l84)\n",
    "print(grid_l84.best_params_)\n",
    "\n"
   ]
  },
  {
   "cell_type": "code",
   "execution_count": 147,
   "metadata": {
    "collapsed": false
   },
   "outputs": [
    {
     "name": "stdout",
     "output_type": "stream",
     "text": [
      "             precision    recall  f1-score   support\n",
      "\n",
      "          0       0.59      0.15      0.24     51666\n",
      "          1       0.46      0.87      0.60     41974\n",
      "\n",
      "avg / total       0.53      0.48      0.40     93640\n",
      "\n"
     ]
    }
   ],
   "source": [
    "grid_l84_pred = grid_l84.predict(X_test_l84)\n",
    "\n",
    "print(classification_report(y_test_l84, grid_l84_pred))"
   ]
  },
  {
   "cell_type": "markdown",
   "metadata": {},
   "source": [
    "Again, Logistic Regression does not seem to be sufficient.\n",
    "We will again tune hyperparamters for Random Forest using grid search with cross validation. "
   ]
  },
  {
   "cell_type": "code",
   "execution_count": 46,
   "metadata": {
    "collapsed": true
   },
   "outputs": [],
   "source": [
    "# GridSearch for Random Forest\n",
    "param_grid = {'max_features': [0.2, 'auto', 'log2'],\n",
    "              'n_estimators': [50, 100], 'min_samples_leaf': [1, 5, 10, 50, 100]}\n",
    "grid_rf_l84 = GridSearchCV(RandomForestClassifier(class_weight = 'balanced', n_jobs = 4),\n",
    "                param_grid, cv = 10, refit = True, verbose = 3, scoring = 'f1')\n"
   ]
  },
  {
   "cell_type": "code",
   "execution_count": 47,
   "metadata": {
    "collapsed": false
   },
   "outputs": [
    {
     "name": "stdout",
     "output_type": "stream",
     "text": [
      "Fitting 10 folds for each of 30 candidates, totalling 300 fits\n",
      "[CV] max_features=0.2, min_samples_leaf=1, n_estimators=50 ...........\n",
      "[CV]  max_features=0.2, min_samples_leaf=1, n_estimators=50, score=0.746981, total=  10.8s\n",
      "[CV] max_features=0.2, min_samples_leaf=1, n_estimators=50 ...........\n"
     ]
    },
    {
     "name": "stderr",
     "output_type": "stream",
     "text": [
      "[Parallel(n_jobs=1)]: Done   1 out of   1 | elapsed:   12.8s remaining:    0.0s\n"
     ]
    },
    {
     "name": "stdout",
     "output_type": "stream",
     "text": [
      "[CV]  max_features=0.2, min_samples_leaf=1, n_estimators=50, score=0.741847, total=  12.4s\n",
      "[CV] max_features=0.2, min_samples_leaf=1, n_estimators=50 ...........\n"
     ]
    },
    {
     "name": "stderr",
     "output_type": "stream",
     "text": [
      "[Parallel(n_jobs=1)]: Done   2 out of   2 | elapsed:   27.1s remaining:    0.0s\n"
     ]
    },
    {
     "name": "stdout",
     "output_type": "stream",
     "text": [
      "[CV]  max_features=0.2, min_samples_leaf=1, n_estimators=50, score=0.739943, total=  11.4s\n",
      "[CV] max_features=0.2, min_samples_leaf=1, n_estimators=50 ...........\n",
      "[CV]  max_features=0.2, min_samples_leaf=1, n_estimators=50, score=0.735965, total=  11.4s\n",
      "[CV] max_features=0.2, min_samples_leaf=1, n_estimators=50 ...........\n",
      "[CV]  max_features=0.2, min_samples_leaf=1, n_estimators=50, score=0.739286, total=  11.5s\n",
      "[CV] max_features=0.2, min_samples_leaf=1, n_estimators=50 ...........\n",
      "[CV]  max_features=0.2, min_samples_leaf=1, n_estimators=50, score=0.735180, total=  12.0s\n",
      "[CV] max_features=0.2, min_samples_leaf=1, n_estimators=50 ...........\n",
      "[CV]  max_features=0.2, min_samples_leaf=1, n_estimators=50, score=0.736786, total=  12.5s\n",
      "[CV] max_features=0.2, min_samples_leaf=1, n_estimators=50 ...........\n",
      "[CV]  max_features=0.2, min_samples_leaf=1, n_estimators=50, score=0.737530, total=  10.4s\n",
      "[CV] max_features=0.2, min_samples_leaf=1, n_estimators=50 ...........\n",
      "[CV]  max_features=0.2, min_samples_leaf=1, n_estimators=50, score=0.738649, total=  10.2s\n",
      "[CV] max_features=0.2, min_samples_leaf=1, n_estimators=50 ...........\n",
      "[CV]  max_features=0.2, min_samples_leaf=1, n_estimators=50, score=0.746814, total=  10.3s\n",
      "[CV] max_features=0.2, min_samples_leaf=1, n_estimators=100 ..........\n",
      "[CV]  max_features=0.2, min_samples_leaf=1, n_estimators=100, score=0.748275, total=  19.4s\n",
      "[CV] max_features=0.2, min_samples_leaf=1, n_estimators=100 ..........\n",
      "[CV]  max_features=0.2, min_samples_leaf=1, n_estimators=100, score=0.746759, total=  19.7s\n",
      "[CV] max_features=0.2, min_samples_leaf=1, n_estimators=100 ..........\n",
      "[CV]  max_features=0.2, min_samples_leaf=1, n_estimators=100, score=0.744406, total=  19.3s\n",
      "[CV] max_features=0.2, min_samples_leaf=1, n_estimators=100 ..........\n",
      "[CV]  max_features=0.2, min_samples_leaf=1, n_estimators=100, score=0.741837, total=  19.3s\n",
      "[CV] max_features=0.2, min_samples_leaf=1, n_estimators=100 ..........\n",
      "[CV]  max_features=0.2, min_samples_leaf=1, n_estimators=100, score=0.743879, total=  19.3s\n",
      "[CV] max_features=0.2, min_samples_leaf=1, n_estimators=100 ..........\n",
      "[CV]  max_features=0.2, min_samples_leaf=1, n_estimators=100, score=0.738134, total=  19.4s\n",
      "[CV] max_features=0.2, min_samples_leaf=1, n_estimators=100 ..........\n",
      "[CV]  max_features=0.2, min_samples_leaf=1, n_estimators=100, score=0.742148, total=  19.4s\n",
      "[CV] max_features=0.2, min_samples_leaf=1, n_estimators=100 ..........\n",
      "[CV]  max_features=0.2, min_samples_leaf=1, n_estimators=100, score=0.743553, total=  19.2s\n",
      "[CV] max_features=0.2, min_samples_leaf=1, n_estimators=100 ..........\n",
      "[CV]  max_features=0.2, min_samples_leaf=1, n_estimators=100, score=0.742947, total=  19.3s\n",
      "[CV] max_features=0.2, min_samples_leaf=1, n_estimators=100 ..........\n",
      "[CV]  max_features=0.2, min_samples_leaf=1, n_estimators=100, score=0.748718, total=  19.5s\n",
      "[CV] max_features=0.2, min_samples_leaf=5, n_estimators=50 ...........\n",
      "[CV]  max_features=0.2, min_samples_leaf=5, n_estimators=50, score=0.753127, total=   9.0s\n",
      "[CV] max_features=0.2, min_samples_leaf=5, n_estimators=50 ...........\n",
      "[CV]  max_features=0.2, min_samples_leaf=5, n_estimators=50, score=0.748103, total=   8.9s\n",
      "[CV] max_features=0.2, min_samples_leaf=5, n_estimators=50 ...........\n",
      "[CV]  max_features=0.2, min_samples_leaf=5, n_estimators=50, score=0.746635, total=   9.1s\n",
      "[CV] max_features=0.2, min_samples_leaf=5, n_estimators=50 ...........\n",
      "[CV]  max_features=0.2, min_samples_leaf=5, n_estimators=50, score=0.743165, total=   9.0s\n",
      "[CV] max_features=0.2, min_samples_leaf=5, n_estimators=50 ...........\n",
      "[CV]  max_features=0.2, min_samples_leaf=5, n_estimators=50, score=0.744494, total=   9.0s\n",
      "[CV] max_features=0.2, min_samples_leaf=5, n_estimators=50 ...........\n",
      "[CV]  max_features=0.2, min_samples_leaf=5, n_estimators=50, score=0.739712, total=   9.0s\n",
      "[CV] max_features=0.2, min_samples_leaf=5, n_estimators=50 ...........\n",
      "[CV]  max_features=0.2, min_samples_leaf=5, n_estimators=50, score=0.743788, total=   9.1s\n",
      "[CV] max_features=0.2, min_samples_leaf=5, n_estimators=50 ...........\n",
      "[CV]  max_features=0.2, min_samples_leaf=5, n_estimators=50, score=0.742121, total=   9.0s\n",
      "[CV] max_features=0.2, min_samples_leaf=5, n_estimators=50 ...........\n",
      "[CV]  max_features=0.2, min_samples_leaf=5, n_estimators=50, score=0.745555, total=   9.0s\n",
      "[CV] max_features=0.2, min_samples_leaf=5, n_estimators=50 ...........\n",
      "[CV]  max_features=0.2, min_samples_leaf=5, n_estimators=50, score=0.750835, total=   9.1s\n",
      "[CV] max_features=0.2, min_samples_leaf=5, n_estimators=100 ..........\n",
      "[CV]  max_features=0.2, min_samples_leaf=5, n_estimators=100, score=0.755687, total=  16.9s\n",
      "[CV] max_features=0.2, min_samples_leaf=5, n_estimators=100 ..........\n",
      "[CV]  max_features=0.2, min_samples_leaf=5, n_estimators=100, score=0.751728, total=  17.0s\n",
      "[CV] max_features=0.2, min_samples_leaf=5, n_estimators=100 ..........\n",
      "[CV]  max_features=0.2, min_samples_leaf=5, n_estimators=100, score=0.749395, total=  17.0s\n",
      "[CV] max_features=0.2, min_samples_leaf=5, n_estimators=100 ..........\n",
      "[CV]  max_features=0.2, min_samples_leaf=5, n_estimators=100, score=0.745088, total=  17.0s\n",
      "[CV] max_features=0.2, min_samples_leaf=5, n_estimators=100 ..........\n",
      "[CV]  max_features=0.2, min_samples_leaf=5, n_estimators=100, score=0.745460, total=  16.9s\n",
      "[CV] max_features=0.2, min_samples_leaf=5, n_estimators=100 ..........\n",
      "[CV]  max_features=0.2, min_samples_leaf=5, n_estimators=100, score=0.742511, total=  17.1s\n",
      "[CV] max_features=0.2, min_samples_leaf=5, n_estimators=100 ..........\n",
      "[CV]  max_features=0.2, min_samples_leaf=5, n_estimators=100, score=0.743442, total=  17.0s\n",
      "[CV] max_features=0.2, min_samples_leaf=5, n_estimators=100 ..........\n",
      "[CV]  max_features=0.2, min_samples_leaf=5, n_estimators=100, score=0.744678, total=  17.3s\n",
      "[CV] max_features=0.2, min_samples_leaf=5, n_estimators=100 ..........\n",
      "[CV]  max_features=0.2, min_samples_leaf=5, n_estimators=100, score=0.744188, total=  17.1s\n",
      "[CV] max_features=0.2, min_samples_leaf=5, n_estimators=100 ..........\n",
      "[CV]  max_features=0.2, min_samples_leaf=5, n_estimators=100, score=0.753895, total=  17.0s\n",
      "[CV] max_features=0.2, min_samples_leaf=10, n_estimators=50 ..........\n",
      "[CV]  max_features=0.2, min_samples_leaf=10, n_estimators=50, score=0.751405, total=   8.7s\n",
      "[CV] max_features=0.2, min_samples_leaf=10, n_estimators=50 ..........\n",
      "[CV]  max_features=0.2, min_samples_leaf=10, n_estimators=50, score=0.745571, total=   8.5s\n",
      "[CV] max_features=0.2, min_samples_leaf=10, n_estimators=50 ..........\n",
      "[CV]  max_features=0.2, min_samples_leaf=10, n_estimators=50, score=0.745269, total=   8.5s\n",
      "[CV] max_features=0.2, min_samples_leaf=10, n_estimators=50 ..........\n",
      "[CV]  max_features=0.2, min_samples_leaf=10, n_estimators=50, score=0.744537, total=   8.5s\n",
      "[CV] max_features=0.2, min_samples_leaf=10, n_estimators=50 ..........\n",
      "[CV]  max_features=0.2, min_samples_leaf=10, n_estimators=50, score=0.742350, total=   8.6s\n",
      "[CV] max_features=0.2, min_samples_leaf=10, n_estimators=50 ..........\n",
      "[CV]  max_features=0.2, min_samples_leaf=10, n_estimators=50, score=0.738263, total=   8.5s\n",
      "[CV] max_features=0.2, min_samples_leaf=10, n_estimators=50 ..........\n",
      "[CV]  max_features=0.2, min_samples_leaf=10, n_estimators=50, score=0.740511, total=   8.7s\n",
      "[CV] max_features=0.2, min_samples_leaf=10, n_estimators=50 ..........\n",
      "[CV]  max_features=0.2, min_samples_leaf=10, n_estimators=50, score=0.740058, total=   8.6s\n",
      "[CV] max_features=0.2, min_samples_leaf=10, n_estimators=50 ..........\n",
      "[CV]  max_features=0.2, min_samples_leaf=10, n_estimators=50, score=0.741797, total=   8.5s\n",
      "[CV] max_features=0.2, min_samples_leaf=10, n_estimators=50 ..........\n",
      "[CV]  max_features=0.2, min_samples_leaf=10, n_estimators=50, score=0.749027, total=   8.6s\n",
      "[CV] max_features=0.2, min_samples_leaf=10, n_estimators=100 .........\n",
      "[CV]  max_features=0.2, min_samples_leaf=10, n_estimators=100, score=0.752049, total=  16.1s\n",
      "[CV] max_features=0.2, min_samples_leaf=10, n_estimators=100 .........\n",
      "[CV]  max_features=0.2, min_samples_leaf=10, n_estimators=100, score=0.748600, total=  16.0s\n",
      "[CV] max_features=0.2, min_samples_leaf=10, n_estimators=100 .........\n",
      "[CV]  max_features=0.2, min_samples_leaf=10, n_estimators=100, score=0.744985, total=  16.0s\n",
      "[CV] max_features=0.2, min_samples_leaf=10, n_estimators=100 .........\n",
      "[CV]  max_features=0.2, min_samples_leaf=10, n_estimators=100, score=0.744350, total=  16.1s\n",
      "[CV] max_features=0.2, min_samples_leaf=10, n_estimators=100 .........\n",
      "[CV]  max_features=0.2, min_samples_leaf=10, n_estimators=100, score=0.742397, total=  16.0s\n",
      "[CV] max_features=0.2, min_samples_leaf=10, n_estimators=100 .........\n",
      "[CV]  max_features=0.2, min_samples_leaf=10, n_estimators=100, score=0.738591, total=  16.1s\n",
      "[CV] max_features=0.2, min_samples_leaf=10, n_estimators=100 .........\n",
      "[CV]  max_features=0.2, min_samples_leaf=10, n_estimators=100, score=0.739888, total=  16.0s\n",
      "[CV] max_features=0.2, min_samples_leaf=10, n_estimators=100 .........\n",
      "[CV]  max_features=0.2, min_samples_leaf=10, n_estimators=100, score=0.742666, total=  15.9s\n",
      "[CV] max_features=0.2, min_samples_leaf=10, n_estimators=100 .........\n",
      "[CV]  max_features=0.2, min_samples_leaf=10, n_estimators=100, score=0.740318, total=  16.2s\n",
      "[CV] max_features=0.2, min_samples_leaf=10, n_estimators=100 .........\n",
      "[CV]  max_features=0.2, min_samples_leaf=10, n_estimators=100, score=0.750565, total=  16.0s\n",
      "[CV] max_features=0.2, min_samples_leaf=50, n_estimators=50 ..........\n",
      "[CV]  max_features=0.2, min_samples_leaf=50, n_estimators=50, score=0.739881, total=   7.2s\n",
      "[CV] max_features=0.2, min_samples_leaf=50, n_estimators=50 ..........\n",
      "[CV]  max_features=0.2, min_samples_leaf=50, n_estimators=50, score=0.736679, total=   7.2s\n",
      "[CV] max_features=0.2, min_samples_leaf=50, n_estimators=50 ..........\n",
      "[CV]  max_features=0.2, min_samples_leaf=50, n_estimators=50, score=0.734767, total=   7.2s\n",
      "[CV] max_features=0.2, min_samples_leaf=50, n_estimators=50 ..........\n",
      "[CV]  max_features=0.2, min_samples_leaf=50, n_estimators=50, score=0.732608, total=   7.2s\n",
      "[CV] max_features=0.2, min_samples_leaf=50, n_estimators=50 ..........\n",
      "[CV]  max_features=0.2, min_samples_leaf=50, n_estimators=50, score=0.732017, total=   7.2s\n",
      "[CV] max_features=0.2, min_samples_leaf=50, n_estimators=50 ..........\n",
      "[CV]  max_features=0.2, min_samples_leaf=50, n_estimators=50, score=0.728911, total=   7.2s\n",
      "[CV] max_features=0.2, min_samples_leaf=50, n_estimators=50 ..........\n",
      "[CV]  max_features=0.2, min_samples_leaf=50, n_estimators=50, score=0.733817, total=   7.2s\n",
      "[CV] max_features=0.2, min_samples_leaf=50, n_estimators=50 ..........\n",
      "[CV]  max_features=0.2, min_samples_leaf=50, n_estimators=50, score=0.729128, total=   7.1s\n",
      "[CV] max_features=0.2, min_samples_leaf=50, n_estimators=50 ..........\n",
      "[CV]  max_features=0.2, min_samples_leaf=50, n_estimators=50, score=0.729458, total=   7.3s\n",
      "[CV] max_features=0.2, min_samples_leaf=50, n_estimators=50 ..........\n",
      "[CV]  max_features=0.2, min_samples_leaf=50, n_estimators=50, score=0.734555, total=   7.3s\n",
      "[CV] max_features=0.2, min_samples_leaf=50, n_estimators=100 .........\n",
      "[CV]  max_features=0.2, min_samples_leaf=50, n_estimators=100, score=0.740698, total=  13.4s\n",
      "[CV] max_features=0.2, min_samples_leaf=50, n_estimators=100 .........\n",
      "[CV]  max_features=0.2, min_samples_leaf=50, n_estimators=100, score=0.737750, total=  13.4s\n",
      "[CV] max_features=0.2, min_samples_leaf=50, n_estimators=100 .........\n",
      "[CV]  max_features=0.2, min_samples_leaf=50, n_estimators=100, score=0.733101, total=  13.4s\n",
      "[CV] max_features=0.2, min_samples_leaf=50, n_estimators=100 .........\n",
      "[CV]  max_features=0.2, min_samples_leaf=50, n_estimators=100, score=0.732322, total=  13.3s\n",
      "[CV] max_features=0.2, min_samples_leaf=50, n_estimators=100 .........\n",
      "[CV]  max_features=0.2, min_samples_leaf=50, n_estimators=100, score=0.733159, total=  13.3s\n",
      "[CV] max_features=0.2, min_samples_leaf=50, n_estimators=100 .........\n",
      "[CV]  max_features=0.2, min_samples_leaf=50, n_estimators=100, score=0.727526, total=  13.4s\n",
      "[CV] max_features=0.2, min_samples_leaf=50, n_estimators=100 .........\n",
      "[CV]  max_features=0.2, min_samples_leaf=50, n_estimators=100, score=0.734469, total=  13.3s\n",
      "[CV] max_features=0.2, min_samples_leaf=50, n_estimators=100 .........\n",
      "[CV]  max_features=0.2, min_samples_leaf=50, n_estimators=100, score=0.731916, total=  13.3s\n",
      "[CV] max_features=0.2, min_samples_leaf=50, n_estimators=100 .........\n",
      "[CV]  max_features=0.2, min_samples_leaf=50, n_estimators=100, score=0.731506, total=  13.4s\n",
      "[CV] max_features=0.2, min_samples_leaf=50, n_estimators=100 .........\n",
      "[CV]  max_features=0.2, min_samples_leaf=50, n_estimators=100, score=0.737738, total=  13.3s\n",
      "[CV] max_features=0.2, min_samples_leaf=100, n_estimators=50 .........\n",
      "[CV]  max_features=0.2, min_samples_leaf=100, n_estimators=50, score=0.734970, total=   6.6s\n",
      "[CV] max_features=0.2, min_samples_leaf=100, n_estimators=50 .........\n",
      "[CV]  max_features=0.2, min_samples_leaf=100, n_estimators=50, score=0.730251, total=   6.6s\n",
      "[CV] max_features=0.2, min_samples_leaf=100, n_estimators=50 .........\n",
      "[CV]  max_features=0.2, min_samples_leaf=100, n_estimators=50, score=0.729202, total=   6.6s\n",
      "[CV] max_features=0.2, min_samples_leaf=100, n_estimators=50 .........\n",
      "[CV]  max_features=0.2, min_samples_leaf=100, n_estimators=50, score=0.727540, total=   6.5s\n",
      "[CV] max_features=0.2, min_samples_leaf=100, n_estimators=50 .........\n",
      "[CV]  max_features=0.2, min_samples_leaf=100, n_estimators=50, score=0.725693, total=   6.6s\n",
      "[CV] max_features=0.2, min_samples_leaf=100, n_estimators=50 .........\n",
      "[CV]  max_features=0.2, min_samples_leaf=100, n_estimators=50, score=0.721275, total=   6.6s\n",
      "[CV] max_features=0.2, min_samples_leaf=100, n_estimators=50 .........\n",
      "[CV]  max_features=0.2, min_samples_leaf=100, n_estimators=50, score=0.728245, total=   6.5s\n",
      "[CV] max_features=0.2, min_samples_leaf=100, n_estimators=50 .........\n",
      "[CV]  max_features=0.2, min_samples_leaf=100, n_estimators=50, score=0.724068, total=   6.6s\n",
      "[CV] max_features=0.2, min_samples_leaf=100, n_estimators=50 .........\n",
      "[CV]  max_features=0.2, min_samples_leaf=100, n_estimators=50, score=0.721526, total=   6.6s\n",
      "[CV] max_features=0.2, min_samples_leaf=100, n_estimators=50 .........\n",
      "[CV]  max_features=0.2, min_samples_leaf=100, n_estimators=50, score=0.729586, total=   6.6s\n",
      "[CV] max_features=0.2, min_samples_leaf=100, n_estimators=100 ........\n",
      "[CV]  max_features=0.2, min_samples_leaf=100, n_estimators=100, score=0.732112, total=  12.0s\n",
      "[CV] max_features=0.2, min_samples_leaf=100, n_estimators=100 ........\n",
      "[CV]  max_features=0.2, min_samples_leaf=100, n_estimators=100, score=0.730239, total=  12.1s\n",
      "[CV] max_features=0.2, min_samples_leaf=100, n_estimators=100 ........\n",
      "[CV]  max_features=0.2, min_samples_leaf=100, n_estimators=100, score=0.727670, total=  12.1s\n",
      "[CV] max_features=0.2, min_samples_leaf=100, n_estimators=100 ........\n",
      "[CV]  max_features=0.2, min_samples_leaf=100, n_estimators=100, score=0.727173, total=  12.2s\n",
      "[CV] max_features=0.2, min_samples_leaf=100, n_estimators=100 ........\n",
      "[CV]  max_features=0.2, min_samples_leaf=100, n_estimators=100, score=0.727626, total=  12.3s\n",
      "[CV] max_features=0.2, min_samples_leaf=100, n_estimators=100 ........\n",
      "[CV]  max_features=0.2, min_samples_leaf=100, n_estimators=100, score=0.720295, total=  12.2s\n",
      "[CV] max_features=0.2, min_samples_leaf=100, n_estimators=100 ........\n",
      "[CV]  max_features=0.2, min_samples_leaf=100, n_estimators=100, score=0.727602, total=  12.2s\n",
      "[CV] max_features=0.2, min_samples_leaf=100, n_estimators=100 ........\n",
      "[CV]  max_features=0.2, min_samples_leaf=100, n_estimators=100, score=0.724849, total=  12.0s\n",
      "[CV] max_features=0.2, min_samples_leaf=100, n_estimators=100 ........\n",
      "[CV]  max_features=0.2, min_samples_leaf=100, n_estimators=100, score=0.722892, total=  12.1s\n",
      "[CV] max_features=0.2, min_samples_leaf=100, n_estimators=100 ........\n",
      "[CV]  max_features=0.2, min_samples_leaf=100, n_estimators=100, score=0.728768, total=  12.2s\n",
      "[CV] max_features=auto, min_samples_leaf=1, n_estimators=50 ..........\n",
      "[CV]  max_features=auto, min_samples_leaf=1, n_estimators=50, score=0.740651, total=   7.8s\n",
      "[CV] max_features=auto, min_samples_leaf=1, n_estimators=50 ..........\n",
      "[CV]  max_features=auto, min_samples_leaf=1, n_estimators=50, score=0.736182, total=   7.7s\n",
      "[CV] max_features=auto, min_samples_leaf=1, n_estimators=50 ..........\n",
      "[CV]  max_features=auto, min_samples_leaf=1, n_estimators=50, score=0.736808, total=   7.8s\n",
      "[CV] max_features=auto, min_samples_leaf=1, n_estimators=50 ..........\n",
      "[CV]  max_features=auto, min_samples_leaf=1, n_estimators=50, score=0.730069, total=   7.8s\n",
      "[CV] max_features=auto, min_samples_leaf=1, n_estimators=50 ..........\n",
      "[CV]  max_features=auto, min_samples_leaf=1, n_estimators=50, score=0.735048, total=   7.8s\n",
      "[CV] max_features=auto, min_samples_leaf=1, n_estimators=50 ..........\n",
      "[CV]  max_features=auto, min_samples_leaf=1, n_estimators=50, score=0.731666, total=   7.7s\n",
      "[CV] max_features=auto, min_samples_leaf=1, n_estimators=50 ..........\n",
      "[CV]  max_features=auto, min_samples_leaf=1, n_estimators=50, score=0.732547, total=   7.8s\n",
      "[CV] max_features=auto, min_samples_leaf=1, n_estimators=50 ..........\n",
      "[CV]  max_features=auto, min_samples_leaf=1, n_estimators=50, score=0.735663, total=   7.7s\n",
      "[CV] max_features=auto, min_samples_leaf=1, n_estimators=50 ..........\n",
      "[CV]  max_features=auto, min_samples_leaf=1, n_estimators=50, score=0.736146, total=   7.7s\n",
      "[CV] max_features=auto, min_samples_leaf=1, n_estimators=50 ..........\n",
      "[CV]  max_features=auto, min_samples_leaf=1, n_estimators=50, score=0.736351, total=   7.7s\n",
      "[CV] max_features=auto, min_samples_leaf=1, n_estimators=100 .........\n",
      "[CV]  max_features=auto, min_samples_leaf=1, n_estimators=100, score=0.745229, total=  14.4s\n",
      "[CV] max_features=auto, min_samples_leaf=1, n_estimators=100 .........\n",
      "[CV]  max_features=auto, min_samples_leaf=1, n_estimators=100, score=0.739877, total=  14.4s\n",
      "[CV] max_features=auto, min_samples_leaf=1, n_estimators=100 .........\n",
      "[CV]  max_features=auto, min_samples_leaf=1, n_estimators=100, score=0.737172, total=  14.3s\n",
      "[CV] max_features=auto, min_samples_leaf=1, n_estimators=100 .........\n",
      "[CV]  max_features=auto, min_samples_leaf=1, n_estimators=100, score=0.733566, total=  15.0s\n",
      "[CV] max_features=auto, min_samples_leaf=1, n_estimators=100 .........\n",
      "[CV]  max_features=auto, min_samples_leaf=1, n_estimators=100, score=0.739689, total=  14.4s\n",
      "[CV] max_features=auto, min_samples_leaf=1, n_estimators=100 .........\n",
      "[CV]  max_features=auto, min_samples_leaf=1, n_estimators=100, score=0.734010, total=  14.4s\n",
      "[CV] max_features=auto, min_samples_leaf=1, n_estimators=100 .........\n",
      "[CV]  max_features=auto, min_samples_leaf=1, n_estimators=100, score=0.736812, total=  14.2s\n",
      "[CV] max_features=auto, min_samples_leaf=1, n_estimators=100 .........\n",
      "[CV]  max_features=auto, min_samples_leaf=1, n_estimators=100, score=0.738859, total=  14.2s\n",
      "[CV] max_features=auto, min_samples_leaf=1, n_estimators=100 .........\n",
      "[CV]  max_features=auto, min_samples_leaf=1, n_estimators=100, score=0.739781, total=  14.3s\n",
      "[CV] max_features=auto, min_samples_leaf=1, n_estimators=100 .........\n",
      "[CV]  max_features=auto, min_samples_leaf=1, n_estimators=100, score=0.741539, total=  14.3s\n",
      "[CV] max_features=auto, min_samples_leaf=5, n_estimators=50 ..........\n",
      "[CV]  max_features=auto, min_samples_leaf=5, n_estimators=50, score=0.752253, total=   6.3s\n",
      "[CV] max_features=auto, min_samples_leaf=5, n_estimators=50 ..........\n",
      "[CV]  max_features=auto, min_samples_leaf=5, n_estimators=50, score=0.743525, total=   6.2s\n",
      "[CV] max_features=auto, min_samples_leaf=5, n_estimators=50 ..........\n",
      "[CV]  max_features=auto, min_samples_leaf=5, n_estimators=50, score=0.743230, total=   6.2s\n",
      "[CV] max_features=auto, min_samples_leaf=5, n_estimators=50 ..........\n",
      "[CV]  max_features=auto, min_samples_leaf=5, n_estimators=50, score=0.738604, total=   6.2s\n",
      "[CV] max_features=auto, min_samples_leaf=5, n_estimators=50 ..........\n",
      "[CV]  max_features=auto, min_samples_leaf=5, n_estimators=50, score=0.743238, total=   6.2s\n",
      "[CV] max_features=auto, min_samples_leaf=5, n_estimators=50 ..........\n",
      "[CV]  max_features=auto, min_samples_leaf=5, n_estimators=50, score=0.735400, total=   6.2s\n",
      "[CV] max_features=auto, min_samples_leaf=5, n_estimators=50 ..........\n",
      "[CV]  max_features=auto, min_samples_leaf=5, n_estimators=50, score=0.738243, total=   6.2s\n",
      "[CV] max_features=auto, min_samples_leaf=5, n_estimators=50 ..........\n",
      "[CV]  max_features=auto, min_samples_leaf=5, n_estimators=50, score=0.740638, total=   6.2s\n",
      "[CV] max_features=auto, min_samples_leaf=5, n_estimators=50 ..........\n",
      "[CV]  max_features=auto, min_samples_leaf=5, n_estimators=50, score=0.741962, total=   6.2s\n",
      "[CV] max_features=auto, min_samples_leaf=5, n_estimators=50 ..........\n",
      "[CV]  max_features=auto, min_samples_leaf=5, n_estimators=50, score=0.747575, total=   6.2s\n",
      "[CV] max_features=auto, min_samples_leaf=5, n_estimators=100 .........\n",
      "[CV]  max_features=auto, min_samples_leaf=5, n_estimators=100, score=0.749470, total=  11.4s\n",
      "[CV] max_features=auto, min_samples_leaf=5, n_estimators=100 .........\n",
      "[CV]  max_features=auto, min_samples_leaf=5, n_estimators=100, score=0.746265, total=  11.6s\n",
      "[CV] max_features=auto, min_samples_leaf=5, n_estimators=100 .........\n",
      "[CV]  max_features=auto, min_samples_leaf=5, n_estimators=100, score=0.744511, total=  11.5s\n",
      "[CV] max_features=auto, min_samples_leaf=5, n_estimators=100 .........\n",
      "[CV]  max_features=auto, min_samples_leaf=5, n_estimators=100, score=0.739926, total=  11.6s\n",
      "[CV] max_features=auto, min_samples_leaf=5, n_estimators=100 .........\n",
      "[CV]  max_features=auto, min_samples_leaf=5, n_estimators=100, score=0.740825, total=  11.5s\n",
      "[CV] max_features=auto, min_samples_leaf=5, n_estimators=100 .........\n",
      "[CV]  max_features=auto, min_samples_leaf=5, n_estimators=100, score=0.737671, total=  11.5s\n",
      "[CV] max_features=auto, min_samples_leaf=5, n_estimators=100 .........\n",
      "[CV]  max_features=auto, min_samples_leaf=5, n_estimators=100, score=0.740828, total=  11.5s\n",
      "[CV] max_features=auto, min_samples_leaf=5, n_estimators=100 .........\n",
      "[CV]  max_features=auto, min_samples_leaf=5, n_estimators=100, score=0.741786, total=  11.5s\n",
      "[CV] max_features=auto, min_samples_leaf=5, n_estimators=100 .........\n",
      "[CV]  max_features=auto, min_samples_leaf=5, n_estimators=100, score=0.743576, total=  11.5s\n",
      "[CV] max_features=auto, min_samples_leaf=5, n_estimators=100 .........\n",
      "[CV]  max_features=auto, min_samples_leaf=5, n_estimators=100, score=0.747265, total=  11.6s\n",
      "[CV] max_features=auto, min_samples_leaf=10, n_estimators=50 .........\n",
      "[CV]  max_features=auto, min_samples_leaf=10, n_estimators=50, score=0.747331, total=   5.8s\n",
      "[CV] max_features=auto, min_samples_leaf=10, n_estimators=50 .........\n",
      "[CV]  max_features=auto, min_samples_leaf=10, n_estimators=50, score=0.740976, total=   5.7s\n",
      "[CV] max_features=auto, min_samples_leaf=10, n_estimators=50 .........\n",
      "[CV]  max_features=auto, min_samples_leaf=10, n_estimators=50, score=0.740469, total=   5.9s\n",
      "[CV] max_features=auto, min_samples_leaf=10, n_estimators=50 .........\n",
      "[CV]  max_features=auto, min_samples_leaf=10, n_estimators=50, score=0.738382, total=   5.9s\n",
      "[CV] max_features=auto, min_samples_leaf=10, n_estimators=50 .........\n",
      "[CV]  max_features=auto, min_samples_leaf=10, n_estimators=50, score=0.737281, total=   5.9s\n",
      "[CV] max_features=auto, min_samples_leaf=10, n_estimators=50 .........\n",
      "[CV]  max_features=auto, min_samples_leaf=10, n_estimators=50, score=0.733737, total=   5.9s\n",
      "[CV] max_features=auto, min_samples_leaf=10, n_estimators=50 .........\n",
      "[CV]  max_features=auto, min_samples_leaf=10, n_estimators=50, score=0.738420, total=   5.7s\n",
      "[CV] max_features=auto, min_samples_leaf=10, n_estimators=50 .........\n",
      "[CV]  max_features=auto, min_samples_leaf=10, n_estimators=50, score=0.737084, total=   5.9s\n",
      "[CV] max_features=auto, min_samples_leaf=10, n_estimators=50 .........\n",
      "[CV]  max_features=auto, min_samples_leaf=10, n_estimators=50, score=0.737701, total=   5.9s\n",
      "[CV] max_features=auto, min_samples_leaf=10, n_estimators=50 .........\n",
      "[CV]  max_features=auto, min_samples_leaf=10, n_estimators=50, score=0.740567, total=   5.8s\n",
      "[CV] max_features=auto, min_samples_leaf=10, n_estimators=100 ........\n",
      "[CV]  max_features=auto, min_samples_leaf=10, n_estimators=100, score=0.747912, total=  10.7s\n",
      "[CV] max_features=auto, min_samples_leaf=10, n_estimators=100 ........\n",
      "[CV]  max_features=auto, min_samples_leaf=10, n_estimators=100, score=0.742977, total=  10.8s\n",
      "[CV] max_features=auto, min_samples_leaf=10, n_estimators=100 ........\n",
      "[CV]  max_features=auto, min_samples_leaf=10, n_estimators=100, score=0.741374, total=  10.7s\n",
      "[CV] max_features=auto, min_samples_leaf=10, n_estimators=100 ........\n",
      "[CV]  max_features=auto, min_samples_leaf=10, n_estimators=100, score=0.740138, total=  10.7s\n",
      "[CV] max_features=auto, min_samples_leaf=10, n_estimators=100 ........\n",
      "[CV]  max_features=auto, min_samples_leaf=10, n_estimators=100, score=0.737364, total=  10.8s\n",
      "[CV] max_features=auto, min_samples_leaf=10, n_estimators=100 ........\n",
      "[CV]  max_features=auto, min_samples_leaf=10, n_estimators=100, score=0.734497, total=  10.8s\n",
      "[CV] max_features=auto, min_samples_leaf=10, n_estimators=100 ........\n",
      "[CV]  max_features=auto, min_samples_leaf=10, n_estimators=100, score=0.738331, total=  10.8s\n",
      "[CV] max_features=auto, min_samples_leaf=10, n_estimators=100 ........\n",
      "[CV]  max_features=auto, min_samples_leaf=10, n_estimators=100, score=0.736891, total=  10.8s\n",
      "[CV] max_features=auto, min_samples_leaf=10, n_estimators=100 ........\n",
      "[CV]  max_features=auto, min_samples_leaf=10, n_estimators=100, score=0.736917, total=  10.7s\n",
      "[CV] max_features=auto, min_samples_leaf=10, n_estimators=100 ........\n",
      "[CV]  max_features=auto, min_samples_leaf=10, n_estimators=100, score=0.742009, total=  10.8s\n",
      "[CV] max_features=auto, min_samples_leaf=50, n_estimators=50 .........\n",
      "[CV]  max_features=auto, min_samples_leaf=50, n_estimators=50, score=0.734284, total=   4.9s\n",
      "[CV] max_features=auto, min_samples_leaf=50, n_estimators=50 .........\n",
      "[CV]  max_features=auto, min_samples_leaf=50, n_estimators=50, score=0.729977, total=   4.9s\n",
      "[CV] max_features=auto, min_samples_leaf=50, n_estimators=50 .........\n",
      "[CV]  max_features=auto, min_samples_leaf=50, n_estimators=50, score=0.728750, total=   5.0s\n",
      "[CV] max_features=auto, min_samples_leaf=50, n_estimators=50 .........\n",
      "[CV]  max_features=auto, min_samples_leaf=50, n_estimators=50, score=0.726824, total=   4.9s\n",
      "[CV] max_features=auto, min_samples_leaf=50, n_estimators=50 .........\n",
      "[CV]  max_features=auto, min_samples_leaf=50, n_estimators=50, score=0.727380, total=   4.9s\n",
      "[CV] max_features=auto, min_samples_leaf=50, n_estimators=50 .........\n",
      "[CV]  max_features=auto, min_samples_leaf=50, n_estimators=50, score=0.724233, total=   4.9s\n",
      "[CV] max_features=auto, min_samples_leaf=50, n_estimators=50 .........\n",
      "[CV]  max_features=auto, min_samples_leaf=50, n_estimators=50, score=0.729137, total=   4.9s\n",
      "[CV] max_features=auto, min_samples_leaf=50, n_estimators=50 .........\n",
      "[CV]  max_features=auto, min_samples_leaf=50, n_estimators=50, score=0.726901, total=   4.9s\n",
      "[CV] max_features=auto, min_samples_leaf=50, n_estimators=50 .........\n",
      "[CV]  max_features=auto, min_samples_leaf=50, n_estimators=50, score=0.725375, total=   4.9s\n",
      "[CV] max_features=auto, min_samples_leaf=50, n_estimators=50 .........\n",
      "[CV]  max_features=auto, min_samples_leaf=50, n_estimators=50, score=0.731323, total=   4.9s\n",
      "[CV] max_features=auto, min_samples_leaf=50, n_estimators=100 ........\n",
      "[CV]  max_features=auto, min_samples_leaf=50, n_estimators=100, score=0.734961, total=   8.8s\n",
      "[CV] max_features=auto, min_samples_leaf=50, n_estimators=100 ........\n",
      "[CV]  max_features=auto, min_samples_leaf=50, n_estimators=100, score=0.731795, total=   8.8s\n",
      "[CV] max_features=auto, min_samples_leaf=50, n_estimators=100 ........\n",
      "[CV]  max_features=auto, min_samples_leaf=50, n_estimators=100, score=0.731795, total=   8.8s\n",
      "[CV] max_features=auto, min_samples_leaf=50, n_estimators=100 ........\n",
      "[CV]  max_features=auto, min_samples_leaf=50, n_estimators=100, score=0.729594, total=   8.9s\n",
      "[CV] max_features=auto, min_samples_leaf=50, n_estimators=100 ........\n",
      "[CV]  max_features=auto, min_samples_leaf=50, n_estimators=100, score=0.729213, total=   8.8s\n",
      "[CV] max_features=auto, min_samples_leaf=50, n_estimators=100 ........\n",
      "[CV]  max_features=auto, min_samples_leaf=50, n_estimators=100, score=0.723164, total=   8.8s\n",
      "[CV] max_features=auto, min_samples_leaf=50, n_estimators=100 ........\n",
      "[CV]  max_features=auto, min_samples_leaf=50, n_estimators=100, score=0.730443, total=   8.8s\n",
      "[CV] max_features=auto, min_samples_leaf=50, n_estimators=100 ........\n",
      "[CV]  max_features=auto, min_samples_leaf=50, n_estimators=100, score=0.728336, total=   8.9s\n",
      "[CV] max_features=auto, min_samples_leaf=50, n_estimators=100 ........\n",
      "[CV]  max_features=auto, min_samples_leaf=50, n_estimators=100, score=0.724932, total=   8.7s\n",
      "[CV] max_features=auto, min_samples_leaf=50, n_estimators=100 ........\n",
      "[CV]  max_features=auto, min_samples_leaf=50, n_estimators=100, score=0.730346, total=   8.8s\n",
      "[CV] max_features=auto, min_samples_leaf=100, n_estimators=50 ........\n",
      "[CV]  max_features=auto, min_samples_leaf=100, n_estimators=50, score=0.727243, total=   4.5s\n",
      "[CV] max_features=auto, min_samples_leaf=100, n_estimators=50 ........\n",
      "[CV]  max_features=auto, min_samples_leaf=100, n_estimators=50, score=0.725832, total=   4.5s\n",
      "[CV] max_features=auto, min_samples_leaf=100, n_estimators=50 ........\n",
      "[CV]  max_features=auto, min_samples_leaf=100, n_estimators=50, score=0.723454, total=   4.4s\n",
      "[CV] max_features=auto, min_samples_leaf=100, n_estimators=50 ........\n",
      "[CV]  max_features=auto, min_samples_leaf=100, n_estimators=50, score=0.725415, total=   4.5s\n",
      "[CV] max_features=auto, min_samples_leaf=100, n_estimators=50 ........\n",
      "[CV]  max_features=auto, min_samples_leaf=100, n_estimators=50, score=0.722517, total=   4.5s\n",
      "[CV] max_features=auto, min_samples_leaf=100, n_estimators=50 ........\n",
      "[CV]  max_features=auto, min_samples_leaf=100, n_estimators=50, score=0.718595, total=   4.5s\n",
      "[CV] max_features=auto, min_samples_leaf=100, n_estimators=50 ........\n",
      "[CV]  max_features=auto, min_samples_leaf=100, n_estimators=50, score=0.723072, total=   4.5s\n",
      "[CV] max_features=auto, min_samples_leaf=100, n_estimators=50 ........\n",
      "[CV]  max_features=auto, min_samples_leaf=100, n_estimators=50, score=0.722517, total=   4.5s\n",
      "[CV] max_features=auto, min_samples_leaf=100, n_estimators=50 ........\n",
      "[CV]  max_features=auto, min_samples_leaf=100, n_estimators=50, score=0.719357, total=   4.4s\n",
      "[CV] max_features=auto, min_samples_leaf=100, n_estimators=50 ........\n",
      "[CV]  max_features=auto, min_samples_leaf=100, n_estimators=50, score=0.723196, total=   4.5s\n",
      "[CV] max_features=auto, min_samples_leaf=100, n_estimators=100 .......\n",
      "[CV]  max_features=auto, min_samples_leaf=100, n_estimators=100, score=0.731691, total=   8.0s\n",
      "[CV] max_features=auto, min_samples_leaf=100, n_estimators=100 .......\n",
      "[CV]  max_features=auto, min_samples_leaf=100, n_estimators=100, score=0.726681, total=   8.0s\n",
      "[CV] max_features=auto, min_samples_leaf=100, n_estimators=100 .......\n",
      "[CV]  max_features=auto, min_samples_leaf=100, n_estimators=100, score=0.725866, total=   7.9s\n",
      "[CV] max_features=auto, min_samples_leaf=100, n_estimators=100 .......\n",
      "[CV]  max_features=auto, min_samples_leaf=100, n_estimators=100, score=0.725839, total=   8.1s\n",
      "[CV] max_features=auto, min_samples_leaf=100, n_estimators=100 .......\n",
      "[CV]  max_features=auto, min_samples_leaf=100, n_estimators=100, score=0.722889, total=   8.0s\n",
      "[CV] max_features=auto, min_samples_leaf=100, n_estimators=100 .......\n",
      "[CV]  max_features=auto, min_samples_leaf=100, n_estimators=100, score=0.718426, total=   8.1s\n",
      "[CV] max_features=auto, min_samples_leaf=100, n_estimators=100 .......\n",
      "[CV]  max_features=auto, min_samples_leaf=100, n_estimators=100, score=0.723472, total=   7.8s\n",
      "[CV] max_features=auto, min_samples_leaf=100, n_estimators=100 .......\n",
      "[CV]  max_features=auto, min_samples_leaf=100, n_estimators=100, score=0.722968, total=   8.0s\n",
      "[CV] max_features=auto, min_samples_leaf=100, n_estimators=100 .......\n",
      "[CV]  max_features=auto, min_samples_leaf=100, n_estimators=100, score=0.720210, total=   8.0s\n",
      "[CV] max_features=auto, min_samples_leaf=100, n_estimators=100 .......\n",
      "[CV]  max_features=auto, min_samples_leaf=100, n_estimators=100, score=0.725398, total=   7.9s\n",
      "[CV] max_features=log2, min_samples_leaf=1, n_estimators=50 ..........\n",
      "[CV]  max_features=log2, min_samples_leaf=1, n_estimators=50, score=0.735644, total=   7.0s\n",
      "[CV] max_features=log2, min_samples_leaf=1, n_estimators=50 ..........\n",
      "[CV]  max_features=log2, min_samples_leaf=1, n_estimators=50, score=0.732082, total=   6.9s\n",
      "[CV] max_features=log2, min_samples_leaf=1, n_estimators=50 ..........\n",
      "[CV]  max_features=log2, min_samples_leaf=1, n_estimators=50, score=0.732803, total=   6.9s\n",
      "[CV] max_features=log2, min_samples_leaf=1, n_estimators=50 ..........\n",
      "[CV]  max_features=log2, min_samples_leaf=1, n_estimators=50, score=0.727844, total=   7.0s\n",
      "[CV] max_features=log2, min_samples_leaf=1, n_estimators=50 ..........\n",
      "[CV]  max_features=log2, min_samples_leaf=1, n_estimators=50, score=0.731496, total=   6.9s\n",
      "[CV] max_features=log2, min_samples_leaf=1, n_estimators=50 ..........\n",
      "[CV]  max_features=log2, min_samples_leaf=1, n_estimators=50, score=0.729965, total=   7.0s\n",
      "[CV] max_features=log2, min_samples_leaf=1, n_estimators=50 ..........\n",
      "[CV]  max_features=log2, min_samples_leaf=1, n_estimators=50, score=0.730779, total=   7.0s\n",
      "[CV] max_features=log2, min_samples_leaf=1, n_estimators=50 ..........\n",
      "[CV]  max_features=log2, min_samples_leaf=1, n_estimators=50, score=0.731284, total=   7.0s\n",
      "[CV] max_features=log2, min_samples_leaf=1, n_estimators=50 ..........\n",
      "[CV]  max_features=log2, min_samples_leaf=1, n_estimators=50, score=0.732909, total=   7.0s\n",
      "[CV] max_features=log2, min_samples_leaf=1, n_estimators=50 ..........\n",
      "[CV]  max_features=log2, min_samples_leaf=1, n_estimators=50, score=0.732659, total=   6.9s\n",
      "[CV] max_features=log2, min_samples_leaf=1, n_estimators=100 .........\n",
      "[CV]  max_features=log2, min_samples_leaf=1, n_estimators=100, score=0.742423, total=  12.8s\n",
      "[CV] max_features=log2, min_samples_leaf=1, n_estimators=100 .........\n",
      "[CV]  max_features=log2, min_samples_leaf=1, n_estimators=100, score=0.735345, total=  12.9s\n",
      "[CV] max_features=log2, min_samples_leaf=1, n_estimators=100 .........\n",
      "[CV]  max_features=log2, min_samples_leaf=1, n_estimators=100, score=0.735457, total=  12.9s\n",
      "[CV] max_features=log2, min_samples_leaf=1, n_estimators=100 .........\n",
      "[CV]  max_features=log2, min_samples_leaf=1, n_estimators=100, score=0.734481, total=  12.8s\n",
      "[CV] max_features=log2, min_samples_leaf=1, n_estimators=100 .........\n",
      "[CV]  max_features=log2, min_samples_leaf=1, n_estimators=100, score=0.734268, total=  12.9s\n",
      "[CV] max_features=log2, min_samples_leaf=1, n_estimators=100 .........\n",
      "[CV]  max_features=log2, min_samples_leaf=1, n_estimators=100, score=0.732863, total=  12.9s\n",
      "[CV] max_features=log2, min_samples_leaf=1, n_estimators=100 .........\n",
      "[CV]  max_features=log2, min_samples_leaf=1, n_estimators=100, score=0.731876, total=  12.8s\n",
      "[CV] max_features=log2, min_samples_leaf=1, n_estimators=100 .........\n",
      "[CV]  max_features=log2, min_samples_leaf=1, n_estimators=100, score=0.735569, total=  12.9s\n",
      "[CV] max_features=log2, min_samples_leaf=1, n_estimators=100 .........\n",
      "[CV]  max_features=log2, min_samples_leaf=1, n_estimators=100, score=0.737722, total=  12.8s\n",
      "[CV] max_features=log2, min_samples_leaf=1, n_estimators=100 .........\n",
      "[CV]  max_features=log2, min_samples_leaf=1, n_estimators=100, score=0.736778, total=  12.9s\n",
      "[CV] max_features=log2, min_samples_leaf=5, n_estimators=50 ..........\n",
      "[CV]  max_features=log2, min_samples_leaf=5, n_estimators=50, score=0.749948, total=   5.5s\n",
      "[CV] max_features=log2, min_samples_leaf=5, n_estimators=50 ..........\n",
      "[CV]  max_features=log2, min_samples_leaf=5, n_estimators=50, score=0.741781, total=   5.3s\n",
      "[CV] max_features=log2, min_samples_leaf=5, n_estimators=50 ..........\n",
      "[CV]  max_features=log2, min_samples_leaf=5, n_estimators=50, score=0.740911, total=   5.4s\n",
      "[CV] max_features=log2, min_samples_leaf=5, n_estimators=50 ..........\n",
      "[CV]  max_features=log2, min_samples_leaf=5, n_estimators=50, score=0.738356, total=   5.4s\n",
      "[CV] max_features=log2, min_samples_leaf=5, n_estimators=50 ..........\n",
      "[CV]  max_features=log2, min_samples_leaf=5, n_estimators=50, score=0.737974, total=   5.4s\n",
      "[CV] max_features=log2, min_samples_leaf=5, n_estimators=50 ..........\n",
      "[CV]  max_features=log2, min_samples_leaf=5, n_estimators=50, score=0.737456, total=   5.3s\n",
      "[CV] max_features=log2, min_samples_leaf=5, n_estimators=50 ..........\n",
      "[CV]  max_features=log2, min_samples_leaf=5, n_estimators=50, score=0.736860, total=   5.4s\n",
      "[CV] max_features=log2, min_samples_leaf=5, n_estimators=50 ..........\n",
      "[CV]  max_features=log2, min_samples_leaf=5, n_estimators=50, score=0.738704, total=   5.3s\n",
      "[CV] max_features=log2, min_samples_leaf=5, n_estimators=50 ..........\n",
      "[CV]  max_features=log2, min_samples_leaf=5, n_estimators=50, score=0.738278, total=   5.3s\n",
      "[CV] max_features=log2, min_samples_leaf=5, n_estimators=50 ..........\n",
      "[CV]  max_features=log2, min_samples_leaf=5, n_estimators=50, score=0.743371, total=   5.4s\n",
      "[CV] max_features=log2, min_samples_leaf=5, n_estimators=100 .........\n",
      "[CV]  max_features=log2, min_samples_leaf=5, n_estimators=100, score=0.747364, total=   9.8s\n",
      "[CV] max_features=log2, min_samples_leaf=5, n_estimators=100 .........\n",
      "[CV]  max_features=log2, min_samples_leaf=5, n_estimators=100, score=0.744254, total=   9.8s\n",
      "[CV] max_features=log2, min_samples_leaf=5, n_estimators=100 .........\n",
      "[CV]  max_features=log2, min_samples_leaf=5, n_estimators=100, score=0.743120, total=   9.8s\n",
      "[CV] max_features=log2, min_samples_leaf=5, n_estimators=100 .........\n",
      "[CV]  max_features=log2, min_samples_leaf=5, n_estimators=100, score=0.740562, total=   9.7s\n",
      "[CV] max_features=log2, min_samples_leaf=5, n_estimators=100 .........\n",
      "[CV]  max_features=log2, min_samples_leaf=5, n_estimators=100, score=0.738452, total=   9.9s\n",
      "[CV] max_features=log2, min_samples_leaf=5, n_estimators=100 .........\n",
      "[CV]  max_features=log2, min_samples_leaf=5, n_estimators=100, score=0.735587, total=   9.8s\n",
      "[CV] max_features=log2, min_samples_leaf=5, n_estimators=100 .........\n",
      "[CV]  max_features=log2, min_samples_leaf=5, n_estimators=100, score=0.739359, total=   9.8s\n",
      "[CV] max_features=log2, min_samples_leaf=5, n_estimators=100 .........\n",
      "[CV]  max_features=log2, min_samples_leaf=5, n_estimators=100, score=0.737735, total=   9.8s\n",
      "[CV] max_features=log2, min_samples_leaf=5, n_estimators=100 .........\n",
      "[CV]  max_features=log2, min_samples_leaf=5, n_estimators=100, score=0.739480, total=   9.7s\n",
      "[CV] max_features=log2, min_samples_leaf=5, n_estimators=100 .........\n",
      "[CV]  max_features=log2, min_samples_leaf=5, n_estimators=100, score=0.744363, total=   9.9s\n",
      "[CV] max_features=log2, min_samples_leaf=10, n_estimators=50 .........\n",
      "[CV]  max_features=log2, min_samples_leaf=10, n_estimators=50, score=0.744976, total=   5.0s\n",
      "[CV] max_features=log2, min_samples_leaf=10, n_estimators=50 .........\n",
      "[CV]  max_features=log2, min_samples_leaf=10, n_estimators=50, score=0.738607, total=   5.0s\n",
      "[CV] max_features=log2, min_samples_leaf=10, n_estimators=50 .........\n",
      "[CV]  max_features=log2, min_samples_leaf=10, n_estimators=50, score=0.739482, total=   5.1s\n",
      "[CV] max_features=log2, min_samples_leaf=10, n_estimators=50 .........\n",
      "[CV]  max_features=log2, min_samples_leaf=10, n_estimators=50, score=0.736507, total=   5.1s\n",
      "[CV] max_features=log2, min_samples_leaf=10, n_estimators=50 .........\n",
      "[CV]  max_features=log2, min_samples_leaf=10, n_estimators=50, score=0.734582, total=   5.0s\n",
      "[CV] max_features=log2, min_samples_leaf=10, n_estimators=50 .........\n",
      "[CV]  max_features=log2, min_samples_leaf=10, n_estimators=50, score=0.730143, total=   5.1s\n",
      "[CV] max_features=log2, min_samples_leaf=10, n_estimators=50 .........\n",
      "[CV]  max_features=log2, min_samples_leaf=10, n_estimators=50, score=0.735325, total=   5.0s\n",
      "[CV] max_features=log2, min_samples_leaf=10, n_estimators=50 .........\n",
      "[CV]  max_features=log2, min_samples_leaf=10, n_estimators=50, score=0.734373, total=   5.1s\n",
      "[CV] max_features=log2, min_samples_leaf=10, n_estimators=50 .........\n",
      "[CV]  max_features=log2, min_samples_leaf=10, n_estimators=50, score=0.733984, total=   5.0s\n",
      "[CV] max_features=log2, min_samples_leaf=10, n_estimators=50 .........\n",
      "[CV]  max_features=log2, min_samples_leaf=10, n_estimators=50, score=0.736251, total=   5.1s\n",
      "[CV] max_features=log2, min_samples_leaf=10, n_estimators=100 ........\n",
      "[CV]  max_features=log2, min_samples_leaf=10, n_estimators=100, score=0.743620, total=   9.2s\n",
      "[CV] max_features=log2, min_samples_leaf=10, n_estimators=100 ........\n",
      "[CV]  max_features=log2, min_samples_leaf=10, n_estimators=100, score=0.739576, total=   9.1s\n",
      "[CV] max_features=log2, min_samples_leaf=10, n_estimators=100 ........\n",
      "[CV]  max_features=log2, min_samples_leaf=10, n_estimators=100, score=0.737836, total=   9.1s\n",
      "[CV] max_features=log2, min_samples_leaf=10, n_estimators=100 ........\n",
      "[CV]  max_features=log2, min_samples_leaf=10, n_estimators=100, score=0.737533, total=   9.2s\n",
      "[CV] max_features=log2, min_samples_leaf=10, n_estimators=100 ........\n",
      "[CV]  max_features=log2, min_samples_leaf=10, n_estimators=100, score=0.734527, total=   9.1s\n",
      "[CV] max_features=log2, min_samples_leaf=10, n_estimators=100 ........\n",
      "[CV]  max_features=log2, min_samples_leaf=10, n_estimators=100, score=0.732378, total=   9.1s\n",
      "[CV] max_features=log2, min_samples_leaf=10, n_estimators=100 ........\n",
      "[CV]  max_features=log2, min_samples_leaf=10, n_estimators=100, score=0.735145, total=   9.1s\n",
      "[CV] max_features=log2, min_samples_leaf=10, n_estimators=100 ........\n",
      "[CV]  max_features=log2, min_samples_leaf=10, n_estimators=100, score=0.735565, total=   9.1s\n",
      "[CV] max_features=log2, min_samples_leaf=10, n_estimators=100 ........\n",
      "[CV]  max_features=log2, min_samples_leaf=10, n_estimators=100, score=0.734252, total=   9.1s\n",
      "[CV] max_features=log2, min_samples_leaf=10, n_estimators=100 ........\n",
      "[CV]  max_features=log2, min_samples_leaf=10, n_estimators=100, score=0.738891, total=   9.1s\n",
      "[CV] max_features=log2, min_samples_leaf=50, n_estimators=50 .........\n",
      "[CV]  max_features=log2, min_samples_leaf=50, n_estimators=50, score=0.732716, total=   4.2s\n",
      "[CV] max_features=log2, min_samples_leaf=50, n_estimators=50 .........\n",
      "[CV]  max_features=log2, min_samples_leaf=50, n_estimators=50, score=0.729972, total=   4.3s\n",
      "[CV] max_features=log2, min_samples_leaf=50, n_estimators=50 .........\n",
      "[CV]  max_features=log2, min_samples_leaf=50, n_estimators=50, score=0.727826, total=   4.2s\n",
      "[CV] max_features=log2, min_samples_leaf=50, n_estimators=50 .........\n",
      "[CV]  max_features=log2, min_samples_leaf=50, n_estimators=50, score=0.728017, total=   4.3s\n",
      "[CV] max_features=log2, min_samples_leaf=50, n_estimators=50 .........\n",
      "[CV]  max_features=log2, min_samples_leaf=50, n_estimators=50, score=0.721965, total=   4.3s\n",
      "[CV] max_features=log2, min_samples_leaf=50, n_estimators=50 .........\n",
      "[CV]  max_features=log2, min_samples_leaf=50, n_estimators=50, score=0.720782, total=   4.2s\n",
      "[CV] max_features=log2, min_samples_leaf=50, n_estimators=50 .........\n",
      "[CV]  max_features=log2, min_samples_leaf=50, n_estimators=50, score=0.726019, total=   4.2s\n",
      "[CV] max_features=log2, min_samples_leaf=50, n_estimators=50 .........\n",
      "[CV]  max_features=log2, min_samples_leaf=50, n_estimators=50, score=0.725199, total=   4.3s\n",
      "[CV] max_features=log2, min_samples_leaf=50, n_estimators=50 .........\n",
      "[CV]  max_features=log2, min_samples_leaf=50, n_estimators=50, score=0.723605, total=   4.3s\n",
      "[CV] max_features=log2, min_samples_leaf=50, n_estimators=50 .........\n",
      "[CV]  max_features=log2, min_samples_leaf=50, n_estimators=50, score=0.729668, total=   4.2s\n",
      "[CV] max_features=log2, min_samples_leaf=50, n_estimators=100 ........\n",
      "[CV]  max_features=log2, min_samples_leaf=50, n_estimators=100, score=0.731896, total=   7.6s\n",
      "[CV] max_features=log2, min_samples_leaf=50, n_estimators=100 ........\n",
      "[CV]  max_features=log2, min_samples_leaf=50, n_estimators=100, score=0.727767, total=   7.5s\n",
      "[CV] max_features=log2, min_samples_leaf=50, n_estimators=100 ........\n",
      "[CV]  max_features=log2, min_samples_leaf=50, n_estimators=100, score=0.727151, total=   7.5s\n",
      "[CV] max_features=log2, min_samples_leaf=50, n_estimators=100 ........\n",
      "[CV]  max_features=log2, min_samples_leaf=50, n_estimators=100, score=0.728548, total=   7.5s\n",
      "[CV] max_features=log2, min_samples_leaf=50, n_estimators=100 ........\n",
      "[CV]  max_features=log2, min_samples_leaf=50, n_estimators=100, score=0.727280, total=   7.5s\n",
      "[CV] max_features=log2, min_samples_leaf=50, n_estimators=100 ........\n",
      "[CV]  max_features=log2, min_samples_leaf=50, n_estimators=100, score=0.723025, total=   7.6s\n",
      "[CV] max_features=log2, min_samples_leaf=50, n_estimators=100 ........\n",
      "[CV]  max_features=log2, min_samples_leaf=50, n_estimators=100, score=0.726375, total=   7.4s\n",
      "[CV] max_features=log2, min_samples_leaf=50, n_estimators=100 ........\n",
      "[CV]  max_features=log2, min_samples_leaf=50, n_estimators=100, score=0.726985, total=   7.5s\n",
      "[CV] max_features=log2, min_samples_leaf=50, n_estimators=100 ........\n",
      "[CV]  max_features=log2, min_samples_leaf=50, n_estimators=100, score=0.720516, total=   7.5s\n",
      "[CV] max_features=log2, min_samples_leaf=50, n_estimators=100 ........\n",
      "[CV]  max_features=log2, min_samples_leaf=50, n_estimators=100, score=0.727493, total=   7.5s\n",
      "[CV] max_features=log2, min_samples_leaf=100, n_estimators=50 ........\n",
      "[CV]  max_features=log2, min_samples_leaf=100, n_estimators=50, score=0.729474, total=   3.8s\n",
      "[CV] max_features=log2, min_samples_leaf=100, n_estimators=50 ........\n",
      "[CV]  max_features=log2, min_samples_leaf=100, n_estimators=50, score=0.726486, total=   3.8s\n",
      "[CV] max_features=log2, min_samples_leaf=100, n_estimators=50 ........\n",
      "[CV]  max_features=log2, min_samples_leaf=100, n_estimators=50, score=0.723782, total=   3.9s\n",
      "[CV] max_features=log2, min_samples_leaf=100, n_estimators=50 ........\n",
      "[CV]  max_features=log2, min_samples_leaf=100, n_estimators=50, score=0.723402, total=   3.9s\n",
      "[CV] max_features=log2, min_samples_leaf=100, n_estimators=50 ........\n",
      "[CV]  max_features=log2, min_samples_leaf=100, n_estimators=50, score=0.720168, total=   3.9s\n",
      "[CV] max_features=log2, min_samples_leaf=100, n_estimators=50 ........\n",
      "[CV]  max_features=log2, min_samples_leaf=100, n_estimators=50, score=0.717041, total=   3.9s\n",
      "[CV] max_features=log2, min_samples_leaf=100, n_estimators=50 ........\n",
      "[CV]  max_features=log2, min_samples_leaf=100, n_estimators=50, score=0.722342, total=   3.9s\n",
      "[CV] max_features=log2, min_samples_leaf=100, n_estimators=50 ........\n",
      "[CV]  max_features=log2, min_samples_leaf=100, n_estimators=50, score=0.720841, total=   3.9s\n",
      "[CV] max_features=log2, min_samples_leaf=100, n_estimators=50 ........\n",
      "[CV]  max_features=log2, min_samples_leaf=100, n_estimators=50, score=0.716792, total=   3.8s\n",
      "[CV] max_features=log2, min_samples_leaf=100, n_estimators=50 ........\n",
      "[CV]  max_features=log2, min_samples_leaf=100, n_estimators=50, score=0.722658, total=   3.9s\n",
      "[CV] max_features=log2, min_samples_leaf=100, n_estimators=100 .......\n",
      "[CV]  max_features=log2, min_samples_leaf=100, n_estimators=100, score=0.727882, total=   6.8s\n",
      "[CV] max_features=log2, min_samples_leaf=100, n_estimators=100 .......\n",
      "[CV]  max_features=log2, min_samples_leaf=100, n_estimators=100, score=0.722675, total=   6.7s\n",
      "[CV] max_features=log2, min_samples_leaf=100, n_estimators=100 .......\n",
      "[CV]  max_features=log2, min_samples_leaf=100, n_estimators=100, score=0.722982, total=   6.7s\n",
      "[CV] max_features=log2, min_samples_leaf=100, n_estimators=100 .......\n",
      "[CV]  max_features=log2, min_samples_leaf=100, n_estimators=100, score=0.723248, total=   6.7s\n",
      "[CV] max_features=log2, min_samples_leaf=100, n_estimators=100 .......\n",
      "[CV]  max_features=log2, min_samples_leaf=100, n_estimators=100, score=0.720734, total=   6.7s\n",
      "[CV] max_features=log2, min_samples_leaf=100, n_estimators=100 .......\n",
      "[CV]  max_features=log2, min_samples_leaf=100, n_estimators=100, score=0.714075, total=   6.7s\n",
      "[CV] max_features=log2, min_samples_leaf=100, n_estimators=100 .......\n",
      "[CV]  max_features=log2, min_samples_leaf=100, n_estimators=100, score=0.722463, total=   6.7s\n",
      "[CV] max_features=log2, min_samples_leaf=100, n_estimators=100 .......\n",
      "[CV]  max_features=log2, min_samples_leaf=100, n_estimators=100, score=0.723219, total=   6.7s\n",
      "[CV] max_features=log2, min_samples_leaf=100, n_estimators=100 .......\n",
      "[CV]  max_features=log2, min_samples_leaf=100, n_estimators=100, score=0.720000, total=   6.6s\n",
      "[CV] max_features=log2, min_samples_leaf=100, n_estimators=100 .......\n",
      "[CV]  max_features=log2, min_samples_leaf=100, n_estimators=100, score=0.720822, total=   6.7s\n"
     ]
    },
    {
     "name": "stderr",
     "output_type": "stream",
     "text": [
      "[Parallel(n_jobs=1)]: Done 300 out of 300 | elapsed: 54.1min finished\n"
     ]
    },
    {
     "data": {
      "text/plain": [
       "GridSearchCV(cv=10, error_score='raise',\n",
       "       estimator=RandomForestClassifier(bootstrap=True, class_weight='balanced',\n",
       "            criterion='gini', max_depth=None, max_features='auto',\n",
       "            max_leaf_nodes=None, min_impurity_split=1e-07,\n",
       "            min_samples_leaf=1, min_samples_split=2,\n",
       "            min_weight_fraction_leaf=0.0, n_estimators=10, n_jobs=4,\n",
       "            oob_score=False, random_state=None, verbose=0,\n",
       "            warm_start=False),\n",
       "       fit_params={}, iid=True, n_jobs=1,\n",
       "       param_grid={'max_features': [0.2, 'auto', 'log2'], 'n_estimators': [50, 100], 'min_samples_leaf': [1, 5, 10, 50, 100]},\n",
       "       pre_dispatch='2*n_jobs', refit=True, return_train_score=True,\n",
       "       scoring='f1', verbose=3)"
      ]
     },
     "execution_count": 47,
     "metadata": {},
     "output_type": "execute_result"
    }
   ],
   "source": [
    "grid_rf_l84.fit(X_train_v4, y_train_v4)"
   ]
  },
  {
   "cell_type": "code",
   "execution_count": 48,
   "metadata": {
    "collapsed": false
   },
   "outputs": [
    {
     "name": "stdout",
     "output_type": "stream",
     "text": [
      "{'max_features': 0.2, 'min_samples_leaf': 5, 'n_estimators': 100}\n"
     ]
    }
   ],
   "source": [
    "print(grid_rf_l84.best_params_)"
   ]
  },
  {
   "cell_type": "code",
   "execution_count": 148,
   "metadata": {
    "collapsed": false
   },
   "outputs": [],
   "source": [
    "# Run RF with optimal paramters \n",
    "opt_rf_l84 = RandomForestClassifier(class_weight = 'balanced', max_features = 0.2, min_samples_leaf = 5, n_estimators = 100)\n",
    "opt_rf_l84.fit(X_train_l84, y_train_l84)\n",
    "opt_rf_l84_pred = opt_rf_l84.predict(X_test_l84)"
   ]
  },
  {
   "cell_type": "code",
   "execution_count": 149,
   "metadata": {
    "collapsed": false
   },
   "outputs": [
    {
     "name": "stdout",
     "output_type": "stream",
     "text": [
      "             precision    recall  f1-score   support\n",
      "\n",
      "          0       0.75      0.75      0.75     51666\n",
      "          1       0.69      0.70      0.69     41974\n",
      "\n",
      "avg / total       0.73      0.72      0.72     93640\n",
      "\n"
     ]
    }
   ],
   "source": [
    "print(classification_report(y_test_l84, opt_rf_l84_pred))"
   ]
  },
  {
   "cell_type": "markdown",
   "metadata": {},
   "source": [
    "Random Forest, again, performs much better than Logistic Regression. \n",
    "Let's compare the performance with a **random model**. We will define this classifier as  one that is aware of the proportion (imblance) of classes in the training data, and makes predictions on testing data according to the ratio of positive and negative examples it sees in the training data. "
   ]
  },
  {
   "cell_type": "code",
   "execution_count": 150,
   "metadata": {
    "collapsed": false
   },
   "outputs": [],
   "source": [
    "# Build a random/control models to compare Random Forest performance with\n",
    "\n",
    "# proportion of positive class in training data\n",
    "pos_prop = np.sum(y_train_l84)/len(y_train_l84)  \n",
    "\n",
    "expected_pos_in_test = np.round(pos_prop*(len(y_test_l84)))\n",
    "               \n",
    "                \n",
    "#control predicts accroding to proportions of positive and negative examples in the training data\n",
    "zs = np.zeros(len(y_test_l84) - int(expected_pos_in_test)) #zeros\n",
    "os = np.ones((int(expected_pos_in_test)))\n",
    "                \n",
    "zo = np.concatenate((zs, os))\n",
    "                \n",
    "y_test_control = np.random.permutation(zo)              "
   ]
  },
  {
   "cell_type": "code",
   "execution_count": 151,
   "metadata": {
    "collapsed": false
   },
   "outputs": [
    {
     "name": "stdout",
     "output_type": "stream",
     "text": [
      "             precision    recall  f1-score   support\n",
      "\n",
      "          0       0.55      0.55      0.55     51666\n",
      "          1       0.45      0.45      0.45     41974\n",
      "\n",
      "avg / total       0.50      0.50      0.50     93640\n",
      "\n"
     ]
    }
   ],
   "source": [
    "print(classification_report(y_test_l84, y_test_control))"
   ]
  },
  {
   "cell_type": "markdown",
   "metadata": {},
   "source": [
    "Random (control) model has much lower precision and recall than random forest for loans with duration < 84 months.\n",
    "Let's again examine feature importances. "
   ]
  },
  {
   "cell_type": "code",
   "execution_count": 152,
   "metadata": {
    "collapsed": false
   },
   "outputs": [
    {
     "name": "stdout",
     "output_type": "stream",
     "text": [
      "Feature ranking:\n",
      "1. feature SP_to2016 (0.292469)\n",
      "2. feature SBAGuaranteedApprovalAdj (0.223540)\n",
      "3. feature JobsSupported (0.105142)\n",
      "4. feature RevolverStatus (0.033626)\n",
      "5. feature CA (0.030379)\n",
      "6. feature FL (0.028354)\n",
      "7. feature INDIVIDUAL (0.016313)\n",
      "8. feature Retail Trade (0.014411)\n",
      "9. feature GA (0.011998)\n",
      "10. feature FranchiseCodeBin (0.011044)\n",
      "11. feature TX (0.010766)\n",
      "12. feature Health Care & Social Assistance (0.010093)\n",
      "13. feature NY (0.008990)\n",
      "14. feature PA (0.008569)\n",
      "15. feature Construction (0.008569)\n",
      "16. feature MA (0.008212)\n",
      "17. feature Professional, Scientific, & Technical Services (0.008151)\n",
      "18. feature Other Services (0.008149)\n",
      "19. feature Wholesale Trade (0.007433)\n",
      "20. feature Manufacturing (0.007338)\n",
      "21. feature PR (0.006617)\n",
      "22. feature IL (0.006583)\n",
      "23. feature Transportation & Warehousing (0.006499)\n",
      "24. feature AZ (0.005324)\n",
      "25. feature Administrative/Support/Waste Management (0.005064)\n",
      "26. feature OH (0.005049)\n",
      "27. feature NJ (0.004932)\n",
      "28. feature MT (0.004821)\n",
      "29. feature UT (0.004590)\n",
      "30. feature MI (0.004261)\n",
      "31. feature MN (0.004245)\n",
      "32. feature CO (0.004133)\n",
      "33. feature NH (0.003975)\n",
      "34. feature MD (0.003745)\n",
      "35. feature ME (0.003641)\n",
      "36. feature NV (0.003479)\n",
      "37. feature WA (0.003336)\n",
      "38. feature Agriculture (0.003289)\n",
      "39. feature PARTNERSHIP (0.003249)\n",
      "40. feature CT (0.003063)\n",
      "41. feature WI (0.002955)\n",
      "42. feature Real Estate Rental & Leasing (0.002953)\n",
      "43. feature MO (0.002760)\n",
      "44. feature IN (0.002750)\n",
      "45. feature HI (0.002668)\n",
      "46. feature VA (0.002642)\n",
      "47. feature VT (0.002491)\n",
      "48. feature NC (0.002464)\n",
      "49. feature Arts, Entertainment, & Recreation (0.002368)\n",
      "50. feature ND (0.002146)\n",
      "51. feature Information (0.002073)\n",
      "52. feature KY (0.002007)\n",
      "53. feature RI (0.001916)\n",
      "54. feature KS (0.001796)\n",
      "55. feature Finance & Insurance (0.001791)\n",
      "56. feature TN (0.001714)\n",
      "57. feature LA (0.001650)\n",
      "58. feature NE (0.001594)\n",
      "59. feature OR (0.001591)\n",
      "60. feature IA (0.001557)\n",
      "61. feature OK (0.001529)\n",
      "62. feature AR (0.001475)\n",
      "63. feature AL (0.001355)\n",
      "64. feature MS (0.001236)\n",
      "65. feature SC (0.001184)\n",
      "66. feature Mining (0.001071)\n",
      "67. feature ID (0.001058)\n",
      "68. feature Educational Services (0.000965)\n",
      "69. feature NM (0.000886)\n",
      "70. feature DC (0.000545)\n",
      "71. feature WV (0.000402)\n",
      "72. feature SD (0.000350)\n",
      "73. feature WY (0.000337)\n",
      "74. feature DE (0.000247)\n",
      "75. feature Utilities (0.000027)\n",
      "76. feature Public Administration (0.000006)\n",
      "77. feature Management of Companies & Enterprises (0.000000)\n"
     ]
    },
    {
     "data": {
      "text/plain": [
       "<matplotlib.figure.Figure at 0x1470b82b0>"
      ]
     },
     "metadata": {},
     "output_type": "display_data"
    }
   ],
   "source": [
    "# Feature ranking for random forest\n",
    "fig = plt.figure(figsize = (15,5))\n",
    "importances_rf_l84 = opt_rf_l84.feature_importances_\n",
    "std = np.std([tree.feature_importances_ for tree in opt_rf_l84.estimators_],\n",
    "            axis=0)\n",
    "indices_rf_l84 = np.argsort(importances_rf_l84)[::-1]\n",
    "fts_rf_l84 = list(X_train_l84.columns)\n",
    "# Print the feature ranking\n",
    "print(\"Feature ranking:\")\n",
    "\n",
    "for f in range(X_train_l84.shape[1]):\n",
    "   print(\"%d. feature %s (%f)\" % (f + 1, fts_rf_l84[indices_rf_l84[f]], importances_rf_l84[indices_rf_l84[f]]))"
   ]
  },
  {
   "cell_type": "code",
   "execution_count": 154,
   "metadata": {
    "collapsed": false
   },
   "outputs": [
    {
     "data": {
      "image/png": "[encoded data removed]",
      "text/plain": [
       "<matplotlib.figure.Figure at 0x12e48d518>"
      ]
     },
     "metadata": {},
     "output_type": "display_data"
    }
   ],
   "source": [
    "# Plot the feature importances of the forest\n",
    "importances = opt_rf_l84.feature_importances_\n",
    "std = np.std([tree.feature_importances_ for tree in opt_rf_l84.estimators_],\n",
    "             axis=0)\n",
    "indices = np.argsort(importances)[::-1]\n",
    "\n",
    "# Plot the feature importances of the forest\n",
    "fig = plt.figure(figsize = (10,5))\n",
    "\n",
    "plt.title(\"Feature importances\")\n",
    "plt.barh(range(10), importances[indices][0:10][::-1],\n",
    "       color=\"r\", xerr=std[indices][0:10][::-1], align=\"center\")\n",
    "# If you want to define your own labels,\n",
    "# change indices to a list of labels on the following line.\n",
    "plt.yticks(range(10), ['S&P 1500', 'Amount', 'Jobs Supported', 'Revolver Status',\n",
    "                       'CA',  'FL', 'Individual', 'Retail Trade', 'GA', 'Franchise'][::-1])\n",
    "    \n",
    "plt.ylim([-1,10])\n",
    "plt.tight_layout()\n",
    "\n",
    "\n",
    "fig.savefig('L84_RF_FImportance.png', dpi = 300)"
   ]
  },
  {
   "cell_type": "markdown",
   "metadata": {},
   "source": [
    "This is similar to what we had before - the S&P 1500 and the amount of the loan are the most important factors, followed by the number of jobs the business supports."
   ]
  }
 ],
 "metadata": {
  "kernelspec": {
   "display_name": "Python 3",
   "language": "python",
   "name": "python3"
  },
  "language_info": {
   "codemirror_mode": {
    "name": "ipython",
    "version": 3
   },
   "file_extension": ".py",
   "mimetype": "text/x-python",
   "name": "python",
   "nbconvert_exporter": "python",
   "pygments_lexer": "ipython3",
   "version": "3.6.0"
  }
 },
 "nbformat": 4,
 "nbformat_minor": 2
}
