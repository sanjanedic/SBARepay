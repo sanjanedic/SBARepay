{
 "cells": [
  {
   "cell_type": "markdown",
   "metadata": {},
   "source": [
    "# Predicting Loan Defaults for Small Business Loans\n"
   ]
  },
  {
   "cell_type": "markdown",
   "metadata": {},
   "source": [
    "## Building a model"
   ]
  },
  {
   "cell_type": "code",
   "execution_count": 28,
   "metadata": {
    "collapsed": false
   },
   "outputs": [],
   "source": [
    "#Import necessary Python packages \n",
    "\n",
    "#data analysis tools\n",
    "import numpy as np\n",
    "import pandas as pd\n",
    "import datetime\n",
    "from dateutil.relativedelta import relativedelta\n",
    "\n",
    "\n",
    "#plotting tools\n",
    "import matplotlib.pyplot as plt\n",
    "%matplotlib inline\n",
    "import seaborn as sns\n",
    "import graphviz \n",
    "\n",
    "#classification \n",
    "from sklearn.model_selection import train_test_split, GridSearchCV\n",
    "from sklearn.linear_model import LogisticRegression, LinearRegression\n",
    "from sklearn.metrics import classification_report, confusion_matrix\n",
    "from sklearn import tree\n",
    "from sklearn.tree import DecisionTreeClassifier\n",
    "from sklearn.ensemble import RandomForestClassifier, GradientBoostingClassifier\n",
    "from sklearn.ensemble import RandomForestRegressor\n"
   ]
  },
  {
   "cell_type": "code",
   "execution_count": 2,
   "metadata": {
    "collapsed": true
   },
   "outputs": [],
   "source": [
    "#Load cleaned data\n",
    "data = pd.read_pickle('loans_7a_matured')"
   ]
  },
  {
   "cell_type": "code",
   "execution_count": 3,
   "metadata": {
    "collapsed": false
   },
   "outputs": [
    {
     "name": "stdout",
     "output_type": "stream",
     "text": [
      "<class 'pandas.core.frame.DataFrame'>\n",
      "RangeIndex: 650263 entries, 0 to 650262\n",
      "Columns: 106 entries, TermInMonths to 2017\n",
      "dtypes: float64(2), int64(4), object(1), uint8(99)\n",
      "memory usage: 96.1+ MB\n"
     ]
    }
   ],
   "source": [
    "data.info()"
   ]
  },
  {
   "cell_type": "markdown",
   "metadata": {},
   "source": [
    "### Remove the year - to make the model useful for future years "
   ]
  },
  {
   "cell_type": "code",
   "execution_count": 20,
   "metadata": {
    "collapsed": false
   },
   "outputs": [],
   "source": [
    "data.drop(list(data.columns)[80:], axis = 1, inplace = True)"
   ]
  },
  {
   "cell_type": "markdown",
   "metadata": {},
   "source": [
    "### Target Variable:\n",
    "Loan Status - Paid in full  \n",
    "\n"
   ]
  },
  {
   "cell_type": "code",
   "execution_count": 22,
   "metadata": {
    "collapsed": false
   },
   "outputs": [
    {
     "data": {
      "text/plain": [
       "1    492214\n",
       "0    158049\n",
       "Name: PIF, dtype: int64"
      ]
     },
     "execution_count": 22,
     "metadata": {},
     "output_type": "execute_result"
    }
   ],
   "source": [
    "data['PIF'].value_counts()"
   ]
  },
  {
   "cell_type": "code",
   "execution_count": 23,
   "metadata": {
    "collapsed": false
   },
   "outputs": [
    {
     "data": {
      "text/plain": [
       "24.305396431905244"
      ]
     },
     "execution_count": 23,
     "metadata": {},
     "output_type": "execute_result"
    }
   ],
   "source": [
    "#percent defaulted\n",
    "100*(data['PIF']==0).sum() / len(data)"
   ]
  },
  {
   "cell_type": "code",
   "execution_count": 24,
   "metadata": {
    "collapsed": false
   },
   "outputs": [],
   "source": [
    "#split into training and testing \n",
    "#random split\n",
    "X_train_v1, X_test_v1, y_train_v1, y_test_v1 = train_test_split(data.drop(['GrossChargeOffAmountAdj', 'PIF'], axis = 1),\n",
    "                                                               data['PIF'], test_size=0.30, random_state=101)\n"
   ]
  },
  {
   "cell_type": "code",
   "execution_count": 25,
   "metadata": {
    "collapsed": true
   },
   "outputs": [],
   "source": [
    "#Try logistic regression first \n",
    "logmodel_v1 = LogisticRegression(class_weight = 'balanced', n_jobs = -1)\n",
    "logmodel_v1.fit(X_train_v1, y_train_v1)\n",
    "lm_v1_pred = logmodel_v1.predict(X_test_v1)"
   ]
  },
  {
   "cell_type": "code",
   "execution_count": 26,
   "metadata": {
    "collapsed": false
   },
   "outputs": [
    {
     "name": "stdout",
     "output_type": "stream",
     "text": [
      "             precision    recall  f1-score   support\n",
      "\n",
      "          0       0.50      0.75      0.60     47468\n",
      "          1       0.90      0.76      0.82    147611\n",
      "\n",
      "avg / total       0.80      0.75      0.77    195079\n",
      "\n"
     ]
    }
   ],
   "source": [
    "print(classification_report(y_test_v1, lm_v1_pred))"
   ]
  },
  {
   "cell_type": "code",
   "execution_count": 29,
   "metadata": {
    "collapsed": false
   },
   "outputs": [
    {
     "name": "stdout",
     "output_type": "stream",
     "text": [
      "Fitting 3 folds for each of 13 candidates, totalling 39 fits\n"
     ]
    },
    {
     "name": "stderr",
     "output_type": "stream",
     "text": [
      "[Parallel(n_jobs=1)]: Done  39 out of  39 | elapsed:  3.6min finished\n"
     ]
    },
    {
     "name": "stdout",
     "output_type": "stream",
     "text": [
      "{'C': 0.001}\n"
     ]
    }
   ],
   "source": [
    "#GridSearch for Logistic Regression - vary the amount of regularization\n",
    "param_grid = {'C': [0.001, 0.005, 0.1, 0.5, 1, 5, 10, 50, 100, 500, 1000, 5000, 10000]}\n",
    "grid_logmodel = GridSearchCV(LogisticRegression(class_weight = 'balanced', n_jobs = -1), param_grid, refit=True,verbose=1)\n",
    "grid_logmodel.fit(X_train_v1, y_train_v1)\n",
    "print(grid_logmodel.best_params_)"
   ]
  },
  {
   "cell_type": "code",
   "execution_count": 32,
   "metadata": {
    "collapsed": false
   },
   "outputs": [],
   "source": [
    "grid_pred = grid_logmodel.predict(X_test_v1)"
   ]
  },
  {
   "cell_type": "code",
   "execution_count": 33,
   "metadata": {
    "collapsed": false
   },
   "outputs": [
    {
     "name": "stdout",
     "output_type": "stream",
     "text": [
      "             precision    recall  f1-score   support\n",
      "\n",
      "          0       0.50      0.75      0.60     47468\n",
      "          1       0.90      0.76      0.82    147611\n",
      "\n",
      "avg / total       0.80      0.75      0.77    195079\n",
      "\n"
     ]
    }
   ],
   "source": [
    "print(classification_report(y_test_v1, grid_pred))"
   ]
  },
  {
   "cell_type": "markdown",
   "metadata": {},
   "source": [
    "Not much better than with the default C = 1!"
   ]
  },
  {
   "cell_type": "code",
   "execution_count": 34,
   "metadata": {
    "collapsed": false
   },
   "outputs": [
    {
     "name": "stdout",
     "output_type": "stream",
     "text": [
      "             precision    recall  f1-score   support\n",
      "\n",
      "          0       0.57      0.94      0.71     47468\n",
      "          1       0.98      0.77      0.86    147611\n",
      "\n",
      "avg / total       0.88      0.81      0.83    195079\n",
      "\n"
     ]
    }
   ],
   "source": [
    "#try simple decision tree with random split\n",
    "#better accuracy can be achieved without the max_depth and min_samples_leaf constraints\n",
    "\n",
    "dtree = DecisionTreeClassifier(max_depth = 4, min_samples_leaf = 5, class_weight = 'balanced')\n",
    "dtree.fit(X_train_v1, y_train_v1)\n",
    "tree_pred = dtree.predict(X_test_v1)\n",
    "\n",
    "print(classification_report(y_test_v1, tree_pred))\n"
   ]
  },
  {
   "cell_type": "code",
   "execution_count": 40,
   "metadata": {
    "collapsed": false
   },
   "outputs": [
    {
     "data": {
      "image/svg+xml": [
       "<?xml version=\"1.0\" encoding=\"UTF-8\" standalone=\"no\"?>\n",
       "<!DOCTYPE svg PUBLIC \"-//W3C//DTD SVG 1.1//EN\"\n",
       " \"http://www.w3.org/Graphics/SVG/1.1/DTD/svg11.dtd\">\n",
       "<!-- Generated by graphviz version 2.38.0 (20140413.2041)\n",
       " -->\n",
       "<!-- Title: Tree Pages: 1 -->\n",
       "<svg width=\"3702pt\" height=\"528pt\"\n",
       " viewBox=\"0.00 0.00 3701.50 528.00\" xmlns=\"http://www.w3.org/2000/svg\" xmlns:xlink=\"http://www.w3.org/1999/xlink\">\n",
       "<g id=\"graph0\" class=\"graph\" transform=\"scale(1 1) rotate(0) translate(4 524)\">\n",
       "<title>Tree</title>\n",
       "<polygon fill=\"white\" stroke=\"none\" points=\"-4,4 -4,-524 3697.5,-524 3697.5,4 -4,4\"/>\n",
       "<!-- 0 -->\n",
       "<g id=\"node1\" class=\"node\"><title>0</title>\n",
       "<path fill=\"none\" stroke=\"black\" d=\"M1938.71,-520C1938.71,-520 1765.17,-520 1765.17,-520 1759.17,-520 1753.17,-514 1753.17,-508 1753.17,-508 1753.17,-454 1753.17,-454 1753.17,-448 1759.17,-442 1765.17,-442 1765.17,-442 1938.71,-442 1938.71,-442 1944.71,-442 1950.71,-448 1950.71,-454 1950.71,-454 1950.71,-508 1950.71,-508 1950.71,-514 1944.71,-520 1938.71,-520\"/>\n",
       "<text text-anchor=\"start\" x=\"1786.24\" y=\"-504.8\" font-family=\"Helvetica,sans-Serif\" font-size=\"14.00\">TermInMonths ≤ 82.5</text>\n",
       "<text text-anchor=\"start\" x=\"1823.33\" y=\"-490.8\" font-family=\"Helvetica,sans-Serif\" font-size=\"14.00\">gini = 0.5</text>\n",
       "<text text-anchor=\"start\" x=\"1794.54\" y=\"-476.8\" font-family=\"Helvetica,sans-Serif\" font-size=\"14.00\">samples = 455184</text>\n",
       "<text text-anchor=\"start\" x=\"1761.06\" y=\"-462.8\" font-family=\"Helvetica,sans-Serif\" font-size=\"14.00\">value = [227592.0, 227592.0]</text>\n",
       "<text text-anchor=\"start\" x=\"1817.12\" y=\"-448.8\" font-family=\"Helvetica,sans-Serif\" font-size=\"14.00\">class = PIF</text>\n",
       "</g>\n",
       "<!-- 1 -->\n",
       "<g id=\"node2\" class=\"node\"><title>1</title>\n",
       "<path fill=\"#e58139\" fill-opacity=\"0.611765\" stroke=\"black\" d=\"M1515.14,-406C1515.14,-406 1302.74,-406 1302.74,-406 1296.74,-406 1290.74,-400 1290.74,-394 1290.74,-394 1290.74,-340 1290.74,-340 1290.74,-334 1296.74,-328 1302.74,-328 1302.74,-328 1515.14,-328 1515.14,-328 1521.14,-328 1527.14,-334 1527.14,-340 1527.14,-340 1527.14,-394 1527.14,-394 1527.14,-400 1521.14,-406 1515.14,-406\"/>\n",
       "<text text-anchor=\"start\" x=\"1343.24\" y=\"-390.8\" font-family=\"Helvetica,sans-Serif\" font-size=\"14.00\">TermInMonths ≤ 59.5</text>\n",
       "<text text-anchor=\"start\" x=\"1368.66\" y=\"-376.8\" font-family=\"Helvetica,sans-Serif\" font-size=\"14.00\">gini = 0.4028</text>\n",
       "<text text-anchor=\"start\" x=\"1351.54\" y=\"-362.8\" font-family=\"Helvetica,sans-Serif\" font-size=\"14.00\">samples = 215560</text>\n",
       "<text text-anchor=\"start\" x=\"1298.59\" y=\"-348.8\" font-family=\"Helvetica,sans-Serif\" font-size=\"14.00\">value = [200796.9787, 77931.4191]</text>\n",
       "<text text-anchor=\"start\" x=\"1371.01\" y=\"-334.8\" font-family=\"Helvetica,sans-Serif\" font-size=\"14.00\">class = DEF</text>\n",
       "</g>\n",
       "<!-- 0&#45;&gt;1 -->\n",
       "<g id=\"edge1\" class=\"edge\"><title>0&#45;&gt;1</title>\n",
       "<path fill=\"none\" stroke=\"black\" d=\"M1753.07,-455.004C1689.39,-438.905 1605.97,-417.813 1537.21,-400.429\"/>\n",
       "<polygon fill=\"black\" stroke=\"black\" points=\"1537.72,-396.949 1527.17,-397.892 1536.01,-403.736 1537.72,-396.949\"/>\n",
       "<text text-anchor=\"middle\" x=\"1539.98\" y=\"-415.163\" font-family=\"Helvetica,sans-Serif\" font-size=\"14.00\">True</text>\n",
       "</g>\n",
       "<!-- 16 -->\n",
       "<g id=\"node17\" class=\"node\"><title>16</title>\n",
       "<path fill=\"#399de5\" fill-opacity=\"0.819608\" stroke=\"black\" d=\"M2422.14,-406C2422.14,-406 2209.74,-406 2209.74,-406 2203.74,-406 2197.74,-400 2197.74,-394 2197.74,-394 2197.74,-340 2197.74,-340 2197.74,-334 2203.74,-328 2209.74,-328 2209.74,-328 2422.14,-328 2422.14,-328 2428.14,-328 2434.14,-334 2434.14,-340 2434.14,-340 2434.14,-394 2434.14,-394 2434.14,-400 2428.14,-406 2422.14,-406\"/>\n",
       "<text text-anchor=\"start\" x=\"2250.24\" y=\"-390.8\" font-family=\"Helvetica,sans-Serif\" font-size=\"14.00\">TermInMonths ≤ 84.5</text>\n",
       "<text text-anchor=\"start\" x=\"2275.66\" y=\"-376.8\" font-family=\"Helvetica,sans-Serif\" font-size=\"14.00\">gini = 0.2576</text>\n",
       "<text text-anchor=\"start\" x=\"2258.54\" y=\"-362.8\" font-family=\"Helvetica,sans-Serif\" font-size=\"14.00\">samples = 239624</text>\n",
       "<text text-anchor=\"start\" x=\"2205.59\" y=\"-348.8\" font-family=\"Helvetica,sans-Serif\" font-size=\"14.00\">value = [26795.0213, 149660.5809]</text>\n",
       "<text text-anchor=\"start\" x=\"2281.12\" y=\"-334.8\" font-family=\"Helvetica,sans-Serif\" font-size=\"14.00\">class = PIF</text>\n",
       "</g>\n",
       "<!-- 0&#45;&gt;16 -->\n",
       "<g id=\"edge16\" class=\"edge\"><title>0&#45;&gt;16</title>\n",
       "<path fill=\"none\" stroke=\"black\" d=\"M1950.91,-456.111C2019.94,-439.448 2112.7,-417.058 2187.44,-399.018\"/>\n",
       "<polygon fill=\"black\" stroke=\"black\" points=\"2188.49,-402.364 2197.39,-396.615 2186.85,-395.56 2188.49,-402.364\"/>\n",
       "<text text-anchor=\"middle\" x=\"2184.35\" y=\"-413.747\" font-family=\"Helvetica,sans-Serif\" font-size=\"14.00\">False</text>\n",
       "</g>\n",
       "<!-- 2 -->\n",
       "<g id=\"node3\" class=\"node\"><title>2</title>\n",
       "<path fill=\"#e58139\" fill-opacity=\"0.780392\" stroke=\"black\" d=\"M811.138,-292C811.138,-292 598.742,-292 598.742,-292 592.742,-292 586.742,-286 586.742,-280 586.742,-280 586.742,-226 586.742,-226 586.742,-220 592.742,-214 598.742,-214 598.742,-214 811.138,-214 811.138,-214 817.138,-214 823.138,-220 823.138,-226 823.138,-226 823.138,-280 823.138,-280 823.138,-286 817.138,-292 811.138,-292\"/>\n",
       "<text text-anchor=\"start\" x=\"639.236\" y=\"-276.8\" font-family=\"Helvetica,sans-Serif\" font-size=\"14.00\">TermInMonths ≤ 48.5</text>\n",
       "<text text-anchor=\"start\" x=\"664.656\" y=\"-262.8\" font-family=\"Helvetica,sans-Serif\" font-size=\"14.00\">gini = 0.2946</text>\n",
       "<text text-anchor=\"start\" x=\"647.539\" y=\"-248.8\" font-family=\"Helvetica,sans-Serif\" font-size=\"14.00\">samples = 124653</text>\n",
       "<text text-anchor=\"start\" x=\"594.591\" y=\"-234.8\" font-family=\"Helvetica,sans-Serif\" font-size=\"14.00\">value = [152535.4798, 33378.9888]</text>\n",
       "<text text-anchor=\"start\" x=\"667.014\" y=\"-220.8\" font-family=\"Helvetica,sans-Serif\" font-size=\"14.00\">class = DEF</text>\n",
       "</g>\n",
       "<!-- 1&#45;&gt;2 -->\n",
       "<g id=\"edge2\" class=\"edge\"><title>1&#45;&gt;2</title>\n",
       "<path fill=\"none\" stroke=\"black\" d=\"M1290.71,-347.191C1164.08,-327.045 963.784,-295.18 833.361,-274.431\"/>\n",
       "<polygon fill=\"black\" stroke=\"black\" points=\"833.738,-270.947 823.312,-272.832 832.638,-277.86 833.738,-270.947\"/>\n",
       "</g>\n",
       "<!-- 9 -->\n",
       "<g id=\"node10\" class=\"node\"><title>9</title>\n",
       "<path fill=\"#e58139\" fill-opacity=\"0.078431\" stroke=\"black\" d=\"M1511.35,-292C1511.35,-292 1306.53,-292 1306.53,-292 1300.53,-292 1294.53,-286 1294.53,-280 1294.53,-280 1294.53,-226 1294.53,-226 1294.53,-220 1300.53,-214 1306.53,-214 1306.53,-214 1511.35,-214 1511.35,-214 1517.35,-214 1523.35,-220 1523.35,-226 1523.35,-226 1523.35,-280 1523.35,-280 1523.35,-286 1517.35,-292 1511.35,-292\"/>\n",
       "<text text-anchor=\"start\" x=\"1343.24\" y=\"-276.8\" font-family=\"Helvetica,sans-Serif\" font-size=\"14.00\">TermInMonths ≤ 60.5</text>\n",
       "<text text-anchor=\"start\" x=\"1368.66\" y=\"-262.8\" font-family=\"Helvetica,sans-Serif\" font-size=\"14.00\">gini = 0.4992</text>\n",
       "<text text-anchor=\"start\" x=\"1355.43\" y=\"-248.8\" font-family=\"Helvetica,sans-Serif\" font-size=\"14.00\">samples = 90907</text>\n",
       "<text text-anchor=\"start\" x=\"1302.48\" y=\"-234.8\" font-family=\"Helvetica,sans-Serif\" font-size=\"14.00\">value = [48261.4989, 44552.4303]</text>\n",
       "<text text-anchor=\"start\" x=\"1371.01\" y=\"-220.8\" font-family=\"Helvetica,sans-Serif\" font-size=\"14.00\">class = DEF</text>\n",
       "</g>\n",
       "<!-- 1&#45;&gt;9 -->\n",
       "<g id=\"edge9\" class=\"edge\"><title>1&#45;&gt;9</title>\n",
       "<path fill=\"none\" stroke=\"black\" d=\"M1408.94,-327.769C1408.94,-319.57 1408.94,-310.803 1408.94,-302.28\"/>\n",
       "<polygon fill=\"black\" stroke=\"black\" points=\"1412.44,-302.058 1408.94,-292.058 1405.44,-302.059 1412.44,-302.058\"/>\n",
       "</g>\n",
       "<!-- 3 -->\n",
       "<g id=\"node4\" class=\"node\"><title>3</title>\n",
       "<path fill=\"#e58139\" fill-opacity=\"0.733333\" stroke=\"black\" d=\"M458.074,-178C458.074,-178 247.806,-178 247.806,-178 241.806,-178 235.806,-172 235.806,-166 235.806,-166 235.806,-112 235.806,-112 235.806,-106 241.806,-100 247.806,-100 247.806,-100 458.074,-100 458.074,-100 464.074,-100 470.074,-106 470.074,-112 470.074,-112 470.074,-166 470.074,-166 470.074,-172 464.074,-178 458.074,-178\"/>\n",
       "<text text-anchor=\"start\" x=\"287.236\" y=\"-162.8\" font-family=\"Helvetica,sans-Serif\" font-size=\"14.00\">TermInMonths ≤ 47.5</text>\n",
       "<text text-anchor=\"start\" x=\"313.172\" y=\"-148.8\" font-family=\"Helvetica,sans-Serif\" font-size=\"14.00\">gini = 0.3311</text>\n",
       "<text text-anchor=\"start\" x=\"295.539\" y=\"-134.8\" font-family=\"Helvetica,sans-Serif\" font-size=\"14.00\">samples = 104307</text>\n",
       "<text text-anchor=\"start\" x=\"243.623\" y=\"-120.8\" font-family=\"Helvetica,sans-Serif\" font-size=\"14.00\">value = [117596.3692, 31153.2826]</text>\n",
       "<text text-anchor=\"start\" x=\"315.014\" y=\"-106.8\" font-family=\"Helvetica,sans-Serif\" font-size=\"14.00\">class = DEF</text>\n",
       "</g>\n",
       "<!-- 2&#45;&gt;3 -->\n",
       "<g id=\"edge3\" class=\"edge\"><title>2&#45;&gt;3</title>\n",
       "<path fill=\"none\" stroke=\"black\" d=\"M586.26,-214.238C552.053,-203.354 514.603,-191.438 479.914,-180.401\"/>\n",
       "<polygon fill=\"black\" stroke=\"black\" points=\"480.799,-177.01 470.209,-177.313 478.677,-183.68 480.799,-177.01\"/>\n",
       "</g>\n",
       "<!-- 6 -->\n",
       "<g id=\"node7\" class=\"node\"><title>6</title>\n",
       "<path fill=\"#e58139\" fill-opacity=\"0.937255\" stroke=\"black\" d=\"M803.034,-178C803.034,-178 606.846,-178 606.846,-178 600.846,-178 594.846,-172 594.846,-166 594.846,-166 594.846,-112 594.846,-112 594.846,-106 600.846,-100 606.846,-100 606.846,-100 803.034,-100 803.034,-100 809.034,-100 815.034,-106 815.034,-112 815.034,-112 815.034,-166 815.034,-166 815.034,-172 809.034,-178 803.034,-178\"/>\n",
       "<text text-anchor=\"start\" x=\"629.478\" y=\"-162.8\" font-family=\"Helvetica,sans-Serif\" font-size=\"14.00\">SP_to2016 ≤ 1414.4946</text>\n",
       "<text text-anchor=\"start\" x=\"665.172\" y=\"-148.8\" font-family=\"Helvetica,sans-Serif\" font-size=\"14.00\">gini = 0.1126</text>\n",
       "<text text-anchor=\"start\" x=\"651.432\" y=\"-134.8\" font-family=\"Helvetica,sans-Serif\" font-size=\"14.00\">samples = 20346</text>\n",
       "<text text-anchor=\"start\" x=\"602.893\" y=\"-120.8\" font-family=\"Helvetica,sans-Serif\" font-size=\"14.00\">value = [34939.1106, 2225.7062]</text>\n",
       "<text text-anchor=\"start\" x=\"667.014\" y=\"-106.8\" font-family=\"Helvetica,sans-Serif\" font-size=\"14.00\">class = DEF</text>\n",
       "</g>\n",
       "<!-- 2&#45;&gt;6 -->\n",
       "<g id=\"edge6\" class=\"edge\"><title>2&#45;&gt;6</title>\n",
       "<path fill=\"none\" stroke=\"black\" d=\"M704.94,-213.769C704.94,-205.57 704.94,-196.803 704.94,-188.28\"/>\n",
       "<polygon fill=\"black\" stroke=\"black\" points=\"708.44,-188.058 704.94,-178.058 701.44,-188.059 708.44,-188.058\"/>\n",
       "</g>\n",
       "<!-- 4 -->\n",
       "<g id=\"node5\" class=\"node\"><title>4</title>\n",
       "<path fill=\"#e58139\" fill-opacity=\"0.776471\" stroke=\"black\" d=\"M215.82,-64C215.82,-64 12.06,-64 12.06,-64 6.06003,-64 0.060027,-58 0.060027,-52 0.060027,-52 0.060027,-12 0.060027,-12 0.060027,-6 6.06003,-0 12.06,-0 12.06,-0 215.82,-0 215.82,-0 221.82,-0 227.82,-6 227.82,-12 227.82,-12 227.82,-52 227.82,-52 227.82,-58 221.82,-64 215.82,-64\"/>\n",
       "<text text-anchor=\"start\" x=\"73.6558\" y=\"-48.8\" font-family=\"Helvetica,sans-Serif\" font-size=\"14.00\">gini = 0.2997</text>\n",
       "<text text-anchor=\"start\" x=\"60.4316\" y=\"-34.8\" font-family=\"Helvetica,sans-Serif\" font-size=\"14.00\">samples = 94498</text>\n",
       "<text text-anchor=\"start\" x=\"8\" y=\"-20.8\" font-family=\"Helvetica,sans-Serif\" font-size=\"14.00\">value = [114379.4848, 25707.237]</text>\n",
       "<text text-anchor=\"start\" x=\"76.0142\" y=\"-6.8\" font-family=\"Helvetica,sans-Serif\" font-size=\"14.00\">class = DEF</text>\n",
       "</g>\n",
       "<!-- 3&#45;&gt;4 -->\n",
       "<g id=\"edge4\" class=\"edge\"><title>3&#45;&gt;4</title>\n",
       "<path fill=\"none\" stroke=\"black\" d=\"M266.318,-99.9441C242.718,-89.576 217.263,-78.3928 194.042,-68.1914\"/>\n",
       "<polygon fill=\"black\" stroke=\"black\" points=\"195.146,-64.8534 184.583,-64.0355 192.33,-71.2622 195.146,-64.8534\"/>\n",
       "</g>\n",
       "<!-- 5 -->\n",
       "<g id=\"node6\" class=\"node\"><title>5</title>\n",
       "<path fill=\"#399de5\" fill-opacity=\"0.407843\" stroke=\"black\" d=\"M447.78,-64C447.78,-64 258.1,-64 258.1,-64 252.1,-64 246.1,-58 246.1,-52 246.1,-52 246.1,-12 246.1,-12 246.1,-6 252.1,-0 258.1,-0 258.1,-0 447.78,-0 447.78,-0 453.78,-0 459.78,-6 459.78,-12 459.78,-12 459.78,-52 459.78,-52 459.78,-58 453.78,-64 447.78,-64\"/>\n",
       "<text text-anchor=\"start\" x=\"312.656\" y=\"-48.8\" font-family=\"Helvetica,sans-Serif\" font-size=\"14.00\">gini = 0.4669</text>\n",
       "<text text-anchor=\"start\" x=\"303.325\" y=\"-34.8\" font-family=\"Helvetica,sans-Serif\" font-size=\"14.00\">samples = 9809</text>\n",
       "<text text-anchor=\"start\" x=\"254.27\" y=\"-20.8\" font-family=\"Helvetica,sans-Serif\" font-size=\"14.00\">value = [3216.8844, 5446.0455]</text>\n",
       "<text text-anchor=\"start\" x=\"318.125\" y=\"-6.8\" font-family=\"Helvetica,sans-Serif\" font-size=\"14.00\">class = PIF</text>\n",
       "</g>\n",
       "<!-- 3&#45;&gt;5 -->\n",
       "<g id=\"edge5\" class=\"edge\"><title>3&#45;&gt;5</title>\n",
       "<path fill=\"none\" stroke=\"black\" d=\"M352.94,-99.7956C352.94,-91.4581 352.94,-82.6 352.94,-74.1534\"/>\n",
       "<polygon fill=\"black\" stroke=\"black\" points=\"356.44,-74.1171 352.94,-64.1172 349.44,-74.1172 356.44,-74.1171\"/>\n",
       "</g>\n",
       "<!-- 7 -->\n",
       "<g id=\"node8\" class=\"node\"><title>7</title>\n",
       "<path fill=\"#e58139\" fill-opacity=\"0.882353\" stroke=\"black\" d=\"M670.494,-64C670.494,-64 489.386,-64 489.386,-64 483.386,-64 477.386,-58 477.386,-52 477.386,-52 477.386,-12 477.386,-12 477.386,-6 483.386,-0 489.386,-0 489.386,-0 670.494,-0 670.494,-0 676.494,-0 682.494,-6 682.494,-12 682.494,-12 682.494,-52 682.494,-52 682.494,-58 676.494,-64 670.494,-64\"/>\n",
       "<text text-anchor=\"start\" x=\"539.656\" y=\"-48.8\" font-family=\"Helvetica,sans-Serif\" font-size=\"14.00\">gini = 0.1889</text>\n",
       "<text text-anchor=\"start\" x=\"530.325\" y=\"-34.8\" font-family=\"Helvetica,sans-Serif\" font-size=\"14.00\">samples = 5585</text>\n",
       "<text text-anchor=\"start\" x=\"485.163\" y=\"-20.8\" font-family=\"Helvetica,sans-Serif\" font-size=\"14.00\">value = [8403.4159, 991.9913]</text>\n",
       "<text text-anchor=\"start\" x=\"542.014\" y=\"-6.8\" font-family=\"Helvetica,sans-Serif\" font-size=\"14.00\">class = DEF</text>\n",
       "</g>\n",
       "<!-- 6&#45;&gt;7 -->\n",
       "<g id=\"edge7\" class=\"edge\"><title>6&#45;&gt;7</title>\n",
       "<path fill=\"none\" stroke=\"black\" d=\"M659.458,-99.7956C648.115,-90.2671 635.962,-80.0585 624.656,-70.5614\"/>\n",
       "<polygon fill=\"black\" stroke=\"black\" points=\"626.892,-67.8692 616.984,-64.1172 622.39,-73.2291 626.892,-67.8692\"/>\n",
       "</g>\n",
       "<!-- 8 -->\n",
       "<g id=\"node9\" class=\"node\"><title>8</title>\n",
       "<path fill=\"#e58139\" fill-opacity=\"0.952941\" stroke=\"black\" d=\"M909.566,-64C909.566,-64 712.314,-64 712.314,-64 706.314,-64 700.314,-58 700.314,-52 700.314,-52 700.314,-12 700.314,-12 700.314,-6 706.314,-0 712.314,-0 712.314,-0 909.566,-0 909.566,-0 915.566,-0 921.566,-6 921.566,-12 921.566,-12 921.566,-52 921.566,-52 921.566,-58 915.566,-64 909.566,-64\"/>\n",
       "<text text-anchor=\"start\" x=\"770.656\" y=\"-48.8\" font-family=\"Helvetica,sans-Serif\" font-size=\"14.00\">gini = 0.0849</text>\n",
       "<text text-anchor=\"start\" x=\"757.432\" y=\"-34.8\" font-family=\"Helvetica,sans-Serif\" font-size=\"14.00\">samples = 14761</text>\n",
       "<text text-anchor=\"start\" x=\"708.377\" y=\"-20.8\" font-family=\"Helvetica,sans-Serif\" font-size=\"14.00\">value = [26535.6947, 1233.7149]</text>\n",
       "<text text-anchor=\"start\" x=\"773.014\" y=\"-6.8\" font-family=\"Helvetica,sans-Serif\" font-size=\"14.00\">class = DEF</text>\n",
       "</g>\n",
       "<!-- 6&#45;&gt;8 -->\n",
       "<g id=\"edge8\" class=\"edge\"><title>6&#45;&gt;8</title>\n",
       "<path fill=\"none\" stroke=\"black\" d=\"M743.508,-99.7956C752.85,-90.5419 762.839,-80.6469 772.189,-71.385\"/>\n",
       "<polygon fill=\"black\" stroke=\"black\" points=\"774.885,-73.6413 779.526,-64.1172 769.959,-68.6681 774.885,-73.6413\"/>\n",
       "</g>\n",
       "<!-- 10 -->\n",
       "<g id=\"node11\" class=\"node\"><title>10</title>\n",
       "<path fill=\"#399de5\" fill-opacity=\"0.901961\" stroke=\"black\" d=\"M1383.78,-178C1383.78,-178 1194.1,-178 1194.1,-178 1188.1,-178 1182.1,-172 1182.1,-166 1182.1,-166 1182.1,-112 1182.1,-112 1182.1,-106 1188.1,-100 1194.1,-100 1194.1,-100 1383.78,-100 1383.78,-100 1389.78,-100 1395.78,-106 1395.78,-112 1395.78,-112 1395.78,-166 1395.78,-166 1395.78,-172 1389.78,-178 1383.78,-178\"/>\n",
       "<text text-anchor=\"start\" x=\"1213.48\" y=\"-162.8\" font-family=\"Helvetica,sans-Serif\" font-size=\"14.00\">SP_to2016 ≤ 1457.8737</text>\n",
       "<text text-anchor=\"start\" x=\"1248.66\" y=\"-148.8\" font-family=\"Helvetica,sans-Serif\" font-size=\"14.00\">gini = 0.1619</text>\n",
       "<text text-anchor=\"start\" x=\"1235.43\" y=\"-134.8\" font-family=\"Helvetica,sans-Serif\" font-size=\"14.00\">samples = 52274</text>\n",
       "<text text-anchor=\"start\" x=\"1190.27\" y=\"-120.8\" font-family=\"Helvetica,sans-Serif\" font-size=\"14.00\">value = [3264.2218, 33476.735]</text>\n",
       "<text text-anchor=\"start\" x=\"1254.12\" y=\"-106.8\" font-family=\"Helvetica,sans-Serif\" font-size=\"14.00\">class = PIF</text>\n",
       "</g>\n",
       "<!-- 9&#45;&gt;10 -->\n",
       "<g id=\"edge10\" class=\"edge\"><title>9&#45;&gt;10</title>\n",
       "<path fill=\"none\" stroke=\"black\" d=\"M1367.98,-213.769C1358.03,-204.488 1347.31,-194.481 1337.07,-184.923\"/>\n",
       "<polygon fill=\"black\" stroke=\"black\" points=\"1339.42,-182.323 1329.72,-178.058 1334.64,-187.44 1339.42,-182.323\"/>\n",
       "</g>\n",
       "<!-- 13 -->\n",
       "<g id=\"node14\" class=\"node\"><title>13</title>\n",
       "<path fill=\"#e58139\" fill-opacity=\"0.752941\" stroke=\"black\" d=\"M1629.82,-178C1629.82,-178 1426.06,-178 1426.06,-178 1420.06,-178 1414.06,-172 1414.06,-166 1414.06,-166 1414.06,-112 1414.06,-112 1414.06,-106 1420.06,-100 1426.06,-100 1426.06,-100 1629.82,-100 1629.82,-100 1635.82,-100 1641.82,-106 1641.82,-112 1641.82,-112 1641.82,-166 1641.82,-166 1641.82,-172 1635.82,-178 1629.82,-178\"/>\n",
       "<text text-anchor=\"start\" x=\"1462.24\" y=\"-162.8\" font-family=\"Helvetica,sans-Serif\" font-size=\"14.00\">TermInMonths ≤ 71.5</text>\n",
       "<text text-anchor=\"start\" x=\"1491.55\" y=\"-148.8\" font-family=\"Helvetica,sans-Serif\" font-size=\"14.00\">gini = 0.317</text>\n",
       "<text text-anchor=\"start\" x=\"1474.43\" y=\"-134.8\" font-family=\"Helvetica,sans-Serif\" font-size=\"14.00\">samples = 38633</text>\n",
       "<text text-anchor=\"start\" x=\"1422\" y=\"-120.8\" font-family=\"Helvetica,sans-Serif\" font-size=\"14.00\">value = [44997.2771, 11075.6953]</text>\n",
       "<text text-anchor=\"start\" x=\"1490.01\" y=\"-106.8\" font-family=\"Helvetica,sans-Serif\" font-size=\"14.00\">class = DEF</text>\n",
       "</g>\n",
       "<!-- 9&#45;&gt;13 -->\n",
       "<g id=\"edge13\" class=\"edge\"><title>9&#45;&gt;13</title>\n",
       "<path fill=\"none\" stroke=\"black\" d=\"M1449.56,-213.769C1459.42,-204.488 1470.05,-194.481 1480.21,-184.923\"/>\n",
       "<polygon fill=\"black\" stroke=\"black\" points=\"1482.62,-187.461 1487.5,-178.058 1477.82,-182.363 1482.62,-187.461\"/>\n",
       "</g>\n",
       "<!-- 11 -->\n",
       "<g id=\"node12\" class=\"node\"><title>11</title>\n",
       "<path fill=\"#399de5\" fill-opacity=\"0.949020\" stroke=\"black\" d=\"M1148.57,-64C1148.57,-64 951.314,-64 951.314,-64 945.314,-64 939.314,-58 939.314,-52 939.314,-52 939.314,-12 939.314,-12 939.314,-6 945.314,-0 951.314,-0 951.314,-0 1148.57,-0 1148.57,-0 1154.57,-0 1160.57,-6 1160.57,-12 1160.57,-12 1160.57,-52 1160.57,-52 1160.57,-58 1154.57,-64 1148.57,-64\"/>\n",
       "<text text-anchor=\"start\" x=\"1009.66\" y=\"-48.8\" font-family=\"Helvetica,sans-Serif\" font-size=\"14.00\">gini = 0.0944</text>\n",
       "<text text-anchor=\"start\" x=\"996.432\" y=\"-34.8\" font-family=\"Helvetica,sans-Serif\" font-size=\"14.00\">samples = 31333</text>\n",
       "<text text-anchor=\"start\" x=\"947.377\" y=\"-20.8\" font-family=\"Helvetica,sans-Serif\" font-size=\"14.00\">value = [1064.0622, 20352.3332]</text>\n",
       "<text text-anchor=\"start\" x=\"1015.12\" y=\"-6.8\" font-family=\"Helvetica,sans-Serif\" font-size=\"14.00\">class = PIF</text>\n",
       "</g>\n",
       "<!-- 10&#45;&gt;11 -->\n",
       "<g id=\"edge11\" class=\"edge\"><title>10&#45;&gt;11</title>\n",
       "<path fill=\"none\" stroke=\"black\" d=\"M1202.32,-99.9441C1178.72,-89.576 1153.26,-78.3928 1130.04,-68.1914\"/>\n",
       "<polygon fill=\"black\" stroke=\"black\" points=\"1131.15,-64.8534 1120.58,-64.0355 1128.33,-71.2622 1131.15,-64.8534\"/>\n",
       "</g>\n",
       "<!-- 12 -->\n",
       "<g id=\"node13\" class=\"node\"><title>12</title>\n",
       "<path fill=\"#399de5\" fill-opacity=\"0.831373\" stroke=\"black\" d=\"M1387.57,-64C1387.57,-64 1190.31,-64 1190.31,-64 1184.31,-64 1178.31,-58 1178.31,-52 1178.31,-52 1178.31,-12 1178.31,-12 1178.31,-6 1184.31,-0 1190.31,-0 1190.31,-0 1387.57,-0 1387.57,-0 1393.57,-0 1399.57,-6 1399.57,-12 1399.57,-12 1399.57,-52 1399.57,-52 1399.57,-58 1393.57,-64 1387.57,-64\"/>\n",
       "<text text-anchor=\"start\" x=\"1248.66\" y=\"-48.8\" font-family=\"Helvetica,sans-Serif\" font-size=\"14.00\">gini = 0.2459</text>\n",
       "<text text-anchor=\"start\" x=\"1235.43\" y=\"-34.8\" font-family=\"Helvetica,sans-Serif\" font-size=\"14.00\">samples = 20941</text>\n",
       "<text text-anchor=\"start\" x=\"1186.38\" y=\"-20.8\" font-family=\"Helvetica,sans-Serif\" font-size=\"14.00\">value = [2200.1596, 13124.4018]</text>\n",
       "<text text-anchor=\"start\" x=\"1254.12\" y=\"-6.8\" font-family=\"Helvetica,sans-Serif\" font-size=\"14.00\">class = PIF</text>\n",
       "</g>\n",
       "<!-- 10&#45;&gt;12 -->\n",
       "<g id=\"edge12\" class=\"edge\"><title>10&#45;&gt;12</title>\n",
       "<path fill=\"none\" stroke=\"black\" d=\"M1288.94,-99.7956C1288.94,-91.4581 1288.94,-82.6 1288.94,-74.1534\"/>\n",
       "<polygon fill=\"black\" stroke=\"black\" points=\"1292.44,-74.1171 1288.94,-64.1172 1285.44,-74.1172 1292.44,-74.1171\"/>\n",
       "</g>\n",
       "<!-- 14 -->\n",
       "<g id=\"node15\" class=\"node\"><title>14</title>\n",
       "<path fill=\"#e58139\" fill-opacity=\"0.858824\" stroke=\"black\" d=\"M1626.57,-64C1626.57,-64 1429.31,-64 1429.31,-64 1423.31,-64 1417.31,-58 1417.31,-52 1417.31,-52 1417.31,-12 1417.31,-12 1417.31,-6 1423.31,-0 1429.31,-0 1429.31,-0 1626.57,-0 1626.57,-0 1632.57,-0 1638.57,-6 1638.57,-12 1638.57,-12 1638.57,-52 1638.57,-52 1638.57,-58 1632.57,-64 1626.57,-64\"/>\n",
       "<text text-anchor=\"start\" x=\"1487.66\" y=\"-48.8\" font-family=\"Helvetica,sans-Serif\" font-size=\"14.00\">gini = 0.2156</text>\n",
       "<text text-anchor=\"start\" x=\"1474.43\" y=\"-34.8\" font-family=\"Helvetica,sans-Serif\" font-size=\"14.00\">samples = 21914</text>\n",
       "<text text-anchor=\"start\" x=\"1425.38\" y=\"-20.8\" font-family=\"Helvetica,sans-Serif\" font-size=\"14.00\">value = [31394.9808, 4398.5767]</text>\n",
       "<text text-anchor=\"start\" x=\"1490.01\" y=\"-6.8\" font-family=\"Helvetica,sans-Serif\" font-size=\"14.00\">class = DEF</text>\n",
       "</g>\n",
       "<!-- 13&#45;&gt;14 -->\n",
       "<g id=\"edge14\" class=\"edge\"><title>13&#45;&gt;14</title>\n",
       "<path fill=\"none\" stroke=\"black\" d=\"M1527.94,-99.7956C1527.94,-91.4581 1527.94,-82.6 1527.94,-74.1534\"/>\n",
       "<polygon fill=\"black\" stroke=\"black\" points=\"1531.44,-74.1171 1527.94,-64.1172 1524.44,-74.1172 1531.44,-74.1171\"/>\n",
       "</g>\n",
       "<!-- 15 -->\n",
       "<g id=\"node16\" class=\"node\"><title>15</title>\n",
       "<path fill=\"#e58139\" fill-opacity=\"0.509804\" stroke=\"black\" d=\"M1865.03,-64C1865.03,-64 1668.85,-64 1668.85,-64 1662.85,-64 1656.85,-58 1656.85,-52 1656.85,-52 1656.85,-12 1656.85,-12 1656.85,-6 1662.85,-0 1668.85,-0 1668.85,-0 1865.03,-0 1865.03,-0 1871.03,-0 1877.03,-6 1877.03,-12 1877.03,-12 1877.03,-52 1877.03,-52 1877.03,-58 1871.03,-64 1865.03,-64\"/>\n",
       "<text text-anchor=\"start\" x=\"1726.66\" y=\"-48.8\" font-family=\"Helvetica,sans-Serif\" font-size=\"14.00\">gini = 0.4417</text>\n",
       "<text text-anchor=\"start\" x=\"1713.43\" y=\"-34.8\" font-family=\"Helvetica,sans-Serif\" font-size=\"14.00\">samples = 16719</text>\n",
       "<text text-anchor=\"start\" x=\"1664.89\" y=\"-20.8\" font-family=\"Helvetica,sans-Serif\" font-size=\"14.00\">value = [13602.2963, 6677.1187]</text>\n",
       "<text text-anchor=\"start\" x=\"1729.01\" y=\"-6.8\" font-family=\"Helvetica,sans-Serif\" font-size=\"14.00\">class = DEF</text>\n",
       "</g>\n",
       "<!-- 13&#45;&gt;15 -->\n",
       "<g id=\"edge15\" class=\"edge\"><title>13&#45;&gt;15</title>\n",
       "<path fill=\"none\" stroke=\"black\" d=\"M1614.56,-99.9441C1638.16,-89.576 1663.62,-78.3928 1686.84,-68.1914\"/>\n",
       "<polygon fill=\"black\" stroke=\"black\" points=\"1688.55,-71.2622 1696.3,-64.0355 1685.73,-64.8534 1688.55,-71.2622\"/>\n",
       "</g>\n",
       "<!-- 17 -->\n",
       "<g id=\"node18\" class=\"node\"><title>17</title>\n",
       "<path fill=\"#399de5\" fill-opacity=\"0.972549\" stroke=\"black\" d=\"M2410.78,-292C2410.78,-292 2221.1,-292 2221.1,-292 2215.1,-292 2209.1,-286 2209.1,-280 2209.1,-280 2209.1,-226 2209.1,-226 2209.1,-220 2215.1,-214 2221.1,-214 2221.1,-214 2410.78,-214 2410.78,-214 2416.78,-214 2422.78,-220 2422.78,-226 2422.78,-226 2422.78,-280 2422.78,-280 2422.78,-286 2416.78,-292 2410.78,-292\"/>\n",
       "<text text-anchor=\"start\" x=\"2250.24\" y=\"-276.8\" font-family=\"Helvetica,sans-Serif\" font-size=\"14.00\">TermInMonths ≤ 83.5</text>\n",
       "<text text-anchor=\"start\" x=\"2275.66\" y=\"-262.8\" font-family=\"Helvetica,sans-Serif\" font-size=\"14.00\">gini = 0.0491</text>\n",
       "<text text-anchor=\"start\" x=\"2258.54\" y=\"-248.8\" font-family=\"Helvetica,sans-Serif\" font-size=\"14.00\">samples = 148429</text>\n",
       "<text text-anchor=\"start\" x=\"2217.27\" y=\"-234.8\" font-family=\"Helvetica,sans-Serif\" font-size=\"14.00\">value = [2512.998, 97223.0745]</text>\n",
       "<text text-anchor=\"start\" x=\"2281.12\" y=\"-220.8\" font-family=\"Helvetica,sans-Serif\" font-size=\"14.00\">class = PIF</text>\n",
       "</g>\n",
       "<!-- 16&#45;&gt;17 -->\n",
       "<g id=\"edge17\" class=\"edge\"><title>16&#45;&gt;17</title>\n",
       "<path fill=\"none\" stroke=\"black\" d=\"M2315.94,-327.769C2315.94,-319.57 2315.94,-310.803 2315.94,-302.28\"/>\n",
       "<polygon fill=\"black\" stroke=\"black\" points=\"2319.44,-302.058 2315.94,-292.058 2312.44,-302.059 2319.44,-302.058\"/>\n",
       "</g>\n",
       "<!-- 24 -->\n",
       "<g id=\"node25\" class=\"node\"><title>24</title>\n",
       "<path fill=\"#399de5\" fill-opacity=\"0.537255\" stroke=\"black\" d=\"M3086.35,-292C3086.35,-292 2881.53,-292 2881.53,-292 2875.53,-292 2869.53,-286 2869.53,-280 2869.53,-280 2869.53,-226 2869.53,-226 2869.53,-220 2875.53,-214 2881.53,-214 2881.53,-214 3086.35,-214 3086.35,-214 3092.35,-214 3098.35,-220 3098.35,-226 3098.35,-226 3098.35,-280 3098.35,-280 3098.35,-286 3092.35,-292 3086.35,-292\"/>\n",
       "<text text-anchor=\"start\" x=\"2914.86\" y=\"-276.8\" font-family=\"Helvetica,sans-Serif\" font-size=\"14.00\">TermInMonths ≤ 116.5</text>\n",
       "<text text-anchor=\"start\" x=\"2943.66\" y=\"-262.8\" font-family=\"Helvetica,sans-Serif\" font-size=\"14.00\">gini = 0.4327</text>\n",
       "<text text-anchor=\"start\" x=\"2930.95\" y=\"-248.8\" font-family=\"Helvetica,sans-Serif\" font-size=\"14.00\">samples = 91195</text>\n",
       "<text text-anchor=\"start\" x=\"2877.48\" y=\"-234.8\" font-family=\"Helvetica,sans-Serif\" font-size=\"14.00\">value = [24282.0233, 52437.5064]</text>\n",
       "<text text-anchor=\"start\" x=\"2949.12\" y=\"-220.8\" font-family=\"Helvetica,sans-Serif\" font-size=\"14.00\">class = PIF</text>\n",
       "</g>\n",
       "<!-- 16&#45;&gt;24 -->\n",
       "<g id=\"edge24\" class=\"edge\"><title>16&#45;&gt;24</title>\n",
       "<path fill=\"none\" stroke=\"black\" d=\"M2434.21,-346.17C2553.67,-326.141 2737.49,-295.322 2859.21,-274.914\"/>\n",
       "<polygon fill=\"black\" stroke=\"black\" points=\"2860.04,-278.323 2869.32,-273.218 2858.88,-271.419 2860.04,-278.323\"/>\n",
       "</g>\n",
       "<!-- 18 -->\n",
       "<g id=\"node19\" class=\"node\"><title>18</title>\n",
       "<path fill=\"#399de5\" fill-opacity=\"0.509804\" stroke=\"black\" d=\"M2273.49,-178C2273.49,-178 2092.39,-178 2092.39,-178 2086.39,-178 2080.39,-172 2080.39,-166 2080.39,-166 2080.39,-112 2080.39,-112 2080.39,-106 2086.39,-100 2092.39,-100 2092.39,-100 2273.49,-100 2273.49,-100 2279.49,-100 2285.49,-106 2285.49,-112 2285.49,-112 2285.49,-166 2285.49,-166 2285.49,-172 2279.49,-178 2273.49,-178\"/>\n",
       "<text text-anchor=\"start\" x=\"2118.01\" y=\"-162.8\" font-family=\"Helvetica,sans-Serif\" font-size=\"14.00\">RevolverStatus ≤ 0.5</text>\n",
       "<text text-anchor=\"start\" x=\"2146.55\" y=\"-148.8\" font-family=\"Helvetica,sans-Serif\" font-size=\"14.00\">gini = 0.442</text>\n",
       "<text text-anchor=\"start\" x=\"2133.32\" y=\"-134.8\" font-family=\"Helvetica,sans-Serif\" font-size=\"14.00\">samples = 3008</text>\n",
       "<text text-anchor=\"start\" x=\"2088.16\" y=\"-120.8\" font-family=\"Helvetica,sans-Serif\" font-size=\"14.00\">value = [843.8404, 1715.8412]</text>\n",
       "<text text-anchor=\"start\" x=\"2148.12\" y=\"-106.8\" font-family=\"Helvetica,sans-Serif\" font-size=\"14.00\">class = PIF</text>\n",
       "</g>\n",
       "<!-- 17&#45;&gt;18 -->\n",
       "<g id=\"edge18\" class=\"edge\"><title>17&#45;&gt;18</title>\n",
       "<path fill=\"none\" stroke=\"black\" d=\"M2270.54,-213.769C2259.41,-204.398 2247.41,-194.287 2235.96,-184.644\"/>\n",
       "<polygon fill=\"black\" stroke=\"black\" points=\"2238.04,-181.823 2228.13,-178.058 2233.53,-187.177 2238.04,-181.823\"/>\n",
       "</g>\n",
       "<!-- 21 -->\n",
       "<g id=\"node22\" class=\"node\"><title>21</title>\n",
       "<path fill=\"#399de5\" fill-opacity=\"0.984314\" stroke=\"black\" d=\"M2582.1,-178C2582.1,-178 2315.78,-178 2315.78,-178 2309.78,-178 2303.78,-172 2303.78,-166 2303.78,-166 2303.78,-112 2303.78,-112 2303.78,-106 2309.78,-100 2315.78,-100 2315.78,-100 2582.1,-100 2582.1,-100 2588.1,-100 2594.1,-106 2594.1,-112 2594.1,-112 2594.1,-166 2594.1,-166 2594.1,-172 2588.1,-178 2582.1,-178\"/>\n",
       "<text text-anchor=\"start\" x=\"2311.61\" y=\"-162.8\" font-family=\"Helvetica,sans-Serif\" font-size=\"14.00\">SBAGuaranteedApprovalAdj ≤ 170745.9688</text>\n",
       "<text text-anchor=\"start\" x=\"2408.66\" y=\"-148.8\" font-family=\"Helvetica,sans-Serif\" font-size=\"14.00\">gini = 0.0338</text>\n",
       "<text text-anchor=\"start\" x=\"2391.54\" y=\"-134.8\" font-family=\"Helvetica,sans-Serif\" font-size=\"14.00\">samples = 145421</text>\n",
       "<text text-anchor=\"start\" x=\"2346.38\" y=\"-120.8\" font-family=\"Helvetica,sans-Serif\" font-size=\"14.00\">value = [1669.1576, 95507.2333]</text>\n",
       "<text text-anchor=\"start\" x=\"2414.12\" y=\"-106.8\" font-family=\"Helvetica,sans-Serif\" font-size=\"14.00\">class = PIF</text>\n",
       "</g>\n",
       "<!-- 17&#45;&gt;21 -->\n",
       "<g id=\"edge21\" class=\"edge\"><title>17&#45;&gt;21</title>\n",
       "<path fill=\"none\" stroke=\"black\" d=\"M2361.34,-213.769C2372.47,-204.398 2384.47,-194.287 2395.92,-184.644\"/>\n",
       "<polygon fill=\"black\" stroke=\"black\" points=\"2398.35,-187.177 2403.75,-178.058 2393.84,-181.823 2398.35,-187.177\"/>\n",
       "</g>\n",
       "<!-- 19 -->\n",
       "<g id=\"node20\" class=\"node\"><title>19</title>\n",
       "<path fill=\"#e58139\" fill-opacity=\"0.325490\" stroke=\"black\" d=\"M2080.71,-64C2080.71,-64 1907.17,-64 1907.17,-64 1901.17,-64 1895.17,-58 1895.17,-52 1895.17,-52 1895.17,-12 1895.17,-12 1895.17,-6 1901.17,-0 1907.17,-0 1907.17,-0 2080.71,-0 2080.71,-0 2086.71,-0 2092.71,-6 2092.71,-12 2092.71,-12 2092.71,-52 2092.71,-52 2092.71,-58 2086.71,-64 2080.71,-64\"/>\n",
       "<text text-anchor=\"start\" x=\"1953.66\" y=\"-48.8\" font-family=\"Helvetica,sans-Serif\" font-size=\"14.00\">gini = 0.4809</text>\n",
       "<text text-anchor=\"start\" x=\"1944.32\" y=\"-34.8\" font-family=\"Helvetica,sans-Serif\" font-size=\"14.00\">samples = 1233</text>\n",
       "<text text-anchor=\"start\" x=\"1903.06\" y=\"-20.8\" font-family=\"Helvetica,sans-Serif\" font-size=\"14.00\">value = [819.1427, 551.4732]</text>\n",
       "<text text-anchor=\"start\" x=\"1956.01\" y=\"-6.8\" font-family=\"Helvetica,sans-Serif\" font-size=\"14.00\">class = DEF</text>\n",
       "</g>\n",
       "<!-- 18&#45;&gt;19 -->\n",
       "<g id=\"edge19\" class=\"edge\"><title>18&#45;&gt;19</title>\n",
       "<path fill=\"none\" stroke=\"black\" d=\"M2114.44,-99.9441C2096.36,-89.8985 2076.9,-79.0879 2059,-69.1464\"/>\n",
       "<polygon fill=\"black\" stroke=\"black\" points=\"2060.25,-65.8324 2049.8,-64.0355 2056.85,-71.9515 2060.25,-65.8324\"/>\n",
       "</g>\n",
       "<!-- 20 -->\n",
       "<g id=\"node21\" class=\"node\"><title>20</title>\n",
       "<path fill=\"#399de5\" fill-opacity=\"0.980392\" stroke=\"black\" d=\"M2287.39,-64C2287.39,-64 2122.49,-64 2122.49,-64 2116.49,-64 2110.49,-58 2110.49,-52 2110.49,-52 2110.49,-12 2110.49,-12 2110.49,-6 2116.49,-0 2122.49,-0 2122.49,-0 2287.39,-0 2287.39,-0 2293.39,-0 2299.39,-6 2299.39,-12 2299.39,-12 2299.39,-52 2299.39,-52 2299.39,-58 2293.39,-64 2287.39,-64\"/>\n",
       "<text text-anchor=\"start\" x=\"2164.66\" y=\"-48.8\" font-family=\"Helvetica,sans-Serif\" font-size=\"14.00\">gini = 0.0407</text>\n",
       "<text text-anchor=\"start\" x=\"2155.32\" y=\"-34.8\" font-family=\"Helvetica,sans-Serif\" font-size=\"14.00\">samples = 1775</text>\n",
       "<text text-anchor=\"start\" x=\"2118.47\" y=\"-20.8\" font-family=\"Helvetica,sans-Serif\" font-size=\"14.00\">value = [24.6978, 1164.368]</text>\n",
       "<text text-anchor=\"start\" x=\"2170.12\" y=\"-6.8\" font-family=\"Helvetica,sans-Serif\" font-size=\"14.00\">class = PIF</text>\n",
       "</g>\n",
       "<!-- 18&#45;&gt;20 -->\n",
       "<g id=\"edge20\" class=\"edge\"><title>18&#45;&gt;20</title>\n",
       "<path fill=\"none\" stroke=\"black\" d=\"M2190.94,-99.7956C2192.69,-91.4581 2194.55,-82.6 2196.32,-74.1534\"/>\n",
       "<polygon fill=\"black\" stroke=\"black\" points=\"2199.79,-74.6224 2198.42,-64.1172 2192.94,-73.1869 2199.79,-74.6224\"/>\n",
       "</g>\n",
       "<!-- 22 -->\n",
       "<g id=\"node23\" class=\"node\"><title>22</title>\n",
       "<path fill=\"#399de5\" fill-opacity=\"0.984314\" stroke=\"black\" d=\"M2526.57,-64C2526.57,-64 2329.31,-64 2329.31,-64 2323.31,-64 2317.31,-58 2317.31,-52 2317.31,-52 2317.31,-12 2317.31,-12 2317.31,-6 2323.31,-0 2329.31,-0 2329.31,-0 2526.57,-0 2526.57,-0 2532.57,-0 2538.57,-6 2538.57,-12 2538.57,-12 2538.57,-52 2538.57,-52 2538.57,-58 2532.57,-64 2526.57,-64\"/>\n",
       "<text text-anchor=\"start\" x=\"2387.66\" y=\"-48.8\" font-family=\"Helvetica,sans-Serif\" font-size=\"14.00\">gini = 0.0272</text>\n",
       "<text text-anchor=\"start\" x=\"2370.54\" y=\"-34.8\" font-family=\"Helvetica,sans-Serif\" font-size=\"14.00\">samples = 132918</text>\n",
       "<text text-anchor=\"start\" x=\"2325.38\" y=\"-20.8\" font-family=\"Helvetica,sans-Serif\" font-size=\"14.00\">value = [1220.4814, 87393.6425]</text>\n",
       "<text text-anchor=\"start\" x=\"2393.12\" y=\"-6.8\" font-family=\"Helvetica,sans-Serif\" font-size=\"14.00\">class = PIF</text>\n",
       "</g>\n",
       "<!-- 21&#45;&gt;22 -->\n",
       "<g id=\"edge22\" class=\"edge\"><title>21&#45;&gt;22</title>\n",
       "<path fill=\"none\" stroke=\"black\" d=\"M2441.3,-99.7956C2439.63,-91.4581 2437.86,-82.6 2436.17,-74.1534\"/>\n",
       "<polygon fill=\"black\" stroke=\"black\" points=\"2439.56,-73.2365 2434.16,-64.1172 2432.69,-74.6094 2439.56,-73.2365\"/>\n",
       "</g>\n",
       "<!-- 23 -->\n",
       "<g id=\"node24\" class=\"node\"><title>23</title>\n",
       "<path fill=\"#399de5\" fill-opacity=\"0.945098\" stroke=\"black\" d=\"M2748.96,-64C2748.96,-64 2568.92,-64 2568.92,-64 2562.92,-64 2556.92,-58 2556.92,-52 2556.92,-52 2556.92,-12 2556.92,-12 2556.92,-6 2562.92,-0 2568.92,-0 2568.92,-0 2748.96,-0 2748.96,-0 2754.96,-0 2760.96,-6 2760.96,-12 2760.96,-12 2760.96,-52 2760.96,-52 2760.96,-58 2754.96,-64 2748.96,-64\"/>\n",
       "<text text-anchor=\"start\" x=\"2618.66\" y=\"-48.8\" font-family=\"Helvetica,sans-Serif\" font-size=\"14.00\">gini = 0.0993</text>\n",
       "<text text-anchor=\"start\" x=\"2605.43\" y=\"-34.8\" font-family=\"Helvetica,sans-Serif\" font-size=\"14.00\">samples = 12503</text>\n",
       "<text text-anchor=\"start\" x=\"2564.68\" y=\"-20.8\" font-family=\"Helvetica,sans-Serif\" font-size=\"14.00\">value = [448.6761, 8113.5908]</text>\n",
       "<text text-anchor=\"start\" x=\"2624.12\" y=\"-6.8\" font-family=\"Helvetica,sans-Serif\" font-size=\"14.00\">class = PIF</text>\n",
       "</g>\n",
       "<!-- 21&#45;&gt;23 -->\n",
       "<g id=\"edge23\" class=\"edge\"><title>21&#45;&gt;23</title>\n",
       "<path fill=\"none\" stroke=\"black\" d=\"M2525.05,-99.9441C2545.51,-89.7142 2567.56,-78.6909 2587.74,-68.6\"/>\n",
       "<polygon fill=\"black\" stroke=\"black\" points=\"2589.49,-71.6382 2596.87,-64.0355 2586.36,-65.3772 2589.49,-71.6382\"/>\n",
       "</g>\n",
       "<!-- 25 -->\n",
       "<g id=\"node26\" class=\"node\"><title>25</title>\n",
       "<path fill=\"#e58139\" fill-opacity=\"0.341176\" stroke=\"black\" d=\"M3109.53,-178C3109.53,-178 2858.35,-178 2858.35,-178 2852.35,-178 2846.35,-172 2846.35,-166 2846.35,-166 2846.35,-112 2846.35,-112 2846.35,-106 2852.35,-100 2858.35,-100 2858.35,-100 3109.53,-100 3109.53,-100 3115.53,-100 3121.53,-106 3121.53,-112 3121.53,-112 3121.53,-166 3121.53,-166 3121.53,-172 3115.53,-178 3109.53,-178\"/>\n",
       "<text text-anchor=\"start\" x=\"2854.4\" y=\"-162.8\" font-family=\"Helvetica,sans-Serif\" font-size=\"14.00\">SBAGuaranteedApprovalAdj ≤ 171881.25</text>\n",
       "<text text-anchor=\"start\" x=\"2943.66\" y=\"-148.8\" font-family=\"Helvetica,sans-Serif\" font-size=\"14.00\">gini = 0.4791</text>\n",
       "<text text-anchor=\"start\" x=\"2930.43\" y=\"-134.8\" font-family=\"Helvetica,sans-Serif\" font-size=\"14.00\">samples = 27890</text>\n",
       "<text text-anchor=\"start\" x=\"2877.48\" y=\"-120.8\" font-family=\"Helvetica,sans-Serif\" font-size=\"14.00\">value = [18766.1882, 12397.9101]</text>\n",
       "<text text-anchor=\"start\" x=\"2946.01\" y=\"-106.8\" font-family=\"Helvetica,sans-Serif\" font-size=\"14.00\">class = DEF</text>\n",
       "</g>\n",
       "<!-- 24&#45;&gt;25 -->\n",
       "<g id=\"edge25\" class=\"edge\"><title>24&#45;&gt;25</title>\n",
       "<path fill=\"none\" stroke=\"black\" d=\"M2983.94,-213.769C2983.94,-205.57 2983.94,-196.803 2983.94,-188.28\"/>\n",
       "<polygon fill=\"black\" stroke=\"black\" points=\"2987.44,-188.058 2983.94,-178.058 2980.44,-188.059 2987.44,-188.058\"/>\n",
       "</g>\n",
       "<!-- 28 -->\n",
       "<g id=\"node29\" class=\"node\"><title>28</title>\n",
       "<path fill=\"#399de5\" fill-opacity=\"0.862745\" stroke=\"black\" d=\"M3446.57,-178C3446.57,-178 3249.31,-178 3249.31,-178 3243.31,-178 3237.31,-172 3237.31,-166 3237.31,-166 3237.31,-112 3237.31,-112 3237.31,-106 3243.31,-100 3249.31,-100 3249.31,-100 3446.57,-100 3446.57,-100 3452.57,-100 3458.57,-106 3458.57,-112 3458.57,-112 3458.57,-166 3458.57,-166 3458.57,-172 3452.57,-178 3446.57,-178\"/>\n",
       "<text text-anchor=\"start\" x=\"3278.34\" y=\"-162.8\" font-family=\"Helvetica,sans-Serif\" font-size=\"14.00\">TermInMonths ≤ 120.5</text>\n",
       "<text text-anchor=\"start\" x=\"3307.66\" y=\"-148.8\" font-family=\"Helvetica,sans-Serif\" font-size=\"14.00\">gini = 0.2128</text>\n",
       "<text text-anchor=\"start\" x=\"3294.43\" y=\"-134.8\" font-family=\"Helvetica,sans-Serif\" font-size=\"14.00\">samples = 63305</text>\n",
       "<text text-anchor=\"start\" x=\"3245.38\" y=\"-120.8\" font-family=\"Helvetica,sans-Serif\" font-size=\"14.00\">value = [5515.8351, 40039.5963]</text>\n",
       "<text text-anchor=\"start\" x=\"3313.12\" y=\"-106.8\" font-family=\"Helvetica,sans-Serif\" font-size=\"14.00\">class = PIF</text>\n",
       "</g>\n",
       "<!-- 24&#45;&gt;28 -->\n",
       "<g id=\"edge28\" class=\"edge\"><title>24&#45;&gt;28</title>\n",
       "<path fill=\"none\" stroke=\"black\" d=\"M3098.61,-216.716C3139.69,-204.075 3186.11,-189.795 3227.65,-177.012\"/>\n",
       "<polygon fill=\"black\" stroke=\"black\" points=\"3228.74,-180.34 3237.27,-174.054 3226.68,-173.649 3228.74,-180.34\"/>\n",
       "</g>\n",
       "<!-- 26 -->\n",
       "<g id=\"node27\" class=\"node\"><title>26</title>\n",
       "<path fill=\"#e58139\" fill-opacity=\"0.007843\" stroke=\"black\" d=\"M2980.78,-64C2980.78,-64 2791.1,-64 2791.1,-64 2785.1,-64 2779.1,-58 2779.1,-52 2779.1,-52 2779.1,-12 2779.1,-12 2779.1,-6 2785.1,-0 2791.1,-0 2791.1,-0 2980.78,-0 2980.78,-0 2986.78,-0 2992.78,-6 2992.78,-12 2992.78,-12 2992.78,-52 2992.78,-52 2992.78,-58 2986.78,-64 2980.78,-64\"/>\n",
       "<text text-anchor=\"start\" x=\"2857.33\" y=\"-48.8\" font-family=\"Helvetica,sans-Serif\" font-size=\"14.00\">gini = 0.5</text>\n",
       "<text text-anchor=\"start\" x=\"2832.43\" y=\"-34.8\" font-family=\"Helvetica,sans-Serif\" font-size=\"14.00\">samples = 17481</text>\n",
       "<text text-anchor=\"start\" x=\"2787.27\" y=\"-20.8\" font-family=\"Helvetica,sans-Serif\" font-size=\"14.00\">value = [8802.6965, 8720.5415]</text>\n",
       "<text text-anchor=\"start\" x=\"2848.01\" y=\"-6.8\" font-family=\"Helvetica,sans-Serif\" font-size=\"14.00\">class = DEF</text>\n",
       "</g>\n",
       "<!-- 25&#45;&gt;26 -->\n",
       "<g id=\"edge26\" class=\"edge\"><title>25&#45;&gt;26</title>\n",
       "<path fill=\"none\" stroke=\"black\" d=\"M2948.28,-99.7956C2939.73,-90.6335 2930.59,-80.8428 2922.02,-71.6603\"/>\n",
       "<polygon fill=\"black\" stroke=\"black\" points=\"2924.36,-69.0396 2914.98,-64.1172 2919.25,-73.8159 2924.36,-69.0396\"/>\n",
       "</g>\n",
       "<!-- 27 -->\n",
       "<g id=\"node28\" class=\"node\"><title>27</title>\n",
       "<path fill=\"#e58139\" fill-opacity=\"0.631373\" stroke=\"black\" d=\"M3211.78,-64C3211.78,-64 3022.1,-64 3022.1,-64 3016.1,-64 3010.1,-58 3010.1,-52 3010.1,-52 3010.1,-12 3010.1,-12 3010.1,-6 3016.1,-0 3022.1,-0 3022.1,-0 3211.78,-0 3211.78,-0 3217.78,-0 3223.78,-6 3223.78,-12 3223.78,-12 3223.78,-52 3223.78,-52 3223.78,-58 3217.78,-64 3211.78,-64\"/>\n",
       "<text text-anchor=\"start\" x=\"3076.66\" y=\"-48.8\" font-family=\"Helvetica,sans-Serif\" font-size=\"14.00\">gini = 0.3938</text>\n",
       "<text text-anchor=\"start\" x=\"3063.43\" y=\"-34.8\" font-family=\"Helvetica,sans-Serif\" font-size=\"14.00\">samples = 10409</text>\n",
       "<text text-anchor=\"start\" x=\"3018.27\" y=\"-20.8\" font-family=\"Helvetica,sans-Serif\" font-size=\"14.00\">value = [9963.4917, 3677.3686]</text>\n",
       "<text text-anchor=\"start\" x=\"3079.01\" y=\"-6.8\" font-family=\"Helvetica,sans-Serif\" font-size=\"14.00\">class = DEF</text>\n",
       "</g>\n",
       "<!-- 25&#45;&gt;27 -->\n",
       "<g id=\"edge27\" class=\"edge\"><title>25&#45;&gt;27</title>\n",
       "<path fill=\"none\" stroke=\"black\" d=\"M3032.33,-99.7956C3044.4,-90.2671 3057.33,-80.0585 3069.36,-70.5614\"/>\n",
       "<polygon fill=\"black\" stroke=\"black\" points=\"3071.84,-73.0607 3077.52,-64.1172 3067.51,-67.5666 3071.84,-73.0607\"/>\n",
       "</g>\n",
       "<!-- 29 -->\n",
       "<g id=\"node30\" class=\"node\"><title>29</title>\n",
       "<path fill=\"#399de5\" fill-opacity=\"0.976471\" stroke=\"black\" d=\"M3442.78,-64C3442.78,-64 3253.1,-64 3253.1,-64 3247.1,-64 3241.1,-58 3241.1,-52 3241.1,-52 3241.1,-12 3241.1,-12 3241.1,-6 3247.1,-0 3253.1,-0 3253.1,-0 3442.78,-0 3442.78,-0 3448.78,-0 3454.78,-6 3454.78,-12 3454.78,-12 3454.78,-52 3454.78,-52 3454.78,-58 3448.78,-64 3442.78,-64\"/>\n",
       "<text text-anchor=\"start\" x=\"3307.66\" y=\"-48.8\" font-family=\"Helvetica,sans-Serif\" font-size=\"14.00\">gini = 0.0481</text>\n",
       "<text text-anchor=\"start\" x=\"3294.43\" y=\"-34.8\" font-family=\"Helvetica,sans-Serif\" font-size=\"14.00\">samples = 37419</text>\n",
       "<text text-anchor=\"start\" x=\"3249.27\" y=\"-20.8\" font-family=\"Helvetica,sans-Serif\" font-size=\"14.00\">value = [619.5024, 24514.4699]</text>\n",
       "<text text-anchor=\"start\" x=\"3313.12\" y=\"-6.8\" font-family=\"Helvetica,sans-Serif\" font-size=\"14.00\">class = PIF</text>\n",
       "</g>\n",
       "<!-- 28&#45;&gt;29 -->\n",
       "<g id=\"edge29\" class=\"edge\"><title>28&#45;&gt;29</title>\n",
       "<path fill=\"none\" stroke=\"black\" d=\"M3347.94,-99.7956C3347.94,-91.4581 3347.94,-82.6 3347.94,-74.1534\"/>\n",
       "<polygon fill=\"black\" stroke=\"black\" points=\"3351.44,-74.1171 3347.94,-64.1172 3344.44,-74.1172 3351.44,-74.1171\"/>\n",
       "</g>\n",
       "<!-- 30 -->\n",
       "<g id=\"node31\" class=\"node\"><title>30</title>\n",
       "<path fill=\"#399de5\" fill-opacity=\"0.686275\" stroke=\"black\" d=\"M3681.57,-64C3681.57,-64 3484.31,-64 3484.31,-64 3478.31,-64 3472.31,-58 3472.31,-52 3472.31,-52 3472.31,-12 3472.31,-12 3472.31,-6 3478.31,-0 3484.31,-0 3484.31,-0 3681.57,-0 3681.57,-0 3687.57,-0 3693.57,-6 3693.57,-12 3693.57,-12 3693.57,-52 3693.57,-52 3693.57,-58 3687.57,-64 3681.57,-64\"/>\n",
       "<text text-anchor=\"start\" x=\"3542.66\" y=\"-48.8\" font-family=\"Helvetica,sans-Serif\" font-size=\"14.00\">gini = 0.3646</text>\n",
       "<text text-anchor=\"start\" x=\"3529.43\" y=\"-34.8\" font-family=\"Helvetica,sans-Serif\" font-size=\"14.00\">samples = 25886</text>\n",
       "<text text-anchor=\"start\" x=\"3480.38\" y=\"-20.8\" font-family=\"Helvetica,sans-Serif\" font-size=\"14.00\">value = [4896.3327, 15525.1264]</text>\n",
       "<text text-anchor=\"start\" x=\"3548.12\" y=\"-6.8\" font-family=\"Helvetica,sans-Serif\" font-size=\"14.00\">class = PIF</text>\n",
       "</g>\n",
       "<!-- 28&#45;&gt;30 -->\n",
       "<g id=\"edge30\" class=\"edge\"><title>28&#45;&gt;30</title>\n",
       "<path fill=\"none\" stroke=\"black\" d=\"M3433.11,-99.9441C3456.32,-89.576 3481.35,-78.3928 3504.18,-68.1914\"/>\n",
       "<polygon fill=\"black\" stroke=\"black\" points=\"3505.78,-71.3105 3513.48,-64.0355 3502.92,-64.9194 3505.78,-71.3105\"/>\n",
       "</g>\n",
       "</g>\n",
       "</svg>\n"
      ],
      "text/plain": [
       "<graphviz.files.Source at 0x12a5bb278>"
      ]
     },
     "execution_count": 40,
     "metadata": {},
     "output_type": "execute_result"
    }
   ],
   "source": [
    "#visualize the tree\n",
    "dot_data = tree.export_graphviz(dtree, out_file = None, \n",
    "                         feature_names = X_train_v1.columns,  \n",
    "                         class_names = ['DEF', 'PIF'],  \n",
    "                         filled = True, rounded = True,  \n",
    "                         special_characters = True)  \n",
    "graph = graphviz.Source(dot_data)  \n",
    "graph.render(\"dec_tree_simple\") \n",
    "graph"
   ]
  },
  {
   "cell_type": "code",
   "execution_count": 62,
   "metadata": {
    "collapsed": false
   },
   "outputs": [
    {
     "data": {
      "text/plain": [
       "<matplotlib.figure.Figure at 0x1188f6c50>"
      ]
     },
     "metadata": {},
     "output_type": "display_data"
    },
    {
     "data": {
      "image/png": "[encoded data removed]",
      "text/plain": [
       "<matplotlib.figure.Figure at 0x11772d3c8>"
      ]
     },
     "metadata": {},
     "output_type": "display_data"
    }
   ],
   "source": [
    "#Term in months seems the most important from the Decision Tree\n",
    "fig = plt.figure(figsize = (5,3), facecolor = 'gainsboro')\n",
    "sns.set_context('poster', font_scale = 1.2)\n",
    "\n",
    "\n",
    "g = sns.factorplot(x = 'PIF', y = 'TermInMonths',\n",
    "                   kind = 'bar', data = data, estimator = np.mean, palette = 'Set1' )\n",
    "\n",
    "g.set_xticklabels(['Defaulted', 'Repaid'])\n",
    "sns.plt.xlabel('')\n",
    "sns.plt.title('7A Matured Loans')\n",
    "sns.plt.ylabel('Mean Term in Months')\n",
    "g.savefig('Term.png', dpi = 300)"
   ]
  },
  {
   "cell_type": "markdown",
   "metadata": {},
   "source": [
    "### Paid in full loans have longer duration! "
   ]
  },
  {
   "cell_type": "code",
   "execution_count": 49,
   "metadata": {
    "collapsed": false
   },
   "outputs": [
    {
     "name": "stdout",
     "output_type": "stream",
     "text": [
      "             precision    recall  f1-score   support\n",
      "\n",
      "          0       0.83      0.77      0.80     47468\n",
      "          1       0.93      0.95      0.94    147611\n",
      "\n",
      "avg / total       0.90      0.91      0.91    195079\n",
      "\n"
     ]
    }
   ],
   "source": [
    "#try random forest with random split\n",
    "rf = RandomForestClassifier(n_estimators = 300, class_weight = 'balanced', n_jobs=-1)\n",
    "rf.fit(X_train_v1, y_train_v1)\n",
    "rf_pred = rf.predict(X_test_v1)\n",
    "print(classification_report(y_test_v1, rf_pred))"
   ]
  },
  {
   "cell_type": "code",
   "execution_count": 51,
   "metadata": {
    "collapsed": false
   },
   "outputs": [
    {
     "name": "stdout",
     "output_type": "stream",
     "text": [
      "             precision    recall  f1-score   support\n",
      "\n",
      "          0       0.83      0.78      0.80     47468\n",
      "          1       0.93      0.95      0.94    147611\n",
      "\n",
      "avg / total       0.91      0.91      0.91    195079\n",
      "\n"
     ]
    }
   ],
   "source": [
    "#try random forest with random split\n",
    "rf_100 = RandomForestClassifier(n_estimators = 100, class_weight = 'balanced', n_jobs=-1)\n",
    "rf_100.fit(X_train_v1, y_train_v1)\n",
    "rf_100_pred = rf_100.predict(X_test_v1)\n",
    "print(classification_report(y_test_v1, rf_100_pred))"
   ]
  },
  {
   "cell_type": "markdown",
   "metadata": {},
   "source": [
    "100 estimators achieves the same precision and recall as 300 estimators!"
   ]
  },
  {
   "cell_type": "code",
   "execution_count": 52,
   "metadata": {
    "collapsed": false
   },
   "outputs": [
    {
     "name": "stdout",
     "output_type": "stream",
     "text": [
      "Feature ranking:\n",
      "1. feature TermInMonths (0.539749)\n",
      "2. feature SBAGuaranteedApprovalAdj (0.116471)\n",
      "3. feature SP_to2016 (0.113057)\n",
      "4. feature JobsSupported (0.054012)\n",
      "5. feature RevolverStatus (0.013484)\n",
      "6. feature INDIVIDUAL (0.007657)\n",
      "7. feature CA (0.006051)\n",
      "8. feature Retail Trade (0.005016)\n",
      "9. feature Health Care & Social Assistance (0.004883)\n",
      "10. feature FL (0.004826)\n",
      "11. feature Other Services (0.004626)\n",
      "12. feature Construction (0.004557)\n",
      "13. feature FranchiseCodeBin (0.004298)\n",
      "14. feature NY (0.004197)\n",
      "15. feature Professional, Scientific, & Technical Services (0.004194)\n",
      "16. feature TX (0.004108)\n",
      "17. feature Manufacturing (0.003949)\n",
      "18. feature Wholesale Trade (0.003841)\n",
      "19. feature Administrative/Support/Waste Management (0.003315)\n",
      "20. feature OH (0.003227)\n",
      "21. feature PA (0.003155)\n",
      "22. feature PARTNERSHIP (0.003000)\n",
      "23. feature Transportation & Warehousing (0.002960)\n",
      "24. feature NJ (0.002942)\n",
      "25. feature GA (0.002686)\n",
      "26. feature IL (0.002670)\n",
      "27. feature MA (0.002631)\n",
      "28. feature MN (0.002486)\n",
      "29. feature MI (0.002431)\n",
      "30. feature MO (0.002427)\n",
      "31. feature UT (0.002271)\n",
      "32. feature WI (0.002261)\n",
      "33. feature NC (0.002184)\n",
      "34. feature IN (0.002122)\n",
      "35. feature CO (0.002106)\n",
      "36. feature WA (0.002092)\n",
      "37. feature Arts, Entertainment, & Recreation (0.002069)\n",
      "38. feature PR (0.002021)\n",
      "39. feature MD (0.001971)\n",
      "40. feature VA (0.001928)\n",
      "41. feature Information (0.001886)\n",
      "42. feature CT (0.001851)\n",
      "43. feature AZ (0.001830)\n",
      "44. feature Real Estate Rental & Leasing (0.001814)\n",
      "45. feature MT (0.001726)\n",
      "46. feature TN (0.001716)\n",
      "47. feature KS (0.001702)\n",
      "48. feature Agriculture (0.001686)\n",
      "49. feature IA (0.001657)\n",
      "50. feature NH (0.001614)\n",
      "51. feature OK (0.001591)\n",
      "52. feature LA (0.001559)\n",
      "53. feature OR (0.001507)\n",
      "54. feature KY (0.001490)\n",
      "55. feature MS (0.001423)\n",
      "56. feature RI (0.001423)\n",
      "57. feature ME (0.001396)\n",
      "58. feature Finance & Insurance (0.001373)\n",
      "59. feature AL (0.001302)\n",
      "60. feature ND (0.001286)\n",
      "61. feature NE (0.001249)\n",
      "62. feature ID (0.001233)\n",
      "63. feature Educational Services (0.001224)\n",
      "64. feature NV (0.001148)\n",
      "65. feature AR (0.001129)\n",
      "66. feature VT (0.001121)\n",
      "67. feature SC (0.001048)\n",
      "68. feature NM (0.001033)\n",
      "69. feature HI (0.001006)\n",
      "70. feature WV (0.000757)\n",
      "71. feature Mining (0.000655)\n",
      "72. feature SD (0.000649)\n",
      "73. feature WY (0.000612)\n",
      "74. feature DE (0.000566)\n",
      "75. feature DC (0.000439)\n",
      "76. feature Utilities (0.000229)\n",
      "77. feature Public Administration (0.000093)\n",
      "78. feature Management of Companies & Enterprises (0.000046)\n"
     ]
    },
    {
     "data": {
      "image/png": "[encoded data removed]",
      "text/plain": [
       "<matplotlib.figure.Figure at 0x1197aef28>"
      ]
     },
     "metadata": {},
     "output_type": "display_data"
    }
   ],
   "source": [
    "#feature ranking for random forest\n",
    "fig = plt.figure(figsize = (10,5))\n",
    "importances = rf_100.feature_importances_\n",
    "std = np.std([tree.feature_importances_ for tree in rf_100.estimators_],\n",
    "            axis=0)\n",
    "indices = np.argsort(importances)[::-1]\n",
    "fts = list(X_train_v1.columns)\n",
    "# Print the feature ranking\n",
    "print(\"Feature ranking:\")\n",
    "\n",
    "for f in range(X_train_v1.shape[1]):\n",
    "   print(\"%d. feature %s (%f)\" % (f + 1, fts[indices[f]], importances[indices[f]]))\n",
    "\n",
    "# Plot the feature importances of the forest\n",
    "plt.title(\"Feature importances\")\n",
    "plt.bar(range(X_train_v1.shape[1]), importances[indices],\n",
    "       color=\"r\", yerr=std[indices], align=\"center\")\n",
    "plt.xticks(range(X_train_v1.shape[1]), indices)\n",
    "\n",
    "plt.xlim([-1, X_train_v1.shape[1]])\n",
    "plt.show()\n"
   ]
  },
  {
   "cell_type": "code",
   "execution_count": 53,
   "metadata": {
    "collapsed": true
   },
   "outputs": [],
   "source": [
    "fig.savefig('RF_100est_FImportance.png', dpi = 300)"
   ]
  },
  {
   "cell_type": "code",
   "execution_count": 55,
   "metadata": {
    "collapsed": false
   },
   "outputs": [],
   "source": [
    "#GridSearch for RF\n",
    "from sklearn.model_selection import GridSearchCV\n",
    "param_grid = {'max_features': [0.2, 'auto', 'log2'],\n",
    "              'n_estimators': [100], 'min_samples_leaf': [1, 5, 10, 50, 100, 500]}\n",
    "grid_rf = GridSearchCV(RandomForestClassifier(class_weight = 'balanced', n_jobs = -1),\n",
    "                param_grid, cv = 10, refit = True,verbose = 3, scoring = 'f1_score')\n"
   ]
  },
  {
   "cell_type": "code",
   "execution_count": 56,
   "metadata": {
    "collapsed": false
   },
   "outputs": [
    {
     "name": "stdout",
     "output_type": "stream",
     "text": [
      "Fitting 10 folds for each of 18 candidates, totalling 180 fits\n",
      "[CV] max_features=0.2, min_samples_leaf=1, n_estimators=100 ..........\n",
      "[CV]  max_features=0.2, min_samples_leaf=1, n_estimators=100, score=0.947854, total= 1.7min\n",
      "[CV] max_features=0.2, min_samples_leaf=1, n_estimators=100 ..........\n"
     ]
    },
    {
     "name": "stderr",
     "output_type": "stream",
     "text": [
      "[Parallel(n_jobs=1)]: Done   1 out of   1 | elapsed:  1.9min remaining:    0.0s\n"
     ]
    },
    {
     "name": "stdout",
     "output_type": "stream",
     "text": [
      "[CV]  max_features=0.2, min_samples_leaf=1, n_estimators=100, score=0.948405, total= 1.7min\n",
      "[CV] max_features=0.2, min_samples_leaf=1, n_estimators=100 ..........\n"
     ]
    },
    {
     "name": "stderr",
     "output_type": "stream",
     "text": [
      "[Parallel(n_jobs=1)]: Done   2 out of   2 | elapsed:  3.7min remaining:    0.0s\n"
     ]
    },
    {
     "name": "stdout",
     "output_type": "stream",
     "text": [
      "[CV]  max_features=0.2, min_samples_leaf=1, n_estimators=100, score=0.948347, total= 1.7min\n",
      "[CV] max_features=0.2, min_samples_leaf=1, n_estimators=100 ..........\n",
      "[CV]  max_features=0.2, min_samples_leaf=1, n_estimators=100, score=0.947620, total= 1.6min\n",
      "[CV] max_features=0.2, min_samples_leaf=1, n_estimators=100 ..........\n",
      "[CV]  max_features=0.2, min_samples_leaf=1, n_estimators=100, score=0.948230, total= 1.6min\n",
      "[CV] max_features=0.2, min_samples_leaf=1, n_estimators=100 ..........\n",
      "[CV]  max_features=0.2, min_samples_leaf=1, n_estimators=100, score=0.946140, total= 1.7min\n",
      "[CV] max_features=0.2, min_samples_leaf=1, n_estimators=100 ..........\n",
      "[CV]  max_features=0.2, min_samples_leaf=1, n_estimators=100, score=0.946924, total= 1.7min\n",
      "[CV] max_features=0.2, min_samples_leaf=1, n_estimators=100 ..........\n",
      "[CV]  max_features=0.2, min_samples_leaf=1, n_estimators=100, score=0.949187, total= 1.7min\n",
      "[CV] max_features=0.2, min_samples_leaf=1, n_estimators=100 ..........\n",
      "[CV]  max_features=0.2, min_samples_leaf=1, n_estimators=100, score=0.946779, total=11.9min\n",
      "[CV] max_features=0.2, min_samples_leaf=1, n_estimators=100 ..........\n",
      "[CV]  max_features=0.2, min_samples_leaf=1, n_estimators=100, score=0.947359, total= 1.7min\n",
      "[CV] max_features=0.2, min_samples_leaf=5, n_estimators=100 ..........\n",
      "[CV]  max_features=0.2, min_samples_leaf=5, n_estimators=100, score=0.902092, total= 1.5min\n",
      "[CV] max_features=0.2, min_samples_leaf=5, n_estimators=100 ..........\n",
      "[CV]  max_features=0.2, min_samples_leaf=5, n_estimators=100, score=0.901599, total= 1.5min\n",
      "[CV] max_features=0.2, min_samples_leaf=5, n_estimators=100 ..........\n",
      "[CV]  max_features=0.2, min_samples_leaf=5, n_estimators=100, score=0.902673, total= 1.6min\n",
      "[CV] max_features=0.2, min_samples_leaf=5, n_estimators=100 ..........\n",
      "[CV]  max_features=0.2, min_samples_leaf=5, n_estimators=100, score=0.900900, total= 1.7min\n",
      "[CV] max_features=0.2, min_samples_leaf=5, n_estimators=100 ..........\n",
      "[CV]  max_features=0.2, min_samples_leaf=5, n_estimators=100, score=0.904817, total= 1.8min\n",
      "[CV] max_features=0.2, min_samples_leaf=5, n_estimators=100 ..........\n",
      "[CV]  max_features=0.2, min_samples_leaf=5, n_estimators=100, score=0.900348, total= 1.7min\n",
      "[CV] max_features=0.2, min_samples_leaf=5, n_estimators=100 ..........\n",
      "[CV]  max_features=0.2, min_samples_leaf=5, n_estimators=100, score=0.900522, total= 1.7min\n",
      "[CV] max_features=0.2, min_samples_leaf=5, n_estimators=100 ..........\n",
      "[CV]  max_features=0.2, min_samples_leaf=5, n_estimators=100, score=0.903395, total= 1.7min\n",
      "[CV] max_features=0.2, min_samples_leaf=5, n_estimators=100 ..........\n",
      "[CV]  max_features=0.2, min_samples_leaf=5, n_estimators=100, score=0.902641, total= 1.9min\n",
      "[CV] max_features=0.2, min_samples_leaf=5, n_estimators=100 ..........\n",
      "[CV]  max_features=0.2, min_samples_leaf=5, n_estimators=100, score=0.898665, total= 2.2min\n",
      "[CV] max_features=0.2, min_samples_leaf=10, n_estimators=100 .........\n",
      "[CV]  max_features=0.2, min_samples_leaf=10, n_estimators=100, score=0.884623, total= 1.8min\n",
      "[CV] max_features=0.2, min_samples_leaf=10, n_estimators=100 .........\n",
      "[CV]  max_features=0.2, min_samples_leaf=10, n_estimators=100, score=0.881547, total= 1.8min\n",
      "[CV] max_features=0.2, min_samples_leaf=10, n_estimators=100 .........\n",
      "[CV]  max_features=0.2, min_samples_leaf=10, n_estimators=100, score=0.888018, total= 1.6min\n",
      "[CV] max_features=0.2, min_samples_leaf=10, n_estimators=100 .........\n",
      "[CV]  max_features=0.2, min_samples_leaf=10, n_estimators=100, score=0.882966, total= 1.7min\n",
      "[CV] max_features=0.2, min_samples_leaf=10, n_estimators=100 .........\n",
      "[CV]  max_features=0.2, min_samples_leaf=10, n_estimators=100, score=0.887638, total= 1.7min\n",
      "[CV] max_features=0.2, min_samples_leaf=10, n_estimators=100 .........\n",
      "[CV]  max_features=0.2, min_samples_leaf=10, n_estimators=100, score=0.884272, total= 1.6min\n",
      "[CV] max_features=0.2, min_samples_leaf=10, n_estimators=100 .........\n",
      "[CV]  max_features=0.2, min_samples_leaf=10, n_estimators=100, score=0.884010, total= 1.7min\n",
      "[CV] max_features=0.2, min_samples_leaf=10, n_estimators=100 .........\n",
      "[CV]  max_features=0.2, min_samples_leaf=10, n_estimators=100, score=0.886071, total= 1.7min\n",
      "[CV] max_features=0.2, min_samples_leaf=10, n_estimators=100 .........\n",
      "[CV]  max_features=0.2, min_samples_leaf=10, n_estimators=100, score=0.886187, total= 1.7min\n",
      "[CV] max_features=0.2, min_samples_leaf=10, n_estimators=100 .........\n",
      "[CV]  max_features=0.2, min_samples_leaf=10, n_estimators=100, score=0.882037, total= 1.7min\n",
      "[CV] max_features=0.2, min_samples_leaf=50, n_estimators=100 .........\n",
      "[CV]  max_features=0.2, min_samples_leaf=50, n_estimators=100, score=0.853080, total= 1.4min\n",
      "[CV] max_features=0.2, min_samples_leaf=50, n_estimators=100 .........\n",
      "[CV]  max_features=0.2, min_samples_leaf=50, n_estimators=100, score=0.852587, total= 1.4min\n",
      "[CV] max_features=0.2, min_samples_leaf=50, n_estimators=100 .........\n",
      "[CV]  max_features=0.2, min_samples_leaf=50, n_estimators=100, score=0.854357, total= 1.3min\n",
      "[CV] max_features=0.2, min_samples_leaf=50, n_estimators=100 .........\n",
      "[CV]  max_features=0.2, min_samples_leaf=50, n_estimators=100, score=0.852409, total= 1.4min\n",
      "[CV] max_features=0.2, min_samples_leaf=50, n_estimators=100 .........\n",
      "[CV]  max_features=0.2, min_samples_leaf=50, n_estimators=100, score=0.856907, total= 1.4min\n",
      "[CV] max_features=0.2, min_samples_leaf=50, n_estimators=100 .........\n",
      "[CV]  max_features=0.2, min_samples_leaf=50, n_estimators=100, score=0.854208, total= 1.5min\n",
      "[CV] max_features=0.2, min_samples_leaf=50, n_estimators=100 .........\n",
      "[CV]  max_features=0.2, min_samples_leaf=50, n_estimators=100, score=0.855107, total= 1.4min\n",
      "[CV] max_features=0.2, min_samples_leaf=50, n_estimators=100 .........\n",
      "[CV]  max_features=0.2, min_samples_leaf=50, n_estimators=100, score=0.853308, total= 1.5min\n",
      "[CV] max_features=0.2, min_samples_leaf=50, n_estimators=100 .........\n",
      "[CV]  max_features=0.2, min_samples_leaf=50, n_estimators=100, score=0.851335, total= 1.4min\n",
      "[CV] max_features=0.2, min_samples_leaf=50, n_estimators=100 .........\n",
      "[CV]  max_features=0.2, min_samples_leaf=50, n_estimators=100, score=0.848085, total= 1.5min\n",
      "[CV] max_features=0.2, min_samples_leaf=100, n_estimators=100 ........\n",
      "[CV]  max_features=0.2, min_samples_leaf=100, n_estimators=100, score=0.841908, total= 1.3min\n",
      "[CV] max_features=0.2, min_samples_leaf=100, n_estimators=100 ........\n",
      "[CV]  max_features=0.2, min_samples_leaf=100, n_estimators=100, score=0.843359, total= 1.3min\n",
      "[CV] max_features=0.2, min_samples_leaf=100, n_estimators=100 ........\n",
      "[CV]  max_features=0.2, min_samples_leaf=100, n_estimators=100, score=0.842866, total= 1.3min\n",
      "[CV] max_features=0.2, min_samples_leaf=100, n_estimators=100 ........\n",
      "[CV]  max_features=0.2, min_samples_leaf=100, n_estimators=100, score=0.842136, total= 1.3min\n",
      "[CV] max_features=0.2, min_samples_leaf=100, n_estimators=100 ........\n",
      "[CV]  max_features=0.2, min_samples_leaf=100, n_estimators=100, score=0.842310, total= 1.3min\n",
      "[CV] max_features=0.2, min_samples_leaf=100, n_estimators=100 ........\n",
      "[CV]  max_features=0.2, min_samples_leaf=100, n_estimators=100, score=0.840366, total= 1.3min\n",
      "[CV] max_features=0.2, min_samples_leaf=100, n_estimators=100 ........\n",
      "[CV]  max_features=0.2, min_samples_leaf=100, n_estimators=100, score=0.844196, total= 1.3min\n",
      "[CV] max_features=0.2, min_samples_leaf=100, n_estimators=100 ........\n",
      "[CV]  max_features=0.2, min_samples_leaf=100, n_estimators=100, score=0.843210, total= 1.4min\n",
      "[CV] max_features=0.2, min_samples_leaf=100, n_estimators=100 ........\n",
      "[CV]  max_features=0.2, min_samples_leaf=100, n_estimators=100, score=0.838247, total= 1.4min\n",
      "[CV] max_features=0.2, min_samples_leaf=100, n_estimators=100 ........\n",
      "[CV]  max_features=0.2, min_samples_leaf=100, n_estimators=100, score=0.839437, total= 1.5min\n",
      "[CV] max_features=0.2, min_samples_leaf=500, n_estimators=100 ........\n",
      "[CV]  max_features=0.2, min_samples_leaf=500, n_estimators=100, score=0.821247, total=  58.9s\n",
      "[CV] max_features=0.2, min_samples_leaf=500, n_estimators=100 ........\n",
      "[CV]  max_features=0.2, min_samples_leaf=500, n_estimators=100, score=0.824410, total=  57.7s\n",
      "[CV] max_features=0.2, min_samples_leaf=500, n_estimators=100 ........\n",
      "[CV]  max_features=0.2, min_samples_leaf=500, n_estimators=100, score=0.825948, total= 1.0min\n",
      "[CV] max_features=0.2, min_samples_leaf=500, n_estimators=100 ........\n",
      "[CV]  max_features=0.2, min_samples_leaf=500, n_estimators=100, score=0.819733, total=  57.2s\n",
      "[CV] max_features=0.2, min_samples_leaf=500, n_estimators=100 ........\n",
      "[CV]  max_features=0.2, min_samples_leaf=500, n_estimators=100, score=0.823012, total=  59.3s\n",
      "[CV] max_features=0.2, min_samples_leaf=500, n_estimators=100 ........\n",
      "[CV]  max_features=0.2, min_samples_leaf=500, n_estimators=100, score=0.819762, total=  58.6s\n",
      "[CV] max_features=0.2, min_samples_leaf=500, n_estimators=100 ........\n",
      "[CV]  max_features=0.2, min_samples_leaf=500, n_estimators=100, score=0.827858, total= 1.0min\n",
      "[CV] max_features=0.2, min_samples_leaf=500, n_estimators=100 ........\n",
      "[CV]  max_features=0.2, min_samples_leaf=500, n_estimators=100, score=0.825972, total=  59.1s\n",
      "[CV] max_features=0.2, min_samples_leaf=500, n_estimators=100 ........\n",
      "[CV]  max_features=0.2, min_samples_leaf=500, n_estimators=100, score=0.819443, total=  55.6s\n",
      "[CV] max_features=0.2, min_samples_leaf=500, n_estimators=100 ........\n",
      "[CV]  max_features=0.2, min_samples_leaf=500, n_estimators=100, score=0.822084, total= 1.3min\n",
      "[CV] max_features=auto, min_samples_leaf=1, n_estimators=100 .........\n",
      "[CV]  max_features=auto, min_samples_leaf=1, n_estimators=100, score=0.947071, total= 1.5min\n",
      "[CV] max_features=auto, min_samples_leaf=1, n_estimators=100 .........\n",
      "[CV]  max_features=auto, min_samples_leaf=1, n_estimators=100, score=0.948754, total= 1.4min\n",
      "[CV] max_features=auto, min_samples_leaf=1, n_estimators=100 .........\n",
      "[CV]  max_features=auto, min_samples_leaf=1, n_estimators=100, score=0.948667, total= 1.4min\n",
      "[CV] max_features=auto, min_samples_leaf=1, n_estimators=100 .........\n",
      "[CV]  max_features=auto, min_samples_leaf=1, n_estimators=100, score=0.947940, total= 1.4min\n",
      "[CV] max_features=auto, min_samples_leaf=1, n_estimators=100 .........\n",
      "[CV]  max_features=auto, min_samples_leaf=1, n_estimators=100, score=0.948549, total= 1.4min\n",
      "[CV] max_features=auto, min_samples_leaf=1, n_estimators=100 .........\n",
      "[CV]  max_features=auto, min_samples_leaf=1, n_estimators=100, score=0.947011, total= 1.5min\n",
      "[CV] max_features=auto, min_samples_leaf=1, n_estimators=100 .........\n",
      "[CV]  max_features=auto, min_samples_leaf=1, n_estimators=100, score=0.947853, total= 1.3min\n",
      "[CV] max_features=auto, min_samples_leaf=1, n_estimators=100 .........\n",
      "[CV]  max_features=auto, min_samples_leaf=1, n_estimators=100, score=0.948955, total= 1.5min\n",
      "[CV] max_features=auto, min_samples_leaf=1, n_estimators=100 .........\n",
      "[CV]  max_features=auto, min_samples_leaf=1, n_estimators=100, score=0.949187, total= 1.7min\n",
      "[CV] max_features=auto, min_samples_leaf=1, n_estimators=100 .........\n",
      "[CV]  max_features=auto, min_samples_leaf=1, n_estimators=100, score=0.946373, total= 1.4min\n",
      "[CV] max_features=auto, min_samples_leaf=5, n_estimators=100 .........\n",
      "[CV]  max_features=auto, min_samples_leaf=5, n_estimators=100, score=0.875482, total= 1.3min\n",
      "[CV] max_features=auto, min_samples_leaf=5, n_estimators=100 .........\n",
      "[CV]  max_features=auto, min_samples_leaf=5, n_estimators=100, score=0.877601, total= 1.3min\n",
      "[CV] max_features=auto, min_samples_leaf=5, n_estimators=100 .........\n",
      "[CV]  max_features=auto, min_samples_leaf=5, n_estimators=100, score=0.877020, total= 1.3min\n",
      "[CV] max_features=auto, min_samples_leaf=5, n_estimators=100 .........\n",
      "[CV]  max_features=auto, min_samples_leaf=5, n_estimators=100, score=0.876436, total= 1.3min\n",
      "[CV] max_features=auto, min_samples_leaf=5, n_estimators=100 .........\n",
      "[CV]  max_features=auto, min_samples_leaf=5, n_estimators=100, score=0.880412, total= 1.2min\n",
      "[CV] max_features=auto, min_samples_leaf=5, n_estimators=100 .........\n",
      "[CV]  max_features=auto, min_samples_leaf=5, n_estimators=100, score=0.875943, total= 1.3min\n",
      "[CV] max_features=auto, min_samples_leaf=5, n_estimators=100 .........\n",
      "[CV]  max_features=auto, min_samples_leaf=5, n_estimators=100, score=0.875102, total= 1.3min\n",
      "[CV] max_features=auto, min_samples_leaf=5, n_estimators=100 .........\n",
      "[CV]  max_features=auto, min_samples_leaf=5, n_estimators=100, score=0.879948, total= 1.3min\n",
      "[CV] max_features=auto, min_samples_leaf=5, n_estimators=100 .........\n",
      "[CV]  max_features=auto, min_samples_leaf=5, n_estimators=100, score=0.878439, total= 1.3min\n",
      "[CV] max_features=auto, min_samples_leaf=5, n_estimators=100 .........\n",
      "[CV]  max_features=auto, min_samples_leaf=5, n_estimators=100, score=0.872606, total= 1.3min\n",
      "[CV] max_features=auto, min_samples_leaf=10, n_estimators=100 ........\n",
      "[CV]  max_features=auto, min_samples_leaf=10, n_estimators=100, score=0.860915, total= 1.1min\n",
      "[CV] max_features=auto, min_samples_leaf=10, n_estimators=100 ........\n",
      "[CV]  max_features=auto, min_samples_leaf=10, n_estimators=100, score=0.863527, total= 1.3min\n",
      "[CV] max_features=auto, min_samples_leaf=10, n_estimators=100 ........\n",
      "[CV]  max_features=auto, min_samples_leaf=10, n_estimators=100, score=0.862134, total= 1.1min\n",
      "[CV] max_features=auto, min_samples_leaf=10, n_estimators=100 ........\n",
      "[CV]  max_features=auto, min_samples_leaf=10, n_estimators=100, score=0.860882, total= 1.2min\n",
      "[CV] max_features=auto, min_samples_leaf=10, n_estimators=100 ........\n",
      "[CV]  max_features=auto, min_samples_leaf=10, n_estimators=100, score=0.863407, total= 1.2min\n",
      "[CV] max_features=auto, min_samples_leaf=10, n_estimators=100 ........\n",
      "[CV]  max_features=auto, min_samples_leaf=10, n_estimators=100, score=0.861172, total= 1.2min\n",
      "[CV] max_features=auto, min_samples_leaf=10, n_estimators=100 ........\n",
      "[CV]  max_features=auto, min_samples_leaf=10, n_estimators=100, score=0.859025, total= 1.2min\n",
      "[CV] max_features=auto, min_samples_leaf=10, n_estimators=100 ........\n",
      "[CV]  max_features=auto, min_samples_leaf=10, n_estimators=100, score=0.863697, total= 1.2min\n",
      "[CV] max_features=auto, min_samples_leaf=10, n_estimators=100 ........\n",
      "[CV]  max_features=auto, min_samples_leaf=10, n_estimators=100, score=0.862014, total= 1.3min\n",
      "[CV] max_features=auto, min_samples_leaf=10, n_estimators=100 ........\n",
      "[CV]  max_features=auto, min_samples_leaf=10, n_estimators=100, score=0.856936, total= 1.2min\n",
      "[CV] max_features=auto, min_samples_leaf=50, n_estimators=100 ........\n",
      "[CV]  max_features=auto, min_samples_leaf=50, n_estimators=100, score=0.836714, total=  53.6s\n",
      "[CV] max_features=auto, min_samples_leaf=50, n_estimators=100 ........\n",
      "[CV]  max_features=auto, min_samples_leaf=50, n_estimators=100, score=0.841647, total=  54.0s\n",
      "[CV] max_features=auto, min_samples_leaf=50, n_estimators=100 ........\n",
      "[CV]  max_features=auto, min_samples_leaf=50, n_estimators=100, score=0.838049, total=  53.7s\n",
      "[CV] max_features=auto, min_samples_leaf=50, n_estimators=100 ........\n",
      "[CV]  max_features=auto, min_samples_leaf=50, n_estimators=100, score=0.836941, total= 1.0min\n",
      "[CV] max_features=auto, min_samples_leaf=50, n_estimators=100 ........\n",
      "[CV]  max_features=auto, min_samples_leaf=50, n_estimators=100, score=0.841323, total= 1.2min\n",
      "[CV] max_features=auto, min_samples_leaf=50, n_estimators=100 ........\n",
      "[CV]  max_features=auto, min_samples_leaf=50, n_estimators=100, score=0.838044, total= 1.1min\n",
      "[CV] max_features=auto, min_samples_leaf=50, n_estimators=100 ........\n",
      "[CV]  max_features=auto, min_samples_leaf=50, n_estimators=100, score=0.841323, total= 1.1min\n",
      "[CV] max_features=auto, min_samples_leaf=50, n_estimators=100 ........\n",
      "[CV]  max_features=auto, min_samples_leaf=50, n_estimators=100, score=0.841294, total=  53.5s\n",
      "[CV] max_features=auto, min_samples_leaf=50, n_estimators=100 ........\n",
      "[CV]  max_features=auto, min_samples_leaf=50, n_estimators=100, score=0.836709, total=  53.8s\n",
      "[CV] max_features=auto, min_samples_leaf=50, n_estimators=100 ........\n",
      "[CV]  max_features=auto, min_samples_leaf=50, n_estimators=100, score=0.834562, total=  53.6s\n",
      "[CV] max_features=auto, min_samples_leaf=100, n_estimators=100 .......\n",
      "[CV]  max_features=auto, min_samples_leaf=100, n_estimators=100, score=0.825484, total=  48.5s\n",
      "[CV] max_features=auto, min_samples_leaf=100, n_estimators=100 .......\n",
      "[CV]  max_features=auto, min_samples_leaf=100, n_estimators=100, score=0.832390, total=  48.1s\n",
      "[CV] max_features=auto, min_samples_leaf=100, n_estimators=100 .......\n",
      "[CV]  max_features=auto, min_samples_leaf=100, n_estimators=100, score=0.829430, total=  48.7s\n",
      "[CV] max_features=auto, min_samples_leaf=100, n_estimators=100 .......\n",
      "[CV]  max_features=auto, min_samples_leaf=100, n_estimators=100, score=0.828497, total=  48.6s\n",
      "[CV] max_features=auto, min_samples_leaf=100, n_estimators=100 .......\n",
      "[CV]  max_features=auto, min_samples_leaf=100, n_estimators=100, score=0.826901, total= 1.3min\n",
      "[CV] max_features=auto, min_samples_leaf=100, n_estimators=100 .......\n",
      "[CV]  max_features=auto, min_samples_leaf=100, n_estimators=100, score=0.831312, total= 1.0min\n",
      "[CV] max_features=auto, min_samples_leaf=100, n_estimators=100 .......\n",
      "[CV]  max_features=auto, min_samples_leaf=100, n_estimators=100, score=0.832182, total= 1.0min\n",
      "[CV] max_features=auto, min_samples_leaf=100, n_estimators=100 .......\n",
      "[CV]  max_features=auto, min_samples_leaf=100, n_estimators=100, score=0.830731, total=  59.9s\n",
      "[CV] max_features=auto, min_samples_leaf=100, n_estimators=100 .......\n",
      "[CV]  max_features=auto, min_samples_leaf=100, n_estimators=100, score=0.830006, total=  54.8s\n",
      "[CV] max_features=auto, min_samples_leaf=100, n_estimators=100 .......\n",
      "[CV]  max_features=auto, min_samples_leaf=100, n_estimators=100, score=0.826988, total=  55.9s\n",
      "[CV] max_features=auto, min_samples_leaf=500, n_estimators=100 .......\n",
      "[CV]  max_features=auto, min_samples_leaf=500, n_estimators=100, score=0.786890, total=  36.8s\n",
      "[CV] max_features=auto, min_samples_leaf=500, n_estimators=100 .......\n",
      "[CV]  max_features=auto, min_samples_leaf=500, n_estimators=100, score=0.796640, total=  35.3s\n",
      "[CV] max_features=auto, min_samples_leaf=500, n_estimators=100 .......\n",
      "[CV]  max_features=auto, min_samples_leaf=500, n_estimators=100, score=0.793274, total=  34.8s\n",
      "[CV] max_features=auto, min_samples_leaf=500, n_estimators=100 .......\n",
      "[CV]  max_features=auto, min_samples_leaf=500, n_estimators=100, score=0.791642, total=  35.3s\n",
      "[CV] max_features=auto, min_samples_leaf=500, n_estimators=100 .......\n",
      "[CV]  max_features=auto, min_samples_leaf=500, n_estimators=100, score=0.801712, total=  34.7s\n",
      "[CV] max_features=auto, min_samples_leaf=500, n_estimators=100 .......\n",
      "[CV]  max_features=auto, min_samples_leaf=500, n_estimators=100, score=0.796576, total=  35.0s\n",
      "[CV] max_features=auto, min_samples_leaf=500, n_estimators=100 .......\n",
      "[CV]  max_features=auto, min_samples_leaf=500, n_estimators=100, score=0.798491, total=  35.6s\n",
      "[CV] max_features=auto, min_samples_leaf=500, n_estimators=100 .......\n",
      "[CV]  max_features=auto, min_samples_leaf=500, n_estimators=100, score=0.797098, total=  35.0s\n",
      "[CV] max_features=auto, min_samples_leaf=500, n_estimators=100 .......\n",
      "[CV]  max_features=auto, min_samples_leaf=500, n_estimators=100, score=0.794980, total=  35.5s\n",
      "[CV] max_features=auto, min_samples_leaf=500, n_estimators=100 .......\n",
      "[CV]  max_features=auto, min_samples_leaf=500, n_estimators=100, score=0.795879, total=  35.6s\n",
      "[CV] max_features=log2, min_samples_leaf=1, n_estimators=100 .........\n",
      "[CV]  max_features=log2, min_samples_leaf=1, n_estimators=100, score=0.946606, total= 1.1min\n",
      "[CV] max_features=log2, min_samples_leaf=1, n_estimators=100 .........\n",
      "[CV]  max_features=log2, min_samples_leaf=1, n_estimators=100, score=0.949073, total= 1.1min\n",
      "[CV] max_features=log2, min_samples_leaf=1, n_estimators=100 .........\n",
      "[CV]  max_features=log2, min_samples_leaf=1, n_estimators=100, score=0.947883, total= 1.1min\n",
      "[CV] max_features=log2, min_samples_leaf=1, n_estimators=100 .........\n",
      "[CV]  max_features=log2, min_samples_leaf=1, n_estimators=100, score=0.949536, total= 1.1min\n",
      "[CV] max_features=log2, min_samples_leaf=1, n_estimators=100 .........\n",
      "[CV]  max_features=log2, min_samples_leaf=1, n_estimators=100, score=0.949478, total= 1.1min\n",
      "[CV] max_features=log2, min_samples_leaf=1, n_estimators=100 .........\n",
      "[CV]  max_features=log2, min_samples_leaf=1, n_estimators=100, score=0.946024, total= 1.1min\n",
      "[CV] max_features=log2, min_samples_leaf=1, n_estimators=100 .........\n",
      "[CV]  max_features=log2, min_samples_leaf=1, n_estimators=100, score=0.947504, total= 1.1min\n",
      "[CV] max_features=log2, min_samples_leaf=1, n_estimators=100 .........\n",
      "[CV]  max_features=log2, min_samples_leaf=1, n_estimators=100, score=0.948984, total=99.1min\n",
      "[CV] max_features=log2, min_samples_leaf=1, n_estimators=100 .........\n",
      "[CV]  max_features=log2, min_samples_leaf=1, n_estimators=100, score=0.949042, total=52.0min\n",
      "[CV] max_features=log2, min_samples_leaf=1, n_estimators=100 .........\n",
      "[CV]  max_features=log2, min_samples_leaf=1, n_estimators=100, score=0.947011, total= 1.4min\n",
      "[CV] max_features=log2, min_samples_leaf=5, n_estimators=100 .........\n",
      "[CV]  max_features=log2, min_samples_leaf=5, n_estimators=100, score=0.867328, total= 1.1min\n",
      "[CV] max_features=log2, min_samples_leaf=5, n_estimators=100 .........\n",
      "[CV]  max_features=log2, min_samples_leaf=5, n_estimators=100, score=0.870346, total= 1.2min\n",
      "[CV] max_features=log2, min_samples_leaf=5, n_estimators=100 .........\n",
      "[CV]  max_features=log2, min_samples_leaf=5, n_estimators=100, score=0.870143, total= 1.3min\n",
      "[CV] max_features=log2, min_samples_leaf=5, n_estimators=100 .........\n",
      "[CV]  max_features=log2, min_samples_leaf=5, n_estimators=100, score=0.870023, total= 1.7min\n",
      "[CV] max_features=log2, min_samples_leaf=5, n_estimators=100 .........\n",
      "[CV]  max_features=log2, min_samples_leaf=5, n_estimators=100, score=0.872142, total= 1.1min\n",
      "[CV] max_features=log2, min_samples_leaf=5, n_estimators=100 .........\n",
      "[CV]  max_features=log2, min_samples_leaf=5, n_estimators=100, score=0.867470, total= 1.1min\n",
      "[CV] max_features=log2, min_samples_leaf=5, n_estimators=100 .........\n",
      "[CV]  max_features=log2, min_samples_leaf=5, n_estimators=100, score=0.867731, total= 1.1min\n",
      "[CV] max_features=log2, min_samples_leaf=5, n_estimators=100 .........\n",
      "[CV]  max_features=log2, min_samples_leaf=5, n_estimators=100, score=0.870313, total= 1.1min\n",
      "[CV] max_features=log2, min_samples_leaf=5, n_estimators=100 .........\n",
      "[CV]  max_features=log2, min_samples_leaf=5, n_estimators=100, score=0.869994, total= 1.1min\n",
      "[CV] max_features=log2, min_samples_leaf=5, n_estimators=100 .........\n",
      "[CV]  max_features=log2, min_samples_leaf=5, n_estimators=100, score=0.863726, total= 1.1min\n",
      "[CV] max_features=log2, min_samples_leaf=10, n_estimators=100 ........\n",
      "[CV]  max_features=log2, min_samples_leaf=10, n_estimators=100, score=0.853487, total= 1.1min\n",
      "[CV] max_features=log2, min_samples_leaf=10, n_estimators=100 ........\n",
      "[CV]  max_features=log2, min_samples_leaf=10, n_estimators=100, score=0.855083, total= 1.1min\n",
      "[CV] max_features=log2, min_samples_leaf=10, n_estimators=100 ........\n",
      "[CV]  max_features=log2, min_samples_leaf=10, n_estimators=100, score=0.853487, total= 1.1min\n",
      "[CV] max_features=log2, min_samples_leaf=10, n_estimators=100 ........\n",
      "[CV]  max_features=log2, min_samples_leaf=10, n_estimators=100, score=0.855136, total= 1.0min\n",
      "[CV] max_features=log2, min_samples_leaf=10, n_estimators=100 ........\n",
      "[CV]  max_features=log2, min_samples_leaf=10, n_estimators=100, score=0.857081, total= 1.0min\n",
      "[CV] max_features=log2, min_samples_leaf=10, n_estimators=100 ........\n",
      "[CV]  max_features=log2, min_samples_leaf=10, n_estimators=100, score=0.853366, total= 1.1min\n",
      "[CV] max_features=log2, min_samples_leaf=10, n_estimators=100 ........\n",
      "[CV]  max_features=log2, min_samples_leaf=10, n_estimators=100, score=0.857197, total= 1.1min\n",
      "[CV] max_features=log2, min_samples_leaf=10, n_estimators=100 ........\n",
      "[CV]  max_features=log2, min_samples_leaf=10, n_estimators=100, score=0.856878, total= 1.0min\n",
      "[CV] max_features=log2, min_samples_leaf=10, n_estimators=100 ........\n",
      "[CV]  max_features=log2, min_samples_leaf=10, n_estimators=100, score=0.852263, total=  59.8s\n",
      "[CV] max_features=log2, min_samples_leaf=10, n_estimators=100 ........\n",
      "[CV]  max_features=log2, min_samples_leaf=10, n_estimators=100, score=0.852234, total=  59.1s\n",
      "[CV] max_features=log2, min_samples_leaf=50, n_estimators=100 ........\n",
      "[CV]  max_features=log2, min_samples_leaf=50, n_estimators=100, score=0.825136, total=  57.6s\n",
      "[CV] max_features=log2, min_samples_leaf=50, n_estimators=100 ........\n",
      "[CV]  max_features=log2, min_samples_leaf=50, n_estimators=100, score=0.831288, total=  53.1s\n",
      "[CV] max_features=log2, min_samples_leaf=50, n_estimators=100 ........\n",
      "[CV]  max_features=log2, min_samples_leaf=50, n_estimators=100, score=0.825832, total=  53.3s\n",
      "[CV] max_features=log2, min_samples_leaf=50, n_estimators=100 ........\n",
      "[CV]  max_features=log2, min_samples_leaf=50, n_estimators=100, score=0.829106, total=  53.3s\n",
      "[CV] max_features=log2, min_samples_leaf=50, n_estimators=100 ........\n",
      "[CV]  max_features=log2, min_samples_leaf=50, n_estimators=100, score=0.832008, total=  52.7s\n",
      "[CV] max_features=log2, min_samples_leaf=50, n_estimators=100 ........\n",
      "[CV]  max_features=log2, min_samples_leaf=50, n_estimators=100, score=0.829425, total=  53.2s\n",
      "[CV] max_features=log2, min_samples_leaf=50, n_estimators=100 ........\n",
      "[CV]  max_features=log2, min_samples_leaf=50, n_estimators=100, score=0.832850, total=  55.8s\n",
      "[CV] max_features=log2, min_samples_leaf=50, n_estimators=100 ........\n",
      "[CV]  max_features=log2, min_samples_leaf=50, n_estimators=100, score=0.832443, total=  48.1s\n",
      "[CV] max_features=log2, min_samples_leaf=50, n_estimators=100 ........\n",
      "[CV]  max_features=log2, min_samples_leaf=50, n_estimators=100, score=0.828120, total=  50.3s\n",
      "[CV] max_features=log2, min_samples_leaf=50, n_estimators=100 ........\n",
      "[CV]  max_features=log2, min_samples_leaf=50, n_estimators=100, score=0.829222, total=  53.6s\n",
      "[CV] max_features=log2, min_samples_leaf=100, n_estimators=100 .......\n",
      "[CV]  max_features=log2, min_samples_leaf=100, n_estimators=100, score=0.810568, total=  47.4s\n",
      "[CV] max_features=log2, min_samples_leaf=100, n_estimators=100 .......\n",
      "[CV]  max_features=log2, min_samples_leaf=100, n_estimators=100, score=0.815647, total=  48.9s\n",
      "[CV] max_features=log2, min_samples_leaf=100, n_estimators=100 .......\n",
      "[CV]  max_features=log2, min_samples_leaf=100, n_estimators=100, score=0.820551, total=  47.4s\n",
      "[CV] max_features=log2, min_samples_leaf=100, n_estimators=100 .......\n",
      "[CV]  max_features=log2, min_samples_leaf=100, n_estimators=100, score=0.814945, total=  47.1s\n",
      "[CV] max_features=log2, min_samples_leaf=100, n_estimators=100 .......\n",
      "[CV]  max_features=log2, min_samples_leaf=100, n_estimators=100, score=0.814887, total=  47.7s\n",
      "[CV] max_features=log2, min_samples_leaf=100, n_estimators=100 .......\n",
      "[CV]  max_features=log2, min_samples_leaf=100, n_estimators=100, score=0.816106, total=  47.8s\n",
      "[CV] max_features=log2, min_samples_leaf=100, n_estimators=100 .......\n",
      "[CV]  max_features=log2, min_samples_leaf=100, n_estimators=100, score=0.820023, total=  47.1s\n",
      "[CV] max_features=log2, min_samples_leaf=100, n_estimators=100 .......\n",
      "[CV]  max_features=log2, min_samples_leaf=100, n_estimators=100, score=0.819269, total=  53.5s\n",
      "[CV] max_features=log2, min_samples_leaf=100, n_estimators=100 .......\n",
      "[CV]  max_features=log2, min_samples_leaf=100, n_estimators=100, score=0.815641, total=  48.0s\n",
      "[CV] max_features=log2, min_samples_leaf=100, n_estimators=100 .......\n",
      "[CV]  max_features=log2, min_samples_leaf=100, n_estimators=100, score=0.816541, total=  47.5s\n",
      "[CV] max_features=log2, min_samples_leaf=500, n_estimators=100 .......\n",
      "[CV]  max_features=log2, min_samples_leaf=500, n_estimators=100, score=0.783668, total=  29.7s\n",
      "[CV] max_features=log2, min_samples_leaf=500, n_estimators=100 .......\n",
      "[CV]  max_features=log2, min_samples_leaf=500, n_estimators=100, score=0.789443, total=  29.9s\n",
      "[CV] max_features=log2, min_samples_leaf=500, n_estimators=100 .......\n",
      "[CV]  max_features=log2, min_samples_leaf=500, n_estimators=100, score=0.790604, total=  30.4s\n",
      "[CV] max_features=log2, min_samples_leaf=500, n_estimators=100 .......\n",
      "[CV]  max_features=log2, min_samples_leaf=500, n_estimators=100, score=0.788915, total=  30.1s\n",
      "[CV] max_features=log2, min_samples_leaf=500, n_estimators=100 .......\n",
      "[CV]  max_features=log2, min_samples_leaf=500, n_estimators=100, score=0.794457, total=  32.1s\n",
      "[CV] max_features=log2, min_samples_leaf=500, n_estimators=100 .......\n",
      "[CV]  max_features=log2, min_samples_leaf=500, n_estimators=100, score=0.795299, total=  33.5s\n",
      "[CV] max_features=log2, min_samples_leaf=500, n_estimators=100 .......\n",
      "[CV]  max_features=log2, min_samples_leaf=500, n_estimators=100, score=0.791120, total=  34.2s\n",
      "[CV] max_features=log2, min_samples_leaf=500, n_estimators=100 .......\n",
      "[CV]  max_features=log2, min_samples_leaf=500, n_estimators=100, score=0.788799, total=  33.6s\n",
      "[CV] max_features=log2, min_samples_leaf=500, n_estimators=100 .......\n",
      "[CV]  max_features=log2, min_samples_leaf=500, n_estimators=100, score=0.788828, total=  33.5s\n",
      "[CV] max_features=log2, min_samples_leaf=500, n_estimators=100 .......\n",
      "[CV]  max_features=log2, min_samples_leaf=500, n_estimators=100, score=0.792078, total=  34.1s\n"
     ]
    },
    {
     "name": "stderr",
     "output_type": "stream",
     "text": [
      "[Parallel(n_jobs=1)]: Done 180 out of 180 | elapsed: 389.6min finished\n"
     ]
    },
    {
     "data": {
      "text/plain": [
       "GridSearchCV(cv=10, error_score='raise',\n",
       "       estimator=RandomForestClassifier(bootstrap=True, class_weight='balanced',\n",
       "            criterion='gini', max_depth=None, max_features='auto',\n",
       "            max_leaf_nodes=None, min_impurity_split=1e-07,\n",
       "            min_samples_leaf=1, min_samples_split=2,\n",
       "            min_weight_fraction_leaf=0.0, n_estimators=10, n_jobs=-1,\n",
       "            oob_score=False, random_state=None, verbose=0,\n",
       "            warm_start=False),\n",
       "       fit_params={}, iid=True, n_jobs=1,\n",
       "       param_grid={'max_features': [0.2, 'auto', 'log2'], 'n_estimators': [100], 'min_samples_leaf': [1, 5, 10, 50, 100, 500]},\n",
       "       pre_dispatch='2*n_jobs', refit=True, return_train_score=True,\n",
       "       scoring='recall', verbose=3)"
      ]
     },
     "execution_count": 56,
     "metadata": {},
     "output_type": "execute_result"
    }
   ],
   "source": [
    "grid_rf.fit(X_train_v1, y_train_v1)"
   ]
  },
  {
   "cell_type": "code",
   "execution_count": 57,
   "metadata": {
    "collapsed": false
   },
   "outputs": [
    {
     "name": "stdout",
     "output_type": "stream",
     "text": [
      "{'max_features': 'log2', 'min_samples_leaf': 1, 'n_estimators': 100}\n"
     ]
    }
   ],
   "source": [
    "print(grid_rf.best_params_)\n",
    "grid_rf_pred = grid_rf.predict(X_test_v1)"
   ]
  },
  {
   "cell_type": "code",
   "execution_count": 58,
   "metadata": {
    "collapsed": false
   },
   "outputs": [
    {
     "name": "stdout",
     "output_type": "stream",
     "text": [
      "             precision    recall  f1-score   support\n",
      "\n",
      "          0       0.82      0.74      0.78     47468\n",
      "          1       0.92      0.95      0.93    147611\n",
      "\n",
      "avg / total       0.90      0.90      0.90    195079\n",
      "\n"
     ]
    }
   ],
   "source": [
    "print(classification_report(y_test_v1, grid_rf_pred))"
   ]
  },
  {
   "cell_type": "code",
   "execution_count": 59,
   "metadata": {
    "collapsed": false
   },
   "outputs": [
    {
     "name": "stdout",
     "output_type": "stream",
     "text": [
      "             precision    recall  f1-score   support\n",
      "\n",
      "          0       0.84      0.82      0.83     47468\n",
      "          1       0.94      0.95      0.95    147611\n",
      "\n",
      "avg / total       0.92      0.92      0.92    195079\n",
      "\n"
     ]
    }
   ],
   "source": [
    "#Optimizing for f1 score gives max_features = 0.2\n",
    "rf_opt = RandomForestClassifier(n_estimators = 100, min_samples_leaf = 1, \n",
    "                                max_features = 0.2, class_weight = 'balanced', oob_score = True, n_jobs=-1)\n",
    "rf_opt.fit(X_train_v1, y_train_v1)\n",
    "rf_opt_pred = rf_opt.predict(X_test_v1)\n",
    "print(classification_report(y_test_v1, rf_opt_pred))"
   ]
  },
  {
   "cell_type": "code",
   "execution_count": 63,
   "metadata": {
    "collapsed": false
   },
   "outputs": [
    {
     "name": "stdout",
     "output_type": "stream",
     "text": [
      "Feature ranking:\n",
      "1. feature TermInMonths (0.578101)\n",
      "2. feature SBAGuaranteedApprovalAdj (0.101801)\n",
      "3. feature SP_to2016 (0.097351)\n",
      "4. feature JobsSupported (0.045797)\n",
      "5. feature RevolverStatus (0.013711)\n",
      "6. feature INDIVIDUAL (0.007462)\n",
      "7. feature CA (0.006929)\n",
      "8. feature Retail Trade (0.005802)\n",
      "9. feature Construction (0.004943)\n",
      "10. feature Other Services (0.004774)\n",
      "11. feature FL (0.004745)\n",
      "12. feature Manufacturing (0.004591)\n",
      "13. feature Health Care & Social Assistance (0.004578)\n",
      "14. feature TX (0.004565)\n",
      "15. feature Professional, Scientific, & Technical Services (0.004482)\n",
      "16. feature NY (0.004415)\n",
      "17. feature Wholesale Trade (0.003989)\n",
      "18. feature FranchiseCodeBin (0.003849)\n",
      "19. feature PA (0.003484)\n",
      "20. feature Administrative/Support/Waste Management (0.003299)\n",
      "21. feature OH (0.003271)\n",
      "22. feature NJ (0.002994)\n",
      "23. feature Transportation & Warehousing (0.002928)\n",
      "24. feature GA (0.002872)\n",
      "25. feature IL (0.002806)\n",
      "26. feature MN (0.002746)\n",
      "27. feature PARTNERSHIP (0.002676)\n",
      "28. feature MA (0.002643)\n",
      "29. feature MI (0.002476)\n",
      "30. feature WI (0.002351)\n",
      "31. feature MO (0.002323)\n",
      "32. feature UT (0.002208)\n",
      "33. feature NC (0.002167)\n",
      "34. feature WA (0.002066)\n",
      "35. feature IN (0.002056)\n",
      "36. feature PR (0.002037)\n",
      "37. feature CO (0.002020)\n",
      "38. feature Arts, Entertainment, & Recreation (0.001932)\n",
      "39. feature MD (0.001892)\n",
      "40. feature VA (0.001885)\n",
      "41. feature Real Estate Rental & Leasing (0.001816)\n",
      "42. feature AZ (0.001815)\n",
      "43. feature CT (0.001793)\n",
      "44. feature Information (0.001752)\n",
      "45. feature MT (0.001700)\n",
      "46. feature IA (0.001661)\n",
      "47. feature Agriculture (0.001645)\n",
      "48. feature KS (0.001627)\n",
      "49. feature TN (0.001579)\n",
      "50. feature OK (0.001543)\n",
      "51. feature NH (0.001507)\n",
      "52. feature KY (0.001417)\n",
      "53. feature MS (0.001406)\n",
      "54. feature OR (0.001387)\n",
      "55. feature LA (0.001387)\n",
      "56. feature RI (0.001314)\n",
      "57. feature ME (0.001312)\n",
      "58. feature Finance & Insurance (0.001264)\n",
      "59. feature NE (0.001189)\n",
      "60. feature AL (0.001175)\n",
      "61. feature ND (0.001145)\n",
      "62. feature ID (0.001099)\n",
      "63. feature Educational Services (0.001074)\n",
      "64. feature NV (0.001061)\n",
      "65. feature VT (0.001050)\n",
      "66. feature AR (0.001013)\n",
      "67. feature SC (0.000949)\n",
      "68. feature NM (0.000917)\n",
      "69. feature HI (0.000865)\n",
      "70. feature WV (0.000687)\n",
      "71. feature Mining (0.000592)\n",
      "72. feature SD (0.000552)\n",
      "73. feature WY (0.000523)\n",
      "74. feature DE (0.000495)\n",
      "75. feature DC (0.000382)\n",
      "76. feature Utilities (0.000183)\n",
      "77. feature Public Administration (0.000070)\n",
      "78. feature Management of Companies & Enterprises (0.000036)\n"
     ]
    }
   ],
   "source": [
    "#feature ranking for random forest\n",
    "importances_rf_opt = rf_opt.feature_importances_\n",
    "std = np.std([tree.feature_importances_ for tree in rf_opt.estimators_],\n",
    "            axis=0)\n",
    "indices_rf_opt = np.argsort(importances_rf_opt)[::-1]\n",
    "fts_rf_opt = list(X_train_v1.columns)\n",
    "# Print the feature ranking\n",
    "print(\"Feature ranking:\")\n",
    "\n",
    "for f in range(X_train_v1.shape[1]):\n",
    "   print(\"%d. feature %s (%f)\" % (f + 1, fts_rf_opt[indices_rf_opt[f]], importances_rf_opt[indices_rf_opt[f]]))\n",
    "\n"
   ]
  },
  {
   "cell_type": "code",
   "execution_count": 69,
   "metadata": {
    "collapsed": false
   },
   "outputs": [
    {
     "data": {
      "image/png": "[encoded data removed]",
      "text/plain": [
       "<matplotlib.figure.Figure at 0x119771128>"
      ]
     },
     "metadata": {},
     "output_type": "display_data"
    }
   ],
   "source": [
    "# Plot the feature importances of the forest\n",
    "importances = rf_opt.feature_importances_\n",
    "std = np.std([tree.feature_importances_ for tree in rf_opt.estimators_],\n",
    "             axis=0)\n",
    "indices = np.argsort(importances)[::-1]\n",
    "\n",
    "# Plot the feature importances of the forest\n",
    "fig = plt.figure(figsize = (10,5))\n",
    "\n",
    "plt.title(\"Feature Importances\")\n",
    "plt.barh(range(10), importances[indices][0:10][::-1],\n",
    "       color=\"r\", xerr=std[indices][0:10][::-1], align=\"center\")\n",
    "# If you want to define your own labels,\n",
    "# change indices to a list of labels on the following line.\n",
    "plt.yticks(range(10), ['Term in Months', 'Amount', 'S&P 1500', 'Jobs Supported', 'Revolver Status',\n",
    "                      'Individual', 'CA', 'Retail Trade', 'Construction', 'Other Services'][::-1])\n",
    "    \n",
    "plt.yticks(range(10))\n",
    "plt.ylim([-1,10])\n",
    "plt.tight_layout()\n",
    "\n",
    "\n",
    "fig.savefig('GRID_RF_FImportance.png', dpi = 300)"
   ]
  },
  {
   "cell_type": "code",
   "execution_count": 70,
   "metadata": {
    "collapsed": false
   },
   "outputs": [
    {
     "data": {
      "text/plain": [
       "0.91571979682941407"
      ]
     },
     "execution_count": 70,
     "metadata": {},
     "output_type": "execute_result"
    }
   ],
   "source": [
    "rf_opt.oob_score_"
   ]
  },
  {
   "cell_type": "code",
   "execution_count": 74,
   "metadata": {
    "collapsed": true
   },
   "outputs": [],
   "source": [
    "#Examine loans with TermDuration = 84\n",
    "data_84 = data[data['TermInMonths'] == 84]"
   ]
  },
  {
   "cell_type": "code",
   "execution_count": 77,
   "metadata": {
    "collapsed": true
   },
   "outputs": [],
   "source": [
    "data_84.reset_index(inplace=True, drop = True)"
   ]
  },
  {
   "cell_type": "code",
   "execution_count": 78,
   "metadata": {
    "collapsed": false
   },
   "outputs": [
    {
     "data": {
      "text/plain": [
       "Index(['TermInMonths', 'RevolverStatus', 'JobsSupported', 'FranchiseCodeBin',\n",
       "       'SP_to2016', 'SBAGuaranteedApprovalAdj', 'GrossChargeOffAmountAdj',\n",
       "       'AL', 'AR', 'AZ', 'CA', 'CO', 'CT', 'DC', 'DE', 'FL', 'GA', 'HI', 'IA',\n",
       "       'ID', 'IL', 'IN', 'KS', 'KY', 'LA', 'MA', 'MD', 'ME', 'MI', 'MN', 'MO',\n",
       "       'MS', 'MT', 'NC', 'ND', 'NE', 'NH', 'NJ', 'NM', 'NV', 'NY', 'OH', 'OK',\n",
       "       'OR', 'PA', 'PR', 'RI', 'SC', 'SD', 'TN', 'TX', 'UT', 'VA', 'VT', 'WA',\n",
       "       'WI', 'WV', 'WY', 'Administrative/Support/Waste Management',\n",
       "       'Agriculture', 'Arts, Entertainment, & Recreation', 'Construction',\n",
       "       'Educational Services', 'Finance & Insurance',\n",
       "       'Health Care & Social Assistance', 'Information',\n",
       "       'Management of Companies & Enterprises', 'Manufacturing', 'Mining',\n",
       "       'Other Services', 'Professional, Scientific, & Technical Services',\n",
       "       'Public Administration', 'Real Estate Rental & Leasing', 'Retail Trade',\n",
       "       'Transportation & Warehousing', 'Utilities', 'Wholesale Trade', 'PIF',\n",
       "       'INDIVIDUAL', 'PARTNERSHIP'],\n",
       "      dtype='object')"
      ]
     },
     "execution_count": 78,
     "metadata": {},
     "output_type": "execute_result"
    }
   ],
   "source": [
    "data_84.columns"
   ]
  },
  {
   "cell_type": "code",
   "execution_count": 79,
   "metadata": {
    "collapsed": false
   },
   "outputs": [
    {
     "name": "stderr",
     "output_type": "stream",
     "text": [
      "/anaconda/lib/python3.6/site-packages/ipykernel/__main__.py:1: SettingWithCopyWarning:\n",
      "\n",
      "\n",
      "A value is trying to be set on a copy of a slice from a DataFrame\n",
      "\n",
      "See the caveats in the documentation: http://pandas.pydata.org/pandas-docs/stable/indexing.html#indexing-view-versus-copy\n",
      "\n"
     ]
    }
   ],
   "source": [
    "data_84.drop(['TermInMonths', 'GrossChargeOffAmountAdj'], axis = 1, inplace = True)"
   ]
  },
  {
   "cell_type": "code",
   "execution_count": 80,
   "metadata": {
    "collapsed": true
   },
   "outputs": [],
   "source": [
    "#random split\n",
    "X_train_v2, X_test_v2, y_train_v2, y_test_v2 = train_test_split(data_84.drop('PIF', axis = 1), \n",
    "                                                                data_84['PIF'], stratify = data_84['PIF'],\n",
    "                                                                test_size = 0.30, random_state=101)\n"
   ]
  },
  {
   "cell_type": "code",
   "execution_count": 81,
   "metadata": {
    "collapsed": true
   },
   "outputs": [],
   "source": [
    "#try random forest with random split\n",
    "rf_84 = RandomForestClassifier(max_features = 0.2, n_estimators = 100, n_jobs=-1, class_weight = \"balanced\")\n",
    "rf_84.fit(X_train_v2, y_train_v2)\n",
    "rf_84_pred = rf_84.predict(X_test_v2)"
   ]
  },
  {
   "cell_type": "code",
   "execution_count": 82,
   "metadata": {
    "collapsed": false
   },
   "outputs": [
    {
     "name": "stdout",
     "output_type": "stream",
     "text": [
      "             precision    recall  f1-score   support\n",
      "\n",
      "          0       0.00      0.00      0.00       347\n",
      "          1       0.99      1.00      1.00     61985\n",
      "\n",
      "avg / total       0.99      0.99      0.99     62332\n",
      "\n"
     ]
    }
   ],
   "source": [
    "print(classification_report(y_test_v2, rf_84_pred))"
   ]
  },
  {
   "cell_type": "code",
   "execution_count": 83,
   "metadata": {
    "collapsed": false
   },
   "outputs": [
    {
     "data": {
      "text/plain": [
       "1    206616\n",
       "0      1157\n",
       "Name: PIF, dtype: int64"
      ]
     },
     "execution_count": 83,
     "metadata": {},
     "output_type": "execute_result"
    }
   ],
   "source": [
    "data_84['PIF'].value_counts()"
   ]
  },
  {
   "cell_type": "markdown",
   "metadata": {},
   "source": [
    "For loans of duration = 84 months, < 0.5% default!"
   ]
  },
  {
   "cell_type": "code",
   "execution_count": 95,
   "metadata": {
    "collapsed": true
   },
   "outputs": [],
   "source": [
    "#Examine only the business-relevant features\n",
    "data_bo = data.iloc[:, np.r_[2, 3, 58:80]]\n"
   ]
  },
  {
   "cell_type": "code",
   "execution_count": 96,
   "metadata": {
    "collapsed": false
   },
   "outputs": [
    {
     "data": {
      "text/plain": [
       "Index(['JobsSupported', 'FranchiseCodeBin',\n",
       "       'Administrative/Support/Waste Management', 'Agriculture',\n",
       "       'Arts, Entertainment, & Recreation', 'Construction',\n",
       "       'Educational Services', 'Finance & Insurance',\n",
       "       'Health Care & Social Assistance', 'Information',\n",
       "       'Management of Companies & Enterprises', 'Manufacturing', 'Mining',\n",
       "       'Other Services', 'Professional, Scientific, & Technical Services',\n",
       "       'Public Administration', 'Real Estate Rental & Leasing', 'Retail Trade',\n",
       "       'Transportation & Warehousing', 'Utilities', 'Wholesale Trade', 'PIF',\n",
       "       'INDIVIDUAL', 'PARTNERSHIP'],\n",
       "      dtype='object')"
      ]
     },
     "execution_count": 96,
     "metadata": {},
     "output_type": "execute_result"
    }
   ],
   "source": [
    "data_bo.columns"
   ]
  },
  {
   "cell_type": "code",
   "execution_count": 98,
   "metadata": {
    "collapsed": false
   },
   "outputs": [],
   "source": [
    "X_train_v3, X_test_v3, y_train_v3, y_test_v3 = train_test_split(data_bo.drop('PIF', axis = 1), \n",
    "                                                                data_bo['PIF'], stratify = data_bo['PIF'],test_size=0.30, random_state=101)\n"
   ]
  },
  {
   "cell_type": "code",
   "execution_count": 99,
   "metadata": {
    "collapsed": true
   },
   "outputs": [],
   "source": [
    "#try random forest with random split\n",
    "rf_b = RandomForestClassifier(n_estimators = 100, max_features=0.2, n_jobs=-1, class_weight = 'balanced')\n",
    "rf_b.fit(X_train_v3, y_train_v3)\n",
    "rf_b_pred = rf_b.predict(X_test_v3)"
   ]
  },
  {
   "cell_type": "code",
   "execution_count": 100,
   "metadata": {
    "collapsed": false
   },
   "outputs": [
    {
     "name": "stdout",
     "output_type": "stream",
     "text": [
      "             precision    recall  f1-score   support\n",
      "\n",
      "          0       0.30      0.66      0.42     47415\n",
      "          1       0.83      0.51      0.63    147664\n",
      "\n",
      "avg / total       0.70      0.55      0.58    195079\n",
      "\n"
     ]
    }
   ],
   "source": [
    "print(classification_report(y_test_v3, rf_b_pred))"
   ]
  },
  {
   "cell_type": "markdown",
   "metadata": {},
   "source": [
    "Business-specific features alone are not sufficient to make good predictions!"
   ]
  },
  {
   "cell_type": "code",
   "execution_count": 101,
   "metadata": {
    "collapsed": false
   },
   "outputs": [
    {
     "name": "stdout",
     "output_type": "stream",
     "text": [
      "             precision    recall  f1-score   support\n",
      "\n",
      "          0       0.27      0.64      0.38     47415\n",
      "          1       0.80      0.46      0.58    147664\n",
      "\n",
      "avg / total       0.67      0.50      0.53    195079\n",
      "\n"
     ]
    }
   ],
   "source": [
    "lr_b = LogisticRegression( n_jobs=-1, class_weight = 'balanced')\n",
    "lr_b.fit(X_train_v3, y_train_v3)\n",
    "lr_b_pred = lr_b.predict(X_test_v3)\n",
    "print(classification_report(y_test_v3, lr_b_pred))"
   ]
  },
  {
   "cell_type": "code",
   "execution_count": 102,
   "metadata": {
    "collapsed": true
   },
   "outputs": [],
   "source": [
    "#Consider only the loans with TermDuration < 84\n",
    "data_l84 = data[data['TermInMonths'] < 84]\n"
   ]
  },
  {
   "cell_type": "code",
   "execution_count": 103,
   "metadata": {
    "collapsed": true
   },
   "outputs": [],
   "source": [
    "data.reset_index(inplace = True, drop = True)"
   ]
  },
  {
   "cell_type": "code",
   "execution_count": 106,
   "metadata": {
    "collapsed": true
   },
   "outputs": [],
   "source": [
    "X_train_v4, X_test_v4, y_train_v4, y_test_v4 = train_test_split(data_l84.drop(['TermInMonths', 'GrossChargeOffAmountAdj', 'PIF'],axis = 1), \n",
    "                                                                data[data['TermInMonths'] < 84]['PIF'],\n",
    "                                                                test_size=0.30, random_state=101)\n"
   ]
  },
  {
   "cell_type": "code",
   "execution_count": 108,
   "metadata": {
    "collapsed": true
   },
   "outputs": [],
   "source": [
    "#try Logistic Regression Classification first with the random split\n",
    "\n",
    "logmodel_l84 = LogisticRegression(class_weight = 'balanced', n_jobs = -1)\n",
    "logmodel_l84.fit(X_train_v4, y_train_v4)\n",
    "lm_l84_pred = logmodel_l84.predict(X_test_v4)"
   ]
  },
  {
   "cell_type": "code",
   "execution_count": 109,
   "metadata": {
    "collapsed": false
   },
   "outputs": [
    {
     "name": "stdout",
     "output_type": "stream",
     "text": [
      "             precision    recall  f1-score   support\n",
      "\n",
      "          0       0.46      0.87      0.60     41870\n",
      "          1       0.60      0.15      0.25     51770\n",
      "\n",
      "avg / total       0.54      0.48      0.40     93640\n",
      "\n"
     ]
    }
   ],
   "source": [
    "print(classification_report(y_test_v4, lm_l84_pred))"
   ]
  },
  {
   "cell_type": "code",
   "execution_count": 110,
   "metadata": {
    "collapsed": false
   },
   "outputs": [
    {
     "name": "stdout",
     "output_type": "stream",
     "text": [
      "Fitting 3 folds for each of 13 candidates, totalling 39 fits\n"
     ]
    },
    {
     "name": "stderr",
     "output_type": "stream",
     "text": [
      "[Parallel(n_jobs=1)]: Done  39 out of  39 | elapsed:  1.5min finished\n"
     ]
    },
    {
     "name": "stdout",
     "output_type": "stream",
     "text": [
      "{'C': 0.001}\n"
     ]
    }
   ],
   "source": [
    "#GridSearch for Logistic Regression\n",
    "param_grid = {'C': [0.001, 0.005, 0.1, 0.5, 1, 5, 10, 50, 100, 500, 1000, 5000, 10000]}\n",
    "grid_l84 = GridSearchCV(LogisticRegression(class_weight = 'balanced', n_jobs = -1), param_grid, refit=True,verbose=1)\n",
    "grid_l84.fit(X_train_v4, y_train_v4)\n",
    "print(grid_l84.best_params_)\n",
    "\n"
   ]
  },
  {
   "cell_type": "code",
   "execution_count": 114,
   "metadata": {
    "collapsed": true
   },
   "outputs": [],
   "source": [
    "grid_l84_pred = grid_l84.predict(X_test_v4)\n"
   ]
  },
  {
   "cell_type": "code",
   "execution_count": 115,
   "metadata": {
    "collapsed": false
   },
   "outputs": [
    {
     "name": "stdout",
     "output_type": "stream",
     "text": [
      "             precision    recall  f1-score   support\n",
      "\n",
      "          0       0.46      0.87      0.60     41870\n",
      "          1       0.60      0.15      0.25     51770\n",
      "\n",
      "avg / total       0.54      0.48      0.40     93640\n",
      "\n"
     ]
    }
   ],
   "source": [
    "print(classification_report(y_test_v4, grid_l84_pred))"
   ]
  },
  {
   "cell_type": "code",
   "execution_count": 112,
   "metadata": {
    "collapsed": true
   },
   "outputs": [],
   "source": [
    "#try random forest with random split\n",
    "rf_l84 = RandomForestClassifier(n_estimators = 100,oob_score=True, max_features = 0.2, n_jobs=-1, class_weight = 'balanced')\n",
    "rf_l84.fit(X_train_v4, y_train_v4)\n",
    "rf_l84_pred = rf_l84.predict(X_test_v4)"
   ]
  },
  {
   "cell_type": "code",
   "execution_count": 113,
   "metadata": {
    "collapsed": false
   },
   "outputs": [
    {
     "name": "stdout",
     "output_type": "stream",
     "text": [
      "             precision    recall  f1-score   support\n",
      "\n",
      "          0       0.69      0.65      0.67     41870\n",
      "          1       0.73      0.77      0.75     51770\n",
      "\n",
      "avg / total       0.71      0.71      0.71     93640\n",
      "\n"
     ]
    }
   ],
   "source": [
    "print(classification_report(y_test_v4, rf_l84_pred))"
   ]
  },
  {
   "cell_type": "code",
   "execution_count": 116,
   "metadata": {
    "collapsed": false
   },
   "outputs": [
    {
     "name": "stdout",
     "output_type": "stream",
     "text": [
      "Feature ranking:\n",
      "1. feature SBAGuaranteedApprovalAdj (0.248962)\n",
      "2. feature SP_to2016 (0.243934)\n",
      "3. feature JobsSupported (0.118442)\n",
      "4. feature RevolverStatus (0.023312)\n",
      "5. feature INDIVIDUAL (0.015522)\n",
      "6. feature CA (0.013947)\n",
      "7. feature Construction (0.012020)\n",
      "8. feature Retail Trade (0.011924)\n",
      "9. feature FL (0.011817)\n",
      "10. feature Other Services (0.010792)\n",
      "11. feature Professional, Scientific, & Technical Services (0.010630)\n",
      "12. feature NY (0.010467)\n",
      "13. feature Manufacturing (0.009630)\n",
      "14. feature Wholesale Trade (0.009247)\n",
      "15. feature Administrative/Support/Waste Management (0.008556)\n",
      "16. feature TX (0.008352)\n",
      "17. feature FranchiseCodeBin (0.008084)\n",
      "18. feature OH (0.007372)\n",
      "19. feature Transportation & Warehousing (0.007159)\n",
      "20. feature PA (0.007014)\n",
      "21. feature Health Care & Social Assistance (0.006828)\n",
      "22. feature NJ (0.006514)\n",
      "23. feature PARTNERSHIP (0.006357)\n",
      "24. feature IL (0.006314)\n",
      "25. feature MI (0.006219)\n",
      "26. feature GA (0.006048)\n",
      "27. feature MN (0.005641)\n",
      "28. feature MA (0.005605)\n",
      "29. feature MO (0.005407)\n",
      "30. feature UT (0.005268)\n",
      "31. feature IN (0.005060)\n",
      "32. feature WI (0.005053)\n",
      "33. feature MD (0.004961)\n",
      "34. feature WA (0.004910)\n",
      "35. feature Arts, Entertainment, & Recreation (0.004896)\n",
      "36. feature Real Estate Rental & Leasing (0.004798)\n",
      "37. feature PR (0.004594)\n",
      "38. feature Information (0.004526)\n",
      "39. feature CO (0.004525)\n",
      "40. feature NC (0.004515)\n",
      "41. feature VA (0.004447)\n",
      "42. feature CT (0.004312)\n",
      "43. feature AZ (0.004300)\n",
      "44. feature NH (0.003903)\n",
      "45. feature Finance & Insurance (0.003811)\n",
      "46. feature OK (0.003580)\n",
      "47. feature KY (0.003578)\n",
      "48. feature KS (0.003491)\n",
      "49. feature OR (0.003355)\n",
      "50. feature RI (0.003262)\n",
      "51. feature IA (0.003222)\n",
      "52. feature LA (0.003067)\n",
      "53. feature NV (0.003032)\n",
      "54. feature Educational Services (0.003020)\n",
      "55. feature MT (0.002957)\n",
      "56. feature ID (0.002900)\n",
      "57. feature ME (0.002898)\n",
      "58. feature TN (0.002864)\n",
      "59. feature HI (0.002673)\n",
      "60. feature MS (0.002655)\n",
      "61. feature Agriculture (0.002640)\n",
      "62. feature NE (0.002569)\n",
      "63. feature AL (0.002511)\n",
      "64. feature AR (0.002480)\n",
      "65. feature SC (0.002351)\n",
      "66. feature ND (0.002293)\n",
      "67. feature VT (0.002270)\n",
      "68. feature NM (0.002201)\n",
      "69. feature WV (0.001569)\n",
      "70. feature DE (0.001264)\n",
      "71. feature Mining (0.001258)\n",
      "72. feature SD (0.001220)\n",
      "73. feature WY (0.001174)\n",
      "74. feature DC (0.000981)\n",
      "75. feature Utilities (0.000412)\n",
      "76. feature Public Administration (0.000177)\n",
      "77. feature Management of Companies & Enterprises (0.000078)\n"
     ]
    },
    {
     "data": {
      "text/plain": [
       "<matplotlib.figure.Figure at 0x124c04f98>"
      ]
     },
     "metadata": {},
     "output_type": "display_data"
    }
   ],
   "source": [
    "#feature ranking for random forest\n",
    "fig = plt.figure(figsize = (15,5))\n",
    "importances_rf_l84 = rf_l84.feature_importances_\n",
    "std = np.std([tree.feature_importances_ for tree in rf_l84.estimators_],\n",
    "            axis=0)\n",
    "indices_rf_l84 = np.argsort(importances_rf_l84)[::-1]\n",
    "fts_rf_l84 = list(X_train_v4.columns)\n",
    "# Print the feature ranking\n",
    "print(\"Feature ranking:\")\n",
    "\n",
    "for f in range(X_train_v4.shape[1]):\n",
    "   print(\"%d. feature %s (%f)\" % (f + 1, fts_rf_l84[indices_rf_l84[f]], importances_rf_l84[indices_rf_l84[f]]))\n",
    "\n"
   ]
  },
  {
   "cell_type": "code",
   "execution_count": 117,
   "metadata": {
    "collapsed": false
   },
   "outputs": [
    {
     "data": {
      "image/png": "[encoded data removed]",
      "text/plain": [
       "<matplotlib.figure.Figure at 0x124bf2b38>"
      ]
     },
     "metadata": {},
     "output_type": "display_data"
    }
   ],
   "source": [
    "# Plot the feature importances of the forest\n",
    "importances = rf_l84.feature_importances_\n",
    "std = np.std([tree.feature_importances_ for tree in rf_l84.estimators_],\n",
    "             axis=0)\n",
    "indices = np.argsort(importances)[::-1]\n",
    "\n",
    "# Plot the feature importances of the forest\n",
    "fig = plt.figure(figsize = (10,5))\n",
    "\n",
    "plt.title(\"Feature importances\")\n",
    "plt.barh(range(10), importances[indices][0:10][::-1],\n",
    "       color=\"r\", xerr=std[indices][0:10][::-1], align=\"center\")\n",
    "# If you want to define your own labels,\n",
    "# change indices to a list of labels on the following line.\n",
    "plt.yticks(range(10), ['Amount', 'S&P 1500', 'Jobs Supported', 'Revolver Status',\n",
    "                      'Individual', 'CA', 'Construction', 'Retail Trade', 'FL', 'Other Services'][::-1])\n",
    "    \n",
    "#plt.yticks(range(10), X_train_v5.columns[indices][0:10][::-1])\n",
    "plt.ylim([-1,10])\n",
    "plt.tight_layout()\n",
    "\n",
    "\n",
    "fig.savefig('L84_RF_FImportance.png', dpi = 300)"
   ]
  },
  {
   "cell_type": "code",
   "execution_count": 118,
   "metadata": {
    "collapsed": true
   },
   "outputs": [],
   "source": [
    "#try Logistic Regression Classification first with random split and L! reg.\n",
    "\n",
    "logmodel_l84_v2 = LogisticRegression(penalty = 'l1', class_weight = 'balanced', n_jobs = -1)\n",
    "logmodel_l84_v2.fit(X_train_v4, y_train_v4)\n",
    "lm_l84_v2_pred = logmodel_l84_v2.predict(X_test_v4)"
   ]
  },
  {
   "cell_type": "code",
   "execution_count": 119,
   "metadata": {
    "collapsed": false
   },
   "outputs": [
    {
     "name": "stdout",
     "output_type": "stream",
     "text": [
      "             precision    recall  f1-score   support\n",
      "\n",
      "          0       0.59      0.65      0.62     41870\n",
      "          1       0.69      0.64      0.66     51770\n",
      "\n",
      "avg / total       0.65      0.64      0.64     93640\n",
      "\n"
     ]
    }
   ],
   "source": [
    "print(classification_report(y_test_v4, lm_l84_v2_pred))"
   ]
  },
  {
   "cell_type": "code",
   "execution_count": 120,
   "metadata": {
    "collapsed": true
   },
   "outputs": [],
   "source": [
    "#Build a random control models to compare the RF performance with\n",
    "\n",
    "pos_prop = np.sum(y_train_v4)/len(y_train_v4)  \n",
    "\n",
    "expected_pos_in_test = np.round(pos_prop*(len(y_test_v4)))\n",
    "               \n",
    "#control 1 predicts everything to be majority class\n",
    "y_test_con1 = np.ones((len(y_test_v4),1))\n",
    "                \n",
    "#control 2 predicts accroding to proportions of positive and negative examples in the training data\n",
    "zs = np.zeros(len(y_test_v4) - int(expected_pos_in_test)) #zeros\n",
    "os = np.ones((int(expected_pos_in_test)))\n",
    "                \n",
    "zo = np.concatenate((zs, os))\n",
    "                \n",
    "y_test_con2 = np.random.permutation(zo)\n",
    "               "
   ]
  },
  {
   "cell_type": "code",
   "execution_count": 121,
   "metadata": {
    "collapsed": false
   },
   "outputs": [
    {
     "name": "stdout",
     "output_type": "stream",
     "text": [
      "             precision    recall  f1-score   support\n",
      "\n",
      "          0       0.00      0.00      0.00     41870\n",
      "          1       0.55      1.00      0.71     51770\n",
      "\n",
      "avg / total       0.31      0.55      0.39     93640\n",
      "\n"
     ]
    },
    {
     "name": "stderr",
     "output_type": "stream",
     "text": [
      "/anaconda/lib/python3.6/site-packages/sklearn/metrics/classification.py:1113: UndefinedMetricWarning:\n",
      "\n",
      "Precision and F-score are ill-defined and being set to 0.0 in labels with no predicted samples.\n",
      "\n"
     ]
    }
   ],
   "source": [
    "print(classification_report(y_test_v4, y_test_con1))"
   ]
  },
  {
   "cell_type": "code",
   "execution_count": 123,
   "metadata": {
    "collapsed": false
   },
   "outputs": [
    {
     "name": "stdout",
     "output_type": "stream",
     "text": [
      "             precision    recall  f1-score   support\n",
      "\n",
      "          0       0.45      0.45      0.45     41870\n",
      "          1       0.55      0.55      0.55     51770\n",
      "\n",
      "avg / total       0.51      0.50      0.51     93640\n",
      "\n"
     ]
    }
   ],
   "source": [
    "print(classification_report(y_test_v4, y_test_con2))"
   ]
  },
  {
   "cell_type": "code",
   "execution_count": 124,
   "metadata": {
    "collapsed": false
   },
   "outputs": [
    {
     "data": {
      "text/plain": [
       "78"
      ]
     },
     "execution_count": 124,
     "metadata": {},
     "output_type": "execute_result"
    }
   ],
   "source": [
    "len(X_train_v1.columns)"
   ]
  },
  {
   "cell_type": "markdown",
   "metadata": {
    "collapsed": true
   },
   "source": [
    "### Random (control) model has much lower precision and recall than RF for loans with duration < 84 months. "
   ]
  },
  {
   "cell_type": "code",
   "execution_count": null,
   "metadata": {
    "collapsed": true
   },
   "outputs": [],
   "source": []
  }
 ],
 "metadata": {
  "kernelspec": {
   "display_name": "Python 3",
   "language": "python",
   "name": "python3"
  },
  "language_info": {
   "codemirror_mode": {
    "name": "ipython",
    "version": 3
   },
   "file_extension": ".py",
   "mimetype": "text/x-python",
   "name": "python",
   "nbconvert_exporter": "python",
   "pygments_lexer": "ipython3",
   "version": "3.6.0"
  }
 },
 "nbformat": 4,
 "nbformat_minor": 2
}
