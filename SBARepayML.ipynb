{
 "cells": [
  {
   "cell_type": "markdown",
   "metadata": {},
   "source": [
    "# SBA Repay: Predicting Loan Defaults for Small Business Loans\n",
    "\n",
    "## Table of Contents\n",
    "1. [Initial Model Testing - Logistic Regression](#cell1)\n",
    "2. [A Simple Decision Tree](#cell2)\n",
    "3. [Random Forest](#cell3)\n",
    "3. [Random Forest Feature Importances](#cell4)\n",
    "3. [Focusing on Shorter Duration Loans](#cell5)\n",
    "\n",
    "\n",
    "\n",
    "\n",
    "<a id=\"cell1\"></a>\n",
    "## 1. Initial Model Testing - Logistic Regression"
   ]
  },
  {
   "cell_type": "code",
   "execution_count": 1,
   "metadata": {
    "collapsed": true
   },
   "outputs": [],
   "source": [
    "#Import necessary Python packages \n",
    "\n",
    "#data analysis tools\n",
    "import numpy as np\n",
    "import pandas as pd\n",
    "import datetime\n",
    "from dateutil.relativedelta import relativedelta\n",
    "\n",
    "#plotting tools\n",
    "import matplotlib.pyplot as plt\n",
    "%matplotlib inline\n",
    "import seaborn as sns\n",
    "import graphviz \n",
    "\n",
    "#classification \n",
    "from sklearn.preprocessing import StandardScaler\n",
    "from sklearn.model_selection import train_test_split, GridSearchCV, cross_val_score, cross_val_predict, StratifiedShuffleSplit\n",
    "from sklearn.linear_model import LogisticRegression\n",
    "from sklearn.metrics import classification_report, confusion_matrix\n",
    "from sklearn import tree\n",
    "from sklearn.tree import DecisionTreeClassifier\n",
    "from sklearn.ensemble import RandomForestClassifier\n",
    "from sklearn.metrics import make_scorer, precision_score"
   ]
  },
  {
   "cell_type": "code",
   "execution_count": 2,
   "metadata": {
    "collapsed": true
   },
   "outputs": [],
   "source": [
    "#Load cleaned data\n",
    "data = pd.read_pickle('loans_7a_matured')"
   ]
  },
  {
   "cell_type": "code",
   "execution_count": 3,
   "metadata": {
    "collapsed": false
   },
   "outputs": [
    {
     "data": {
      "text/plain": [
       "Index([      'ApprovalFiscalYear',             'TermInMonths',\n",
       "                 'RevolverStatus',            'JobsSupported',\n",
       "               'FranchiseCodeBin',                'SP_to2016',\n",
       "       'SBAGuaranteedApprovalAdj',                       'AL',\n",
       "                             'AR',                       'AZ',\n",
       "       ...\n",
       "                             2008,                       2009,\n",
       "                             2010,                       2011,\n",
       "                             2012,                       2013,\n",
       "                             2014,                       2015,\n",
       "                             2016,                       2017],\n",
       "      dtype='object', length=106)"
      ]
     },
     "execution_count": 3,
     "metadata": {},
     "output_type": "execute_result"
    }
   ],
   "source": [
    "data.columns"
   ]
  },
  {
   "cell_type": "markdown",
   "metadata": {},
   "source": [
    "We will **remove the approval year** information in order to make the model useful for future years (not included in the data)."
   ]
  },
  {
   "cell_type": "code",
   "execution_count": 4,
   "metadata": {
    "collapsed": true
   },
   "outputs": [],
   "source": [
    "data.drop(list(data.columns)[80:], axis = 1, inplace = True)\n",
    "data.drop('ApprovalFiscalYear', axis = 1, inplace = True)"
   ]
  },
  {
   "cell_type": "markdown",
   "metadata": {},
   "source": [
    "Target variable is Loan Status - Paid in Full (PIF) versus Defaulted. Right now:\n",
    "* Negative class = defaulted.\n",
    "* Postive class = repaid (paid in full).\n",
    "\n",
    "\n"
   ]
  },
  {
   "cell_type": "code",
   "execution_count": 5,
   "metadata": {
    "collapsed": false
   },
   "outputs": [
    {
     "data": {
      "text/plain": [
       "1    492214\n",
       "0    158049\n",
       "Name: PIF, dtype: int64"
      ]
     },
     "execution_count": 5,
     "metadata": {},
     "output_type": "execute_result"
    }
   ],
   "source": [
    "data['PIF'].value_counts()"
   ]
  },
  {
   "cell_type": "code",
   "execution_count": 6,
   "metadata": {
    "collapsed": false
   },
   "outputs": [
    {
     "name": "stdout",
     "output_type": "stream",
     "text": [
      "24.31% of matured loans defaulted\n"
     ]
    }
   ],
   "source": [
    "# Percent of loans that defaulted out of paid in full + defaulted loans\n",
    "print(str(np.round(100*(data['PIF']==0).sum() / len(data), 2)) + '% of matured loans defaulted')"
   ]
  },
  {
   "cell_type": "code",
   "execution_count": 7,
   "metadata": {
    "collapsed": true
   },
   "outputs": [],
   "source": [
    "# Select the features\n",
    "X = data.drop(['PIF'], axis = 1)\n",
    "# Select the target variable: switch class labels so that \"defaulted\" is the postive class \n",
    "# since this is what we really care about\n",
    "y = (1 - data['PIF'])\n",
    "\n",
    "class_names = ['Paid in Full', 'Defaulted']"
   ]
  },
  {
   "cell_type": "markdown",
   "metadata": {},
   "source": [
    "From here on: \n",
    "<br>\n",
    "   **  Class 0 = Paid in Full <br>\n",
    "     Class 1 = Defaulted **"
   ]
  },
  {
   "cell_type": "markdown",
   "metadata": {},
   "source": [
    "We will first split our data into **training and testing** sets. We will use a **stratified** split since classes are somewhat imbalanced. We will always run model optimization/selection on the training data (by introducing an additional cross validation portion/k-fold cross validation) and testing on the untouched test set. "
   ]
  },
  {
   "cell_type": "code",
   "execution_count": 8,
   "metadata": {
    "collapsed": true
   },
   "outputs": [],
   "source": [
    "# Set aside a test set\n",
    "# Random stratified 70-30 split: preserves the original proportion of positive and negative class \n",
    "# examples in train and test\n",
    "X_train, X_test, y_train, y_test = train_test_split(X, y, stratify = y,\n",
    "                                                        test_size = 0.30, random_state = 101)"
   ]
  },
  {
   "cell_type": "markdown",
   "metadata": {},
   "source": [
    "We will start with (L2-regularized) logistic regression with default hyperparameters. We will **scale all numeric features** prior to model training and testing. "
   ]
  },
  {
   "cell_type": "code",
   "execution_count": 9,
   "metadata": {
    "collapsed": true
   },
   "outputs": [],
   "source": [
    "# Scale numerical features for logistic regression (with regularization)\n",
    "\n",
    "from sklearn.preprocessing import StandardScaler\n",
    "\n",
    "# Get scaling parameters from training data, then apply the scaler to testing data as well\n",
    "std_scale = StandardScaler().fit(X_train[['TermInMonths', 'JobsSupported', 'SP_to2016', 'SBAGuaranteedApprovalAdj']])\n",
    "X_train_std = std_scale.transform(X_train[['TermInMonths', 'JobsSupported', 'SP_to2016', 'SBAGuaranteedApprovalAdj']])\n",
    "X_test_std = std_scale.transform(X_test[['TermInMonths', 'JobsSupported', 'SP_to2016', 'SBAGuaranteedApprovalAdj']])"
   ]
  },
  {
   "cell_type": "markdown",
   "metadata": {},
   "source": [
    "We will first run logistic regression with default hyperparamters. We will use **class_weight = 'balanced'** to introduce higher penalty for missclassifying the minority class. "
   ]
  },
  {
   "cell_type": "code",
   "execution_count": 10,
   "metadata": {
    "collapsed": false
   },
   "outputs": [
    {
     "name": "stdout",
     "output_type": "stream",
     "text": [
      "             precision    recall  f1-score   support\n",
      "\n",
      "          0       0.76      0.90      0.82    123397\n",
      "          1       0.75      0.50      0.60     71682\n",
      "\n",
      "avg / total       0.75      0.75      0.74    195079\n",
      "\n"
     ]
    }
   ],
   "source": [
    "# Define the model\n",
    "def_logreg_model = LogisticRegression(class_weight = 'balanced', random_state = 101)\n",
    "# Train the model on scaled training data\n",
    "def_logreg_model.fit(X_train_std, y_train)\n",
    "# Test the model: make predictions on testing data\n",
    "def_logreg_pred = def_logreg_model.predict(X_test_std)\n",
    "# Compare model outputs with actual outputs\n",
    "print(classification_report(def_logreg_pred, y_test))"
   ]
  },
  {
   "cell_type": "markdown",
   "metadata": {},
   "source": [
    "We should aim to avoid predicting that a loan will be paid in full, when in fact it will default, i.e., we want to detect all of defaults (positive class). False negatives should be important. Therefore, **we'll pay particular attention to recall ** (of the positive/Default class).\n",
    "\n",
    "This is exactly the metric that the above classifier struggles with - it is 0.50. \n",
    "We can gain more insight as to what went wrong by examining the confusion matrix. "
   ]
  },
  {
   "cell_type": "code",
   "execution_count": 11,
   "metadata": {
    "collapsed": true
   },
   "outputs": [],
   "source": [
    "# Function to display the confusion matrix - original or normalized\n",
    "\n",
    "import itertools\n",
    "def plot_confusion_matrix(cm, classes, title = 'Confusion matrix', cmap = plt.cm.Blues, normalize = False):\n",
    "    \"\"\"\n",
    "    This function prints and plots the confusion matrix.\n",
    "    \"\"\"\n",
    "    \n",
    "    if normalize:\n",
    "        cm = cm.astype('float') / cm.sum(axis=1)[:, np.newaxis]\n",
    "        print(\"Normalized confusion matrix\")\n",
    "    else:\n",
    "      print('Confusion matrix, without normalization')\n",
    "\n",
    "    print(cm)\n",
    "\n",
    "    plt.imshow(cm, interpolation='nearest', cmap = cmap)\n",
    "    plt.title(title, fontsize = 20)\n",
    "    plt.colorbar()\n",
    "    tick_marks = np.arange(len(classes))\n",
    "    plt.xticks(tick_marks, classes, fontsize = 20)\n",
    "    plt.yticks(tick_marks, classes, fontsize = 20)\n",
    "    fmt = '.2f' if normalize else 'd'\n",
    "    thresh = cm.max() / 2.\n",
    "    for i, j in itertools.product(range(cm.shape[0]), range(cm.shape[1])):\n",
    "        plt.text(j, i, format(cm[i, j], fmt),\n",
    "                 horizontalalignment=\"center\",\n",
    "                 color=\"white\" if cm[i, j] > thresh else \"black\")\n",
    "\n",
    "    plt.tight_layout()\n",
    "    plt.ylabel('True Label', fontsize = 20)\n",
    "    plt.xlabel('Predicted Label', fontsize = 20)\n",
    "    plt.grid(False)"
   ]
  },
  {
   "cell_type": "code",
   "execution_count": 12,
   "metadata": {
    "collapsed": false
   },
   "outputs": [
    {
     "name": "stdout",
     "output_type": "stream",
     "text": [
      "Confusion matrix, without normalization\n",
      "[[111521  11876]\n",
      " [ 36143  35539]]\n",
      "Normalized confusion matrix\n",
      "[[ 0.90375779  0.09624221]\n",
      " [ 0.50421305  0.49578695]]\n"
     ]
    },
    {
     "data": {
      "image/png": "[encoded data removed]",
      "text/plain": [
       "<matplotlib.figure.Figure at 0x11b73eef0>"
      ]
     },
     "metadata": {},
     "output_type": "display_data"
    },
    {
     "data": {
      "text/plain": [
       "<matplotlib.figure.Figure at 0x10c4ea0f0>"
      ]
     },
     "metadata": {},
     "output_type": "display_data"
    },
    {
     "data": {
      "image/png": "[encoded data removed]",
      "text/plain": [
       "<matplotlib.figure.Figure at 0x11bb9eeb8>"
      ]
     },
     "metadata": {},
     "output_type": "display_data"
    }
   ],
   "source": [
    "# Plot confusion matrix without normalization\n",
    "\n",
    "def_logreg_cm = confusion_matrix(def_logreg_pred, y_test)\n",
    "\n",
    "plt.figure(figsize = (8,4))\n",
    "plot_confusion_matrix(def_logreg_cm, classes = class_names, normalize = False,\n",
    "                      title = 'Confusion Matrix')# Plot normalized confusion matrix\n",
    "plt.figure(figsize = (8,4))\n",
    "plt.figure(figsize = (8,4))\n",
    "plot_confusion_matrix(def_logreg_cm, classes = class_names, normalize = True,\n",
    "                      title = 'Confusion Matrix with Normalization')"
   ]
  },
  {
   "cell_type": "markdown",
   "metadata": {},
   "source": [
    "We see that many defaulted loans got labeled as paid in full (actually, as many as were classified correctly). We will try to improve the perofrmance by **optimizing hyperparamters** using a **Grid Search with 10-fold Cross Validation (stratified split)** on training data, picking the best model (optimal hyperparameters), and then applying it to the test data. One hyperparameter that is of importance to logistic regression is C - the amount of regularization used. "
   ]
  },
  {
   "cell_type": "code",
   "execution_count": 13,
   "metadata": {
    "collapsed": false
   },
   "outputs": [
    {
     "name": "stdout",
     "output_type": "stream",
     "text": [
      "Fitting 10 folds for each of 14 candidates, totalling 140 fits\n"
     ]
    },
    {
     "name": "stderr",
     "output_type": "stream",
     "text": [
      "[Parallel(n_jobs=1)]: Done 140 out of 140 | elapsed:  1.0min finished\n"
     ]
    },
    {
     "data": {
      "text/plain": [
       "GridSearchCV(cv=StratifiedShuffleSplit(n_splits=10, random_state=101, test_size=0.3,\n",
       "            train_size=None),\n",
       "       error_score='raise',\n",
       "       estimator=LogisticRegression(C=1.0, class_weight='balanced', dual=False,\n",
       "          fit_intercept=True, intercept_scaling=1, max_iter=100,\n",
       "          multi_class='ovr', n_jobs=1, penalty='l2', random_state=None,\n",
       "          solver='liblinear', tol=0.0001, verbose=0, warm_start=False),\n",
       "       fit_params={}, iid=True, n_jobs=1,\n",
       "       param_grid={'C': [0.0001, 0.0005, 0.001, 0.005, 0.1, 0.5, 1, 5, 10, 50, 100, 500, 1000, 5000]},\n",
       "       pre_dispatch='2*n_jobs', refit=True, return_train_score=True,\n",
       "       scoring=None, verbose=1)"
      ]
     },
     "execution_count": 13,
     "metadata": {},
     "output_type": "execute_result"
    }
   ],
   "source": [
    "# Tune the hyperparameters: vary the regularization paramter\n",
    "# Try an exhaustive range of values\n",
    "\n",
    "param_grid = {'C': [0.0001, 0.0005, 0.001, 0.005, 0.1, 0.5, 1, 5, 10, 50, 100, 500, 1000, 5000]}\n",
    "\n",
    "# 10-fold cross validation on training data to tune C\n",
    "grid_logmodel = GridSearchCV(LogisticRegression(class_weight = 'balanced'), \n",
    "                             param_grid, refit = True, verbose = 1,  \n",
    "                             cv = StratifiedShuffleSplit(n_splits = 10, test_size = 0.3, random_state = 101))\n",
    "grid_logmodel.fit(X_train_std, y_train)"
   ]
  },
  {
   "cell_type": "code",
   "execution_count": 14,
   "metadata": {
    "collapsed": false
   },
   "outputs": [
    {
     "data": {
      "text/plain": [
       "{'C': 1}"
      ]
     },
     "execution_count": 14,
     "metadata": {},
     "output_type": "execute_result"
    }
   ],
   "source": [
    "# See the chosen optimal parameter\n",
    "grid_logmodel.best_params_"
   ]
  },
  {
   "cell_type": "markdown",
   "metadata": {},
   "source": [
    "Looks like the default parameter was the best choice! "
   ]
  },
  {
   "cell_type": "markdown",
   "metadata": {},
   "source": [
    "<a id=\"cell2\"></a>\n",
    "## 2. A Simple Decision Tree\n",
    "\n",
    "We will next implement a simple decision tree model. We will limit the depth to four, for simplicity. "
   ]
  },
  {
   "cell_type": "code",
   "execution_count": 15,
   "metadata": {
    "collapsed": false
   },
   "outputs": [
    {
     "name": "stdout",
     "output_type": "stream",
     "text": [
      "             precision    recall  f1-score   support\n",
      "\n",
      "          0       0.77      0.97      0.86    117221\n",
      "          1       0.94      0.57      0.71     77858\n",
      "\n",
      "avg / total       0.84      0.81      0.80    195079\n",
      "\n"
     ]
    }
   ],
   "source": [
    "# Train and test a simple decision tree with random stratified split and 10-fold cross validation.\n",
    "# Better accuracy could be achieved without the max_depth and min_samples_leaf constraints,\n",
    "# but we will aim for simplicity here (to avoid overfitting and it easier to visualize).\n",
    "\n",
    "# Decision trees do not need features to be scaled. For easier interpretability, we will go back to original data.\n",
    "dtree = DecisionTreeClassifier(max_depth = 4, min_samples_leaf = 5, class_weight = 'balanced')\n",
    "\n",
    "# Fit/train the model \n",
    "dtree.fit(X_train, y_train)\n",
    "\n",
    "# Test the model\n",
    "dtree_pred = dtree.predict(X_test)\n",
    "# Display results\n",
    "print(classification_report(dtree_pred, y_test))"
   ]
  },
  {
   "cell_type": "code",
   "execution_count": 16,
   "metadata": {
    "collapsed": false
   },
   "outputs": [
    {
     "name": "stdout",
     "output_type": "stream",
     "text": [
      "Normalized confusion matrix\n",
      "[[ 0.97472296  0.02527704]\n",
      " [ 0.42906317  0.57093683]]\n"
     ]
    },
    {
     "data": {
      "image/png": "[encoded data removed]",
      "text/plain": [
       "<matplotlib.figure.Figure at 0x11c274208>"
      ]
     },
     "metadata": {},
     "output_type": "display_data"
    }
   ],
   "source": [
    "#Plot normalized confusion matrix\n",
    "dtree_cm = confusion_matrix(dtree_pred, y_test)\n",
    "\n",
    "plt.figure(figsize = (8,4))\n",
    "plot_confusion_matrix(dtree_cm, classes = class_names, normalize = True,\n",
    "                      title = 'Normalized Confusion Matrix')"
   ]
  },
  {
   "cell_type": "markdown",
   "metadata": {},
   "source": [
    "We can see that, relative to logistic regression, this model is overall doing better - precision of the positive class has significantly improved (from 0.75 to 0.94). However, this is only  **slightly better** in terms of **recall** (0.50 to 0.57).  We would like to further improve recall as well. Let's see what an individual tree looks like.  "
   ]
  },
  {
   "cell_type": "code",
   "execution_count": 17,
   "metadata": {
    "collapsed": false
   },
   "outputs": [
    {
     "data": {
      "image/svg+xml": [
       "<?xml version=\"1.0\" encoding=\"UTF-8\" standalone=\"no\"?>\n",
       "<!DOCTYPE svg PUBLIC \"-//W3C//DTD SVG 1.1//EN\"\n",
       " \"http://www.w3.org/Graphics/SVG/1.1/DTD/svg11.dtd\">\n",
       "<!-- Generated by graphviz version 2.38.0 (20140413.2041)\n",
       " -->\n",
       "<!-- Title: Tree Pages: 1 -->\n",
       "<svg width=\"3710pt\" height=\"528pt\"\n",
       " viewBox=\"0.00 0.00 3710.40 528.00\" xmlns=\"http://www.w3.org/2000/svg\" xmlns:xlink=\"http://www.w3.org/1999/xlink\">\n",
       "<g id=\"graph0\" class=\"graph\" transform=\"scale(1 1) rotate(0) translate(4 524)\">\n",
       "<title>Tree</title>\n",
       "<polygon fill=\"white\" stroke=\"none\" points=\"-4,4 -4,-524 3706.4,-524 3706.4,4 -4,4\"/>\n",
       "<!-- 0 -->\n",
       "<g id=\"node1\" class=\"node\"><title>0</title>\n",
       "<path fill=\"none\" stroke=\"black\" d=\"M1951.6,-520C1951.6,-520 1778.07,-520 1778.07,-520 1772.07,-520 1766.07,-514 1766.07,-508 1766.07,-508 1766.07,-454 1766.07,-454 1766.07,-448 1772.07,-442 1778.07,-442 1778.07,-442 1951.6,-442 1951.6,-442 1957.6,-442 1963.6,-448 1963.6,-454 1963.6,-454 1963.6,-508 1963.6,-508 1963.6,-514 1957.6,-520 1951.6,-520\"/>\n",
       "<text text-anchor=\"start\" x=\"1799.13\" y=\"-504.8\" font-family=\"Helvetica,sans-Serif\" font-size=\"14.00\">TermInMonths ≤ 82.5</text>\n",
       "<text text-anchor=\"start\" x=\"1836.23\" y=\"-490.8\" font-family=\"Helvetica,sans-Serif\" font-size=\"14.00\">gini = 0.5</text>\n",
       "<text text-anchor=\"start\" x=\"1807.43\" y=\"-476.8\" font-family=\"Helvetica,sans-Serif\" font-size=\"14.00\">samples = 455184</text>\n",
       "<text text-anchor=\"start\" x=\"1773.95\" y=\"-462.8\" font-family=\"Helvetica,sans-Serif\" font-size=\"14.00\">value = [227592.0, 227592.0]</text>\n",
       "<text text-anchor=\"start\" x=\"1826.91\" y=\"-448.8\" font-family=\"Helvetica,sans-Serif\" font-size=\"14.00\">class = DEF</text>\n",
       "</g>\n",
       "<!-- 1 -->\n",
       "<g id=\"node2\" class=\"node\"><title>1</title>\n",
       "<path fill=\"#399de5\" fill-opacity=\"0.611765\" stroke=\"black\" d=\"M1527.25,-406C1527.25,-406 1322.42,-406 1322.42,-406 1316.42,-406 1310.42,-400 1310.42,-394 1310.42,-394 1310.42,-340 1310.42,-340 1310.42,-334 1316.42,-328 1322.42,-328 1322.42,-328 1527.25,-328 1527.25,-328 1533.25,-328 1539.25,-334 1539.25,-340 1539.25,-340 1539.25,-394 1539.25,-394 1539.25,-400 1533.25,-406 1527.25,-406\"/>\n",
       "<text text-anchor=\"start\" x=\"1359.13\" y=\"-390.8\" font-family=\"Helvetica,sans-Serif\" font-size=\"14.00\">TermInMonths ≤ 59.5</text>\n",
       "<text text-anchor=\"start\" x=\"1384.55\" y=\"-376.8\" font-family=\"Helvetica,sans-Serif\" font-size=\"14.00\">gini = 0.4034</text>\n",
       "<text text-anchor=\"start\" x=\"1367.43\" y=\"-362.8\" font-family=\"Helvetica,sans-Serif\" font-size=\"14.00\">samples = 215828</text>\n",
       "<text text-anchor=\"start\" x=\"1318.38\" y=\"-348.8\" font-family=\"Helvetica,sans-Serif\" font-size=\"14.00\">value = [78123.076, 200692.5569]</text>\n",
       "<text text-anchor=\"start\" x=\"1390.02\" y=\"-334.8\" font-family=\"Helvetica,sans-Serif\" font-size=\"14.00\">class = PIF</text>\n",
       "</g>\n",
       "<!-- 0&#45;&gt;1 -->\n",
       "<g id=\"edge1\" class=\"edge\"><title>0&#45;&gt;1</title>\n",
       "<path fill=\"none\" stroke=\"black\" d=\"M1765.81,-454.795C1701.81,-438.502 1617.97,-417.162 1549.44,-399.719\"/>\n",
       "<polygon fill=\"black\" stroke=\"black\" points=\"1550,-396.25 1539.45,-397.175 1548.28,-403.034 1550,-396.25\"/>\n",
       "<text text-anchor=\"middle\" x=\"1552.22\" y=\"-414.467\" font-family=\"Helvetica,sans-Serif\" font-size=\"14.00\">True</text>\n",
       "</g>\n",
       "<!-- 16 -->\n",
       "<g id=\"node17\" class=\"node\"><title>16</title>\n",
       "<path fill=\"#e58139\" fill-opacity=\"0.819608\" stroke=\"black\" d=\"M2425.25,-406C2425.25,-406 2220.42,-406 2220.42,-406 2214.42,-406 2208.42,-400 2208.42,-394 2208.42,-394 2208.42,-340 2208.42,-340 2208.42,-334 2214.42,-328 2220.42,-328 2220.42,-328 2425.25,-328 2425.25,-328 2431.25,-328 2437.25,-334 2437.25,-340 2437.25,-340 2437.25,-394 2437.25,-394 2437.25,-400 2431.25,-406 2425.25,-406\"/>\n",
       "<text text-anchor=\"start\" x=\"2257.13\" y=\"-390.8\" font-family=\"Helvetica,sans-Serif\" font-size=\"14.00\">TermInMonths ≤ 84.5</text>\n",
       "<text text-anchor=\"start\" x=\"2282.55\" y=\"-376.8\" font-family=\"Helvetica,sans-Serif\" font-size=\"14.00\">gini = 0.2585</text>\n",
       "<text text-anchor=\"start\" x=\"2265.43\" y=\"-362.8\" font-family=\"Helvetica,sans-Serif\" font-size=\"14.00\">samples = 239356</text>\n",
       "<text text-anchor=\"start\" x=\"2216.38\" y=\"-348.8\" font-family=\"Helvetica,sans-Serif\" font-size=\"14.00\">value = [149468.924, 26899.4431]</text>\n",
       "<text text-anchor=\"start\" x=\"2284.91\" y=\"-334.8\" font-family=\"Helvetica,sans-Serif\" font-size=\"14.00\">class = DEF</text>\n",
       "</g>\n",
       "<!-- 0&#45;&gt;16 -->\n",
       "<g id=\"edge16\" class=\"edge\"><title>0&#45;&gt;16</title>\n",
       "<path fill=\"none\" stroke=\"black\" d=\"M1963.65,-455.836C2032.35,-439.034 2124.47,-416.508 2198.21,-398.474\"/>\n",
       "<polygon fill=\"black\" stroke=\"black\" points=\"2199.15,-401.849 2208.03,-396.073 2197.49,-395.049 2199.15,-401.849\"/>\n",
       "<text text-anchor=\"middle\" x=\"2195.06\" y=\"-413.244\" font-family=\"Helvetica,sans-Serif\" font-size=\"14.00\">False</text>\n",
       "</g>\n",
       "<!-- 2 -->\n",
       "<g id=\"node3\" class=\"node\"><title>2</title>\n",
       "<path fill=\"#399de5\" fill-opacity=\"0.780392\" stroke=\"black\" d=\"M823.031,-292C823.031,-292 610.635,-292 610.635,-292 604.635,-292 598.635,-286 598.635,-280 598.635,-280 598.635,-226 598.635,-226 598.635,-220 604.635,-214 610.635,-214 610.635,-214 823.031,-214 823.031,-214 829.031,-214 835.031,-220 835.031,-226 835.031,-226 835.031,-280 835.031,-280 835.031,-286 829.031,-292 823.031,-292\"/>\n",
       "<text text-anchor=\"start\" x=\"651.129\" y=\"-276.8\" font-family=\"Helvetica,sans-Serif\" font-size=\"14.00\">TermInMonths ≤ 48.5</text>\n",
       "<text text-anchor=\"start\" x=\"676.549\" y=\"-262.8\" font-family=\"Helvetica,sans-Serif\" font-size=\"14.00\">gini = 0.2958</text>\n",
       "<text text-anchor=\"start\" x=\"659.432\" y=\"-248.8\" font-family=\"Helvetica,sans-Serif\" font-size=\"14.00\">samples = 124718</text>\n",
       "<text text-anchor=\"start\" x=\"606.484\" y=\"-234.8\" font-family=\"Helvetica,sans-Serif\" font-size=\"14.00\">value = [33516.8935, 152182.6327]</text>\n",
       "<text text-anchor=\"start\" x=\"682.018\" y=\"-220.8\" font-family=\"Helvetica,sans-Serif\" font-size=\"14.00\">class = PIF</text>\n",
       "</g>\n",
       "<!-- 1&#45;&gt;2 -->\n",
       "<g id=\"edge2\" class=\"edge\"><title>1&#45;&gt;2</title>\n",
       "<path fill=\"none\" stroke=\"black\" d=\"M1310.29,-347.881C1182.99,-327.743 977.913,-295.301 845.262,-274.316\"/>\n",
       "<polygon fill=\"black\" stroke=\"black\" points=\"845.469,-270.806 835.045,-272.7 844.375,-277.72 845.469,-270.806\"/>\n",
       "</g>\n",
       "<!-- 9 -->\n",
       "<g id=\"node10\" class=\"node\"><title>9</title>\n",
       "<path fill=\"#399de5\" fill-opacity=\"0.082353\" stroke=\"black\" d=\"M1527.25,-292C1527.25,-292 1322.42,-292 1322.42,-292 1316.42,-292 1310.42,-286 1310.42,-280 1310.42,-280 1310.42,-226 1310.42,-226 1310.42,-220 1316.42,-214 1322.42,-214 1322.42,-214 1527.25,-214 1527.25,-214 1533.25,-214 1539.25,-220 1539.25,-226 1539.25,-226 1539.25,-280 1539.25,-280 1539.25,-286 1533.25,-292 1527.25,-292\"/>\n",
       "<text text-anchor=\"start\" x=\"1359.13\" y=\"-276.8\" font-family=\"Helvetica,sans-Serif\" font-size=\"14.00\">TermInMonths ≤ 60.5</text>\n",
       "<text text-anchor=\"start\" x=\"1384.55\" y=\"-262.8\" font-family=\"Helvetica,sans-Serif\" font-size=\"14.00\">gini = 0.4991</text>\n",
       "<text text-anchor=\"start\" x=\"1372.36\" y=\"-248.8\" font-family=\"Helvetica,sans-Serif\" font-size=\"14.00\">samples = 91110</text>\n",
       "<text text-anchor=\"start\" x=\"1318.38\" y=\"-234.8\" font-family=\"Helvetica,sans-Serif\" font-size=\"14.00\">value = [44606.1825, 48509.9242]</text>\n",
       "<text text-anchor=\"start\" x=\"1390.02\" y=\"-220.8\" font-family=\"Helvetica,sans-Serif\" font-size=\"14.00\">class = PIF</text>\n",
       "</g>\n",
       "<!-- 1&#45;&gt;9 -->\n",
       "<g id=\"edge9\" class=\"edge\"><title>1&#45;&gt;9</title>\n",
       "<path fill=\"none\" stroke=\"black\" d=\"M1424.83,-327.769C1424.83,-319.57 1424.83,-310.803 1424.83,-302.28\"/>\n",
       "<polygon fill=\"black\" stroke=\"black\" points=\"1428.33,-302.058 1424.83,-292.058 1421.33,-302.059 1428.33,-302.058\"/>\n",
       "</g>\n",
       "<!-- 3 -->\n",
       "<g id=\"node4\" class=\"node\"><title>3</title>\n",
       "<path fill=\"#399de5\" fill-opacity=\"0.733333\" stroke=\"black\" d=\"M466.499,-178C466.499,-178 255.167,-178 255.167,-178 249.167,-178 243.167,-172 243.167,-166 243.167,-166 243.167,-112 243.167,-112 243.167,-106 249.167,-100 255.167,-100 255.167,-100 466.499,-100 466.499,-100 472.499,-100 478.499,-106 478.499,-112 478.499,-112 478.499,-166 478.499,-166 478.499,-172 472.499,-178 466.499,-178\"/>\n",
       "<text text-anchor=\"start\" x=\"295.129\" y=\"-162.8\" font-family=\"Helvetica,sans-Serif\" font-size=\"14.00\">TermInMonths ≤ 47.5</text>\n",
       "<text text-anchor=\"start\" x=\"320.549\" y=\"-148.8\" font-family=\"Helvetica,sans-Serif\" font-size=\"14.00\">gini = 0.3324</text>\n",
       "<text text-anchor=\"start\" x=\"303.432\" y=\"-134.8\" font-family=\"Helvetica,sans-Serif\" font-size=\"14.00\">samples = 104366</text>\n",
       "<text text-anchor=\"start\" x=\"251\" y=\"-120.8\" font-family=\"Helvetica,sans-Serif\" font-size=\"14.00\">value = [31273.0102, 117303.4603]</text>\n",
       "<text text-anchor=\"start\" x=\"326.018\" y=\"-106.8\" font-family=\"Helvetica,sans-Serif\" font-size=\"14.00\">class = PIF</text>\n",
       "</g>\n",
       "<!-- 2&#45;&gt;3 -->\n",
       "<g id=\"edge3\" class=\"edge\"><title>2&#45;&gt;3</title>\n",
       "<path fill=\"none\" stroke=\"black\" d=\"M598.29,-214.706C562.919,-203.578 524.009,-191.336 488.104,-180.04\"/>\n",
       "<polygon fill=\"black\" stroke=\"black\" points=\"489.145,-176.699 478.555,-177.036 487.044,-183.376 489.145,-176.699\"/>\n",
       "</g>\n",
       "<!-- 6 -->\n",
       "<g id=\"node7\" class=\"node\"><title>6</title>\n",
       "<path fill=\"#399de5\" fill-opacity=\"0.937255\" stroke=\"black\" d=\"M815.459,-178C815.459,-178 618.207,-178 618.207,-178 612.207,-178 606.207,-172 606.207,-166 606.207,-166 606.207,-112 606.207,-112 606.207,-106 612.207,-100 618.207,-100 618.207,-100 815.459,-100 815.459,-100 821.459,-100 827.459,-106 827.459,-112 827.459,-112 827.459,-166 827.459,-166 827.459,-172 821.459,-178 815.459,-178\"/>\n",
       "<text text-anchor=\"start\" x=\"641.371\" y=\"-162.8\" font-family=\"Helvetica,sans-Serif\" font-size=\"14.00\">SP_to2016 ≤ 1414.4946</text>\n",
       "<text text-anchor=\"start\" x=\"677.065\" y=\"-148.8\" font-family=\"Helvetica,sans-Serif\" font-size=\"14.00\">gini = 0.1136</text>\n",
       "<text text-anchor=\"start\" x=\"663.325\" y=\"-134.8\" font-family=\"Helvetica,sans-Serif\" font-size=\"14.00\">samples = 20352</text>\n",
       "<text text-anchor=\"start\" x=\"614.27\" y=\"-120.8\" font-family=\"Helvetica,sans-Serif\" font-size=\"14.00\">value = [2243.8834, 34879.1724]</text>\n",
       "<text text-anchor=\"start\" x=\"682.018\" y=\"-106.8\" font-family=\"Helvetica,sans-Serif\" font-size=\"14.00\">class = PIF</text>\n",
       "</g>\n",
       "<!-- 2&#45;&gt;6 -->\n",
       "<g id=\"edge6\" class=\"edge\"><title>2&#45;&gt;6</title>\n",
       "<path fill=\"none\" stroke=\"black\" d=\"M716.833,-213.769C716.833,-205.57 716.833,-196.803 716.833,-188.28\"/>\n",
       "<polygon fill=\"black\" stroke=\"black\" points=\"720.333,-188.058 716.833,-178.058 713.333,-188.059 720.333,-188.058\"/>\n",
       "</g>\n",
       "<!-- 4 -->\n",
       "<g id=\"node5\" class=\"node\"><title>4</title>\n",
       "<path fill=\"#399de5\" fill-opacity=\"0.772549\" stroke=\"black\" d=\"M223.499,-64C223.499,-64 12.1668,-64 12.1668,-64 6.16676,-64 0.166756,-58 0.166756,-52 0.166756,-52 0.166756,-12 0.166756,-12 0.166756,-6 6.16676,-0 12.1668,-0 12.1668,-0 223.499,-0 223.499,-0 229.499,-0 235.499,-6 235.499,-12 235.499,-12 235.499,-52 235.499,-52 235.499,-58 229.499,-64 223.499,-64\"/>\n",
       "<text text-anchor=\"start\" x=\"77.5488\" y=\"-48.8\" font-family=\"Helvetica,sans-Serif\" font-size=\"14.00\">gini = 0.3009</text>\n",
       "<text text-anchor=\"start\" x=\"64.3247\" y=\"-34.8\" font-family=\"Helvetica,sans-Serif\" font-size=\"14.00\">samples = 94572</text>\n",
       "<text text-anchor=\"start\" x=\"8\" y=\"-20.8\" font-family=\"Helvetica,sans-Serif\" font-size=\"14.00\">value = [25817.5397, 114145.7174]</text>\n",
       "<text text-anchor=\"start\" x=\"83.0176\" y=\"-6.8\" font-family=\"Helvetica,sans-Serif\" font-size=\"14.00\">class = PIF</text>\n",
       "</g>\n",
       "<!-- 3&#45;&gt;4 -->\n",
       "<g id=\"edge4\" class=\"edge\"><title>3&#45;&gt;4</title>\n",
       "<path fill=\"none\" stroke=\"black\" d=\"M272.761,-99.9441C248.659,-89.5299 222.655,-78.2934 198.961,-68.0555\"/>\n",
       "<polygon fill=\"black\" stroke=\"black\" points=\"200.226,-64.7892 189.658,-64.0355 197.449,-71.2149 200.226,-64.7892\"/>\n",
       "</g>\n",
       "<!-- 5 -->\n",
       "<g id=\"node6\" class=\"node\"><title>5</title>\n",
       "<path fill=\"#e58139\" fill-opacity=\"0.419608\" stroke=\"black\" d=\"M455.673,-64C455.673,-64 265.993,-64 265.993,-64 259.993,-64 253.993,-58 253.993,-52 253.993,-52 253.993,-12 253.993,-12 253.993,-6 259.993,-0 265.993,-0 265.993,-0 455.673,-0 455.673,-0 461.673,-0 467.673,-6 467.673,-12 467.673,-12 467.673,-52 467.673,-52 467.673,-58 461.673,-64 455.673,-64\"/>\n",
       "<text text-anchor=\"start\" x=\"320.549\" y=\"-48.8\" font-family=\"Helvetica,sans-Serif\" font-size=\"14.00\">gini = 0.4644</text>\n",
       "<text text-anchor=\"start\" x=\"311.218\" y=\"-34.8\" font-family=\"Helvetica,sans-Serif\" font-size=\"14.00\">samples = 9794</text>\n",
       "<text text-anchor=\"start\" x=\"262.163\" y=\"-20.8\" font-family=\"Helvetica,sans-Serif\" font-size=\"14.00\">value = [5455.4704, 3157.7428]</text>\n",
       "<text text-anchor=\"start\" x=\"322.907\" y=\"-6.8\" font-family=\"Helvetica,sans-Serif\" font-size=\"14.00\">class = DEF</text>\n",
       "</g>\n",
       "<!-- 3&#45;&gt;5 -->\n",
       "<g id=\"edge5\" class=\"edge\"><title>3&#45;&gt;5</title>\n",
       "<path fill=\"none\" stroke=\"black\" d=\"M360.833,-99.7956C360.833,-91.4581 360.833,-82.6 360.833,-74.1534\"/>\n",
       "<polygon fill=\"black\" stroke=\"black\" points=\"364.333,-74.1171 360.833,-64.1172 357.333,-74.1172 364.333,-74.1171\"/>\n",
       "</g>\n",
       "<!-- 7 -->\n",
       "<g id=\"node8\" class=\"node\"><title>7</title>\n",
       "<path fill=\"#399de5\" fill-opacity=\"0.878431\" stroke=\"black\" d=\"M686.673,-64C686.673,-64 496.993,-64 496.993,-64 490.993,-64 484.993,-58 484.993,-52 484.993,-52 484.993,-12 484.993,-12 484.993,-6 490.993,-0 496.993,-0 496.993,-0 686.673,-0 686.673,-0 692.673,-0 698.673,-6 698.673,-12 698.673,-12 698.673,-52 698.673,-52 698.673,-58 692.673,-64 686.673,-64\"/>\n",
       "<text text-anchor=\"start\" x=\"555.442\" y=\"-48.8\" font-family=\"Helvetica,sans-Serif\" font-size=\"14.00\">gini = 0.192</text>\n",
       "<text text-anchor=\"start\" x=\"542.218\" y=\"-34.8\" font-family=\"Helvetica,sans-Serif\" font-size=\"14.00\">samples = 5559</text>\n",
       "<text text-anchor=\"start\" x=\"493.163\" y=\"-20.8\" font-family=\"Helvetica,sans-Serif\" font-size=\"14.00\">value = [1002.0521, 8315.0466]</text>\n",
       "<text text-anchor=\"start\" x=\"557.018\" y=\"-6.8\" font-family=\"Helvetica,sans-Serif\" font-size=\"14.00\">class = PIF</text>\n",
       "</g>\n",
       "<!-- 6&#45;&gt;7 -->\n",
       "<g id=\"edge7\" class=\"edge\"><title>6&#45;&gt;7</title>\n",
       "<path fill=\"none\" stroke=\"black\" d=\"M671.352,-99.7956C660.008,-90.2671 647.855,-80.0585 636.549,-70.5614\"/>\n",
       "<polygon fill=\"black\" stroke=\"black\" points=\"638.786,-67.8692 628.877,-64.1172 634.283,-73.2291 638.786,-67.8692\"/>\n",
       "</g>\n",
       "<!-- 8 -->\n",
       "<g id=\"node9\" class=\"node\"><title>8</title>\n",
       "<path fill=\"#399de5\" fill-opacity=\"0.952941\" stroke=\"black\" d=\"M925.459,-64C925.459,-64 728.207,-64 728.207,-64 722.207,-64 716.207,-58 716.207,-52 716.207,-52 716.207,-12 716.207,-12 716.207,-6 722.207,-0 728.207,-0 728.207,-0 925.459,-0 925.459,-0 931.459,-0 937.459,-6 937.459,-12 937.459,-12 937.459,-52 937.459,-52 937.459,-58 931.459,-64 925.459,-64\"/>\n",
       "<text text-anchor=\"start\" x=\"786.549\" y=\"-48.8\" font-family=\"Helvetica,sans-Serif\" font-size=\"14.00\">gini = 0.0853</text>\n",
       "<text text-anchor=\"start\" x=\"773.325\" y=\"-34.8\" font-family=\"Helvetica,sans-Serif\" font-size=\"14.00\">samples = 14793</text>\n",
       "<text text-anchor=\"start\" x=\"724.27\" y=\"-20.8\" font-family=\"Helvetica,sans-Serif\" font-size=\"14.00\">value = [1241.8313, 26564.1258]</text>\n",
       "<text text-anchor=\"start\" x=\"792.018\" y=\"-6.8\" font-family=\"Helvetica,sans-Serif\" font-size=\"14.00\">class = PIF</text>\n",
       "</g>\n",
       "<!-- 6&#45;&gt;8 -->\n",
       "<g id=\"edge8\" class=\"edge\"><title>6&#45;&gt;8</title>\n",
       "<path fill=\"none\" stroke=\"black\" d=\"M756.857,-99.7956C766.647,-90.4503 777.123,-80.4509 786.908,-71.11\"/>\n",
       "<polygon fill=\"black\" stroke=\"black\" points=\"789.417,-73.5537 794.234,-64.1172 784.584,-68.4902 789.417,-73.5537\"/>\n",
       "</g>\n",
       "<!-- 10 -->\n",
       "<g id=\"node11\" class=\"node\"><title>10</title>\n",
       "<path fill=\"#e58139\" fill-opacity=\"0.901961\" stroke=\"black\" d=\"M1401.46,-178C1401.46,-178 1204.21,-178 1204.21,-178 1198.21,-178 1192.21,-172 1192.21,-166 1192.21,-166 1192.21,-112 1192.21,-112 1192.21,-106 1198.21,-100 1204.21,-100 1204.21,-100 1401.46,-100 1401.46,-100 1407.46,-100 1413.46,-106 1413.46,-112 1413.46,-112 1413.46,-166 1413.46,-166 1413.46,-172 1407.46,-178 1401.46,-178\"/>\n",
       "<text text-anchor=\"start\" x=\"1227.37\" y=\"-162.8\" font-family=\"Helvetica,sans-Serif\" font-size=\"14.00\">SP_to2016 ≤ 1457.8737</text>\n",
       "<text text-anchor=\"start\" x=\"1262.55\" y=\"-148.8\" font-family=\"Helvetica,sans-Serif\" font-size=\"14.00\">gini = 0.1624</text>\n",
       "<text text-anchor=\"start\" x=\"1249.32\" y=\"-134.8\" font-family=\"Helvetica,sans-Serif\" font-size=\"14.00\">samples = 52375</text>\n",
       "<text text-anchor=\"start\" x=\"1200.27\" y=\"-120.8\" font-family=\"Helvetica,sans-Serif\" font-size=\"14.00\">value = [33541.9944, 3283.2297]</text>\n",
       "<text text-anchor=\"start\" x=\"1264.91\" y=\"-106.8\" font-family=\"Helvetica,sans-Serif\" font-size=\"14.00\">class = DEF</text>\n",
       "</g>\n",
       "<!-- 9&#45;&gt;10 -->\n",
       "<g id=\"edge10\" class=\"edge\"><title>9&#45;&gt;10</title>\n",
       "<path fill=\"none\" stroke=\"black\" d=\"M1383.19,-213.769C1373.08,-204.488 1362.18,-194.481 1351.77,-184.923\"/>\n",
       "<polygon fill=\"black\" stroke=\"black\" points=\"1354.02,-182.243 1344.29,-178.058 1349.29,-187.4 1354.02,-182.243\"/>\n",
       "</g>\n",
       "<!-- 13 -->\n",
       "<g id=\"node14\" class=\"node\"><title>13</title>\n",
       "<path fill=\"#399de5\" fill-opacity=\"0.756863\" stroke=\"black\" d=\"M1647.71,-178C1647.71,-178 1443.95,-178 1443.95,-178 1437.95,-178 1431.95,-172 1431.95,-166 1431.95,-166 1431.95,-112 1431.95,-112 1431.95,-106 1437.95,-100 1443.95,-100 1443.95,-100 1647.71,-100 1647.71,-100 1653.71,-100 1659.71,-106 1659.71,-112 1659.71,-112 1659.71,-166 1659.71,-166 1659.71,-172 1653.71,-178 1647.71,-178\"/>\n",
       "<text text-anchor=\"start\" x=\"1480.13\" y=\"-162.8\" font-family=\"Helvetica,sans-Serif\" font-size=\"14.00\">TermInMonths ≤ 71.5</text>\n",
       "<text text-anchor=\"start\" x=\"1505.55\" y=\"-148.8\" font-family=\"Helvetica,sans-Serif\" font-size=\"14.00\">gini = 0.3158</text>\n",
       "<text text-anchor=\"start\" x=\"1492.32\" y=\"-134.8\" font-family=\"Helvetica,sans-Serif\" font-size=\"14.00\">samples = 38735</text>\n",
       "<text text-anchor=\"start\" x=\"1439.89\" y=\"-120.8\" font-family=\"Helvetica,sans-Serif\" font-size=\"14.00\">value = [11064.1881, 45226.6945]</text>\n",
       "<text text-anchor=\"start\" x=\"1511.02\" y=\"-106.8\" font-family=\"Helvetica,sans-Serif\" font-size=\"14.00\">class = PIF</text>\n",
       "</g>\n",
       "<!-- 9&#45;&gt;13 -->\n",
       "<g id=\"edge13\" class=\"edge\"><title>9&#45;&gt;13</title>\n",
       "<path fill=\"none\" stroke=\"black\" d=\"M1466.14,-213.769C1476.16,-204.488 1486.97,-194.481 1497.3,-184.923\"/>\n",
       "<polygon fill=\"black\" stroke=\"black\" points=\"1499.76,-187.42 1504.72,-178.058 1495,-182.283 1499.76,-187.42\"/>\n",
       "</g>\n",
       "<!-- 11 -->\n",
       "<g id=\"node12\" class=\"node\"><title>11</title>\n",
       "<path fill=\"#e58139\" fill-opacity=\"0.949020\" stroke=\"black\" d=\"M1164.46,-64C1164.46,-64 967.207,-64 967.207,-64 961.207,-64 955.207,-58 955.207,-52 955.207,-52 955.207,-12 955.207,-12 955.207,-6 961.207,-0 967.207,-0 967.207,-0 1164.46,-0 1164.46,-0 1170.46,-0 1176.46,-6 1176.46,-12 1176.46,-12 1176.46,-52 1176.46,-52 1176.46,-58 1170.46,-64 1164.46,-64\"/>\n",
       "<text text-anchor=\"start\" x=\"1025.55\" y=\"-48.8\" font-family=\"Helvetica,sans-Serif\" font-size=\"14.00\">gini = 0.0953</text>\n",
       "<text text-anchor=\"start\" x=\"1012.32\" y=\"-34.8\" font-family=\"Helvetica,sans-Serif\" font-size=\"14.00\">samples = 31316</text>\n",
       "<text text-anchor=\"start\" x=\"963.27\" y=\"-20.8\" font-family=\"Helvetica,sans-Serif\" font-size=\"14.00\">value = [20340.9318, 1073.8383]</text>\n",
       "<text text-anchor=\"start\" x=\"1027.91\" y=\"-6.8\" font-family=\"Helvetica,sans-Serif\" font-size=\"14.00\">class = DEF</text>\n",
       "</g>\n",
       "<!-- 10&#45;&gt;11 -->\n",
       "<g id=\"edge11\" class=\"edge\"><title>10&#45;&gt;11</title>\n",
       "<path fill=\"none\" stroke=\"black\" d=\"M1216.94,-99.9441C1193.53,-89.576 1168.29,-78.3928 1145.27,-68.1914\"/>\n",
       "<polygon fill=\"black\" stroke=\"black\" points=\"1146.45,-64.8862 1135.88,-64.0355 1143.61,-71.2862 1146.45,-64.8862\"/>\n",
       "</g>\n",
       "<!-- 12 -->\n",
       "<g id=\"node13\" class=\"node\"><title>12</title>\n",
       "<path fill=\"#e58139\" fill-opacity=\"0.831373\" stroke=\"black\" d=\"M1403.46,-64C1403.46,-64 1206.21,-64 1206.21,-64 1200.21,-64 1194.21,-58 1194.21,-52 1194.21,-52 1194.21,-12 1194.21,-12 1194.21,-6 1200.21,-0 1206.21,-0 1206.21,-0 1403.46,-0 1403.46,-0 1409.46,-0 1415.46,-6 1415.46,-12 1415.46,-12 1415.46,-52 1415.46,-52 1415.46,-58 1409.46,-64 1403.46,-64\"/>\n",
       "<text text-anchor=\"start\" x=\"1264.55\" y=\"-48.8\" font-family=\"Helvetica,sans-Serif\" font-size=\"14.00\">gini = 0.2456</text>\n",
       "<text text-anchor=\"start\" x=\"1251.32\" y=\"-34.8\" font-family=\"Helvetica,sans-Serif\" font-size=\"14.00\">samples = 21059</text>\n",
       "<text text-anchor=\"start\" x=\"1202.27\" y=\"-20.8\" font-family=\"Helvetica,sans-Serif\" font-size=\"14.00\">value = [13201.0626, 2209.3914]</text>\n",
       "<text text-anchor=\"start\" x=\"1266.91\" y=\"-6.8\" font-family=\"Helvetica,sans-Serif\" font-size=\"14.00\">class = DEF</text>\n",
       "</g>\n",
       "<!-- 10&#45;&gt;12 -->\n",
       "<g id=\"edge12\" class=\"edge\"><title>10&#45;&gt;12</title>\n",
       "<path fill=\"none\" stroke=\"black\" d=\"M1303.56,-99.7956C1303.72,-91.4581 1303.89,-82.6 1304.05,-74.1534\"/>\n",
       "<polygon fill=\"black\" stroke=\"black\" points=\"1307.55,-74.182 1304.24,-64.1172 1300.55,-74.0487 1307.55,-74.182\"/>\n",
       "</g>\n",
       "<!-- 14 -->\n",
       "<g id=\"node15\" class=\"node\"><title>14</title>\n",
       "<path fill=\"#399de5\" fill-opacity=\"0.858824\" stroke=\"black\" d=\"M1642.46,-64C1642.46,-64 1445.21,-64 1445.21,-64 1439.21,-64 1433.21,-58 1433.21,-52 1433.21,-52 1433.21,-12 1433.21,-12 1433.21,-6 1439.21,-0 1445.21,-0 1445.21,-0 1642.46,-0 1642.46,-0 1648.46,-0 1654.46,-6 1654.46,-12 1654.46,-12 1654.46,-52 1654.46,-52 1654.46,-58 1648.46,-64 1642.46,-64\"/>\n",
       "<text text-anchor=\"start\" x=\"1503.55\" y=\"-48.8\" font-family=\"Helvetica,sans-Serif\" font-size=\"14.00\">gini = 0.2151</text>\n",
       "<text text-anchor=\"start\" x=\"1490.32\" y=\"-34.8\" font-family=\"Helvetica,sans-Serif\" font-size=\"14.00\">samples = 21966</text>\n",
       "<text text-anchor=\"start\" x=\"1441.27\" y=\"-20.8\" font-family=\"Helvetica,sans-Serif\" font-size=\"14.00\">value = [4399.2533, 31486.9132]</text>\n",
       "<text text-anchor=\"start\" x=\"1509.02\" y=\"-6.8\" font-family=\"Helvetica,sans-Serif\" font-size=\"14.00\">class = PIF</text>\n",
       "</g>\n",
       "<!-- 13&#45;&gt;14 -->\n",
       "<g id=\"edge14\" class=\"edge\"><title>13&#45;&gt;14</title>\n",
       "<path fill=\"none\" stroke=\"black\" d=\"M1545.11,-99.7956C1544.95,-91.4581 1544.78,-82.6 1544.62,-74.1534\"/>\n",
       "<polygon fill=\"black\" stroke=\"black\" points=\"1548.12,-74.0487 1544.43,-64.1172 1541.12,-74.182 1548.12,-74.0487\"/>\n",
       "</g>\n",
       "<!-- 15 -->\n",
       "<g id=\"node16\" class=\"node\"><title>15</title>\n",
       "<path fill=\"#399de5\" fill-opacity=\"0.513725\" stroke=\"black\" d=\"M1881.46,-64C1881.46,-64 1684.21,-64 1684.21,-64 1678.21,-64 1672.21,-58 1672.21,-52 1672.21,-52 1672.21,-12 1672.21,-12 1672.21,-6 1678.21,-0 1684.21,-0 1684.21,-0 1881.46,-0 1881.46,-0 1887.46,-0 1893.46,-6 1893.46,-12 1893.46,-12 1893.46,-52 1893.46,-52 1893.46,-58 1887.46,-64 1881.46,-64\"/>\n",
       "<text text-anchor=\"start\" x=\"1742.55\" y=\"-48.8\" font-family=\"Helvetica,sans-Serif\" font-size=\"14.00\">gini = 0.4399</text>\n",
       "<text text-anchor=\"start\" x=\"1729.32\" y=\"-34.8\" font-family=\"Helvetica,sans-Serif\" font-size=\"14.00\">samples = 16769</text>\n",
       "<text text-anchor=\"start\" x=\"1680.27\" y=\"-20.8\" font-family=\"Helvetica,sans-Serif\" font-size=\"14.00\">value = [6664.9348, 13739.7813]</text>\n",
       "<text text-anchor=\"start\" x=\"1748.02\" y=\"-6.8\" font-family=\"Helvetica,sans-Serif\" font-size=\"14.00\">class = PIF</text>\n",
       "</g>\n",
       "<!-- 13&#45;&gt;15 -->\n",
       "<g id=\"edge15\" class=\"edge\"><title>13&#45;&gt;15</title>\n",
       "<path fill=\"none\" stroke=\"black\" d=\"M1631.73,-99.9441C1655.13,-89.576 1680.37,-78.3928 1703.4,-68.1914\"/>\n",
       "<polygon fill=\"black\" stroke=\"black\" points=\"1705.06,-71.2862 1712.78,-64.0355 1702.22,-64.8862 1705.06,-71.2862\"/>\n",
       "</g>\n",
       "<!-- 17 -->\n",
       "<g id=\"node18\" class=\"node\"><title>17</title>\n",
       "<path fill=\"#e58139\" fill-opacity=\"0.976471\" stroke=\"black\" d=\"M2421.46,-292C2421.46,-292 2224.21,-292 2224.21,-292 2218.21,-292 2212.21,-286 2212.21,-280 2212.21,-280 2212.21,-226 2212.21,-226 2212.21,-220 2218.21,-214 2224.21,-214 2224.21,-214 2421.46,-214 2421.46,-214 2427.46,-214 2433.46,-220 2433.46,-226 2433.46,-226 2433.46,-280 2433.46,-280 2433.46,-286 2427.46,-292 2421.46,-292\"/>\n",
       "<text text-anchor=\"start\" x=\"2257.13\" y=\"-276.8\" font-family=\"Helvetica,sans-Serif\" font-size=\"14.00\">TermInMonths ≤ 83.5</text>\n",
       "<text text-anchor=\"start\" x=\"2282.55\" y=\"-262.8\" font-family=\"Helvetica,sans-Serif\" font-size=\"14.00\">gini = 0.0481</text>\n",
       "<text text-anchor=\"start\" x=\"2265.43\" y=\"-248.8\" font-family=\"Helvetica,sans-Serif\" font-size=\"14.00\">samples = 148151</text>\n",
       "<text text-anchor=\"start\" x=\"2220.27\" y=\"-234.8\" font-family=\"Helvetica,sans-Serif\" font-size=\"14.00\">value = [97072.8926, 2454.1936]</text>\n",
       "<text text-anchor=\"start\" x=\"2284.91\" y=\"-220.8\" font-family=\"Helvetica,sans-Serif\" font-size=\"14.00\">class = DEF</text>\n",
       "</g>\n",
       "<!-- 16&#45;&gt;17 -->\n",
       "<g id=\"edge17\" class=\"edge\"><title>16&#45;&gt;17</title>\n",
       "<path fill=\"none\" stroke=\"black\" d=\"M2322.83,-327.769C2322.83,-319.57 2322.83,-310.803 2322.83,-302.28\"/>\n",
       "<polygon fill=\"black\" stroke=\"black\" points=\"2326.33,-302.058 2322.83,-292.058 2319.33,-302.059 2326.33,-302.058\"/>\n",
       "</g>\n",
       "<!-- 24 -->\n",
       "<g id=\"node25\" class=\"node\"><title>24</title>\n",
       "<path fill=\"#e58139\" fill-opacity=\"0.533333\" stroke=\"black\" d=\"M3095.25,-292C3095.25,-292 2890.42,-292 2890.42,-292 2884.42,-292 2878.42,-286 2878.42,-280 2878.42,-280 2878.42,-226 2878.42,-226 2878.42,-220 2884.42,-214 2890.42,-214 2890.42,-214 3095.25,-214 3095.25,-214 3101.25,-214 3107.25,-220 3107.25,-226 3107.25,-226 3107.25,-280 3107.25,-280 3107.25,-286 3101.25,-292 3095.25,-292\"/>\n",
       "<text text-anchor=\"start\" x=\"2923.75\" y=\"-276.8\" font-family=\"Helvetica,sans-Serif\" font-size=\"14.00\">TermInMonths ≤ 116.5</text>\n",
       "<text text-anchor=\"start\" x=\"2952.55\" y=\"-262.8\" font-family=\"Helvetica,sans-Serif\" font-size=\"14.00\">gini = 0.4338</text>\n",
       "<text text-anchor=\"start\" x=\"2939.32\" y=\"-248.8\" font-family=\"Helvetica,sans-Serif\" font-size=\"14.00\">samples = 91205</text>\n",
       "<text text-anchor=\"start\" x=\"2886.38\" y=\"-234.8\" font-family=\"Helvetica,sans-Serif\" font-size=\"14.00\">value = [52396.0314, 24445.2495]</text>\n",
       "<text text-anchor=\"start\" x=\"2954.91\" y=\"-220.8\" font-family=\"Helvetica,sans-Serif\" font-size=\"14.00\">class = DEF</text>\n",
       "</g>\n",
       "<!-- 16&#45;&gt;24 -->\n",
       "<g id=\"edge24\" class=\"edge\"><title>16&#45;&gt;24</title>\n",
       "<path fill=\"none\" stroke=\"black\" d=\"M2437.25,-346.874C2557.15,-326.83 2744.92,-295.442 2868.44,-274.794\"/>\n",
       "<polygon fill=\"black\" stroke=\"black\" points=\"2869.04,-278.242 2878.33,-273.141 2867.89,-271.338 2869.04,-278.242\"/>\n",
       "</g>\n",
       "<!-- 18 -->\n",
       "<g id=\"node19\" class=\"node\"><title>18</title>\n",
       "<path fill=\"#e58139\" fill-opacity=\"0.517647\" stroke=\"black\" d=\"M2280.39,-178C2280.39,-178 2099.28,-178 2099.28,-178 2093.28,-178 2087.28,-172 2087.28,-166 2087.28,-166 2087.28,-112 2087.28,-112 2087.28,-106 2093.28,-100 2099.28,-100 2099.28,-100 2280.39,-100 2280.39,-100 2286.39,-100 2292.39,-106 2292.39,-112 2292.39,-112 2292.39,-166 2292.39,-166 2292.39,-172 2286.39,-178 2280.39,-178\"/>\n",
       "<text text-anchor=\"start\" x=\"2124.91\" y=\"-162.8\" font-family=\"Helvetica,sans-Serif\" font-size=\"14.00\">RevolverStatus ≤ 0.5</text>\n",
       "<text text-anchor=\"start\" x=\"2149.55\" y=\"-148.8\" font-family=\"Helvetica,sans-Serif\" font-size=\"14.00\">gini = 0.4385</text>\n",
       "<text text-anchor=\"start\" x=\"2140.22\" y=\"-134.8\" font-family=\"Helvetica,sans-Serif\" font-size=\"14.00\">samples = 2962</text>\n",
       "<text text-anchor=\"start\" x=\"2095.06\" y=\"-120.8\" font-family=\"Helvetica,sans-Serif\" font-size=\"14.00\">value = [1694.9676, 814.6359]</text>\n",
       "<text text-anchor=\"start\" x=\"2151.91\" y=\"-106.8\" font-family=\"Helvetica,sans-Serif\" font-size=\"14.00\">class = DEF</text>\n",
       "</g>\n",
       "<!-- 17&#45;&gt;18 -->\n",
       "<g id=\"edge18\" class=\"edge\"><title>17&#45;&gt;18</title>\n",
       "<path fill=\"none\" stroke=\"black\" d=\"M2277.43,-213.769C2266.31,-204.398 2254.3,-194.287 2242.85,-184.644\"/>\n",
       "<polygon fill=\"black\" stroke=\"black\" points=\"2244.93,-181.823 2235.03,-178.058 2240.42,-187.177 2244.93,-181.823\"/>\n",
       "</g>\n",
       "<!-- 21 -->\n",
       "<g id=\"node22\" class=\"node\"><title>21</title>\n",
       "<path fill=\"#e58139\" fill-opacity=\"0.984314\" stroke=\"black\" d=\"M2588.99,-178C2588.99,-178 2322.67,-178 2322.67,-178 2316.67,-178 2310.67,-172 2310.67,-166 2310.67,-166 2310.67,-112 2310.67,-112 2310.67,-106 2316.67,-100 2322.67,-100 2322.67,-100 2588.99,-100 2588.99,-100 2594.99,-100 2600.99,-106 2600.99,-112 2600.99,-112 2600.99,-166 2600.99,-166 2600.99,-172 2594.99,-178 2588.99,-178\"/>\n",
       "<text text-anchor=\"start\" x=\"2318.5\" y=\"-162.8\" font-family=\"Helvetica,sans-Serif\" font-size=\"14.00\">SBAGuaranteedApprovalAdj ≤ 209551.3125</text>\n",
       "<text text-anchor=\"start\" x=\"2415.55\" y=\"-148.8\" font-family=\"Helvetica,sans-Serif\" font-size=\"14.00\">gini = 0.0332</text>\n",
       "<text text-anchor=\"start\" x=\"2398.43\" y=\"-134.8\" font-family=\"Helvetica,sans-Serif\" font-size=\"14.00\">samples = 145189</text>\n",
       "<text text-anchor=\"start\" x=\"2357.16\" y=\"-120.8\" font-family=\"Helvetica,sans-Serif\" font-size=\"14.00\">value = [95377.925, 1639.5577]</text>\n",
       "<text text-anchor=\"start\" x=\"2417.91\" y=\"-106.8\" font-family=\"Helvetica,sans-Serif\" font-size=\"14.00\">class = DEF</text>\n",
       "</g>\n",
       "<!-- 17&#45;&gt;21 -->\n",
       "<g id=\"edge21\" class=\"edge\"><title>17&#45;&gt;21</title>\n",
       "<path fill=\"none\" stroke=\"black\" d=\"M2368.23,-213.769C2379.36,-204.398 2391.37,-194.287 2402.82,-184.644\"/>\n",
       "<polygon fill=\"black\" stroke=\"black\" points=\"2405.24,-187.177 2410.64,-178.058 2400.73,-181.823 2405.24,-187.177\"/>\n",
       "</g>\n",
       "<!-- 19 -->\n",
       "<g id=\"node20\" class=\"node\"><title>19</title>\n",
       "<path fill=\"#399de5\" fill-opacity=\"0.298039\" stroke=\"black\" d=\"M2082.03,-64C2082.03,-64 1923.64,-64 1923.64,-64 1917.64,-64 1911.64,-58 1911.64,-52 1911.64,-52 1911.64,-12 1911.64,-12 1911.64,-6 1917.64,-0 1923.64,-0 1923.64,-0 2082.03,-0 2082.03,-0 2088.03,-0 2094.03,-6 2094.03,-12 2094.03,-12 2094.03,-52 2094.03,-52 2094.03,-58 2088.03,-64 2082.03,-64\"/>\n",
       "<text text-anchor=\"start\" x=\"1962.55\" y=\"-48.8\" font-family=\"Helvetica,sans-Serif\" font-size=\"14.00\">gini = 0.4847</text>\n",
       "<text text-anchor=\"start\" x=\"1953.22\" y=\"-34.8\" font-family=\"Helvetica,sans-Serif\" font-size=\"14.00\">samples = 1224</text>\n",
       "<text text-anchor=\"start\" x=\"1919.74\" y=\"-20.8\" font-family=\"Helvetica,sans-Serif\" font-size=\"14.00\">value = [554.8608, 789.95]</text>\n",
       "<text text-anchor=\"start\" x=\"1968.02\" y=\"-6.8\" font-family=\"Helvetica,sans-Serif\" font-size=\"14.00\">class = PIF</text>\n",
       "</g>\n",
       "<!-- 18&#45;&gt;19 -->\n",
       "<g id=\"edge19\" class=\"edge\"><title>18&#45;&gt;19</title>\n",
       "<path fill=\"none\" stroke=\"black\" d=\"M2122.06,-99.9441C2104.17,-89.8985 2084.91,-79.0879 2067.21,-69.1464\"/>\n",
       "<polygon fill=\"black\" stroke=\"black\" points=\"2068.54,-65.8797 2058.11,-64.0355 2065.11,-71.9833 2068.54,-65.8797\"/>\n",
       "</g>\n",
       "<!-- 20 -->\n",
       "<g id=\"node21\" class=\"node\"><title>20</title>\n",
       "<path fill=\"#e58139\" fill-opacity=\"0.976471\" stroke=\"black\" d=\"M2296.07,-64C2296.07,-64 2123.6,-64 2123.6,-64 2117.6,-64 2111.6,-58 2111.6,-52 2111.6,-52 2111.6,-12 2111.6,-12 2111.6,-6 2117.6,-0 2123.6,-0 2123.6,-0 2296.07,-0 2296.07,-0 2302.07,-0 2308.07,-6 2308.07,-12 2308.07,-12 2308.07,-52 2308.07,-52 2308.07,-58 2302.07,-64 2296.07,-64\"/>\n",
       "<text text-anchor=\"start\" x=\"2169.55\" y=\"-48.8\" font-family=\"Helvetica,sans-Serif\" font-size=\"14.00\">gini = 0.0415</text>\n",
       "<text text-anchor=\"start\" x=\"2160.22\" y=\"-34.8\" font-family=\"Helvetica,sans-Serif\" font-size=\"14.00\">samples = 1738</text>\n",
       "<text text-anchor=\"start\" x=\"2119.47\" y=\"-20.8\" font-family=\"Helvetica,sans-Serif\" font-size=\"14.00\">value = [1140.1068, 24.6859]</text>\n",
       "<text text-anchor=\"start\" x=\"2171.91\" y=\"-6.8\" font-family=\"Helvetica,sans-Serif\" font-size=\"14.00\">class = DEF</text>\n",
       "</g>\n",
       "<!-- 18&#45;&gt;20 -->\n",
       "<g id=\"edge20\" class=\"edge\"><title>18&#45;&gt;20</title>\n",
       "<path fill=\"none\" stroke=\"black\" d=\"M2197.11,-99.7956C2198.7,-91.4581 2200.39,-82.6 2201.99,-74.1534\"/>\n",
       "<polygon fill=\"black\" stroke=\"black\" points=\"2205.47,-74.5955 2203.91,-64.1172 2198.6,-73.2856 2205.47,-74.5955\"/>\n",
       "</g>\n",
       "<!-- 22 -->\n",
       "<g id=\"node23\" class=\"node\"><title>22</title>\n",
       "<path fill=\"#e58139\" fill-opacity=\"0.984314\" stroke=\"black\" d=\"M2535.46,-64C2535.46,-64 2338.21,-64 2338.21,-64 2332.21,-64 2326.21,-58 2326.21,-52 2326.21,-52 2326.21,-12 2326.21,-12 2326.21,-6 2332.21,-0 2338.21,-0 2338.21,-0 2535.46,-0 2535.46,-0 2541.46,-0 2547.46,-6 2547.46,-12 2547.46,-12 2547.46,-52 2547.46,-52 2547.46,-58 2541.46,-64 2535.46,-64\"/>\n",
       "<text text-anchor=\"start\" x=\"2400.44\" y=\"-48.8\" font-family=\"Helvetica,sans-Serif\" font-size=\"14.00\">gini = 0.028</text>\n",
       "<text text-anchor=\"start\" x=\"2379.43\" y=\"-34.8\" font-family=\"Helvetica,sans-Serif\" font-size=\"14.00\">samples = 135876</text>\n",
       "<text text-anchor=\"start\" x=\"2334.27\" y=\"-20.8\" font-family=\"Helvetica,sans-Serif\" font-size=\"14.00\">value = [89339.1902, 1287.7831]</text>\n",
       "<text text-anchor=\"start\" x=\"2398.91\" y=\"-6.8\" font-family=\"Helvetica,sans-Serif\" font-size=\"14.00\">class = DEF</text>\n",
       "</g>\n",
       "<!-- 21&#45;&gt;22 -->\n",
       "<g id=\"edge22\" class=\"edge\"><title>21&#45;&gt;22</title>\n",
       "<path fill=\"none\" stroke=\"black\" d=\"M2448.92,-99.7956C2447.41,-91.4581 2445.81,-82.6 2444.28,-74.1534\"/>\n",
       "<polygon fill=\"black\" stroke=\"black\" points=\"2447.69,-73.3341 2442.46,-64.1172 2440.8,-74.5806 2447.69,-73.3341\"/>\n",
       "</g>\n",
       "<!-- 23 -->\n",
       "<g id=\"node24\" class=\"node\"><title>23</title>\n",
       "<path fill=\"#e58139\" fill-opacity=\"0.941176\" stroke=\"black\" d=\"M2758.39,-64C2758.39,-64 2577.28,-64 2577.28,-64 2571.28,-64 2565.28,-58 2565.28,-52 2565.28,-52 2565.28,-12 2565.28,-12 2565.28,-6 2571.28,-0 2577.28,-0 2577.28,-0 2758.39,-0 2758.39,-0 2764.39,-0 2770.39,-6 2770.39,-12 2770.39,-12 2770.39,-52 2770.39,-52 2770.39,-58 2764.39,-64 2758.39,-64\"/>\n",
       "<text text-anchor=\"start\" x=\"2631.44\" y=\"-48.8\" font-family=\"Helvetica,sans-Serif\" font-size=\"14.00\">gini = 0.104</text>\n",
       "<text text-anchor=\"start\" x=\"2618.22\" y=\"-34.8\" font-family=\"Helvetica,sans-Serif\" font-size=\"14.00\">samples = 9313</text>\n",
       "<text text-anchor=\"start\" x=\"2573.06\" y=\"-20.8\" font-family=\"Helvetica,sans-Serif\" font-size=\"14.00\">value = [6038.7348, 351.7746]</text>\n",
       "<text text-anchor=\"start\" x=\"2629.91\" y=\"-6.8\" font-family=\"Helvetica,sans-Serif\" font-size=\"14.00\">class = DEF</text>\n",
       "</g>\n",
       "<!-- 21&#45;&gt;23 -->\n",
       "<g id=\"edge23\" class=\"edge\"><title>21&#45;&gt;23</title>\n",
       "<path fill=\"none\" stroke=\"black\" d=\"M2532.67,-99.9441C2553.32,-89.7142 2575.58,-78.6909 2595.95,-68.6\"/>\n",
       "<polygon fill=\"black\" stroke=\"black\" points=\"2597.76,-71.6102 2605.17,-64.0355 2594.66,-65.3374 2597.76,-71.6102\"/>\n",
       "</g>\n",
       "<!-- 25 -->\n",
       "<g id=\"node26\" class=\"node\"><title>25</title>\n",
       "<path fill=\"#399de5\" fill-opacity=\"0.349020\" stroke=\"black\" d=\"M3122.21,-178C3122.21,-178 2863.46,-178 2863.46,-178 2857.46,-178 2851.46,-172 2851.46,-166 2851.46,-166 2851.46,-112 2851.46,-112 2851.46,-106 2857.46,-100 2863.46,-100 2863.46,-100 3122.21,-100 3122.21,-100 3128.21,-100 3134.21,-106 3134.21,-112 3134.21,-112 3134.21,-166 3134.21,-166 3134.21,-172 3128.21,-178 3122.21,-178\"/>\n",
       "<text text-anchor=\"start\" x=\"2859.4\" y=\"-162.8\" font-family=\"Helvetica,sans-Serif\" font-size=\"14.00\">SBAGuaranteedApprovalAdj ≤ 173531.875</text>\n",
       "<text text-anchor=\"start\" x=\"2952.55\" y=\"-148.8\" font-family=\"Helvetica,sans-Serif\" font-size=\"14.00\">gini = 0.4775</text>\n",
       "<text text-anchor=\"start\" x=\"2939.32\" y=\"-134.8\" font-family=\"Helvetica,sans-Serif\" font-size=\"14.00\">samples = 27852</text>\n",
       "<text text-anchor=\"start\" x=\"2886.38\" y=\"-120.8\" font-family=\"Helvetica,sans-Serif\" font-size=\"14.00\">value = [12315.9276, 18940.2855]</text>\n",
       "<text text-anchor=\"start\" x=\"2958.02\" y=\"-106.8\" font-family=\"Helvetica,sans-Serif\" font-size=\"14.00\">class = PIF</text>\n",
       "</g>\n",
       "<!-- 24&#45;&gt;25 -->\n",
       "<g id=\"edge25\" class=\"edge\"><title>24&#45;&gt;25</title>\n",
       "<path fill=\"none\" stroke=\"black\" d=\"M2992.83,-213.769C2992.83,-205.57 2992.83,-196.803 2992.83,-188.28\"/>\n",
       "<polygon fill=\"black\" stroke=\"black\" points=\"2996.33,-188.058 2992.83,-178.058 2989.33,-188.059 2996.33,-188.058\"/>\n",
       "</g>\n",
       "<!-- 28 -->\n",
       "<g id=\"node29\" class=\"node\"><title>28</title>\n",
       "<path fill=\"#e58139\" fill-opacity=\"0.862745\" stroke=\"black\" d=\"M3451.67,-178C3451.67,-178 3261.99,-178 3261.99,-178 3255.99,-178 3249.99,-172 3249.99,-166 3249.99,-166 3249.99,-112 3249.99,-112 3249.99,-106 3255.99,-100 3261.99,-100 3261.99,-100 3451.67,-100 3451.67,-100 3457.67,-100 3463.67,-106 3463.67,-112 3463.67,-112 3463.67,-166 3463.67,-166 3463.67,-172 3457.67,-178 3451.67,-178\"/>\n",
       "<text text-anchor=\"start\" x=\"3287.24\" y=\"-162.8\" font-family=\"Helvetica,sans-Serif\" font-size=\"14.00\">TermInMonths ≤ 120.5</text>\n",
       "<text text-anchor=\"start\" x=\"3316.55\" y=\"-148.8\" font-family=\"Helvetica,sans-Serif\" font-size=\"14.00\">gini = 0.2124</text>\n",
       "<text text-anchor=\"start\" x=\"3303.32\" y=\"-134.8\" font-family=\"Helvetica,sans-Serif\" font-size=\"14.00\">samples = 63353</text>\n",
       "<text text-anchor=\"start\" x=\"3258.16\" y=\"-120.8\" font-family=\"Helvetica,sans-Serif\" font-size=\"14.00\">value = [40080.1039, 5504.964]</text>\n",
       "<text text-anchor=\"start\" x=\"3318.91\" y=\"-106.8\" font-family=\"Helvetica,sans-Serif\" font-size=\"14.00\">class = DEF</text>\n",
       "</g>\n",
       "<!-- 24&#45;&gt;28 -->\n",
       "<g id=\"edge28\" class=\"edge\"><title>24&#45;&gt;28</title>\n",
       "<path fill=\"none\" stroke=\"black\" d=\"M3107.51,-216.716C3149.75,-203.718 3197.62,-188.987 3240.05,-175.933\"/>\n",
       "<polygon fill=\"black\" stroke=\"black\" points=\"3241.33,-179.201 3249.86,-172.915 3239.27,-172.51 3241.33,-179.201\"/>\n",
       "</g>\n",
       "<!-- 26 -->\n",
       "<g id=\"node27\" class=\"node\"><title>26</title>\n",
       "<path fill=\"#399de5\" fill-opacity=\"0.027451\" stroke=\"black\" d=\"M2989.67,-64C2989.67,-64 2799.99,-64 2799.99,-64 2793.99,-64 2787.99,-58 2787.99,-52 2787.99,-52 2787.99,-12 2787.99,-12 2787.99,-6 2793.99,-0 2799.99,-0 2799.99,-0 2989.67,-0 2989.67,-0 2995.67,-0 3001.67,-6 3001.67,-12 3001.67,-12 3001.67,-52 3001.67,-52 3001.67,-58 2995.67,-64 2989.67,-64\"/>\n",
       "<text text-anchor=\"start\" x=\"2854.55\" y=\"-48.8\" font-family=\"Helvetica,sans-Serif\" font-size=\"14.00\">gini = 0.4999</text>\n",
       "<text text-anchor=\"start\" x=\"2841.32\" y=\"-34.8\" font-family=\"Helvetica,sans-Serif\" font-size=\"14.00\">samples = 17499</text>\n",
       "<text text-anchor=\"start\" x=\"2796.16\" y=\"-20.8\" font-family=\"Helvetica,sans-Serif\" font-size=\"14.00\">value = [8687.5344, 8942.4808]</text>\n",
       "<text text-anchor=\"start\" x=\"2860.02\" y=\"-6.8\" font-family=\"Helvetica,sans-Serif\" font-size=\"14.00\">class = PIF</text>\n",
       "</g>\n",
       "<!-- 25&#45;&gt;26 -->\n",
       "<g id=\"edge26\" class=\"edge\"><title>25&#45;&gt;26</title>\n",
       "<path fill=\"none\" stroke=\"black\" d=\"M2957.18,-99.7956C2948.62,-90.6335 2939.49,-80.8428 2930.92,-71.6603\"/>\n",
       "<polygon fill=\"black\" stroke=\"black\" points=\"2933.26,-69.0396 2923.88,-64.1172 2928.14,-73.8159 2933.26,-69.0396\"/>\n",
       "</g>\n",
       "<!-- 27 -->\n",
       "<g id=\"node28\" class=\"node\"><title>27</title>\n",
       "<path fill=\"#399de5\" fill-opacity=\"0.635294\" stroke=\"black\" d=\"M3220.67,-64C3220.67,-64 3030.99,-64 3030.99,-64 3024.99,-64 3018.99,-58 3018.99,-52 3018.99,-52 3018.99,-12 3018.99,-12 3018.99,-6 3024.99,-0 3030.99,-0 3030.99,-0 3220.67,-0 3220.67,-0 3226.67,-0 3232.67,-6 3232.67,-12 3232.67,-12 3232.67,-52 3232.67,-52 3232.67,-58 3226.67,-64 3220.67,-64\"/>\n",
       "<text text-anchor=\"start\" x=\"3085.55\" y=\"-48.8\" font-family=\"Helvetica,sans-Serif\" font-size=\"14.00\">gini = 0.3908</text>\n",
       "<text text-anchor=\"start\" x=\"3072.32\" y=\"-34.8\" font-family=\"Helvetica,sans-Serif\" font-size=\"14.00\">samples = 10353</text>\n",
       "<text text-anchor=\"start\" x=\"3027.16\" y=\"-20.8\" font-family=\"Helvetica,sans-Serif\" font-size=\"14.00\">value = [3628.3931, 9997.8047]</text>\n",
       "<text text-anchor=\"start\" x=\"3091.02\" y=\"-6.8\" font-family=\"Helvetica,sans-Serif\" font-size=\"14.00\">class = PIF</text>\n",
       "</g>\n",
       "<!-- 25&#45;&gt;27 -->\n",
       "<g id=\"edge27\" class=\"edge\"><title>25&#45;&gt;27</title>\n",
       "<path fill=\"none\" stroke=\"black\" d=\"M3041.23,-99.7956C3053.29,-90.2671 3066.23,-80.0585 3078.26,-70.5614\"/>\n",
       "<polygon fill=\"black\" stroke=\"black\" points=\"3080.74,-73.0607 3086.42,-64.1172 3076.4,-67.5666 3080.74,-73.0607\"/>\n",
       "</g>\n",
       "<!-- 29 -->\n",
       "<g id=\"node30\" class=\"node\"><title>29</title>\n",
       "<path fill=\"#e58139\" fill-opacity=\"0.976471\" stroke=\"black\" d=\"M3451.67,-64C3451.67,-64 3261.99,-64 3261.99,-64 3255.99,-64 3249.99,-58 3249.99,-52 3249.99,-52 3249.99,-12 3249.99,-12 3249.99,-6 3255.99,-0 3261.99,-0 3261.99,-0 3451.67,-0 3451.67,-0 3457.67,-0 3463.67,-6 3463.67,-12 3463.67,-12 3463.67,-52 3463.67,-52 3463.67,-58 3457.67,-64 3451.67,-64\"/>\n",
       "<text text-anchor=\"start\" x=\"3316.55\" y=\"-48.8\" font-family=\"Helvetica,sans-Serif\" font-size=\"14.00\">gini = 0.0483</text>\n",
       "<text text-anchor=\"start\" x=\"3303.32\" y=\"-34.8\" font-family=\"Helvetica,sans-Serif\" font-size=\"14.00\">samples = 37490</text>\n",
       "<text text-anchor=\"start\" x=\"3258.16\" y=\"-20.8\" font-family=\"Helvetica,sans-Serif\" font-size=\"14.00\">value = [24563.8186, 623.3199]</text>\n",
       "<text text-anchor=\"start\" x=\"3318.91\" y=\"-6.8\" font-family=\"Helvetica,sans-Serif\" font-size=\"14.00\">class = DEF</text>\n",
       "</g>\n",
       "<!-- 28&#45;&gt;29 -->\n",
       "<g id=\"edge29\" class=\"edge\"><title>28&#45;&gt;29</title>\n",
       "<path fill=\"none\" stroke=\"black\" d=\"M3356.83,-99.7956C3356.83,-91.4581 3356.83,-82.6 3356.83,-74.1534\"/>\n",
       "<polygon fill=\"black\" stroke=\"black\" points=\"3360.33,-74.1171 3356.83,-64.1172 3353.33,-74.1172 3360.33,-74.1171\"/>\n",
       "</g>\n",
       "<!-- 30 -->\n",
       "<g id=\"node31\" class=\"node\"><title>30</title>\n",
       "<path fill=\"#e58139\" fill-opacity=\"0.686275\" stroke=\"black\" d=\"M3690.46,-64C3690.46,-64 3493.21,-64 3493.21,-64 3487.21,-64 3481.21,-58 3481.21,-52 3481.21,-52 3481.21,-12 3481.21,-12 3481.21,-6 3487.21,-0 3493.21,-0 3493.21,-0 3690.46,-0 3690.46,-0 3696.46,-0 3702.46,-6 3702.46,-12 3702.46,-12 3702.46,-52 3702.46,-52 3702.46,-58 3696.46,-64 3690.46,-64\"/>\n",
       "<text text-anchor=\"start\" x=\"3551.55\" y=\"-48.8\" font-family=\"Helvetica,sans-Serif\" font-size=\"14.00\">gini = 0.3641</text>\n",
       "<text text-anchor=\"start\" x=\"3538.32\" y=\"-34.8\" font-family=\"Helvetica,sans-Serif\" font-size=\"14.00\">samples = 25863</text>\n",
       "<text text-anchor=\"start\" x=\"3489.27\" y=\"-20.8\" font-family=\"Helvetica,sans-Serif\" font-size=\"14.00\">value = [15516.2852, 4881.6441]</text>\n",
       "<text text-anchor=\"start\" x=\"3553.91\" y=\"-6.8\" font-family=\"Helvetica,sans-Serif\" font-size=\"14.00\">class = DEF</text>\n",
       "</g>\n",
       "<!-- 28&#45;&gt;30 -->\n",
       "<g id=\"edge30\" class=\"edge\"><title>28&#45;&gt;30</title>\n",
       "<path fill=\"none\" stroke=\"black\" d=\"M3442.01,-99.9441C3465.21,-89.576 3490.24,-78.3928 3513.07,-68.1914\"/>\n",
       "<polygon fill=\"black\" stroke=\"black\" points=\"3514.67,-71.3105 3522.37,-64.0355 3511.81,-64.9194 3514.67,-71.3105\"/>\n",
       "</g>\n",
       "</g>\n",
       "</svg>\n"
      ],
      "text/plain": [
       "<graphviz.files.Source at 0x114f7d6d8>"
      ]
     },
     "execution_count": 17,
     "metadata": {},
     "output_type": "execute_result"
    }
   ],
   "source": [
    "# Visualize the tree\n",
    "dot_data = tree.export_graphviz(dtree, out_file = None, \n",
    "                         feature_names = X_train.columns,  \n",
    "                         class_names = ['DEF', 'PIF'],  \n",
    "                         filled = True, rounded = True,  \n",
    "                         special_characters = True)  \n",
    "graph = graphviz.Source(dot_data)  \n",
    "graph.render(\"dec_tree_simple\") \n",
    "graph\n"
   ]
  },
  {
   "cell_type": "markdown",
   "metadata": {},
   "source": [
    "From the tree, it looks like the most important features are:\n",
    "    * Term in Months (most decisions/splits are made based on this feature, and it looks like loans < 83 months are more likely to default)\n",
    "    * S&P 1500 Index\n",
    "    * Guaranteed Amount\n",
    "    \n",
    "Let's examine Term in Months in more detail. \n",
    "    "
   ]
  },
  {
   "cell_type": "code",
   "execution_count": 18,
   "metadata": {
    "collapsed": false
   },
   "outputs": [
    {
     "data": {
      "text/plain": [
       "<matplotlib.figure.Figure at 0x11b837748>"
      ]
     },
     "metadata": {},
     "output_type": "display_data"
    },
    {
     "data": {
      "image/png": "[encoded data removed]",
      "text/plain": [
       "<matplotlib.figure.Figure at 0x11b837588>"
      ]
     },
     "metadata": {},
     "output_type": "display_data"
    }
   ],
   "source": [
    "# Term in months seems to be the most important from the Decision Tree\n",
    "fig = plt.figure(figsize = (5,3), facecolor = 'gainsboro')\n",
    "sns.set_context('poster', font_scale = 1.2)\n",
    "\n",
    "\n",
    "g = sns.factorplot(x = 'PIF', y = 'TermInMonths',\n",
    "                   kind = 'bar', data = data, estimator = np.mean, palette = 'Set1' )\n",
    "\n",
    "g.set_xticklabels(['Defaulted', 'Repaid'])\n",
    "sns.plt.xlabel('')\n",
    "sns.plt.title('7A Matured Loans')\n",
    "sns.plt.ylabel('Mean Term in Months')\n",
    "g.savefig('Term.png', dpi = 300)"
   ]
  },
  {
   "cell_type": "markdown",
   "metadata": {},
   "source": [
    "It looks like paid in full loans have, on average, longer duration! "
   ]
  },
  {
   "cell_type": "markdown",
   "metadata": {},
   "source": [
    "<a id=\"cell3\"></a>\n",
    "## 3. Random Forest\n",
    "\n",
    "To improve the performance further, we will use a random forest classifier: random forests are an ensemble learning method  that operates by constructing a multitude of decision trees at training time and outputting the class that is the mode of the classes output by individual trees, or, in Scikit Learn implementation, average of probabilistic outputs of all trees. "
   ]
  },
  {
   "cell_type": "code",
   "execution_count": 19,
   "metadata": {
    "collapsed": false
   },
   "outputs": [
    {
     "name": "stdout",
     "output_type": "stream",
     "text": [
      "             precision    recall  f1-score   support\n",
      "\n",
      "          0       0.93      0.95      0.94    147664\n",
      "          1       0.83      0.77      0.80     47415\n",
      "\n",
      "avg / total       0.91      0.91      0.91    195079\n",
      "\n"
     ]
    }
   ],
   "source": [
    "# Train and test a Random Forest classifier with default hyperparamters first (use 300 estimators to start with)\n",
    "df_rf_n300 = RandomForestClassifier(n_estimators = 300, class_weight = 'balanced', n_jobs=-1)\n",
    "# Fit/train the model\n",
    "df_rf_n300.fit(X_train, y_train)\n",
    "# Test the model: make predictions on the test set\n",
    "df_rf_n300_pred = df_rf_n300.predict(X_test)\n",
    "print(classification_report(y_test, df_rf_n300_pred))"
   ]
  },
  {
   "cell_type": "markdown",
   "metadata": {},
   "source": [
    "This is much better compared to both logistic regression and single simple decision tree above. Let's tune the hyperparamters next. We will again use **10-fold cross validation with stratified splits** on the training data, pick the optimal parameters, and then apply the selected model to test data. \n",
    "\n",
    "We would will to look at a range of following hyperparameters:\n",
    "        1. n_estimators - the number of trees\n",
    "        2. max_features - the maximum number of features Random Forest is allowed to try in individual tree\n",
    "        3. min_samples_leaf -  leaf is the end node of a decision tree - a smaller leaf makes the model more prone to capturing noise in training data\n",
    "        \n",
    "We will optimize for **f1 score** to acount for both precision and recall of Defaults. \n",
    "\n",
    "Due to high computational demands of grid search, we will first check if we can reduce the number of estimators, without affecting the performance. (the optimal way to do this would be to use a range of n_estimators in all possible combinations with other parameters we want to tune)"
   ]
  },
  {
   "cell_type": "code",
   "execution_count": 20,
   "metadata": {
    "collapsed": false
   },
   "outputs": [
    {
     "name": "stdout",
     "output_type": "stream",
     "text": [
      "             precision    recall  f1-score   support\n",
      "\n",
      "          0       0.93      0.95      0.94    147664\n",
      "          1       0.83      0.76      0.79     47415\n",
      "\n",
      "avg / total       0.90      0.90      0.90    195079\n",
      "\n"
     ]
    }
   ],
   "source": [
    "# Train and test a Random Forest classifier with default hyperparamters first - use 100 estimators \n",
    "df_rf_n100 = RandomForestClassifier(n_estimators = 100, class_weight = 'balanced', n_jobs=-1)\n",
    "# Fit/train the model\n",
    "df_rf_n100.fit(X_train, y_train)\n",
    "# Test the model: make predictions on the test set\n",
    "df_rf_n100_pred = df_rf_n100.predict(X_test)\n",
    "print(classification_report(y_test, df_rf_n100_pred))"
   ]
  },
  {
   "cell_type": "markdown",
   "metadata": {},
   "source": [
    "A random forest with 100 estimators achieves the same precision and recall as when using 300 estimators, so let's use at most 100 estimators. "
   ]
  },
  {
   "cell_type": "code",
   "execution_count": 21,
   "metadata": {
    "collapsed": true
   },
   "outputs": [],
   "source": [
    "# GridSearch for RF\n",
    "param_grid = {'max_features': [0.2, 'auto', 'log2'], \n",
    "              'n_estimators': [50, 100], 'min_samples_leaf': [1, 5, 10, 50, 100]}\n",
    "grid_rf = GridSearchCV(RandomForestClassifier(class_weight = 'balanced', n_jobs = 4),\n",
    "                param_grid, cv = 10, refit = True, verbose = 3, scoring = 'f1')\n"
   ]
  },
  {
   "cell_type": "code",
   "execution_count": 22,
   "metadata": {
    "collapsed": false
   },
   "outputs": [
    {
     "name": "stdout",
     "output_type": "stream",
     "text": [
      "Fitting 10 folds for each of 30 candidates, totalling 300 fits\n",
      "[CV] max_features=0.2, min_samples_leaf=1, n_estimators=50 ...........\n",
      "[CV]  max_features=0.2, min_samples_leaf=1, n_estimators=50, score=0.819527, total=  32.1s\n",
      "[CV] max_features=0.2, min_samples_leaf=1, n_estimators=50 ...........\n"
     ]
    },
    {
     "name": "stderr",
     "output_type": "stream",
     "text": [
      "[Parallel(n_jobs=1)]: Done   1 out of   1 | elapsed:   36.0s remaining:    0.0s\n"
     ]
    },
    {
     "name": "stdout",
     "output_type": "stream",
     "text": [
      "[CV]  max_features=0.2, min_samples_leaf=1, n_estimators=50, score=0.824500, total=  32.5s\n",
      "[CV] max_features=0.2, min_samples_leaf=1, n_estimators=50 ...........\n"
     ]
    },
    {
     "name": "stderr",
     "output_type": "stream",
     "text": [
      "[Parallel(n_jobs=1)]: Done   2 out of   2 | elapsed:  1.2min remaining:    0.0s\n"
     ]
    },
    {
     "name": "stdout",
     "output_type": "stream",
     "text": [
      "[CV]  max_features=0.2, min_samples_leaf=1, n_estimators=50, score=0.821089, total=  32.3s\n",
      "[CV] max_features=0.2, min_samples_leaf=1, n_estimators=50 ...........\n",
      "[CV]  max_features=0.2, min_samples_leaf=1, n_estimators=50, score=0.824209, total=  31.9s\n",
      "[CV] max_features=0.2, min_samples_leaf=1, n_estimators=50 ...........\n",
      "[CV]  max_features=0.2, min_samples_leaf=1, n_estimators=50, score=0.825624, total=  32.2s\n",
      "[CV] max_features=0.2, min_samples_leaf=1, n_estimators=50 ...........\n",
      "[CV]  max_features=0.2, min_samples_leaf=1, n_estimators=50, score=0.820174, total=  32.2s\n",
      "[CV] max_features=0.2, min_samples_leaf=1, n_estimators=50 ...........\n",
      "[CV]  max_features=0.2, min_samples_leaf=1, n_estimators=50, score=0.819891, total=  32.0s\n",
      "[CV] max_features=0.2, min_samples_leaf=1, n_estimators=50 ...........\n",
      "[CV]  max_features=0.2, min_samples_leaf=1, n_estimators=50, score=0.818649, total=  31.7s\n",
      "[CV] max_features=0.2, min_samples_leaf=1, n_estimators=50 ...........\n",
      "[CV]  max_features=0.2, min_samples_leaf=1, n_estimators=50, score=0.824519, total=  31.2s\n",
      "[CV] max_features=0.2, min_samples_leaf=1, n_estimators=50 ...........\n",
      "[CV]  max_features=0.2, min_samples_leaf=1, n_estimators=50, score=0.829354, total=  31.2s\n",
      "[CV] max_features=0.2, min_samples_leaf=1, n_estimators=100 ..........\n",
      "[CV]  max_features=0.2, min_samples_leaf=1, n_estimators=100, score=0.823320, total= 1.0min\n",
      "[CV] max_features=0.2, min_samples_leaf=1, n_estimators=100 ..........\n",
      "[CV]  max_features=0.2, min_samples_leaf=1, n_estimators=100, score=0.826448, total= 1.0min\n",
      "[CV] max_features=0.2, min_samples_leaf=1, n_estimators=100 ..........\n",
      "[CV]  max_features=0.2, min_samples_leaf=1, n_estimators=100, score=0.825178, total= 1.0min\n",
      "[CV] max_features=0.2, min_samples_leaf=1, n_estimators=100 ..........\n",
      "[CV]  max_features=0.2, min_samples_leaf=1, n_estimators=100, score=0.825556, total= 1.0min\n",
      "[CV] max_features=0.2, min_samples_leaf=1, n_estimators=100 ..........\n",
      "[CV]  max_features=0.2, min_samples_leaf=1, n_estimators=100, score=0.828164, total= 1.0min\n",
      "[CV] max_features=0.2, min_samples_leaf=1, n_estimators=100 ..........\n",
      "[CV]  max_features=0.2, min_samples_leaf=1, n_estimators=100, score=0.824614, total= 1.0min\n",
      "[CV] max_features=0.2, min_samples_leaf=1, n_estimators=100 ..........\n",
      "[CV]  max_features=0.2, min_samples_leaf=1, n_estimators=100, score=0.825152, total= 1.1min\n",
      "[CV] max_features=0.2, min_samples_leaf=1, n_estimators=100 ..........\n",
      "[CV]  max_features=0.2, min_samples_leaf=1, n_estimators=100, score=0.825190, total= 1.0min\n",
      "[CV] max_features=0.2, min_samples_leaf=1, n_estimators=100 ..........\n",
      "[CV]  max_features=0.2, min_samples_leaf=1, n_estimators=100, score=0.827839, total= 1.1min\n",
      "[CV] max_features=0.2, min_samples_leaf=1, n_estimators=100 ..........\n",
      "[CV]  max_features=0.2, min_samples_leaf=1, n_estimators=100, score=0.829465, total= 1.1min\n",
      "[CV] max_features=0.2, min_samples_leaf=5, n_estimators=50 ...........\n",
      "[CV]  max_features=0.2, min_samples_leaf=5, n_estimators=50, score=0.815233, total=  31.1s\n",
      "[CV] max_features=0.2, min_samples_leaf=5, n_estimators=50 ...........\n",
      "[CV]  max_features=0.2, min_samples_leaf=5, n_estimators=50, score=0.816638, total=  29.2s\n",
      "[CV] max_features=0.2, min_samples_leaf=5, n_estimators=50 ...........\n",
      "[CV]  max_features=0.2, min_samples_leaf=5, n_estimators=50, score=0.819848, total=  29.6s\n",
      "[CV] max_features=0.2, min_samples_leaf=5, n_estimators=50 ...........\n",
      "[CV]  max_features=0.2, min_samples_leaf=5, n_estimators=50, score=0.817653, total=  31.8s\n",
      "[CV] max_features=0.2, min_samples_leaf=5, n_estimators=50 ...........\n",
      "[CV]  max_features=0.2, min_samples_leaf=5, n_estimators=50, score=0.817094, total=  31.3s\n",
      "[CV] max_features=0.2, min_samples_leaf=5, n_estimators=50 ...........\n",
      "[CV]  max_features=0.2, min_samples_leaf=5, n_estimators=50, score=0.819069, total=  31.6s\n",
      "[CV] max_features=0.2, min_samples_leaf=5, n_estimators=50 ...........\n",
      "[CV]  max_features=0.2, min_samples_leaf=5, n_estimators=50, score=0.815598, total=  31.5s\n",
      "[CV] max_features=0.2, min_samples_leaf=5, n_estimators=50 ...........\n",
      "[CV]  max_features=0.2, min_samples_leaf=5, n_estimators=50, score=0.817924, total=  30.0s\n",
      "[CV] max_features=0.2, min_samples_leaf=5, n_estimators=50 ...........\n",
      "[CV]  max_features=0.2, min_samples_leaf=5, n_estimators=50, score=0.819034, total=  29.8s\n",
      "[CV] max_features=0.2, min_samples_leaf=5, n_estimators=50 ...........\n",
      "[CV]  max_features=0.2, min_samples_leaf=5, n_estimators=50, score=0.820020, total=  28.9s\n",
      "[CV] max_features=0.2, min_samples_leaf=5, n_estimators=100 ..........\n",
      "[CV]  max_features=0.2, min_samples_leaf=5, n_estimators=100, score=0.818769, total=  56.3s\n",
      "[CV] max_features=0.2, min_samples_leaf=5, n_estimators=100 ..........\n",
      "[CV]  max_features=0.2, min_samples_leaf=5, n_estimators=100, score=0.818249, total=  57.6s\n",
      "[CV] max_features=0.2, min_samples_leaf=5, n_estimators=100 ..........\n",
      "[CV]  max_features=0.2, min_samples_leaf=5, n_estimators=100, score=0.817182, total=  57.9s\n",
      "[CV] max_features=0.2, min_samples_leaf=5, n_estimators=100 ..........\n",
      "[CV]  max_features=0.2, min_samples_leaf=5, n_estimators=100, score=0.818219, total=  57.6s\n",
      "[CV] max_features=0.2, min_samples_leaf=5, n_estimators=100 ..........\n",
      "[CV]  max_features=0.2, min_samples_leaf=5, n_estimators=100, score=0.820101, total=  54.9s\n",
      "[CV] max_features=0.2, min_samples_leaf=5, n_estimators=100 ..........\n",
      "[CV]  max_features=0.2, min_samples_leaf=5, n_estimators=100, score=0.817878, total=  57.5s\n",
      "[CV] max_features=0.2, min_samples_leaf=5, n_estimators=100 ..........\n",
      "[CV]  max_features=0.2, min_samples_leaf=5, n_estimators=100, score=0.815593, total=  57.6s\n",
      "[CV] max_features=0.2, min_samples_leaf=5, n_estimators=100 ..........\n",
      "[CV]  max_features=0.2, min_samples_leaf=5, n_estimators=100, score=0.817331, total=  57.7s\n",
      "[CV] max_features=0.2, min_samples_leaf=5, n_estimators=100 ..........\n",
      "[CV]  max_features=0.2, min_samples_leaf=5, n_estimators=100, score=0.818899, total=  58.5s\n",
      "[CV] max_features=0.2, min_samples_leaf=5, n_estimators=100 ..........\n",
      "[CV]  max_features=0.2, min_samples_leaf=5, n_estimators=100, score=0.822699, total=  55.3s\n",
      "[CV] max_features=0.2, min_samples_leaf=10, n_estimators=50 ..........\n",
      "[CV]  max_features=0.2, min_samples_leaf=10, n_estimators=50, score=0.803012, total=  27.7s\n",
      "[CV] max_features=0.2, min_samples_leaf=10, n_estimators=50 ..........\n",
      "[CV]  max_features=0.2, min_samples_leaf=10, n_estimators=50, score=0.801235, total=  29.1s\n",
      "[CV] max_features=0.2, min_samples_leaf=10, n_estimators=50 ..........\n",
      "[CV]  max_features=0.2, min_samples_leaf=10, n_estimators=50, score=0.803172, total=  29.1s\n",
      "[CV] max_features=0.2, min_samples_leaf=10, n_estimators=50 ..........\n",
      "[CV]  max_features=0.2, min_samples_leaf=10, n_estimators=50, score=0.804733, total=  29.0s\n",
      "[CV] max_features=0.2, min_samples_leaf=10, n_estimators=50 ..........\n",
      "[CV]  max_features=0.2, min_samples_leaf=10, n_estimators=50, score=0.805263, total=  29.1s\n",
      "[CV] max_features=0.2, min_samples_leaf=10, n_estimators=50 ..........\n",
      "[CV]  max_features=0.2, min_samples_leaf=10, n_estimators=50, score=0.803326, total=  29.1s\n",
      "[CV] max_features=0.2, min_samples_leaf=10, n_estimators=50 ..........\n",
      "[CV]  max_features=0.2, min_samples_leaf=10, n_estimators=50, score=0.801111, total=  29.2s\n",
      "[CV] max_features=0.2, min_samples_leaf=10, n_estimators=50 ..........\n",
      "[CV]  max_features=0.2, min_samples_leaf=10, n_estimators=50, score=0.804223, total=  29.3s\n",
      "[CV] max_features=0.2, min_samples_leaf=10, n_estimators=50 ..........\n",
      "[CV]  max_features=0.2, min_samples_leaf=10, n_estimators=50, score=0.802991, total=  29.0s\n",
      "[CV] max_features=0.2, min_samples_leaf=10, n_estimators=50 ..........\n",
      "[CV]  max_features=0.2, min_samples_leaf=10, n_estimators=50, score=0.803113, total=  28.4s\n",
      "[CV] max_features=0.2, min_samples_leaf=10, n_estimators=100 .........\n",
      "[CV]  max_features=0.2, min_samples_leaf=10, n_estimators=100, score=0.803761, total=  53.6s\n",
      "[CV] max_features=0.2, min_samples_leaf=10, n_estimators=100 .........\n",
      "[CV]  max_features=0.2, min_samples_leaf=10, n_estimators=100, score=0.804338, total=  56.7s\n",
      "[CV] max_features=0.2, min_samples_leaf=10, n_estimators=100 .........\n",
      "[CV]  max_features=0.2, min_samples_leaf=10, n_estimators=100, score=0.803967, total=  56.9s\n",
      "[CV] max_features=0.2, min_samples_leaf=10, n_estimators=100 .........\n",
      "[CV]  max_features=0.2, min_samples_leaf=10, n_estimators=100, score=0.801446, total=  56.1s\n",
      "[CV] max_features=0.2, min_samples_leaf=10, n_estimators=100 .........\n",
      "[CV]  max_features=0.2, min_samples_leaf=10, n_estimators=100, score=0.806374, total=  56.9s\n",
      "[CV] max_features=0.2, min_samples_leaf=10, n_estimators=100 .........\n",
      "[CV]  max_features=0.2, min_samples_leaf=10, n_estimators=100, score=0.803352, total=  57.0s\n",
      "[CV] max_features=0.2, min_samples_leaf=10, n_estimators=100 .........\n",
      "[CV]  max_features=0.2, min_samples_leaf=10, n_estimators=100, score=0.804197, total=  55.3s\n",
      "[CV] max_features=0.2, min_samples_leaf=10, n_estimators=100 .........\n",
      "[CV]  max_features=0.2, min_samples_leaf=10, n_estimators=100, score=0.805285, total=  53.6s\n",
      "[CV] max_features=0.2, min_samples_leaf=10, n_estimators=100 .........\n",
      "[CV]  max_features=0.2, min_samples_leaf=10, n_estimators=100, score=0.803113, total=  56.1s\n",
      "[CV] max_features=0.2, min_samples_leaf=10, n_estimators=100 .........\n",
      "[CV]  max_features=0.2, min_samples_leaf=10, n_estimators=100, score=0.805535, total=  56.0s\n",
      "[CV] max_features=0.2, min_samples_leaf=50, n_estimators=50 ..........\n",
      "[CV]  max_features=0.2, min_samples_leaf=50, n_estimators=50, score=0.768537, total=  26.2s\n",
      "[CV] max_features=0.2, min_samples_leaf=50, n_estimators=50 ..........\n",
      "[CV]  max_features=0.2, min_samples_leaf=50, n_estimators=50, score=0.770544, total=  26.2s\n",
      "[CV] max_features=0.2, min_samples_leaf=50, n_estimators=50 ..........\n",
      "[CV]  max_features=0.2, min_samples_leaf=50, n_estimators=50, score=0.768658, total=  26.3s\n",
      "[CV] max_features=0.2, min_samples_leaf=50, n_estimators=50 ..........\n",
      "[CV]  max_features=0.2, min_samples_leaf=50, n_estimators=50, score=0.769805, total=  26.8s\n",
      "[CV] max_features=0.2, min_samples_leaf=50, n_estimators=50 ..........\n",
      "[CV]  max_features=0.2, min_samples_leaf=50, n_estimators=50, score=0.774337, total=  26.1s\n",
      "[CV] max_features=0.2, min_samples_leaf=50, n_estimators=50 ..........\n",
      "[CV]  max_features=0.2, min_samples_leaf=50, n_estimators=50, score=0.768070, total=  25.9s\n",
      "[CV] max_features=0.2, min_samples_leaf=50, n_estimators=50 ..........\n",
      "[CV]  max_features=0.2, min_samples_leaf=50, n_estimators=50, score=0.770446, total=  25.6s\n",
      "[CV] max_features=0.2, min_samples_leaf=50, n_estimators=50 ..........\n",
      "[CV]  max_features=0.2, min_samples_leaf=50, n_estimators=50, score=0.769442, total=  25.7s\n",
      "[CV] max_features=0.2, min_samples_leaf=50, n_estimators=50 ..........\n",
      "[CV]  max_features=0.2, min_samples_leaf=50, n_estimators=50, score=0.771883, total=  25.1s\n",
      "[CV] max_features=0.2, min_samples_leaf=50, n_estimators=50 ..........\n",
      "[CV]  max_features=0.2, min_samples_leaf=50, n_estimators=50, score=0.774100, total=  24.8s\n",
      "[CV] max_features=0.2, min_samples_leaf=50, n_estimators=100 .........\n",
      "[CV]  max_features=0.2, min_samples_leaf=50, n_estimators=100, score=0.771915, total=  48.3s\n",
      "[CV] max_features=0.2, min_samples_leaf=50, n_estimators=100 .........\n",
      "[CV]  max_features=0.2, min_samples_leaf=50, n_estimators=100, score=0.770585, total=  49.3s\n",
      "[CV] max_features=0.2, min_samples_leaf=50, n_estimators=100 .........\n",
      "[CV]  max_features=0.2, min_samples_leaf=50, n_estimators=100, score=0.769401, total=  49.5s\n",
      "[CV] max_features=0.2, min_samples_leaf=50, n_estimators=100 .........\n",
      "[CV]  max_features=0.2, min_samples_leaf=50, n_estimators=100, score=0.768599, total=  49.6s\n",
      "[CV] max_features=0.2, min_samples_leaf=50, n_estimators=100 .........\n",
      "[CV]  max_features=0.2, min_samples_leaf=50, n_estimators=100, score=0.770855, total=  49.9s\n",
      "[CV] max_features=0.2, min_samples_leaf=50, n_estimators=100 .........\n",
      "[CV]  max_features=0.2, min_samples_leaf=50, n_estimators=100, score=0.769694, total=  49.0s\n",
      "[CV] max_features=0.2, min_samples_leaf=50, n_estimators=100 .........\n",
      "[CV]  max_features=0.2, min_samples_leaf=50, n_estimators=100, score=0.770403, total=  49.7s\n",
      "[CV] max_features=0.2, min_samples_leaf=50, n_estimators=100 .........\n",
      "[CV]  max_features=0.2, min_samples_leaf=50, n_estimators=100, score=0.770932, total=  49.5s\n",
      "[CV] max_features=0.2, min_samples_leaf=50, n_estimators=100 .........\n",
      "[CV]  max_features=0.2, min_samples_leaf=50, n_estimators=100, score=0.771027, total=  47.5s\n",
      "[CV] max_features=0.2, min_samples_leaf=50, n_estimators=100 .........\n",
      "[CV]  max_features=0.2, min_samples_leaf=50, n_estimators=100, score=0.772408, total=  47.9s\n",
      "[CV] max_features=0.2, min_samples_leaf=100, n_estimators=50 .........\n",
      "[CV]  max_features=0.2, min_samples_leaf=100, n_estimators=50, score=0.756169, total=  24.1s\n",
      "[CV] max_features=0.2, min_samples_leaf=100, n_estimators=50 .........\n",
      "[CV]  max_features=0.2, min_samples_leaf=100, n_estimators=50, score=0.756107, total=  26.4s\n",
      "[CV] max_features=0.2, min_samples_leaf=100, n_estimators=50 .........\n",
      "[CV]  max_features=0.2, min_samples_leaf=100, n_estimators=50, score=0.757020, total=  27.7s\n",
      "[CV] max_features=0.2, min_samples_leaf=100, n_estimators=50 .........\n",
      "[CV]  max_features=0.2, min_samples_leaf=100, n_estimators=50, score=0.759254, total=  24.2s\n",
      "[CV] max_features=0.2, min_samples_leaf=100, n_estimators=50 .........\n",
      "[CV]  max_features=0.2, min_samples_leaf=100, n_estimators=50, score=0.757136, total=  23.9s\n",
      "[CV] max_features=0.2, min_samples_leaf=100, n_estimators=50 .........\n",
      "[CV]  max_features=0.2, min_samples_leaf=100, n_estimators=50, score=0.755372, total=  24.0s\n",
      "[CV] max_features=0.2, min_samples_leaf=100, n_estimators=50 .........\n",
      "[CV]  max_features=0.2, min_samples_leaf=100, n_estimators=50, score=0.752006, total=  24.0s\n",
      "[CV] max_features=0.2, min_samples_leaf=100, n_estimators=50 .........\n",
      "[CV]  max_features=0.2, min_samples_leaf=100, n_estimators=50, score=0.752171, total=  24.0s\n",
      "[CV] max_features=0.2, min_samples_leaf=100, n_estimators=50 .........\n",
      "[CV]  max_features=0.2, min_samples_leaf=100, n_estimators=50, score=0.755631, total=  24.1s\n",
      "[CV] max_features=0.2, min_samples_leaf=100, n_estimators=50 .........\n",
      "[CV]  max_features=0.2, min_samples_leaf=100, n_estimators=50, score=0.758183, total=  23.9s\n",
      "[CV] max_features=0.2, min_samples_leaf=100, n_estimators=100 ........\n",
      "[CV]  max_features=0.2, min_samples_leaf=100, n_estimators=100, score=0.759067, total=  45.5s\n",
      "[CV] max_features=0.2, min_samples_leaf=100, n_estimators=100 ........\n",
      "[CV]  max_features=0.2, min_samples_leaf=100, n_estimators=100, score=0.752581, total=  45.9s\n",
      "[CV] max_features=0.2, min_samples_leaf=100, n_estimators=100 ........\n",
      "[CV]  max_features=0.2, min_samples_leaf=100, n_estimators=100, score=0.756655, total=  45.4s\n",
      "[CV] max_features=0.2, min_samples_leaf=100, n_estimators=100 ........\n",
      "[CV]  max_features=0.2, min_samples_leaf=100, n_estimators=100, score=0.759363, total=  43.4s\n",
      "[CV] max_features=0.2, min_samples_leaf=100, n_estimators=100 ........\n",
      "[CV]  max_features=0.2, min_samples_leaf=100, n_estimators=100, score=0.758900, total=  43.5s\n",
      "[CV] max_features=0.2, min_samples_leaf=100, n_estimators=100 ........\n",
      "[CV]  max_features=0.2, min_samples_leaf=100, n_estimators=100, score=0.755245, total=  45.2s\n",
      "[CV] max_features=0.2, min_samples_leaf=100, n_estimators=100 ........\n",
      "[CV]  max_features=0.2, min_samples_leaf=100, n_estimators=100, score=0.756856, total=  45.2s\n",
      "[CV] max_features=0.2, min_samples_leaf=100, n_estimators=100 ........\n",
      "[CV]  max_features=0.2, min_samples_leaf=100, n_estimators=100, score=0.755425, total=  45.0s\n",
      "[CV] max_features=0.2, min_samples_leaf=100, n_estimators=100 ........\n",
      "[CV]  max_features=0.2, min_samples_leaf=100, n_estimators=100, score=0.755422, total=  45.5s\n",
      "[CV] max_features=0.2, min_samples_leaf=100, n_estimators=100 ........\n",
      "[CV]  max_features=0.2, min_samples_leaf=100, n_estimators=100, score=0.762964, total=  45.8s\n",
      "[CV] max_features=auto, min_samples_leaf=1, n_estimators=50 ..........\n",
      "[CV]  max_features=auto, min_samples_leaf=1, n_estimators=50, score=0.788519, total=  24.2s\n",
      "[CV] max_features=auto, min_samples_leaf=1, n_estimators=50 ..........\n",
      "[CV]  max_features=auto, min_samples_leaf=1, n_estimators=50, score=0.790092, total=  24.2s\n",
      "[CV] max_features=auto, min_samples_leaf=1, n_estimators=50 ..........\n",
      "[CV]  max_features=auto, min_samples_leaf=1, n_estimators=50, score=0.787594, total=  24.0s\n",
      "[CV] max_features=auto, min_samples_leaf=1, n_estimators=50 ..........\n",
      "[CV]  max_features=auto, min_samples_leaf=1, n_estimators=50, score=0.793764, total=  24.3s\n",
      "[CV] max_features=auto, min_samples_leaf=1, n_estimators=50 ..........\n",
      "[CV]  max_features=auto, min_samples_leaf=1, n_estimators=50, score=0.791509, total=  24.4s\n",
      "[CV] max_features=auto, min_samples_leaf=1, n_estimators=50 ..........\n",
      "[CV]  max_features=auto, min_samples_leaf=1, n_estimators=50, score=0.786576, total=  24.3s\n",
      "[CV] max_features=auto, min_samples_leaf=1, n_estimators=50 ..........\n",
      "[CV]  max_features=auto, min_samples_leaf=1, n_estimators=50, score=0.788404, total=  23.8s\n",
      "[CV] max_features=auto, min_samples_leaf=1, n_estimators=50 ..........\n",
      "[CV]  max_features=auto, min_samples_leaf=1, n_estimators=50, score=0.788106, total=  24.3s\n",
      "[CV] max_features=auto, min_samples_leaf=1, n_estimators=50 ..........\n",
      "[CV]  max_features=auto, min_samples_leaf=1, n_estimators=50, score=0.796984, total=  23.3s\n",
      "[CV] max_features=auto, min_samples_leaf=1, n_estimators=50 ..........\n",
      "[CV]  max_features=auto, min_samples_leaf=1, n_estimators=50, score=0.795841, total=  22.8s\n",
      "[CV] max_features=auto, min_samples_leaf=1, n_estimators=100 .........\n",
      "[CV]  max_features=auto, min_samples_leaf=1, n_estimators=100, score=0.788444, total=  44.5s\n",
      "[CV] max_features=auto, min_samples_leaf=1, n_estimators=100 .........\n",
      "[CV]  max_features=auto, min_samples_leaf=1, n_estimators=100, score=0.796983, total=  45.9s\n",
      "[CV] max_features=auto, min_samples_leaf=1, n_estimators=100 .........\n",
      "[CV]  max_features=auto, min_samples_leaf=1, n_estimators=100, score=0.796518, total=  45.4s\n",
      "[CV] max_features=auto, min_samples_leaf=1, n_estimators=100 .........\n",
      "[CV]  max_features=auto, min_samples_leaf=1, n_estimators=100, score=0.802912, total=  45.6s\n",
      "[CV] max_features=auto, min_samples_leaf=1, n_estimators=100 .........\n",
      "[CV]  max_features=auto, min_samples_leaf=1, n_estimators=100, score=0.797704, total=  46.3s\n",
      "[CV] max_features=auto, min_samples_leaf=1, n_estimators=100 .........\n",
      "[CV]  max_features=auto, min_samples_leaf=1, n_estimators=100, score=0.789151, total=  46.3s\n",
      "[CV] max_features=auto, min_samples_leaf=1, n_estimators=100 .........\n",
      "[CV]  max_features=auto, min_samples_leaf=1, n_estimators=100, score=0.791105, total=  46.3s\n",
      "[CV] max_features=auto, min_samples_leaf=1, n_estimators=100 .........\n",
      "[CV]  max_features=auto, min_samples_leaf=1, n_estimators=100, score=0.790502, total=  46.1s\n",
      "[CV] max_features=auto, min_samples_leaf=1, n_estimators=100 .........\n",
      "[CV]  max_features=auto, min_samples_leaf=1, n_estimators=100, score=0.794046, total=  46.5s\n",
      "[CV] max_features=auto, min_samples_leaf=1, n_estimators=100 .........\n",
      "[CV]  max_features=auto, min_samples_leaf=1, n_estimators=100, score=0.800886, total=  46.1s\n",
      "[CV] max_features=auto, min_samples_leaf=5, n_estimators=50 ..........\n",
      "[CV]  max_features=auto, min_samples_leaf=5, n_estimators=50, score=0.781652, total=  22.2s\n",
      "[CV] max_features=auto, min_samples_leaf=5, n_estimators=50 ..........\n",
      "[CV]  max_features=auto, min_samples_leaf=5, n_estimators=50, score=0.779459, total=  21.9s\n",
      "[CV] max_features=auto, min_samples_leaf=5, n_estimators=50 ..........\n",
      "[CV]  max_features=auto, min_samples_leaf=5, n_estimators=50, score=0.781917, total=  21.3s\n",
      "[CV] max_features=auto, min_samples_leaf=5, n_estimators=50 ..........\n",
      "[CV]  max_features=auto, min_samples_leaf=5, n_estimators=50, score=0.785484, total=  21.0s\n",
      "[CV] max_features=auto, min_samples_leaf=5, n_estimators=50 ..........\n",
      "[CV]  max_features=auto, min_samples_leaf=5, n_estimators=50, score=0.786709, total=  20.9s\n",
      "[CV] max_features=auto, min_samples_leaf=5, n_estimators=50 ..........\n",
      "[CV]  max_features=auto, min_samples_leaf=5, n_estimators=50, score=0.780335, total=  20.8s\n",
      "[CV] max_features=auto, min_samples_leaf=5, n_estimators=50 ..........\n",
      "[CV]  max_features=auto, min_samples_leaf=5, n_estimators=50, score=0.782629, total=  21.1s\n",
      "[CV] max_features=auto, min_samples_leaf=5, n_estimators=50 ..........\n",
      "[CV]  max_features=auto, min_samples_leaf=5, n_estimators=50, score=0.784492, total=  21.9s\n",
      "[CV] max_features=auto, min_samples_leaf=5, n_estimators=50 ..........\n",
      "[CV]  max_features=auto, min_samples_leaf=5, n_estimators=50, score=0.782750, total=  22.0s\n",
      "[CV] max_features=auto, min_samples_leaf=5, n_estimators=50 ..........\n",
      "[CV]  max_features=auto, min_samples_leaf=5, n_estimators=50, score=0.787042, total=  21.6s\n",
      "[CV] max_features=auto, min_samples_leaf=5, n_estimators=100 .........\n",
      "[CV]  max_features=auto, min_samples_leaf=5, n_estimators=100, score=0.785195, total=  41.3s\n",
      "[CV] max_features=auto, min_samples_leaf=5, n_estimators=100 .........\n",
      "[CV]  max_features=auto, min_samples_leaf=5, n_estimators=100, score=0.781701, total=  41.4s\n",
      "[CV] max_features=auto, min_samples_leaf=5, n_estimators=100 .........\n",
      "[CV]  max_features=auto, min_samples_leaf=5, n_estimators=100, score=0.781812, total=  41.5s\n",
      "[CV] max_features=auto, min_samples_leaf=5, n_estimators=100 .........\n",
      "[CV]  max_features=auto, min_samples_leaf=5, n_estimators=100, score=0.784502, total=  41.4s\n",
      "[CV] max_features=auto, min_samples_leaf=5, n_estimators=100 .........\n",
      "[CV]  max_features=auto, min_samples_leaf=5, n_estimators=100, score=0.786628, total=  41.2s\n",
      "[CV] max_features=auto, min_samples_leaf=5, n_estimators=100 .........\n",
      "[CV]  max_features=auto, min_samples_leaf=5, n_estimators=100, score=0.779726, total=  40.8s\n",
      "[CV] max_features=auto, min_samples_leaf=5, n_estimators=100 .........\n",
      "[CV]  max_features=auto, min_samples_leaf=5, n_estimators=100, score=0.782395, total=  41.7s\n",
      "[CV] max_features=auto, min_samples_leaf=5, n_estimators=100 .........\n",
      "[CV]  max_features=auto, min_samples_leaf=5, n_estimators=100, score=0.780946, total=  41.4s\n",
      "[CV] max_features=auto, min_samples_leaf=5, n_estimators=100 .........\n",
      "[CV]  max_features=auto, min_samples_leaf=5, n_estimators=100, score=0.783254, total=  41.6s\n",
      "[CV] max_features=auto, min_samples_leaf=5, n_estimators=100 .........\n",
      "[CV]  max_features=auto, min_samples_leaf=5, n_estimators=100, score=0.785785, total=  41.4s\n",
      "[CV] max_features=auto, min_samples_leaf=10, n_estimators=50 .........\n",
      "[CV]  max_features=auto, min_samples_leaf=10, n_estimators=50, score=0.767874, total=  21.1s\n",
      "[CV] max_features=auto, min_samples_leaf=10, n_estimators=50 .........\n",
      "[CV]  max_features=auto, min_samples_leaf=10, n_estimators=50, score=0.767199, total=  20.5s\n",
      "[CV] max_features=auto, min_samples_leaf=10, n_estimators=50 .........\n",
      "[CV]  max_features=auto, min_samples_leaf=10, n_estimators=50, score=0.763612, total=  20.3s\n",
      "[CV] max_features=auto, min_samples_leaf=10, n_estimators=50 .........\n",
      "[CV]  max_features=auto, min_samples_leaf=10, n_estimators=50, score=0.772984, total=  20.2s\n",
      "[CV] max_features=auto, min_samples_leaf=10, n_estimators=50 .........\n",
      "[CV]  max_features=auto, min_samples_leaf=10, n_estimators=50, score=0.768590, total=  20.2s\n",
      "[CV] max_features=auto, min_samples_leaf=10, n_estimators=50 .........\n",
      "[CV]  max_features=auto, min_samples_leaf=10, n_estimators=50, score=0.765462, total=  20.0s\n",
      "[CV] max_features=auto, min_samples_leaf=10, n_estimators=50 .........\n",
      "[CV]  max_features=auto, min_samples_leaf=10, n_estimators=50, score=0.767442, total=  21.2s\n",
      "[CV] max_features=auto, min_samples_leaf=10, n_estimators=50 .........\n",
      "[CV]  max_features=auto, min_samples_leaf=10, n_estimators=50, score=0.766687, total=  21.0s\n",
      "[CV] max_features=auto, min_samples_leaf=10, n_estimators=50 .........\n",
      "[CV]  max_features=auto, min_samples_leaf=10, n_estimators=50, score=0.769147, total=  21.1s\n",
      "[CV] max_features=auto, min_samples_leaf=10, n_estimators=50 .........\n",
      "[CV]  max_features=auto, min_samples_leaf=10, n_estimators=50, score=0.777027, total=  21.1s\n",
      "[CV] max_features=auto, min_samples_leaf=10, n_estimators=100 ........\n",
      "[CV]  max_features=auto, min_samples_leaf=10, n_estimators=100, score=0.770320, total=  39.8s\n",
      "[CV] max_features=auto, min_samples_leaf=10, n_estimators=100 ........\n",
      "[CV]  max_features=auto, min_samples_leaf=10, n_estimators=100, score=0.768813, total=  40.1s\n",
      "[CV] max_features=auto, min_samples_leaf=10, n_estimators=100 ........\n",
      "[CV]  max_features=auto, min_samples_leaf=10, n_estimators=100, score=0.764729, total=  39.9s\n",
      "[CV] max_features=auto, min_samples_leaf=10, n_estimators=100 ........\n",
      "[CV]  max_features=auto, min_samples_leaf=10, n_estimators=100, score=0.770200, total=  39.7s\n",
      "[CV] max_features=auto, min_samples_leaf=10, n_estimators=100 ........\n",
      "[CV]  max_features=auto, min_samples_leaf=10, n_estimators=100, score=0.770319, total=  39.6s\n",
      "[CV] max_features=auto, min_samples_leaf=10, n_estimators=100 ........\n",
      "[CV]  max_features=auto, min_samples_leaf=10, n_estimators=100, score=0.769659, total=  39.6s\n",
      "[CV] max_features=auto, min_samples_leaf=10, n_estimators=100 ........\n",
      "[CV]  max_features=auto, min_samples_leaf=10, n_estimators=100, score=0.766500, total=  39.8s\n",
      "[CV] max_features=auto, min_samples_leaf=10, n_estimators=100 ........\n",
      "[CV]  max_features=auto, min_samples_leaf=10, n_estimators=100, score=0.765918, total=  39.5s\n",
      "[CV] max_features=auto, min_samples_leaf=10, n_estimators=100 ........\n",
      "[CV]  max_features=auto, min_samples_leaf=10, n_estimators=100, score=0.770937, total=  39.6s\n",
      "[CV] max_features=auto, min_samples_leaf=10, n_estimators=100 ........\n",
      "[CV]  max_features=auto, min_samples_leaf=10, n_estimators=100, score=0.773886, total=  39.5s\n",
      "[CV] max_features=auto, min_samples_leaf=50, n_estimators=50 .........\n",
      "[CV]  max_features=auto, min_samples_leaf=50, n_estimators=50, score=0.737704, total=  18.6s\n",
      "[CV] max_features=auto, min_samples_leaf=50, n_estimators=50 .........\n",
      "[CV]  max_features=auto, min_samples_leaf=50, n_estimators=50, score=0.737647, total=  18.3s\n",
      "[CV] max_features=auto, min_samples_leaf=50, n_estimators=50 .........\n",
      "[CV]  max_features=auto, min_samples_leaf=50, n_estimators=50, score=0.734512, total=  18.3s\n",
      "[CV] max_features=auto, min_samples_leaf=50, n_estimators=50 .........\n",
      "[CV]  max_features=auto, min_samples_leaf=50, n_estimators=50, score=0.741496, total=  18.4s\n",
      "[CV] max_features=auto, min_samples_leaf=50, n_estimators=50 .........\n",
      "[CV]  max_features=auto, min_samples_leaf=50, n_estimators=50, score=0.741510, total=  17.8s\n",
      "[CV] max_features=auto, min_samples_leaf=50, n_estimators=50 .........\n",
      "[CV]  max_features=auto, min_samples_leaf=50, n_estimators=50, score=0.735243, total=  17.4s\n",
      "[CV] max_features=auto, min_samples_leaf=50, n_estimators=50 .........\n",
      "[CV]  max_features=auto, min_samples_leaf=50, n_estimators=50, score=0.736710, total=  17.6s\n",
      "[CV] max_features=auto, min_samples_leaf=50, n_estimators=50 .........\n",
      "[CV]  max_features=auto, min_samples_leaf=50, n_estimators=50, score=0.738617, total=  17.5s\n",
      "[CV] max_features=auto, min_samples_leaf=50, n_estimators=50 .........\n",
      "[CV]  max_features=auto, min_samples_leaf=50, n_estimators=50, score=0.737032, total=  17.5s\n",
      "[CV] max_features=auto, min_samples_leaf=50, n_estimators=50 .........\n",
      "[CV]  max_features=auto, min_samples_leaf=50, n_estimators=50, score=0.743652, total=  18.0s\n",
      "[CV] max_features=auto, min_samples_leaf=50, n_estimators=100 ........\n",
      "[CV]  max_features=auto, min_samples_leaf=50, n_estimators=100, score=0.739088, total=  34.4s\n",
      "[CV] max_features=auto, min_samples_leaf=50, n_estimators=100 ........\n",
      "[CV]  max_features=auto, min_samples_leaf=50, n_estimators=100, score=0.736759, total=  34.7s\n",
      "[CV] max_features=auto, min_samples_leaf=50, n_estimators=100 ........\n",
      "[CV]  max_features=auto, min_samples_leaf=50, n_estimators=100, score=0.739132, total=  34.7s\n",
      "[CV] max_features=auto, min_samples_leaf=50, n_estimators=100 ........\n",
      "[CV]  max_features=auto, min_samples_leaf=50, n_estimators=100, score=0.746570, total=  35.1s\n",
      "[CV] max_features=auto, min_samples_leaf=50, n_estimators=100 ........\n",
      "[CV]  max_features=auto, min_samples_leaf=50, n_estimators=100, score=0.745726, total=  35.1s\n",
      "[CV] max_features=auto, min_samples_leaf=50, n_estimators=100 ........\n",
      "[CV]  max_features=auto, min_samples_leaf=50, n_estimators=100, score=0.738031, total=  34.9s\n",
      "[CV] max_features=auto, min_samples_leaf=50, n_estimators=100 ........\n",
      "[CV]  max_features=auto, min_samples_leaf=50, n_estimators=100, score=0.737206, total=  35.0s\n",
      "[CV] max_features=auto, min_samples_leaf=50, n_estimators=100 ........\n",
      "[CV]  max_features=auto, min_samples_leaf=50, n_estimators=100, score=0.737242, total=  34.7s\n",
      "[CV] max_features=auto, min_samples_leaf=50, n_estimators=100 ........\n",
      "[CV]  max_features=auto, min_samples_leaf=50, n_estimators=100, score=0.736890, total=  34.6s\n",
      "[CV] max_features=auto, min_samples_leaf=50, n_estimators=100 ........\n",
      "[CV]  max_features=auto, min_samples_leaf=50, n_estimators=100, score=0.743696, total=  35.1s\n",
      "[CV] max_features=auto, min_samples_leaf=100, n_estimators=50 ........\n",
      "[CV]  max_features=auto, min_samples_leaf=100, n_estimators=50, score=0.729027, total=  17.0s\n",
      "[CV] max_features=auto, min_samples_leaf=100, n_estimators=50 ........\n",
      "[CV]  max_features=auto, min_samples_leaf=100, n_estimators=50, score=0.730214, total=  17.2s\n",
      "[CV] max_features=auto, min_samples_leaf=100, n_estimators=50 ........\n",
      "[CV]  max_features=auto, min_samples_leaf=100, n_estimators=50, score=0.723167, total=  16.8s\n",
      "[CV] max_features=auto, min_samples_leaf=100, n_estimators=50 ........\n",
      "[CV]  max_features=auto, min_samples_leaf=100, n_estimators=50, score=0.728121, total=  17.1s\n",
      "[CV] max_features=auto, min_samples_leaf=100, n_estimators=50 ........\n",
      "[CV]  max_features=auto, min_samples_leaf=100, n_estimators=50, score=0.726107, total=  17.1s\n",
      "[CV] max_features=auto, min_samples_leaf=100, n_estimators=50 ........\n",
      "[CV]  max_features=auto, min_samples_leaf=100, n_estimators=50, score=0.723144, total=  16.6s\n",
      "[CV] max_features=auto, min_samples_leaf=100, n_estimators=50 ........\n",
      "[CV]  max_features=auto, min_samples_leaf=100, n_estimators=50, score=0.723785, total=  17.0s\n",
      "[CV] max_features=auto, min_samples_leaf=100, n_estimators=50 ........\n",
      "[CV]  max_features=auto, min_samples_leaf=100, n_estimators=50, score=0.725895, total=  17.0s\n",
      "[CV] max_features=auto, min_samples_leaf=100, n_estimators=50 ........\n",
      "[CV]  max_features=auto, min_samples_leaf=100, n_estimators=50, score=0.724083, total=  17.0s\n",
      "[CV] max_features=auto, min_samples_leaf=100, n_estimators=50 ........\n",
      "[CV]  max_features=auto, min_samples_leaf=100, n_estimators=50, score=0.731316, total=  17.1s\n",
      "[CV] max_features=auto, min_samples_leaf=100, n_estimators=100 .......\n",
      "[CV]  max_features=auto, min_samples_leaf=100, n_estimators=100, score=0.727444, total=  31.5s\n",
      "[CV] max_features=auto, min_samples_leaf=100, n_estimators=100 .......\n",
      "[CV]  max_features=auto, min_samples_leaf=100, n_estimators=100, score=0.726207, total=  31.4s\n",
      "[CV] max_features=auto, min_samples_leaf=100, n_estimators=100 .......\n",
      "[CV]  max_features=auto, min_samples_leaf=100, n_estimators=100, score=0.726204, total=  31.5s\n",
      "[CV] max_features=auto, min_samples_leaf=100, n_estimators=100 .......\n",
      "[CV]  max_features=auto, min_samples_leaf=100, n_estimators=100, score=0.728769, total=  30.2s\n",
      "[CV] max_features=auto, min_samples_leaf=100, n_estimators=100 .......\n",
      "[CV]  max_features=auto, min_samples_leaf=100, n_estimators=100, score=0.728746, total=  29.9s\n",
      "[CV] max_features=auto, min_samples_leaf=100, n_estimators=100 .......\n",
      "[CV]  max_features=auto, min_samples_leaf=100, n_estimators=100, score=0.725110, total=  30.0s\n",
      "[CV] max_features=auto, min_samples_leaf=100, n_estimators=100 .......\n",
      "[CV]  max_features=auto, min_samples_leaf=100, n_estimators=100, score=0.725381, total=  31.9s\n",
      "[CV] max_features=auto, min_samples_leaf=100, n_estimators=100 .......\n",
      "[CV]  max_features=auto, min_samples_leaf=100, n_estimators=100, score=0.722839, total=  31.7s\n",
      "[CV] max_features=auto, min_samples_leaf=100, n_estimators=100 .......\n",
      "[CV]  max_features=auto, min_samples_leaf=100, n_estimators=100, score=0.721177, total=  31.4s\n",
      "[CV] max_features=auto, min_samples_leaf=100, n_estimators=100 .......\n",
      "[CV]  max_features=auto, min_samples_leaf=100, n_estimators=100, score=0.728084, total=  31.8s\n",
      "[CV] max_features=log2, min_samples_leaf=1, n_estimators=50 ..........\n",
      "[CV]  max_features=log2, min_samples_leaf=1, n_estimators=50, score=0.771795, total=  22.1s\n",
      "[CV] max_features=log2, min_samples_leaf=1, n_estimators=50 ..........\n",
      "[CV]  max_features=log2, min_samples_leaf=1, n_estimators=50, score=0.771176, total=  21.8s\n",
      "[CV] max_features=log2, min_samples_leaf=1, n_estimators=50 ..........\n",
      "[CV]  max_features=log2, min_samples_leaf=1, n_estimators=50, score=0.767069, total=  22.1s\n",
      "[CV] max_features=log2, min_samples_leaf=1, n_estimators=50 ..........\n",
      "[CV]  max_features=log2, min_samples_leaf=1, n_estimators=50, score=0.778527, total=  22.1s\n",
      "[CV] max_features=log2, min_samples_leaf=1, n_estimators=50 ..........\n",
      "[CV]  max_features=log2, min_samples_leaf=1, n_estimators=50, score=0.771965, total=  22.2s\n",
      "[CV] max_features=log2, min_samples_leaf=1, n_estimators=50 ..........\n",
      "[CV]  max_features=log2, min_samples_leaf=1, n_estimators=50, score=0.768072, total=  21.8s\n",
      "[CV] max_features=log2, min_samples_leaf=1, n_estimators=50 ..........\n",
      "[CV]  max_features=log2, min_samples_leaf=1, n_estimators=50, score=0.769334, total=  21.9s\n",
      "[CV] max_features=log2, min_samples_leaf=1, n_estimators=50 ..........\n",
      "[CV]  max_features=log2, min_samples_leaf=1, n_estimators=50, score=0.769172, total=  22.0s\n",
      "[CV] max_features=log2, min_samples_leaf=1, n_estimators=50 ..........\n",
      "[CV]  max_features=log2, min_samples_leaf=1, n_estimators=50, score=0.771755, total=  22.3s\n",
      "[CV] max_features=log2, min_samples_leaf=1, n_estimators=50 ..........\n",
      "[CV]  max_features=log2, min_samples_leaf=1, n_estimators=50, score=0.780740, total=  22.1s\n",
      "[CV] max_features=log2, min_samples_leaf=1, n_estimators=100 .........\n",
      "[CV]  max_features=log2, min_samples_leaf=1, n_estimators=100, score=0.774888, total=  41.6s\n",
      "[CV] max_features=log2, min_samples_leaf=1, n_estimators=100 .........\n",
      "[CV]  max_features=log2, min_samples_leaf=1, n_estimators=100, score=0.778022, total=  42.3s\n",
      "[CV] max_features=log2, min_samples_leaf=1, n_estimators=100 .........\n",
      "[CV]  max_features=log2, min_samples_leaf=1, n_estimators=100, score=0.775131, total=  41.6s\n",
      "[CV] max_features=log2, min_samples_leaf=1, n_estimators=100 .........\n",
      "[CV]  max_features=log2, min_samples_leaf=1, n_estimators=100, score=0.782712, total=  41.9s\n",
      "[CV] max_features=log2, min_samples_leaf=1, n_estimators=100 .........\n",
      "[CV]  max_features=log2, min_samples_leaf=1, n_estimators=100, score=0.777895, total=  41.8s\n",
      "[CV] max_features=log2, min_samples_leaf=1, n_estimators=100 .........\n",
      "[CV]  max_features=log2, min_samples_leaf=1, n_estimators=100, score=0.773865, total=  41.5s\n",
      "[CV] max_features=log2, min_samples_leaf=1, n_estimators=100 .........\n",
      "[CV]  max_features=log2, min_samples_leaf=1, n_estimators=100, score=0.778342, total=  41.4s\n",
      "[CV] max_features=log2, min_samples_leaf=1, n_estimators=100 .........\n",
      "[CV]  max_features=log2, min_samples_leaf=1, n_estimators=100, score=0.773598, total=  39.7s\n",
      "[CV] max_features=log2, min_samples_leaf=1, n_estimators=100 .........\n",
      "[CV]  max_features=log2, min_samples_leaf=1, n_estimators=100, score=0.779478, total=  39.9s\n",
      "[CV] max_features=log2, min_samples_leaf=1, n_estimators=100 .........\n",
      "[CV]  max_features=log2, min_samples_leaf=1, n_estimators=100, score=0.784256, total=  40.5s\n",
      "[CV] max_features=log2, min_samples_leaf=5, n_estimators=50 ..........\n",
      "[CV]  max_features=log2, min_samples_leaf=5, n_estimators=50, score=0.769631, total=  18.9s\n",
      "[CV] max_features=log2, min_samples_leaf=5, n_estimators=50 ..........\n",
      "[CV]  max_features=log2, min_samples_leaf=5, n_estimators=50, score=0.769085, total=  18.9s\n",
      "[CV] max_features=log2, min_samples_leaf=5, n_estimators=50 ..........\n",
      "[CV]  max_features=log2, min_samples_leaf=5, n_estimators=50, score=0.765031, total=  18.9s\n",
      "[CV] max_features=log2, min_samples_leaf=5, n_estimators=50 ..........\n",
      "[CV]  max_features=log2, min_samples_leaf=5, n_estimators=50, score=0.770423, total=  19.1s\n",
      "[CV] max_features=log2, min_samples_leaf=5, n_estimators=50 ..........\n",
      "[CV]  max_features=log2, min_samples_leaf=5, n_estimators=50, score=0.771883, total=  19.0s\n",
      "[CV] max_features=log2, min_samples_leaf=5, n_estimators=50 ..........\n",
      "[CV]  max_features=log2, min_samples_leaf=5, n_estimators=50, score=0.767044, total=  18.8s\n",
      "[CV] max_features=log2, min_samples_leaf=5, n_estimators=50 ..........\n",
      "[CV]  max_features=log2, min_samples_leaf=5, n_estimators=50, score=0.766294, total=  19.1s\n",
      "[CV] max_features=log2, min_samples_leaf=5, n_estimators=50 ..........\n",
      "[CV]  max_features=log2, min_samples_leaf=5, n_estimators=50, score=0.768913, total=  19.1s\n",
      "[CV] max_features=log2, min_samples_leaf=5, n_estimators=50 ..........\n",
      "[CV]  max_features=log2, min_samples_leaf=5, n_estimators=50, score=0.770118, total=  18.9s\n",
      "[CV] max_features=log2, min_samples_leaf=5, n_estimators=50 ..........\n",
      "[CV]  max_features=log2, min_samples_leaf=5, n_estimators=50, score=0.771723, total=  19.2s\n",
      "[CV] max_features=log2, min_samples_leaf=5, n_estimators=100 .........\n",
      "[CV]  max_features=log2, min_samples_leaf=5, n_estimators=100, score=0.771128, total=  36.0s\n",
      "[CV] max_features=log2, min_samples_leaf=5, n_estimators=100 .........\n",
      "[CV]  max_features=log2, min_samples_leaf=5, n_estimators=100, score=0.770132, total=  35.9s\n",
      "[CV] max_features=log2, min_samples_leaf=5, n_estimators=100 .........\n",
      "[CV]  max_features=log2, min_samples_leaf=5, n_estimators=100, score=0.766868, total=  36.0s\n",
      "[CV] max_features=log2, min_samples_leaf=5, n_estimators=100 .........\n",
      "[CV]  max_features=log2, min_samples_leaf=5, n_estimators=100, score=0.773444, total=  36.2s\n",
      "[CV] max_features=log2, min_samples_leaf=5, n_estimators=100 .........\n",
      "[CV]  max_features=log2, min_samples_leaf=5, n_estimators=100, score=0.769691, total=  35.7s\n",
      "[CV] max_features=log2, min_samples_leaf=5, n_estimators=100 .........\n",
      "[CV]  max_features=log2, min_samples_leaf=5, n_estimators=100, score=0.765020, total=  35.9s\n",
      "[CV] max_features=log2, min_samples_leaf=5, n_estimators=100 .........\n",
      "[CV]  max_features=log2, min_samples_leaf=5, n_estimators=100, score=0.767412, total=  37.4s\n",
      "[CV] max_features=log2, min_samples_leaf=5, n_estimators=100 .........\n",
      "[CV]  max_features=log2, min_samples_leaf=5, n_estimators=100, score=0.766910, total=  36.1s\n",
      "[CV] max_features=log2, min_samples_leaf=5, n_estimators=100 .........\n",
      "[CV]  max_features=log2, min_samples_leaf=5, n_estimators=100, score=0.767654, total=  36.3s\n",
      "[CV] max_features=log2, min_samples_leaf=5, n_estimators=100 .........\n",
      "[CV]  max_features=log2, min_samples_leaf=5, n_estimators=100, score=0.773730, total=  36.0s\n",
      "[CV] max_features=log2, min_samples_leaf=10, n_estimators=50 .........\n",
      "[CV]  max_features=log2, min_samples_leaf=10, n_estimators=50, score=0.756178, total=  18.1s\n",
      "[CV] max_features=log2, min_samples_leaf=10, n_estimators=50 .........\n",
      "[CV]  max_features=log2, min_samples_leaf=10, n_estimators=50, score=0.753765, total=  18.2s\n",
      "[CV] max_features=log2, min_samples_leaf=10, n_estimators=50 .........\n",
      "[CV]  max_features=log2, min_samples_leaf=10, n_estimators=50, score=0.753839, total=  18.2s\n",
      "[CV] max_features=log2, min_samples_leaf=10, n_estimators=50 .........\n",
      "[CV]  max_features=log2, min_samples_leaf=10, n_estimators=50, score=0.756282, total=  18.2s\n",
      "[CV] max_features=log2, min_samples_leaf=10, n_estimators=50 .........\n",
      "[CV]  max_features=log2, min_samples_leaf=10, n_estimators=50, score=0.756713, total=  18.3s\n",
      "[CV] max_features=log2, min_samples_leaf=10, n_estimators=50 .........\n",
      "[CV]  max_features=log2, min_samples_leaf=10, n_estimators=50, score=0.750339, total=  18.2s\n",
      "[CV] max_features=log2, min_samples_leaf=10, n_estimators=50 .........\n",
      "[CV]  max_features=log2, min_samples_leaf=10, n_estimators=50, score=0.749113, total=  17.8s\n",
      "[CV] max_features=log2, min_samples_leaf=10, n_estimators=50 .........\n",
      "[CV]  max_features=log2, min_samples_leaf=10, n_estimators=50, score=0.750912, total=  17.7s\n",
      "[CV] max_features=log2, min_samples_leaf=10, n_estimators=50 .........\n",
      "[CV]  max_features=log2, min_samples_leaf=10, n_estimators=50, score=0.757026, total=  18.0s\n",
      "[CV] max_features=log2, min_samples_leaf=10, n_estimators=50 .........\n",
      "[CV]  max_features=log2, min_samples_leaf=10, n_estimators=50, score=0.760863, total=  17.8s\n",
      "[CV] max_features=log2, min_samples_leaf=10, n_estimators=100 ........\n",
      "[CV]  max_features=log2, min_samples_leaf=10, n_estimators=100, score=0.755583, total=  33.2s\n",
      "[CV] max_features=log2, min_samples_leaf=10, n_estimators=100 ........\n",
      "[CV]  max_features=log2, min_samples_leaf=10, n_estimators=100, score=0.755144, total=  33.8s\n",
      "[CV] max_features=log2, min_samples_leaf=10, n_estimators=100 ........\n",
      "[CV]  max_features=log2, min_samples_leaf=10, n_estimators=100, score=0.751023, total=  34.3s\n",
      "[CV] max_features=log2, min_samples_leaf=10, n_estimators=100 ........\n",
      "[CV]  max_features=log2, min_samples_leaf=10, n_estimators=100, score=0.758466, total=  34.1s\n",
      "[CV] max_features=log2, min_samples_leaf=10, n_estimators=100 ........\n",
      "[CV]  max_features=log2, min_samples_leaf=10, n_estimators=100, score=0.758501, total=  34.1s\n",
      "[CV] max_features=log2, min_samples_leaf=10, n_estimators=100 ........\n",
      "[CV]  max_features=log2, min_samples_leaf=10, n_estimators=100, score=0.751308, total=  34.1s\n",
      "[CV] max_features=log2, min_samples_leaf=10, n_estimators=100 ........\n",
      "[CV]  max_features=log2, min_samples_leaf=10, n_estimators=100, score=0.754069, total=  34.3s\n",
      "[CV] max_features=log2, min_samples_leaf=10, n_estimators=100 ........\n",
      "[CV]  max_features=log2, min_samples_leaf=10, n_estimators=100, score=0.751134, total=  34.8s\n",
      "[CV] max_features=log2, min_samples_leaf=10, n_estimators=100 ........\n",
      "[CV]  max_features=log2, min_samples_leaf=10, n_estimators=100, score=0.753628, total=  34.2s\n",
      "[CV] max_features=log2, min_samples_leaf=10, n_estimators=100 ........\n",
      "[CV]  max_features=log2, min_samples_leaf=10, n_estimators=100, score=0.759864, total=  34.3s\n",
      "[CV] max_features=log2, min_samples_leaf=50, n_estimators=50 .........\n",
      "[CV]  max_features=log2, min_samples_leaf=50, n_estimators=50, score=0.722897, total=  15.9s\n",
      "[CV] max_features=log2, min_samples_leaf=50, n_estimators=50 .........\n",
      "[CV]  max_features=log2, min_samples_leaf=50, n_estimators=50, score=0.727957, total=  15.9s\n",
      "[CV] max_features=log2, min_samples_leaf=50, n_estimators=50 .........\n",
      "[CV]  max_features=log2, min_samples_leaf=50, n_estimators=50, score=0.722718, total=  15.8s\n",
      "[CV] max_features=log2, min_samples_leaf=50, n_estimators=50 .........\n",
      "[CV]  max_features=log2, min_samples_leaf=50, n_estimators=50, score=0.728538, total=  16.0s\n",
      "[CV] max_features=log2, min_samples_leaf=50, n_estimators=50 .........\n",
      "[CV]  max_features=log2, min_samples_leaf=50, n_estimators=50, score=0.726537, total=  15.8s\n",
      "[CV] max_features=log2, min_samples_leaf=50, n_estimators=50 .........\n",
      "[CV]  max_features=log2, min_samples_leaf=50, n_estimators=50, score=0.719018, total=  15.7s\n",
      "[CV] max_features=log2, min_samples_leaf=50, n_estimators=50 .........\n",
      "[CV]  max_features=log2, min_samples_leaf=50, n_estimators=50, score=0.722191, total=  15.6s\n",
      "[CV] max_features=log2, min_samples_leaf=50, n_estimators=50 .........\n",
      "[CV]  max_features=log2, min_samples_leaf=50, n_estimators=50, score=0.722318, total=  15.9s\n",
      "[CV] max_features=log2, min_samples_leaf=50, n_estimators=50 .........\n",
      "[CV]  max_features=log2, min_samples_leaf=50, n_estimators=50, score=0.722966, total=  15.6s\n",
      "[CV] max_features=log2, min_samples_leaf=50, n_estimators=50 .........\n",
      "[CV]  max_features=log2, min_samples_leaf=50, n_estimators=50, score=0.731150, total=  15.9s\n",
      "[CV] max_features=log2, min_samples_leaf=50, n_estimators=100 ........\n",
      "[CV]  max_features=log2, min_samples_leaf=50, n_estimators=100, score=0.724290, total=  29.2s\n",
      "[CV] max_features=log2, min_samples_leaf=50, n_estimators=100 ........\n",
      "[CV]  max_features=log2, min_samples_leaf=50, n_estimators=100, score=0.723919, total=  29.3s\n",
      "[CV] max_features=log2, min_samples_leaf=50, n_estimators=100 ........\n",
      "[CV]  max_features=log2, min_samples_leaf=50, n_estimators=100, score=0.718633, total=  29.4s\n",
      "[CV] max_features=log2, min_samples_leaf=50, n_estimators=100 ........\n",
      "[CV]  max_features=log2, min_samples_leaf=50, n_estimators=100, score=0.727786, total=  29.5s\n",
      "[CV] max_features=log2, min_samples_leaf=50, n_estimators=100 ........\n",
      "[CV]  max_features=log2, min_samples_leaf=50, n_estimators=100, score=0.725967, total=  29.6s\n",
      "[CV] max_features=log2, min_samples_leaf=50, n_estimators=100 ........\n",
      "[CV]  max_features=log2, min_samples_leaf=50, n_estimators=100, score=0.721349, total=  29.7s\n",
      "[CV] max_features=log2, min_samples_leaf=50, n_estimators=100 ........\n",
      "[CV]  max_features=log2, min_samples_leaf=50, n_estimators=100, score=0.721040, total=  29.7s\n",
      "[CV] max_features=log2, min_samples_leaf=50, n_estimators=100 ........\n",
      "[CV]  max_features=log2, min_samples_leaf=50, n_estimators=100, score=0.721226, total=  29.3s\n",
      "[CV] max_features=log2, min_samples_leaf=50, n_estimators=100 ........\n",
      "[CV]  max_features=log2, min_samples_leaf=50, n_estimators=100, score=0.722054, total=  29.4s\n",
      "[CV] max_features=log2, min_samples_leaf=50, n_estimators=100 ........\n",
      "[CV]  max_features=log2, min_samples_leaf=50, n_estimators=100, score=0.731446, total=  28.9s\n",
      "[CV] max_features=log2, min_samples_leaf=100, n_estimators=50 ........\n",
      "[CV]  max_features=log2, min_samples_leaf=100, n_estimators=50, score=0.706727, total=  14.1s\n",
      "[CV] max_features=log2, min_samples_leaf=100, n_estimators=50 ........\n",
      "[CV]  max_features=log2, min_samples_leaf=100, n_estimators=50, score=0.709476, total=  14.0s\n",
      "[CV] max_features=log2, min_samples_leaf=100, n_estimators=50 ........\n",
      "[CV]  max_features=log2, min_samples_leaf=100, n_estimators=50, score=0.702897, total=  14.2s\n",
      "[CV] max_features=log2, min_samples_leaf=100, n_estimators=50 ........\n",
      "[CV]  max_features=log2, min_samples_leaf=100, n_estimators=50, score=0.710406, total=  13.9s\n",
      "[CV] max_features=log2, min_samples_leaf=100, n_estimators=50 ........\n",
      "[CV]  max_features=log2, min_samples_leaf=100, n_estimators=50, score=0.710826, total=  14.0s\n",
      "[CV] max_features=log2, min_samples_leaf=100, n_estimators=50 ........\n",
      "[CV]  max_features=log2, min_samples_leaf=100, n_estimators=50, score=0.703580, total=  14.7s\n",
      "[CV] max_features=log2, min_samples_leaf=100, n_estimators=50 ........\n",
      "[CV]  max_features=log2, min_samples_leaf=100, n_estimators=50, score=0.704260, total=  14.4s\n",
      "[CV] max_features=log2, min_samples_leaf=100, n_estimators=50 ........\n",
      "[CV]  max_features=log2, min_samples_leaf=100, n_estimators=50, score=0.707675, total=  14.5s\n",
      "[CV] max_features=log2, min_samples_leaf=100, n_estimators=50 ........\n",
      "[CV]  max_features=log2, min_samples_leaf=100, n_estimators=50, score=0.704474, total=  14.5s\n",
      "[CV] max_features=log2, min_samples_leaf=100, n_estimators=50 ........\n",
      "[CV]  max_features=log2, min_samples_leaf=100, n_estimators=50, score=0.713174, total=  14.8s\n",
      "[CV] max_features=log2, min_samples_leaf=100, n_estimators=100 .......\n",
      "[CV]  max_features=log2, min_samples_leaf=100, n_estimators=100, score=0.706537, total=  26.0s\n",
      "[CV] max_features=log2, min_samples_leaf=100, n_estimators=100 .......\n",
      "[CV]  max_features=log2, min_samples_leaf=100, n_estimators=100, score=0.708831, total=  26.3s\n",
      "[CV] max_features=log2, min_samples_leaf=100, n_estimators=100 .......\n",
      "[CV]  max_features=log2, min_samples_leaf=100, n_estimators=100, score=0.703920, total=  27.1s\n",
      "[CV] max_features=log2, min_samples_leaf=100, n_estimators=100 .......\n",
      "[CV]  max_features=log2, min_samples_leaf=100, n_estimators=100, score=0.713935, total=  27.5s\n",
      "[CV] max_features=log2, min_samples_leaf=100, n_estimators=100 .......\n",
      "[CV]  max_features=log2, min_samples_leaf=100, n_estimators=100, score=0.712668, total=  27.5s\n",
      "[CV] max_features=log2, min_samples_leaf=100, n_estimators=100 .......\n",
      "[CV]  max_features=log2, min_samples_leaf=100, n_estimators=100, score=0.709534, total=  26.0s\n",
      "[CV] max_features=log2, min_samples_leaf=100, n_estimators=100 .......\n",
      "[CV]  max_features=log2, min_samples_leaf=100, n_estimators=100, score=0.707275, total=  26.2s\n",
      "[CV] max_features=log2, min_samples_leaf=100, n_estimators=100 .......\n",
      "[CV]  max_features=log2, min_samples_leaf=100, n_estimators=100, score=0.707422, total=  27.3s\n",
      "[CV] max_features=log2, min_samples_leaf=100, n_estimators=100 .......\n",
      "[CV]  max_features=log2, min_samples_leaf=100, n_estimators=100, score=0.709410, total=  27.5s\n",
      "[CV] max_features=log2, min_samples_leaf=100, n_estimators=100 .......\n",
      "[CV]  max_features=log2, min_samples_leaf=100, n_estimators=100, score=0.711047, total=  27.5s\n"
     ]
    },
    {
     "name": "stderr",
     "output_type": "stream",
     "text": [
      "[Parallel(n_jobs=1)]: Done 300 out of 300 | elapsed: 180.4min finished\n"
     ]
    },
    {
     "data": {
      "text/plain": [
       "GridSearchCV(cv=10, error_score='raise',\n",
       "       estimator=RandomForestClassifier(bootstrap=True, class_weight='balanced',\n",
       "            criterion='gini', max_depth=None, max_features='auto',\n",
       "            max_leaf_nodes=None, min_impurity_split=1e-07,\n",
       "            min_samples_leaf=1, min_samples_split=2,\n",
       "            min_weight_fraction_leaf=0.0, n_estimators=10, n_jobs=4,\n",
       "            oob_score=False, random_state=None, verbose=0,\n",
       "            warm_start=False),\n",
       "       fit_params={}, iid=True, n_jobs=1,\n",
       "       param_grid={'max_features': [0.2, 'auto', 'log2'], 'n_estimators': [50, 100], 'min_samples_leaf': [1, 5, 10, 50, 100]},\n",
       "       pre_dispatch='2*n_jobs', refit=True, return_train_score=True,\n",
       "       scoring='f1', verbose=3)"
      ]
     },
     "execution_count": 22,
     "metadata": {},
     "output_type": "execute_result"
    }
   ],
   "source": [
    "grid_rf.fit(X_train, y_train)"
   ]
  },
  {
   "cell_type": "code",
   "execution_count": 23,
   "metadata": {
    "collapsed": false
   },
   "outputs": [
    {
     "name": "stdout",
     "output_type": "stream",
     "text": [
      "{'max_features': 0.2, 'min_samples_leaf': 1, 'n_estimators': 100}\n"
     ]
    }
   ],
   "source": [
    "print(grid_rf.best_params_)"
   ]
  },
  {
   "cell_type": "code",
   "execution_count": 24,
   "metadata": {
    "collapsed": true
   },
   "outputs": [],
   "source": [
    "grid_rf_pred = grid_rf.predict(X_test)"
   ]
  },
  {
   "cell_type": "code",
   "execution_count": 25,
   "metadata": {
    "collapsed": false
   },
   "outputs": [
    {
     "name": "stdout",
     "output_type": "stream",
     "text": [
      "             precision    recall  f1-score   support\n",
      "\n",
      "          0       0.95      0.94      0.95    148874\n",
      "          1       0.82      0.84      0.83     46205\n",
      "\n",
      "avg / total       0.92      0.92      0.92    195079\n",
      "\n"
     ]
    }
   ],
   "source": [
    "print(classification_report(grid_rf_pred, y_test))"
   ]
  },
  {
   "cell_type": "code",
   "execution_count": 26,
   "metadata": {
    "collapsed": false
   },
   "outputs": [
    {
     "name": "stdout",
     "output_type": "stream",
     "text": [
      "             precision    recall  f1-score   support\n",
      "\n",
      "          0       0.95      0.94      0.94    149036\n",
      "          1       0.81      0.84      0.82     46043\n",
      "\n",
      "avg / total       0.92      0.92      0.92    195079\n",
      "\n"
     ]
    }
   ],
   "source": [
    "opt_rf = RandomForestClassifier(n_estimators = 100, max_features = 0.2, min_samples_leaf = 1, class_weight='balanced')\n",
    "opt_rf.fit(X_train, y_train) \n",
    "opt_rf_pred = opt_rf.predict(X_test)\n",
    "print(classification_report(opt_rf_pred, y_test))"
   ]
  },
  {
   "cell_type": "markdown",
   "metadata": {},
   "source": [
    "<a id=\"cell4\"></a>\n",
    "## 4. Random Forest Feature Importances\n",
    "\n",
    "Let's examine which features are contributing most in the optimal Random Forest model. "
   ]
  },
  {
   "cell_type": "code",
   "execution_count": 27,
   "metadata": {
    "collapsed": false
   },
   "outputs": [
    {
     "name": "stdout",
     "output_type": "stream",
     "text": [
      "Feature ranking:\n",
      "1. feature TermInMonths (0.575866)\n",
      "2. feature SBAGuaranteedApprovalAdj (0.101732)\n",
      "3. feature SP_to2016 (0.097691)\n",
      "4. feature JobsSupported (0.047171)\n",
      "5. feature RevolverStatus (0.013784)\n",
      "6. feature INDIVIDUAL (0.007467)\n",
      "7. feature CA (0.006855)\n",
      "8. feature Retail Trade (0.005870)\n",
      "9. feature FL (0.004868)\n",
      "10. feature Construction (0.004829)\n",
      "11. feature Other Services (0.004709)\n",
      "12. feature Health Care & Social Assistance (0.004662)\n",
      "13. feature TX (0.004635)\n",
      "14. feature Manufacturing (0.004490)\n",
      "15. feature NY (0.004467)\n",
      "16. feature Professional, Scientific, & Technical Services (0.004407)\n",
      "17. feature Wholesale Trade (0.004002)\n",
      "18. feature FranchiseCodeBin (0.003866)\n",
      "19. feature PA (0.003514)\n",
      "20. feature OH (0.003276)\n",
      "21. feature Administrative/Support/Waste Management (0.003274)\n",
      "22. feature NJ (0.003119)\n",
      "23. feature Transportation & Warehousing (0.002974)\n",
      "24. feature GA (0.002890)\n",
      "25. feature IL (0.002762)\n",
      "26. feature MN (0.002755)\n",
      "27. feature PARTNERSHIP (0.002685)\n",
      "28. feature MA (0.002684)\n",
      "29. feature MI (0.002427)\n",
      "30. feature MO (0.002335)\n",
      "31. feature WI (0.002312)\n",
      "32. feature UT (0.002204)\n",
      "33. feature NC (0.002179)\n",
      "34. feature WA (0.002101)\n",
      "35. feature Arts, Entertainment, & Recreation (0.002060)\n",
      "36. feature IN (0.002046)\n",
      "37. feature PR (0.001989)\n",
      "38. feature MD (0.001971)\n",
      "39. feature CO (0.001949)\n",
      "40. feature Real Estate Rental & Leasing (0.001846)\n",
      "41. feature VA (0.001824)\n",
      "42. feature AZ (0.001823)\n",
      "43. feature CT (0.001782)\n",
      "44. feature MT (0.001763)\n",
      "45. feature Information (0.001740)\n",
      "46. feature IA (0.001672)\n",
      "47. feature TN (0.001639)\n",
      "48. feature Agriculture (0.001622)\n",
      "49. feature KS (0.001561)\n",
      "50. feature NH (0.001550)\n",
      "51. feature OK (0.001545)\n",
      "52. feature MS (0.001428)\n",
      "53. feature OR (0.001404)\n",
      "54. feature ME (0.001404)\n",
      "55. feature KY (0.001394)\n",
      "56. feature LA (0.001328)\n",
      "57. feature RI (0.001318)\n",
      "58. feature Finance & Insurance (0.001301)\n",
      "59. feature NE (0.001191)\n",
      "60. feature AL (0.001139)\n",
      "61. feature Educational Services (0.001120)\n",
      "62. feature NV (0.001120)\n",
      "63. feature ID (0.001119)\n",
      "64. feature ND (0.001116)\n",
      "65. feature VT (0.001083)\n",
      "66. feature AR (0.001031)\n",
      "67. feature NM (0.000945)\n",
      "68. feature SC (0.000916)\n",
      "69. feature HI (0.000897)\n",
      "70. feature WV (0.000727)\n",
      "71. feature Mining (0.000580)\n",
      "72. feature SD (0.000553)\n",
      "73. feature WY (0.000548)\n",
      "74. feature DE (0.000468)\n",
      "75. feature DC (0.000357)\n",
      "76. feature Utilities (0.000163)\n",
      "77. feature Public Administration (0.000058)\n",
      "78. feature Management of Companies & Enterprises (0.000049)\n"
     ]
    },
    {
     "data": {
      "text/plain": [
       "<matplotlib.figure.Figure at 0x114f66940>"
      ]
     },
     "metadata": {},
     "output_type": "display_data"
    }
   ],
   "source": [
    "#Feature ranking for random forest\n",
    "fig = plt.figure(figsize = (10,5))\n",
    "importances = opt_rf.feature_importances_\n",
    "std = np.std([tree.feature_importances_ for tree in opt_rf.estimators_],\n",
    "            axis=0)\n",
    "indices = np.argsort(importances)[::-1]\n",
    "fts = list(X_train.columns)\n",
    "# Print the feature ranking\n",
    "print(\"Feature ranking:\")\n",
    "\n",
    "for f in range(X_train.shape[1]):\n",
    "   print(\"%d. feature %s (%f)\" % (f + 1, fts[indices[f]], importances[indices[f]]))\n"
   ]
  },
  {
   "cell_type": "code",
   "execution_count": 28,
   "metadata": {
    "collapsed": false
   },
   "outputs": [
    {
     "data": {
      "image/png": "[encoded data removed]",
      "text/plain": [
       "<matplotlib.figure.Figure at 0x114f7d240>"
      ]
     },
     "metadata": {},
     "output_type": "display_data"
    }
   ],
   "source": [
    "# Plot the top ten feature importances of the optimized random forest method\n",
    "importances = opt_rf.feature_importances_\n",
    "std = np.std([tree.feature_importances_ for tree in opt_rf.estimators_],\n",
    "             axis=0)\n",
    "indices = np.argsort(importances)[::-1]\n",
    "\n",
    "# Plot the feature importances of the forest\n",
    "fig = plt.figure(figsize = (10,5))\n",
    "\n",
    "plt.title(\"Feature Importances\")\n",
    "plt.barh(range(10), importances[indices][0:10][::-1],\n",
    "       color=\"r\", xerr = std[indices][0:10][::-1], align=\"center\")\n",
    "# If you want to define your own labels,\n",
    "# change indices to a list of labels on the following line.\n",
    "plt.yticks(range(10), ['Term in Months', 'Amount', 'S&P 1500', 'Jobs Supported', 'Revolver Status',\n",
    "                      'Individual', 'CA', 'Retail Trade', 'Construction', 'FL'][::-1])\n",
    "    \n",
    "plt.yticks(range(10))\n",
    "plt.ylim([-1,10])\n",
    "plt.tight_layout()\n",
    "\n",
    "\n",
    "fig.savefig('OPTIMAL_RF_FImportance.png', dpi = 300)"
   ]
  },
  {
   "cell_type": "markdown",
   "metadata": {},
   "source": [
    "Since Random Forests are nonlinear classifiers and we cannot tell if these features are having a negative or positive effect, let's try to infer the direction from the original data. "
   ]
  },
  {
   "cell_type": "code",
   "execution_count": 29,
   "metadata": {
    "collapsed": false
   },
   "outputs": [
    {
     "name": "stdout",
     "output_type": "stream",
     "text": [
      "-311.664506627 0.0\n"
     ]
    }
   ],
   "source": [
    "# Check if there is a difference in mean duration\n",
    "import scipy\n",
    "from scipy.stats import ttest_ind\n",
    "t, prob = scipy.stats.ttest_ind(data[data['PIF']==0]['TermInMonths'], data[data['PIF']==1]['TermInMonths'] )\n",
    "print(t, prob)"
   ]
  },
  {
   "cell_type": "markdown",
   "metadata": {},
   "source": [
    "Looks like duration is significantly longer for paid in full loans. "
   ]
  },
  {
   "cell_type": "code",
   "execution_count": 30,
   "metadata": {
    "collapsed": false
   },
   "outputs": [
    {
     "name": "stdout",
     "output_type": "stream",
     "text": [
      "-33.4039391709 1.94024593685e-244\n"
     ]
    }
   ],
   "source": [
    "# Check if there is a difference in mean amount\n",
    "t, prob = scipy.stats.ttest_ind(data[data['PIF']==0]['SBAGuaranteedApprovalAdj'], data[data['PIF']==1]['SBAGuaranteedApprovalAdj'] )\n",
    "print(t, prob)"
   ]
  },
  {
   "cell_type": "markdown",
   "metadata": {},
   "source": [
    "Average amount is lower for defaulted loans. "
   ]
  },
  {
   "cell_type": "code",
   "execution_count": 31,
   "metadata": {
    "collapsed": false
   },
   "outputs": [
    {
     "name": "stdout",
     "output_type": "stream",
     "text": [
      "5.73036927693 1.00256282317e-08\n"
     ]
    }
   ],
   "source": [
    "# Check if there is a difference in mean number of jobs\n",
    "t, prob = scipy.stats.ttest_ind(data[data['PIF']==0]['JobsSupported'], data[data['PIF']==1]['JobsSupported'] )\n",
    "print(t, prob)"
   ]
  },
  {
   "cell_type": "code",
   "execution_count": 32,
   "metadata": {
    "collapsed": true
   },
   "outputs": [],
   "source": [
    "#Examine loans with TermDuration = 84\n",
    "data_84 = data[data['TermInMonths'] == 84]\n",
    "data_84.reset_index(inplace=True, drop = True)"
   ]
  },
  {
   "cell_type": "code",
   "execution_count": 33,
   "metadata": {
    "collapsed": false
   },
   "outputs": [
    {
     "data": {
      "text/plain": [
       "1    206616\n",
       "0      1157\n",
       "Name: PIF, dtype: int64"
      ]
     },
     "execution_count": 33,
     "metadata": {},
     "output_type": "execute_result"
    }
   ],
   "source": [
    "data_84['PIF'].value_counts()"
   ]
  },
  {
   "cell_type": "markdown",
   "metadata": {},
   "source": [
    "For loans of duration = 84 months, < 0.5% default!"
   ]
  },
  {
   "cell_type": "markdown",
   "metadata": {},
   "source": [
    "<a id=\"cell5\"></a>\n",
    "## 5. Focusing on Shorter Duration Loans\n",
    "\n",
    "Let's examine loans with duration < 84 months and repeat all the steps from above without TermInMonths. "
   ]
  },
  {
   "cell_type": "code",
   "execution_count": 34,
   "metadata": {
    "collapsed": true
   },
   "outputs": [],
   "source": [
    "# Consider only loans with TermDuration < 84\n",
    "data_l84 = data[data['TermInMonths'] < 84]\n",
    "data.reset_index(inplace = True, drop = True)\n",
    "\n",
    "target_l84 = y = (1 - data[data['TermInMonths'] < 84]['PIF'])"
   ]
  },
  {
   "cell_type": "code",
   "execution_count": 35,
   "metadata": {
    "collapsed": true
   },
   "outputs": [],
   "source": [
    "# Split into training and testing data as before\n",
    "X_train_l84, X_test_l84, y_train_l84, y_test_l84 = train_test_split(data_l84.drop(['TermInMonths',  'PIF'],axis = 1), \n",
    "                                                                target_l84, \n",
    "                                                                stratify = target_l84,\n",
    "                                                                test_size = 0.30, random_state = 101)"
   ]
  },
  {
   "cell_type": "code",
   "execution_count": 36,
   "metadata": {
    "collapsed": false
   },
   "outputs": [
    {
     "name": "stdout",
     "output_type": "stream",
     "text": [
      "             precision    recall  f1-score   support\n",
      "\n",
      "          0       0.59      0.15      0.24     51666\n",
      "          1       0.46      0.87      0.60     41974\n",
      "\n",
      "avg / total       0.53      0.48      0.40     93640\n",
      "\n"
     ]
    }
   ],
   "source": [
    "# Logistic Regression Classification \n",
    "logmodel_l84 = LogisticRegression(class_weight = 'balanced')\n",
    "logmodel_l84.fit(X_train_l84, y_train_l84)\n",
    "lm_l84_pred = logmodel_l84.predict(X_test_l84)\n",
    "print(classification_report(y_test_l84, lm_l84_pred))"
   ]
  },
  {
   "cell_type": "code",
   "execution_count": 37,
   "metadata": {
    "collapsed": false
   },
   "outputs": [
    {
     "name": "stdout",
     "output_type": "stream",
     "text": [
      "Fitting 3 folds for each of 13 candidates, totalling 39 fits\n"
     ]
    },
    {
     "name": "stderr",
     "output_type": "stream",
     "text": [
      "[Parallel(n_jobs=1)]: Done  39 out of  39 | elapsed:  1.2min finished\n"
     ]
    },
    {
     "name": "stdout",
     "output_type": "stream",
     "text": [
      "{'C': 0.001}\n"
     ]
    }
   ],
   "source": [
    "# GridSearch for Logistic Regression\n",
    "param_grid = {'C': [0.001, 0.005, 0.1, 0.5, 1, 5, 10, 50, 100, 500, 1000, 5000, 10000]}\n",
    "grid_l84 = GridSearchCV(LogisticRegression(class_weight = 'balanced'), param_grid, refit=True,verbose=1)\n",
    "grid_l84.fit(X_train_l84, y_train_l84)\n",
    "print(grid_l84.best_params_)\n",
    "\n"
   ]
  },
  {
   "cell_type": "code",
   "execution_count": 38,
   "metadata": {
    "collapsed": false
   },
   "outputs": [
    {
     "name": "stdout",
     "output_type": "stream",
     "text": [
      "             precision    recall  f1-score   support\n",
      "\n",
      "          0       0.59      0.15      0.24     51666\n",
      "          1       0.46      0.87      0.60     41974\n",
      "\n",
      "avg / total       0.53      0.48      0.40     93640\n",
      "\n"
     ]
    }
   ],
   "source": [
    "grid_l84_pred = grid_l84.predict(X_test_l84)\n",
    "\n",
    "print(classification_report(y_test_l84, grid_l84_pred))"
   ]
  },
  {
   "cell_type": "markdown",
   "metadata": {},
   "source": [
    "Again, Logistic Regression does not seem to be sufficient.\n",
    "We will again tune hyperparamters for Random Forest using grid search with cross validation. "
   ]
  },
  {
   "cell_type": "code",
   "execution_count": 39,
   "metadata": {
    "collapsed": true
   },
   "outputs": [],
   "source": [
    "# GridSearch for Random Forest\n",
    "param_grid = {'max_features': [0.2, 'auto', 'log2'],\n",
    "              'n_estimators': [50, 100], 'min_samples_leaf': [1, 5, 10, 50, 100]}\n",
    "grid_rf_l84 = GridSearchCV(RandomForestClassifier(class_weight = 'balanced', n_jobs = 4),\n",
    "                param_grid, cv = 10, refit = True, verbose = 3, scoring = 'f1')\n"
   ]
  },
  {
   "cell_type": "code",
   "execution_count": 40,
   "metadata": {
    "collapsed": false
   },
   "outputs": [
    {
     "name": "stdout",
     "output_type": "stream",
     "text": [
      "Fitting 10 folds for each of 30 candidates, totalling 300 fits\n",
      "[CV] max_features=0.2, min_samples_leaf=1, n_estimators=50 ...........\n",
      "[CV]  max_features=0.2, min_samples_leaf=1, n_estimators=50, score=0.666631, total=  12.8s\n",
      "[CV] max_features=0.2, min_samples_leaf=1, n_estimators=50 ...........\n"
     ]
    },
    {
     "name": "stderr",
     "output_type": "stream",
     "text": [
      "[Parallel(n_jobs=1)]: Done   1 out of   1 | elapsed:   15.0s remaining:    0.0s\n"
     ]
    },
    {
     "name": "stdout",
     "output_type": "stream",
     "text": [
      "[CV]  max_features=0.2, min_samples_leaf=1, n_estimators=50, score=0.662346, total=  12.9s\n",
      "[CV] max_features=0.2, min_samples_leaf=1, n_estimators=50 ...........\n"
     ]
    },
    {
     "name": "stderr",
     "output_type": "stream",
     "text": [
      "[Parallel(n_jobs=1)]: Done   2 out of   2 | elapsed:   30.2s remaining:    0.0s\n"
     ]
    },
    {
     "name": "stdout",
     "output_type": "stream",
     "text": [
      "[CV]  max_features=0.2, min_samples_leaf=1, n_estimators=50, score=0.654345, total=  12.8s\n",
      "[CV] max_features=0.2, min_samples_leaf=1, n_estimators=50 ...........\n",
      "[CV]  max_features=0.2, min_samples_leaf=1, n_estimators=50, score=0.663999, total=  12.8s\n",
      "[CV] max_features=0.2, min_samples_leaf=1, n_estimators=50 ...........\n",
      "[CV]  max_features=0.2, min_samples_leaf=1, n_estimators=50, score=0.660588, total=  12.2s\n",
      "[CV] max_features=0.2, min_samples_leaf=1, n_estimators=50 ...........\n",
      "[CV]  max_features=0.2, min_samples_leaf=1, n_estimators=50, score=0.659413, total=  12.3s\n",
      "[CV] max_features=0.2, min_samples_leaf=1, n_estimators=50 ...........\n",
      "[CV]  max_features=0.2, min_samples_leaf=1, n_estimators=50, score=0.662374, total=  12.1s\n",
      "[CV] max_features=0.2, min_samples_leaf=1, n_estimators=50 ...........\n",
      "[CV]  max_features=0.2, min_samples_leaf=1, n_estimators=50, score=0.653367, total=  12.3s\n",
      "[CV] max_features=0.2, min_samples_leaf=1, n_estimators=50 ...........\n",
      "[CV]  max_features=0.2, min_samples_leaf=1, n_estimators=50, score=0.661986, total=  12.8s\n",
      "[CV] max_features=0.2, min_samples_leaf=1, n_estimators=50 ...........\n",
      "[CV]  max_features=0.2, min_samples_leaf=1, n_estimators=50, score=0.664318, total=  12.7s\n",
      "[CV] max_features=0.2, min_samples_leaf=1, n_estimators=100 ..........\n",
      "[CV]  max_features=0.2, min_samples_leaf=1, n_estimators=100, score=0.667977, total=  24.8s\n",
      "[CV] max_features=0.2, min_samples_leaf=1, n_estimators=100 ..........\n",
      "[CV]  max_features=0.2, min_samples_leaf=1, n_estimators=100, score=0.669225, total=  24.2s\n",
      "[CV] max_features=0.2, min_samples_leaf=1, n_estimators=100 ..........\n",
      "[CV]  max_features=0.2, min_samples_leaf=1, n_estimators=100, score=0.663436, total=  24.4s\n",
      "[CV] max_features=0.2, min_samples_leaf=1, n_estimators=100 ..........\n",
      "[CV]  max_features=0.2, min_samples_leaf=1, n_estimators=100, score=0.666844, total=  24.7s\n",
      "[CV] max_features=0.2, min_samples_leaf=1, n_estimators=100 ..........\n",
      "[CV]  max_features=0.2, min_samples_leaf=1, n_estimators=100, score=0.664641, total=  24.5s\n",
      "[CV] max_features=0.2, min_samples_leaf=1, n_estimators=100 ..........\n",
      "[CV]  max_features=0.2, min_samples_leaf=1, n_estimators=100, score=0.664548, total=  24.9s\n",
      "[CV] max_features=0.2, min_samples_leaf=1, n_estimators=100 ..........\n",
      "[CV]  max_features=0.2, min_samples_leaf=1, n_estimators=100, score=0.668228, total=  24.5s\n",
      "[CV] max_features=0.2, min_samples_leaf=1, n_estimators=100 ..........\n",
      "[CV]  max_features=0.2, min_samples_leaf=1, n_estimators=100, score=0.659651, total=  23.3s\n",
      "[CV] max_features=0.2, min_samples_leaf=1, n_estimators=100 ..........\n",
      "[CV]  max_features=0.2, min_samples_leaf=1, n_estimators=100, score=0.665133, total=  23.4s\n",
      "[CV] max_features=0.2, min_samples_leaf=1, n_estimators=100 ..........\n",
      "[CV]  max_features=0.2, min_samples_leaf=1, n_estimators=100, score=0.668154, total=  27.4s\n",
      "[CV] max_features=0.2, min_samples_leaf=5, n_estimators=50 ...........\n",
      "[CV]  max_features=0.2, min_samples_leaf=5, n_estimators=50, score=0.692674, total=  13.4s\n",
      "[CV] max_features=0.2, min_samples_leaf=5, n_estimators=50 ...........\n",
      "[CV]  max_features=0.2, min_samples_leaf=5, n_estimators=50, score=0.696114, total=  13.9s\n",
      "[CV] max_features=0.2, min_samples_leaf=5, n_estimators=50 ...........\n",
      "[CV]  max_features=0.2, min_samples_leaf=5, n_estimators=50, score=0.685529, total=  13.3s\n",
      "[CV] max_features=0.2, min_samples_leaf=5, n_estimators=50 ...........\n",
      "[CV]  max_features=0.2, min_samples_leaf=5, n_estimators=50, score=0.694882, total=  13.0s\n",
      "[CV] max_features=0.2, min_samples_leaf=5, n_estimators=50 ...........\n",
      "[CV]  max_features=0.2, min_samples_leaf=5, n_estimators=50, score=0.689659, total=  12.0s\n",
      "[CV] max_features=0.2, min_samples_leaf=5, n_estimators=50 ...........\n",
      "[CV]  max_features=0.2, min_samples_leaf=5, n_estimators=50, score=0.693180, total=  12.2s\n",
      "[CV] max_features=0.2, min_samples_leaf=5, n_estimators=50 ...........\n",
      "[CV]  max_features=0.2, min_samples_leaf=5, n_estimators=50, score=0.689121, total=  11.9s\n",
      "[CV] max_features=0.2, min_samples_leaf=5, n_estimators=50 ...........\n",
      "[CV]  max_features=0.2, min_samples_leaf=5, n_estimators=50, score=0.687010, total=  12.2s\n",
      "[CV] max_features=0.2, min_samples_leaf=5, n_estimators=50 ...........\n",
      "[CV]  max_features=0.2, min_samples_leaf=5, n_estimators=50, score=0.692253, total=  12.1s\n",
      "[CV] max_features=0.2, min_samples_leaf=5, n_estimators=50 ...........\n",
      "[CV]  max_features=0.2, min_samples_leaf=5, n_estimators=50, score=0.690586, total=  12.0s\n",
      "[CV] max_features=0.2, min_samples_leaf=5, n_estimators=100 ..........\n",
      "[CV]  max_features=0.2, min_samples_leaf=5, n_estimators=100, score=0.691629, total=  22.9s\n",
      "[CV] max_features=0.2, min_samples_leaf=5, n_estimators=100 ..........\n",
      "[CV]  max_features=0.2, min_samples_leaf=5, n_estimators=100, score=0.695212, total=  23.0s\n",
      "[CV] max_features=0.2, min_samples_leaf=5, n_estimators=100 ..........\n",
      "[CV]  max_features=0.2, min_samples_leaf=5, n_estimators=100, score=0.687300, total=  22.8s\n",
      "[CV] max_features=0.2, min_samples_leaf=5, n_estimators=100 ..........\n",
      "[CV]  max_features=0.2, min_samples_leaf=5, n_estimators=100, score=0.696874, total=  23.1s\n",
      "[CV] max_features=0.2, min_samples_leaf=5, n_estimators=100 ..........\n",
      "[CV]  max_features=0.2, min_samples_leaf=5, n_estimators=100, score=0.690774, total=  23.0s\n",
      "[CV] max_features=0.2, min_samples_leaf=5, n_estimators=100 ..........\n",
      "[CV]  max_features=0.2, min_samples_leaf=5, n_estimators=100, score=0.690841, total=  21.5s\n",
      "[CV] max_features=0.2, min_samples_leaf=5, n_estimators=100 ..........\n",
      "[CV]  max_features=0.2, min_samples_leaf=5, n_estimators=100, score=0.690620, total=  21.3s\n",
      "[CV] max_features=0.2, min_samples_leaf=5, n_estimators=100 ..........\n",
      "[CV]  max_features=0.2, min_samples_leaf=5, n_estimators=100, score=0.685525, total=  21.3s\n",
      "[CV] max_features=0.2, min_samples_leaf=5, n_estimators=100 ..........\n",
      "[CV]  max_features=0.2, min_samples_leaf=5, n_estimators=100, score=0.692362, total=  22.1s\n",
      "[CV] max_features=0.2, min_samples_leaf=5, n_estimators=100 ..........\n",
      "[CV]  max_features=0.2, min_samples_leaf=5, n_estimators=100, score=0.690668, total=  22.4s\n",
      "[CV] max_features=0.2, min_samples_leaf=10, n_estimators=50 ..........\n",
      "[CV]  max_features=0.2, min_samples_leaf=10, n_estimators=50, score=0.692118, total=  11.3s\n",
      "[CV] max_features=0.2, min_samples_leaf=10, n_estimators=50 ..........\n",
      "[CV]  max_features=0.2, min_samples_leaf=10, n_estimators=50, score=0.693815, total=  11.3s\n",
      "[CV] max_features=0.2, min_samples_leaf=10, n_estimators=50 ..........\n",
      "[CV]  max_features=0.2, min_samples_leaf=10, n_estimators=50, score=0.682205, total=  11.0s\n",
      "[CV] max_features=0.2, min_samples_leaf=10, n_estimators=50 ..........\n",
      "[CV]  max_features=0.2, min_samples_leaf=10, n_estimators=50, score=0.694467, total=  11.2s\n",
      "[CV] max_features=0.2, min_samples_leaf=10, n_estimators=50 ..........\n",
      "[CV]  max_features=0.2, min_samples_leaf=10, n_estimators=50, score=0.689959, total=  11.2s\n",
      "[CV] max_features=0.2, min_samples_leaf=10, n_estimators=50 ..........\n",
      "[CV]  max_features=0.2, min_samples_leaf=10, n_estimators=50, score=0.692199, total=  11.3s\n",
      "[CV] max_features=0.2, min_samples_leaf=10, n_estimators=50 ..........\n",
      "[CV]  max_features=0.2, min_samples_leaf=10, n_estimators=50, score=0.689301, total=  11.0s\n",
      "[CV] max_features=0.2, min_samples_leaf=10, n_estimators=50 ..........\n",
      "[CV]  max_features=0.2, min_samples_leaf=10, n_estimators=50, score=0.687370, total=  11.0s\n",
      "[CV] max_features=0.2, min_samples_leaf=10, n_estimators=50 ..........\n",
      "[CV]  max_features=0.2, min_samples_leaf=10, n_estimators=50, score=0.686790, total=  11.0s\n",
      "[CV] max_features=0.2, min_samples_leaf=10, n_estimators=50 ..........\n",
      "[CV]  max_features=0.2, min_samples_leaf=10, n_estimators=50, score=0.690208, total=  11.1s\n",
      "[CV] max_features=0.2, min_samples_leaf=10, n_estimators=100 .........\n",
      "[CV]  max_features=0.2, min_samples_leaf=10, n_estimators=100, score=0.691316, total=  21.2s\n",
      "[CV] max_features=0.2, min_samples_leaf=10, n_estimators=100 .........\n",
      "[CV]  max_features=0.2, min_samples_leaf=10, n_estimators=100, score=0.694139, total=  21.2s\n",
      "[CV] max_features=0.2, min_samples_leaf=10, n_estimators=100 .........\n",
      "[CV]  max_features=0.2, min_samples_leaf=10, n_estimators=100, score=0.682364, total=  21.2s\n",
      "[CV] max_features=0.2, min_samples_leaf=10, n_estimators=100 .........\n",
      "[CV]  max_features=0.2, min_samples_leaf=10, n_estimators=100, score=0.697410, total=  21.5s\n",
      "[CV] max_features=0.2, min_samples_leaf=10, n_estimators=100 .........\n",
      "[CV]  max_features=0.2, min_samples_leaf=10, n_estimators=100, score=0.690258, total=  21.0s\n",
      "[CV] max_features=0.2, min_samples_leaf=10, n_estimators=100 .........\n",
      "[CV]  max_features=0.2, min_samples_leaf=10, n_estimators=100, score=0.691985, total=  21.3s\n",
      "[CV] max_features=0.2, min_samples_leaf=10, n_estimators=100 .........\n",
      "[CV]  max_features=0.2, min_samples_leaf=10, n_estimators=100, score=0.690051, total=  20.1s\n",
      "[CV] max_features=0.2, min_samples_leaf=10, n_estimators=100 .........\n",
      "[CV]  max_features=0.2, min_samples_leaf=10, n_estimators=100, score=0.684269, total=  20.0s\n",
      "[CV] max_features=0.2, min_samples_leaf=10, n_estimators=100 .........\n",
      "[CV]  max_features=0.2, min_samples_leaf=10, n_estimators=100, score=0.689323, total=  20.1s\n",
      "[CV] max_features=0.2, min_samples_leaf=10, n_estimators=100 .........\n",
      "[CV]  max_features=0.2, min_samples_leaf=10, n_estimators=100, score=0.692834, total=  20.3s\n",
      "[CV] max_features=0.2, min_samples_leaf=50, n_estimators=50 ..........\n",
      "[CV]  max_features=0.2, min_samples_leaf=50, n_estimators=50, score=0.680299, total=   9.3s\n",
      "[CV] max_features=0.2, min_samples_leaf=50, n_estimators=50 ..........\n",
      "[CV]  max_features=0.2, min_samples_leaf=50, n_estimators=50, score=0.681666, total=   9.2s\n",
      "[CV] max_features=0.2, min_samples_leaf=50, n_estimators=50 ..........\n",
      "[CV]  max_features=0.2, min_samples_leaf=50, n_estimators=50, score=0.669693, total=   9.3s\n",
      "[CV] max_features=0.2, min_samples_leaf=50, n_estimators=50 ..........\n",
      "[CV]  max_features=0.2, min_samples_leaf=50, n_estimators=50, score=0.685892, total=   9.3s\n",
      "[CV] max_features=0.2, min_samples_leaf=50, n_estimators=50 ..........\n",
      "[CV]  max_features=0.2, min_samples_leaf=50, n_estimators=50, score=0.679000, total=   9.2s\n",
      "[CV] max_features=0.2, min_samples_leaf=50, n_estimators=50 ..........\n",
      "[CV]  max_features=0.2, min_samples_leaf=50, n_estimators=50, score=0.681488, total=   9.2s\n",
      "[CV] max_features=0.2, min_samples_leaf=50, n_estimators=50 ..........\n",
      "[CV]  max_features=0.2, min_samples_leaf=50, n_estimators=50, score=0.679586, total=   9.1s\n",
      "[CV] max_features=0.2, min_samples_leaf=50, n_estimators=50 ..........\n",
      "[CV]  max_features=0.2, min_samples_leaf=50, n_estimators=50, score=0.674875, total=   9.4s\n",
      "[CV] max_features=0.2, min_samples_leaf=50, n_estimators=50 ..........\n",
      "[CV]  max_features=0.2, min_samples_leaf=50, n_estimators=50, score=0.671800, total=   9.3s\n",
      "[CV] max_features=0.2, min_samples_leaf=50, n_estimators=50 ..........\n",
      "[CV]  max_features=0.2, min_samples_leaf=50, n_estimators=50, score=0.678400, total=   9.1s\n",
      "[CV] max_features=0.2, min_samples_leaf=50, n_estimators=100 .........\n",
      "[CV]  max_features=0.2, min_samples_leaf=50, n_estimators=100, score=0.679835, total=  17.5s\n",
      "[CV] max_features=0.2, min_samples_leaf=50, n_estimators=100 .........\n",
      "[CV]  max_features=0.2, min_samples_leaf=50, n_estimators=100, score=0.684237, total=  17.4s\n",
      "[CV] max_features=0.2, min_samples_leaf=50, n_estimators=100 .........\n",
      "[CV]  max_features=0.2, min_samples_leaf=50, n_estimators=100, score=0.671817, total=  17.4s\n",
      "[CV] max_features=0.2, min_samples_leaf=50, n_estimators=100 .........\n",
      "[CV]  max_features=0.2, min_samples_leaf=50, n_estimators=100, score=0.685309, total=  17.3s\n",
      "[CV] max_features=0.2, min_samples_leaf=50, n_estimators=100 .........\n",
      "[CV]  max_features=0.2, min_samples_leaf=50, n_estimators=100, score=0.680435, total=  17.4s\n",
      "[CV] max_features=0.2, min_samples_leaf=50, n_estimators=100 .........\n",
      "[CV]  max_features=0.2, min_samples_leaf=50, n_estimators=100, score=0.681511, total=  17.2s\n",
      "[CV] max_features=0.2, min_samples_leaf=50, n_estimators=100 .........\n",
      "[CV]  max_features=0.2, min_samples_leaf=50, n_estimators=100, score=0.678700, total=  17.6s\n",
      "[CV] max_features=0.2, min_samples_leaf=50, n_estimators=100 .........\n",
      "[CV]  max_features=0.2, min_samples_leaf=50, n_estimators=100, score=0.675334, total=  17.4s\n",
      "[CV] max_features=0.2, min_samples_leaf=50, n_estimators=100 .........\n",
      "[CV]  max_features=0.2, min_samples_leaf=50, n_estimators=100, score=0.674762, total=  17.5s\n",
      "[CV] max_features=0.2, min_samples_leaf=50, n_estimators=100 .........\n",
      "[CV]  max_features=0.2, min_samples_leaf=50, n_estimators=100, score=0.680127, total=  17.1s\n",
      "[CV] max_features=0.2, min_samples_leaf=100, n_estimators=50 .........\n",
      "[CV]  max_features=0.2, min_samples_leaf=100, n_estimators=50, score=0.672168, total=   8.3s\n",
      "[CV] max_features=0.2, min_samples_leaf=100, n_estimators=50 .........\n",
      "[CV]  max_features=0.2, min_samples_leaf=100, n_estimators=50, score=0.675879, total=   8.5s\n",
      "[CV] max_features=0.2, min_samples_leaf=100, n_estimators=50 .........\n",
      "[CV]  max_features=0.2, min_samples_leaf=100, n_estimators=50, score=0.663309, total=   8.2s\n",
      "[CV] max_features=0.2, min_samples_leaf=100, n_estimators=50 .........\n",
      "[CV]  max_features=0.2, min_samples_leaf=100, n_estimators=50, score=0.678086, total=   8.4s\n",
      "[CV] max_features=0.2, min_samples_leaf=100, n_estimators=50 .........\n",
      "[CV]  max_features=0.2, min_samples_leaf=100, n_estimators=50, score=0.674120, total=   8.0s\n",
      "[CV] max_features=0.2, min_samples_leaf=100, n_estimators=50 .........\n",
      "[CV]  max_features=0.2, min_samples_leaf=100, n_estimators=50, score=0.674442, total=   8.0s\n",
      "[CV] max_features=0.2, min_samples_leaf=100, n_estimators=50 .........\n",
      "[CV]  max_features=0.2, min_samples_leaf=100, n_estimators=50, score=0.672260, total=   7.8s\n",
      "[CV] max_features=0.2, min_samples_leaf=100, n_estimators=50 .........\n",
      "[CV]  max_features=0.2, min_samples_leaf=100, n_estimators=50, score=0.669740, total=   7.8s\n",
      "[CV] max_features=0.2, min_samples_leaf=100, n_estimators=50 .........\n",
      "[CV]  max_features=0.2, min_samples_leaf=100, n_estimators=50, score=0.666465, total=   8.0s\n",
      "[CV] max_features=0.2, min_samples_leaf=100, n_estimators=50 .........\n",
      "[CV]  max_features=0.2, min_samples_leaf=100, n_estimators=50, score=0.670716, total=   7.8s\n",
      "[CV] max_features=0.2, min_samples_leaf=100, n_estimators=100 ........\n",
      "[CV]  max_features=0.2, min_samples_leaf=100, n_estimators=100, score=0.674741, total=  14.7s\n",
      "[CV] max_features=0.2, min_samples_leaf=100, n_estimators=100 ........\n",
      "[CV]  max_features=0.2, min_samples_leaf=100, n_estimators=100, score=0.677191, total=  14.7s\n",
      "[CV] max_features=0.2, min_samples_leaf=100, n_estimators=100 ........\n",
      "[CV]  max_features=0.2, min_samples_leaf=100, n_estimators=100, score=0.665628, total=  15.5s\n",
      "[CV] max_features=0.2, min_samples_leaf=100, n_estimators=100 ........\n",
      "[CV]  max_features=0.2, min_samples_leaf=100, n_estimators=100, score=0.680328, total=  15.5s\n",
      "[CV] max_features=0.2, min_samples_leaf=100, n_estimators=100 ........\n",
      "[CV]  max_features=0.2, min_samples_leaf=100, n_estimators=100, score=0.673725, total=  15.7s\n",
      "[CV] max_features=0.2, min_samples_leaf=100, n_estimators=100 ........\n",
      "[CV]  max_features=0.2, min_samples_leaf=100, n_estimators=100, score=0.674884, total=  15.5s\n",
      "[CV] max_features=0.2, min_samples_leaf=100, n_estimators=100 ........\n",
      "[CV]  max_features=0.2, min_samples_leaf=100, n_estimators=100, score=0.671123, total=  15.6s\n",
      "[CV] max_features=0.2, min_samples_leaf=100, n_estimators=100 ........\n",
      "[CV]  max_features=0.2, min_samples_leaf=100, n_estimators=100, score=0.671917, total=  15.7s\n",
      "[CV] max_features=0.2, min_samples_leaf=100, n_estimators=100 ........\n",
      "[CV]  max_features=0.2, min_samples_leaf=100, n_estimators=100, score=0.669254, total=  15.7s\n",
      "[CV] max_features=0.2, min_samples_leaf=100, n_estimators=100 ........\n",
      "[CV]  max_features=0.2, min_samples_leaf=100, n_estimators=100, score=0.673753, total=  15.6s\n",
      "[CV] max_features=auto, min_samples_leaf=1, n_estimators=50 ..........\n",
      "[CV]  max_features=auto, min_samples_leaf=1, n_estimators=50, score=0.658801, total=   9.6s\n",
      "[CV] max_features=auto, min_samples_leaf=1, n_estimators=50 ..........\n",
      "[CV]  max_features=auto, min_samples_leaf=1, n_estimators=50, score=0.659060, total=   9.7s\n",
      "[CV] max_features=auto, min_samples_leaf=1, n_estimators=50 ..........\n",
      "[CV]  max_features=auto, min_samples_leaf=1, n_estimators=50, score=0.649992, total=   9.7s\n",
      "[CV] max_features=auto, min_samples_leaf=1, n_estimators=50 ..........\n",
      "[CV]  max_features=auto, min_samples_leaf=1, n_estimators=50, score=0.659136, total=   9.7s\n",
      "[CV] max_features=auto, min_samples_leaf=1, n_estimators=50 ..........\n",
      "[CV]  max_features=auto, min_samples_leaf=1, n_estimators=50, score=0.649749, total=   9.8s\n",
      "[CV] max_features=auto, min_samples_leaf=1, n_estimators=50 ..........\n",
      "[CV]  max_features=auto, min_samples_leaf=1, n_estimators=50, score=0.652311, total=   9.7s\n",
      "[CV] max_features=auto, min_samples_leaf=1, n_estimators=50 ..........\n",
      "[CV]  max_features=auto, min_samples_leaf=1, n_estimators=50, score=0.654951, total=   9.8s\n",
      "[CV] max_features=auto, min_samples_leaf=1, n_estimators=50 ..........\n",
      "[CV]  max_features=auto, min_samples_leaf=1, n_estimators=50, score=0.644762, total=   9.8s\n",
      "[CV] max_features=auto, min_samples_leaf=1, n_estimators=50 ..........\n",
      "[CV]  max_features=auto, min_samples_leaf=1, n_estimators=50, score=0.656255, total=   9.7s\n",
      "[CV] max_features=auto, min_samples_leaf=1, n_estimators=50 ..........\n",
      "[CV]  max_features=auto, min_samples_leaf=1, n_estimators=50, score=0.653676, total=   9.6s\n",
      "[CV] max_features=auto, min_samples_leaf=1, n_estimators=100 .........\n",
      "[CV]  max_features=auto, min_samples_leaf=1, n_estimators=100, score=0.662417, total=  18.5s\n",
      "[CV] max_features=auto, min_samples_leaf=1, n_estimators=100 .........\n",
      "[CV]  max_features=auto, min_samples_leaf=1, n_estimators=100, score=0.662935, total=  18.5s\n",
      "[CV] max_features=auto, min_samples_leaf=1, n_estimators=100 .........\n",
      "[CV]  max_features=auto, min_samples_leaf=1, n_estimators=100, score=0.656037, total=  18.3s\n",
      "[CV] max_features=auto, min_samples_leaf=1, n_estimators=100 .........\n",
      "[CV]  max_features=auto, min_samples_leaf=1, n_estimators=100, score=0.659818, total=  18.3s\n",
      "[CV] max_features=auto, min_samples_leaf=1, n_estimators=100 .........\n",
      "[CV]  max_features=auto, min_samples_leaf=1, n_estimators=100, score=0.655685, total=  18.4s\n",
      "[CV] max_features=auto, min_samples_leaf=1, n_estimators=100 .........\n",
      "[CV]  max_features=auto, min_samples_leaf=1, n_estimators=100, score=0.659055, total=  17.7s\n",
      "[CV] max_features=auto, min_samples_leaf=1, n_estimators=100 .........\n",
      "[CV]  max_features=auto, min_samples_leaf=1, n_estimators=100, score=0.660911, total=  17.7s\n",
      "[CV] max_features=auto, min_samples_leaf=1, n_estimators=100 .........\n",
      "[CV]  max_features=auto, min_samples_leaf=1, n_estimators=100, score=0.649834, total=  17.7s\n",
      "[CV] max_features=auto, min_samples_leaf=1, n_estimators=100 .........\n",
      "[CV]  max_features=auto, min_samples_leaf=1, n_estimators=100, score=0.659755, total=  17.7s\n",
      "[CV] max_features=auto, min_samples_leaf=1, n_estimators=100 .........\n",
      "[CV]  max_features=auto, min_samples_leaf=1, n_estimators=100, score=0.660628, total=  18.4s\n",
      "[CV] max_features=auto, min_samples_leaf=5, n_estimators=50 ..........\n",
      "[CV]  max_features=auto, min_samples_leaf=5, n_estimators=50, score=0.690823, total=   7.9s\n",
      "[CV] max_features=auto, min_samples_leaf=5, n_estimators=50 ..........\n",
      "[CV]  max_features=auto, min_samples_leaf=5, n_estimators=50, score=0.692218, total=   7.9s\n",
      "[CV] max_features=auto, min_samples_leaf=5, n_estimators=50 ..........\n",
      "[CV]  max_features=auto, min_samples_leaf=5, n_estimators=50, score=0.681533, total=   7.9s\n",
      "[CV] max_features=auto, min_samples_leaf=5, n_estimators=50 ..........\n",
      "[CV]  max_features=auto, min_samples_leaf=5, n_estimators=50, score=0.695001, total=   8.0s\n",
      "[CV] max_features=auto, min_samples_leaf=5, n_estimators=50 ..........\n",
      "[CV]  max_features=auto, min_samples_leaf=5, n_estimators=50, score=0.685654, total=   7.9s\n",
      "[CV] max_features=auto, min_samples_leaf=5, n_estimators=50 ..........\n",
      "[CV]  max_features=auto, min_samples_leaf=5, n_estimators=50, score=0.686418, total=   8.2s\n",
      "[CV] max_features=auto, min_samples_leaf=5, n_estimators=50 ..........\n",
      "[CV]  max_features=auto, min_samples_leaf=5, n_estimators=50, score=0.688447, total=   7.9s\n",
      "[CV] max_features=auto, min_samples_leaf=5, n_estimators=50 ..........\n",
      "[CV]  max_features=auto, min_samples_leaf=5, n_estimators=50, score=0.680116, total=   8.0s\n",
      "[CV] max_features=auto, min_samples_leaf=5, n_estimators=50 ..........\n",
      "[CV]  max_features=auto, min_samples_leaf=5, n_estimators=50, score=0.683318, total=   8.0s\n",
      "[CV] max_features=auto, min_samples_leaf=5, n_estimators=50 ..........\n",
      "[CV]  max_features=auto, min_samples_leaf=5, n_estimators=50, score=0.684941, total=   8.0s\n",
      "[CV] max_features=auto, min_samples_leaf=5, n_estimators=100 .........\n",
      "[CV]  max_features=auto, min_samples_leaf=5, n_estimators=100, score=0.691220, total=  14.9s\n",
      "[CV] max_features=auto, min_samples_leaf=5, n_estimators=100 .........\n",
      "[CV]  max_features=auto, min_samples_leaf=5, n_estimators=100, score=0.694393, total=  14.7s\n",
      "[CV] max_features=auto, min_samples_leaf=5, n_estimators=100 .........\n",
      "[CV]  max_features=auto, min_samples_leaf=5, n_estimators=100, score=0.679268, total=  15.1s\n",
      "[CV] max_features=auto, min_samples_leaf=5, n_estimators=100 .........\n",
      "[CV]  max_features=auto, min_samples_leaf=5, n_estimators=100, score=0.693581, total=  14.9s\n",
      "[CV] max_features=auto, min_samples_leaf=5, n_estimators=100 .........\n",
      "[CV]  max_features=auto, min_samples_leaf=5, n_estimators=100, score=0.688082, total=  15.1s\n",
      "[CV] max_features=auto, min_samples_leaf=5, n_estimators=100 .........\n",
      "[CV]  max_features=auto, min_samples_leaf=5, n_estimators=100, score=0.686561, total=  14.9s\n",
      "[CV] max_features=auto, min_samples_leaf=5, n_estimators=100 .........\n",
      "[CV]  max_features=auto, min_samples_leaf=5, n_estimators=100, score=0.688691, total=  15.0s\n",
      "[CV] max_features=auto, min_samples_leaf=5, n_estimators=100 .........\n",
      "[CV]  max_features=auto, min_samples_leaf=5, n_estimators=100, score=0.681451, total=  14.9s\n",
      "[CV] max_features=auto, min_samples_leaf=5, n_estimators=100 .........\n",
      "[CV]  max_features=auto, min_samples_leaf=5, n_estimators=100, score=0.685764, total=  15.1s\n",
      "[CV] max_features=auto, min_samples_leaf=5, n_estimators=100 .........\n",
      "[CV]  max_features=auto, min_samples_leaf=5, n_estimators=100, score=0.688860, total=  15.0s\n",
      "[CV] max_features=auto, min_samples_leaf=10, n_estimators=50 .........\n",
      "[CV]  max_features=auto, min_samples_leaf=10, n_estimators=50, score=0.689544, total=   7.5s\n",
      "[CV] max_features=auto, min_samples_leaf=10, n_estimators=50 .........\n",
      "[CV]  max_features=auto, min_samples_leaf=10, n_estimators=50, score=0.687932, total=   7.5s\n",
      "[CV] max_features=auto, min_samples_leaf=10, n_estimators=50 .........\n",
      "[CV]  max_features=auto, min_samples_leaf=10, n_estimators=50, score=0.677385, total=   7.4s\n",
      "[CV] max_features=auto, min_samples_leaf=10, n_estimators=50 .........\n",
      "[CV]  max_features=auto, min_samples_leaf=10, n_estimators=50, score=0.690156, total=   7.4s\n",
      "[CV] max_features=auto, min_samples_leaf=10, n_estimators=50 .........\n",
      "[CV]  max_features=auto, min_samples_leaf=10, n_estimators=50, score=0.687802, total=   7.6s\n",
      "[CV] max_features=auto, min_samples_leaf=10, n_estimators=50 .........\n",
      "[CV]  max_features=auto, min_samples_leaf=10, n_estimators=50, score=0.684715, total=   7.4s\n",
      "[CV] max_features=auto, min_samples_leaf=10, n_estimators=50 .........\n",
      "[CV]  max_features=auto, min_samples_leaf=10, n_estimators=50, score=0.682442, total=   7.4s\n",
      "[CV] max_features=auto, min_samples_leaf=10, n_estimators=50 .........\n",
      "[CV]  max_features=auto, min_samples_leaf=10, n_estimators=50, score=0.679482, total=   7.5s\n",
      "[CV] max_features=auto, min_samples_leaf=10, n_estimators=50 .........\n",
      "[CV]  max_features=auto, min_samples_leaf=10, n_estimators=50, score=0.682193, total=   7.5s\n",
      "[CV] max_features=auto, min_samples_leaf=10, n_estimators=50 .........\n",
      "[CV]  max_features=auto, min_samples_leaf=10, n_estimators=50, score=0.683510, total=   7.6s\n",
      "[CV] max_features=auto, min_samples_leaf=10, n_estimators=100 ........\n",
      "[CV]  max_features=auto, min_samples_leaf=10, n_estimators=100, score=0.684546, total=  14.1s\n",
      "[CV] max_features=auto, min_samples_leaf=10, n_estimators=100 ........\n",
      "[CV]  max_features=auto, min_samples_leaf=10, n_estimators=100, score=0.691461, total=  13.8s\n",
      "[CV] max_features=auto, min_samples_leaf=10, n_estimators=100 ........\n",
      "[CV]  max_features=auto, min_samples_leaf=10, n_estimators=100, score=0.678830, total=  13.4s\n",
      "[CV] max_features=auto, min_samples_leaf=10, n_estimators=100 ........\n",
      "[CV]  max_features=auto, min_samples_leaf=10, n_estimators=100, score=0.689271, total=  13.5s\n",
      "[CV] max_features=auto, min_samples_leaf=10, n_estimators=100 ........\n",
      "[CV]  max_features=auto, min_samples_leaf=10, n_estimators=100, score=0.685884, total=  13.4s\n",
      "[CV] max_features=auto, min_samples_leaf=10, n_estimators=100 ........\n",
      "[CV]  max_features=auto, min_samples_leaf=10, n_estimators=100, score=0.683735, total=  13.4s\n",
      "[CV] max_features=auto, min_samples_leaf=10, n_estimators=100 ........\n",
      "[CV]  max_features=auto, min_samples_leaf=10, n_estimators=100, score=0.684622, total=  13.5s\n",
      "[CV] max_features=auto, min_samples_leaf=10, n_estimators=100 ........\n",
      "[CV]  max_features=auto, min_samples_leaf=10, n_estimators=100, score=0.679957, total=  13.6s\n",
      "[CV] max_features=auto, min_samples_leaf=10, n_estimators=100 ........\n",
      "[CV]  max_features=auto, min_samples_leaf=10, n_estimators=100, score=0.681488, total=  13.9s\n",
      "[CV] max_features=auto, min_samples_leaf=10, n_estimators=100 ........\n",
      "[CV]  max_features=auto, min_samples_leaf=10, n_estimators=100, score=0.684064, total=  13.9s\n",
      "[CV] max_features=auto, min_samples_leaf=50, n_estimators=50 .........\n",
      "[CV]  max_features=auto, min_samples_leaf=50, n_estimators=50, score=0.673127, total=   6.2s\n",
      "[CV] max_features=auto, min_samples_leaf=50, n_estimators=50 .........\n",
      "[CV]  max_features=auto, min_samples_leaf=50, n_estimators=50, score=0.674274, total=   6.1s\n",
      "[CV] max_features=auto, min_samples_leaf=50, n_estimators=50 .........\n",
      "[CV]  max_features=auto, min_samples_leaf=50, n_estimators=50, score=0.664635, total=   6.3s\n",
      "[CV] max_features=auto, min_samples_leaf=50, n_estimators=50 .........\n",
      "[CV]  max_features=auto, min_samples_leaf=50, n_estimators=50, score=0.676645, total=   6.3s\n",
      "[CV] max_features=auto, min_samples_leaf=50, n_estimators=50 .........\n",
      "[CV]  max_features=auto, min_samples_leaf=50, n_estimators=50, score=0.668052, total=   6.3s\n",
      "[CV] max_features=auto, min_samples_leaf=50, n_estimators=50 .........\n",
      "[CV]  max_features=auto, min_samples_leaf=50, n_estimators=50, score=0.673197, total=   6.1s\n",
      "[CV] max_features=auto, min_samples_leaf=50, n_estimators=50 .........\n",
      "[CV]  max_features=auto, min_samples_leaf=50, n_estimators=50, score=0.671520, total=   6.3s\n",
      "[CV] max_features=auto, min_samples_leaf=50, n_estimators=50 .........\n",
      "[CV]  max_features=auto, min_samples_leaf=50, n_estimators=50, score=0.666191, total=   6.2s\n",
      "[CV] max_features=auto, min_samples_leaf=50, n_estimators=50 .........\n",
      "[CV]  max_features=auto, min_samples_leaf=50, n_estimators=50, score=0.666938, total=   6.1s\n",
      "[CV] max_features=auto, min_samples_leaf=50, n_estimators=50 .........\n",
      "[CV]  max_features=auto, min_samples_leaf=50, n_estimators=50, score=0.670619, total=   6.3s\n",
      "[CV] max_features=auto, min_samples_leaf=50, n_estimators=100 ........\n",
      "[CV]  max_features=auto, min_samples_leaf=50, n_estimators=100, score=0.672717, total=  11.4s\n",
      "[CV] max_features=auto, min_samples_leaf=50, n_estimators=100 ........\n",
      "[CV]  max_features=auto, min_samples_leaf=50, n_estimators=100, score=0.679101, total=  11.4s\n",
      "[CV] max_features=auto, min_samples_leaf=50, n_estimators=100 ........\n",
      "[CV]  max_features=auto, min_samples_leaf=50, n_estimators=100, score=0.665086, total=  11.5s\n",
      "[CV] max_features=auto, min_samples_leaf=50, n_estimators=100 ........\n",
      "[CV]  max_features=auto, min_samples_leaf=50, n_estimators=100, score=0.680066, total=  11.6s\n",
      "[CV] max_features=auto, min_samples_leaf=50, n_estimators=100 ........\n",
      "[CV]  max_features=auto, min_samples_leaf=50, n_estimators=100, score=0.671416, total=  11.4s\n",
      "[CV] max_features=auto, min_samples_leaf=50, n_estimators=100 ........\n",
      "[CV]  max_features=auto, min_samples_leaf=50, n_estimators=100, score=0.673085, total=  11.5s\n",
      "[CV] max_features=auto, min_samples_leaf=50, n_estimators=100 ........\n",
      "[CV]  max_features=auto, min_samples_leaf=50, n_estimators=100, score=0.671877, total=  11.3s\n",
      "[CV] max_features=auto, min_samples_leaf=50, n_estimators=100 ........\n",
      "[CV]  max_features=auto, min_samples_leaf=50, n_estimators=100, score=0.667577, total=  11.4s\n",
      "[CV] max_features=auto, min_samples_leaf=50, n_estimators=100 ........\n",
      "[CV]  max_features=auto, min_samples_leaf=50, n_estimators=100, score=0.669507, total=  11.5s\n",
      "[CV] max_features=auto, min_samples_leaf=50, n_estimators=100 ........\n",
      "[CV]  max_features=auto, min_samples_leaf=50, n_estimators=100, score=0.669924, total=  11.4s\n",
      "[CV] max_features=auto, min_samples_leaf=100, n_estimators=50 ........\n",
      "[CV]  max_features=auto, min_samples_leaf=100, n_estimators=50, score=0.664832, total=   5.7s\n",
      "[CV] max_features=auto, min_samples_leaf=100, n_estimators=50 ........\n",
      "[CV]  max_features=auto, min_samples_leaf=100, n_estimators=50, score=0.666125, total=   5.8s\n",
      "[CV] max_features=auto, min_samples_leaf=100, n_estimators=50 ........\n",
      "[CV]  max_features=auto, min_samples_leaf=100, n_estimators=50, score=0.657515, total=   5.7s\n",
      "[CV] max_features=auto, min_samples_leaf=100, n_estimators=50 ........\n",
      "[CV]  max_features=auto, min_samples_leaf=100, n_estimators=50, score=0.673370, total=   5.7s\n",
      "[CV] max_features=auto, min_samples_leaf=100, n_estimators=50 ........\n",
      "[CV]  max_features=auto, min_samples_leaf=100, n_estimators=50, score=0.662684, total=   5.7s\n",
      "[CV] max_features=auto, min_samples_leaf=100, n_estimators=50 ........\n",
      "[CV]  max_features=auto, min_samples_leaf=100, n_estimators=50, score=0.662170, total=   5.5s\n",
      "[CV] max_features=auto, min_samples_leaf=100, n_estimators=50 ........\n",
      "[CV]  max_features=auto, min_samples_leaf=100, n_estimators=50, score=0.663197, total=   5.7s\n",
      "[CV] max_features=auto, min_samples_leaf=100, n_estimators=50 ........\n",
      "[CV]  max_features=auto, min_samples_leaf=100, n_estimators=50, score=0.660698, total=   5.7s\n",
      "[CV] max_features=auto, min_samples_leaf=100, n_estimators=50 ........\n",
      "[CV]  max_features=auto, min_samples_leaf=100, n_estimators=50, score=0.658432, total=   5.7s\n",
      "[CV] max_features=auto, min_samples_leaf=100, n_estimators=50 ........\n",
      "[CV]  max_features=auto, min_samples_leaf=100, n_estimators=50, score=0.664916, total=   5.6s\n",
      "[CV] max_features=auto, min_samples_leaf=100, n_estimators=100 .......\n",
      "[CV]  max_features=auto, min_samples_leaf=100, n_estimators=100, score=0.666565, total=  10.3s\n",
      "[CV] max_features=auto, min_samples_leaf=100, n_estimators=100 .......\n",
      "[CV]  max_features=auto, min_samples_leaf=100, n_estimators=100, score=0.669438, total=  10.2s\n",
      "[CV] max_features=auto, min_samples_leaf=100, n_estimators=100 .......\n",
      "[CV]  max_features=auto, min_samples_leaf=100, n_estimators=100, score=0.658173, total=  10.4s\n",
      "[CV] max_features=auto, min_samples_leaf=100, n_estimators=100 .......\n",
      "[CV]  max_features=auto, min_samples_leaf=100, n_estimators=100, score=0.671259, total=  10.4s\n",
      "[CV] max_features=auto, min_samples_leaf=100, n_estimators=100 .......\n",
      "[CV]  max_features=auto, min_samples_leaf=100, n_estimators=100, score=0.665417, total=  10.5s\n",
      "[CV] max_features=auto, min_samples_leaf=100, n_estimators=100 .......\n",
      "[CV]  max_features=auto, min_samples_leaf=100, n_estimators=100, score=0.666330, total=  10.3s\n",
      "[CV] max_features=auto, min_samples_leaf=100, n_estimators=100 .......\n",
      "[CV]  max_features=auto, min_samples_leaf=100, n_estimators=100, score=0.661362, total=  10.6s\n",
      "[CV] max_features=auto, min_samples_leaf=100, n_estimators=100 .......\n",
      "[CV]  max_features=auto, min_samples_leaf=100, n_estimators=100, score=0.659330, total=  10.4s\n",
      "[CV] max_features=auto, min_samples_leaf=100, n_estimators=100 .......\n",
      "[CV]  max_features=auto, min_samples_leaf=100, n_estimators=100, score=0.659032, total=  10.3s\n",
      "[CV] max_features=auto, min_samples_leaf=100, n_estimators=100 .......\n",
      "[CV]  max_features=auto, min_samples_leaf=100, n_estimators=100, score=0.662671, total=  10.3s\n",
      "[CV] max_features=log2, min_samples_leaf=1, n_estimators=50 ..........\n",
      "[CV]  max_features=log2, min_samples_leaf=1, n_estimators=50, score=0.652100, total=   9.0s\n",
      "[CV] max_features=log2, min_samples_leaf=1, n_estimators=50 ..........\n",
      "[CV]  max_features=log2, min_samples_leaf=1, n_estimators=50, score=0.656628, total=   9.1s\n",
      "[CV] max_features=log2, min_samples_leaf=1, n_estimators=50 ..........\n",
      "[CV]  max_features=log2, min_samples_leaf=1, n_estimators=50, score=0.646728, total=   8.4s\n",
      "[CV] max_features=log2, min_samples_leaf=1, n_estimators=50 ..........\n",
      "[CV]  max_features=log2, min_samples_leaf=1, n_estimators=50, score=0.654046, total=   8.5s\n",
      "[CV] max_features=log2, min_samples_leaf=1, n_estimators=50 ..........\n",
      "[CV]  max_features=log2, min_samples_leaf=1, n_estimators=50, score=0.650351, total=   8.4s\n",
      "[CV] max_features=log2, min_samples_leaf=1, n_estimators=50 ..........\n",
      "[CV]  max_features=log2, min_samples_leaf=1, n_estimators=50, score=0.648565, total=   8.4s\n",
      "[CV] max_features=log2, min_samples_leaf=1, n_estimators=50 ..........\n",
      "[CV]  max_features=log2, min_samples_leaf=1, n_estimators=50, score=0.648034, total=   8.7s\n",
      "[CV] max_features=log2, min_samples_leaf=1, n_estimators=50 ..........\n",
      "[CV]  max_features=log2, min_samples_leaf=1, n_estimators=50, score=0.642593, total=   8.4s\n",
      "[CV] max_features=log2, min_samples_leaf=1, n_estimators=50 ..........\n",
      "[CV]  max_features=log2, min_samples_leaf=1, n_estimators=50, score=0.653301, total=   8.4s\n",
      "[CV] max_features=log2, min_samples_leaf=1, n_estimators=50 ..........\n",
      "[CV]  max_features=log2, min_samples_leaf=1, n_estimators=50, score=0.649713, total=   8.4s\n",
      "[CV] max_features=log2, min_samples_leaf=1, n_estimators=100 .........\n",
      "[CV]  max_features=log2, min_samples_leaf=1, n_estimators=100, score=0.659262, total=  16.3s\n",
      "[CV] max_features=log2, min_samples_leaf=1, n_estimators=100 .........\n",
      "[CV]  max_features=log2, min_samples_leaf=1, n_estimators=100, score=0.657553, total=  16.4s\n",
      "[CV] max_features=log2, min_samples_leaf=1, n_estimators=100 .........\n",
      "[CV]  max_features=log2, min_samples_leaf=1, n_estimators=100, score=0.650333, total=  16.5s\n",
      "[CV] max_features=log2, min_samples_leaf=1, n_estimators=100 .........\n",
      "[CV]  max_features=log2, min_samples_leaf=1, n_estimators=100, score=0.656775, total=  16.6s\n",
      "[CV] max_features=log2, min_samples_leaf=1, n_estimators=100 .........\n",
      "[CV]  max_features=log2, min_samples_leaf=1, n_estimators=100, score=0.655385, total=  16.6s\n",
      "[CV] max_features=log2, min_samples_leaf=1, n_estimators=100 .........\n",
      "[CV]  max_features=log2, min_samples_leaf=1, n_estimators=100, score=0.654120, total=  16.5s\n",
      "[CV] max_features=log2, min_samples_leaf=1, n_estimators=100 .........\n",
      "[CV]  max_features=log2, min_samples_leaf=1, n_estimators=100, score=0.656832, total=  16.4s\n",
      "[CV] max_features=log2, min_samples_leaf=1, n_estimators=100 .........\n",
      "[CV]  max_features=log2, min_samples_leaf=1, n_estimators=100, score=0.643297, total=  16.5s\n",
      "[CV] max_features=log2, min_samples_leaf=1, n_estimators=100 .........\n",
      "[CV]  max_features=log2, min_samples_leaf=1, n_estimators=100, score=0.656975, total=  16.6s\n",
      "[CV] max_features=log2, min_samples_leaf=1, n_estimators=100 .........\n",
      "[CV]  max_features=log2, min_samples_leaf=1, n_estimators=100, score=0.656257, total=  16.3s\n",
      "[CV] max_features=log2, min_samples_leaf=5, n_estimators=50 ..........\n",
      "[CV]  max_features=log2, min_samples_leaf=5, n_estimators=50, score=0.686200, total=   6.8s\n",
      "[CV] max_features=log2, min_samples_leaf=5, n_estimators=50 ..........\n",
      "[CV]  max_features=log2, min_samples_leaf=5, n_estimators=50, score=0.690212, total=   6.7s\n",
      "[CV] max_features=log2, min_samples_leaf=5, n_estimators=50 ..........\n",
      "[CV]  max_features=log2, min_samples_leaf=5, n_estimators=50, score=0.677388, total=   6.8s\n",
      "[CV] max_features=log2, min_samples_leaf=5, n_estimators=50 ..........\n",
      "[CV]  max_features=log2, min_samples_leaf=5, n_estimators=50, score=0.690217, total=   7.0s\n",
      "[CV] max_features=log2, min_samples_leaf=5, n_estimators=50 ..........\n",
      "[CV]  max_features=log2, min_samples_leaf=5, n_estimators=50, score=0.683490, total=   6.9s\n",
      "[CV] max_features=log2, min_samples_leaf=5, n_estimators=50 ..........\n",
      "[CV]  max_features=log2, min_samples_leaf=5, n_estimators=50, score=0.684471, total=   6.9s\n",
      "[CV] max_features=log2, min_samples_leaf=5, n_estimators=50 ..........\n",
      "[CV]  max_features=log2, min_samples_leaf=5, n_estimators=50, score=0.684774, total=   6.9s\n",
      "[CV] max_features=log2, min_samples_leaf=5, n_estimators=50 ..........\n",
      "[CV]  max_features=log2, min_samples_leaf=5, n_estimators=50, score=0.679959, total=   6.9s\n",
      "[CV] max_features=log2, min_samples_leaf=5, n_estimators=50 ..........\n",
      "[CV]  max_features=log2, min_samples_leaf=5, n_estimators=50, score=0.681168, total=   6.8s\n",
      "[CV] max_features=log2, min_samples_leaf=5, n_estimators=50 ..........\n",
      "[CV]  max_features=log2, min_samples_leaf=5, n_estimators=50, score=0.685200, total=   6.9s\n",
      "[CV] max_features=log2, min_samples_leaf=5, n_estimators=100 .........\n",
      "[CV]  max_features=log2, min_samples_leaf=5, n_estimators=100, score=0.686811, total=  12.7s\n",
      "[CV] max_features=log2, min_samples_leaf=5, n_estimators=100 .........\n",
      "[CV]  max_features=log2, min_samples_leaf=5, n_estimators=100, score=0.693200, total=  12.7s\n",
      "[CV] max_features=log2, min_samples_leaf=5, n_estimators=100 .........\n",
      "[CV]  max_features=log2, min_samples_leaf=5, n_estimators=100, score=0.679333, total=  12.8s\n",
      "[CV] max_features=log2, min_samples_leaf=5, n_estimators=100 .........\n",
      "[CV]  max_features=log2, min_samples_leaf=5, n_estimators=100, score=0.687601, total=  12.7s\n",
      "[CV] max_features=log2, min_samples_leaf=5, n_estimators=100 .........\n",
      "[CV]  max_features=log2, min_samples_leaf=5, n_estimators=100, score=0.684832, total=  12.6s\n",
      "[CV] max_features=log2, min_samples_leaf=5, n_estimators=100 .........\n",
      "[CV]  max_features=log2, min_samples_leaf=5, n_estimators=100, score=0.682786, total=  12.7s\n",
      "[CV] max_features=log2, min_samples_leaf=5, n_estimators=100 .........\n",
      "[CV]  max_features=log2, min_samples_leaf=5, n_estimators=100, score=0.686439, total=  12.6s\n",
      "[CV] max_features=log2, min_samples_leaf=5, n_estimators=100 .........\n",
      "[CV]  max_features=log2, min_samples_leaf=5, n_estimators=100, score=0.680193, total=  12.7s\n",
      "[CV] max_features=log2, min_samples_leaf=5, n_estimators=100 .........\n",
      "[CV]  max_features=log2, min_samples_leaf=5, n_estimators=100, score=0.682441, total=  12.9s\n",
      "[CV] max_features=log2, min_samples_leaf=5, n_estimators=100 .........\n",
      "[CV]  max_features=log2, min_samples_leaf=5, n_estimators=100, score=0.684860, total=  12.8s\n",
      "[CV] max_features=log2, min_samples_leaf=10, n_estimators=50 .........\n",
      "[CV]  max_features=log2, min_samples_leaf=10, n_estimators=50, score=0.681667, total=   6.3s\n",
      "[CV] max_features=log2, min_samples_leaf=10, n_estimators=50 .........\n",
      "[CV]  max_features=log2, min_samples_leaf=10, n_estimators=50, score=0.685196, total=   6.4s\n",
      "[CV] max_features=log2, min_samples_leaf=10, n_estimators=50 .........\n",
      "[CV]  max_features=log2, min_samples_leaf=10, n_estimators=50, score=0.673259, total=   6.3s\n",
      "[CV] max_features=log2, min_samples_leaf=10, n_estimators=50 .........\n",
      "[CV]  max_features=log2, min_samples_leaf=10, n_estimators=50, score=0.685642, total=   6.4s\n",
      "[CV] max_features=log2, min_samples_leaf=10, n_estimators=50 .........\n",
      "[CV]  max_features=log2, min_samples_leaf=10, n_estimators=50, score=0.682731, total=   6.3s\n",
      "[CV] max_features=log2, min_samples_leaf=10, n_estimators=50 .........\n",
      "[CV]  max_features=log2, min_samples_leaf=10, n_estimators=50, score=0.678443, total=   6.2s\n",
      "[CV] max_features=log2, min_samples_leaf=10, n_estimators=50 .........\n",
      "[CV]  max_features=log2, min_samples_leaf=10, n_estimators=50, score=0.683293, total=   6.4s\n",
      "[CV] max_features=log2, min_samples_leaf=10, n_estimators=50 .........\n",
      "[CV]  max_features=log2, min_samples_leaf=10, n_estimators=50, score=0.673057, total=   6.3s\n",
      "[CV] max_features=log2, min_samples_leaf=10, n_estimators=50 .........\n",
      "[CV]  max_features=log2, min_samples_leaf=10, n_estimators=50, score=0.676964, total=   6.1s\n",
      "[CV] max_features=log2, min_samples_leaf=10, n_estimators=50 .........\n",
      "[CV]  max_features=log2, min_samples_leaf=10, n_estimators=50, score=0.679843, total=   6.1s\n",
      "[CV] max_features=log2, min_samples_leaf=10, n_estimators=100 ........\n",
      "[CV]  max_features=log2, min_samples_leaf=10, n_estimators=100, score=0.681262, total=  11.3s\n",
      "[CV] max_features=log2, min_samples_leaf=10, n_estimators=100 ........\n",
      "[CV]  max_features=log2, min_samples_leaf=10, n_estimators=100, score=0.687383, total=  11.5s\n",
      "[CV] max_features=log2, min_samples_leaf=10, n_estimators=100 ........\n",
      "[CV]  max_features=log2, min_samples_leaf=10, n_estimators=100, score=0.674064, total=  11.6s\n",
      "[CV] max_features=log2, min_samples_leaf=10, n_estimators=100 ........\n",
      "[CV]  max_features=log2, min_samples_leaf=10, n_estimators=100, score=0.684343, total=  11.3s\n",
      "[CV] max_features=log2, min_samples_leaf=10, n_estimators=100 ........\n",
      "[CV]  max_features=log2, min_samples_leaf=10, n_estimators=100, score=0.680402, total=  11.4s\n",
      "[CV] max_features=log2, min_samples_leaf=10, n_estimators=100 ........\n",
      "[CV]  max_features=log2, min_samples_leaf=10, n_estimators=100, score=0.680933, total=  11.3s\n",
      "[CV] max_features=log2, min_samples_leaf=10, n_estimators=100 ........\n",
      "[CV]  max_features=log2, min_samples_leaf=10, n_estimators=100, score=0.678437, total=  11.6s\n",
      "[CV] max_features=log2, min_samples_leaf=10, n_estimators=100 ........\n",
      "[CV]  max_features=log2, min_samples_leaf=10, n_estimators=100, score=0.675079, total=  11.8s\n",
      "[CV] max_features=log2, min_samples_leaf=10, n_estimators=100 ........\n",
      "[CV]  max_features=log2, min_samples_leaf=10, n_estimators=100, score=0.676820, total=  11.8s\n",
      "[CV] max_features=log2, min_samples_leaf=10, n_estimators=100 ........\n",
      "[CV]  max_features=log2, min_samples_leaf=10, n_estimators=100, score=0.680521, total=  11.7s\n",
      "[CV] max_features=log2, min_samples_leaf=50, n_estimators=50 .........\n",
      "[CV]  max_features=log2, min_samples_leaf=50, n_estimators=50, score=0.669506, total=   5.5s\n",
      "[CV] max_features=log2, min_samples_leaf=50, n_estimators=50 .........\n",
      "[CV]  max_features=log2, min_samples_leaf=50, n_estimators=50, score=0.675879, total=   5.2s\n",
      "[CV] max_features=log2, min_samples_leaf=50, n_estimators=50 .........\n",
      "[CV]  max_features=log2, min_samples_leaf=50, n_estimators=50, score=0.657820, total=   5.3s\n",
      "[CV] max_features=log2, min_samples_leaf=50, n_estimators=50 .........\n",
      "[CV]  max_features=log2, min_samples_leaf=50, n_estimators=50, score=0.674400, total=   5.3s\n",
      "[CV] max_features=log2, min_samples_leaf=50, n_estimators=50 .........\n",
      "[CV]  max_features=log2, min_samples_leaf=50, n_estimators=50, score=0.664675, total=   5.3s\n",
      "[CV] max_features=log2, min_samples_leaf=50, n_estimators=50 .........\n",
      "[CV]  max_features=log2, min_samples_leaf=50, n_estimators=50, score=0.667477, total=   5.4s\n",
      "[CV] max_features=log2, min_samples_leaf=50, n_estimators=50 .........\n",
      "[CV]  max_features=log2, min_samples_leaf=50, n_estimators=50, score=0.667142, total=   5.3s\n",
      "[CV] max_features=log2, min_samples_leaf=50, n_estimators=50 .........\n",
      "[CV]  max_features=log2, min_samples_leaf=50, n_estimators=50, score=0.661198, total=   5.4s\n",
      "[CV] max_features=log2, min_samples_leaf=50, n_estimators=50 .........\n",
      "[CV]  max_features=log2, min_samples_leaf=50, n_estimators=50, score=0.663466, total=   5.3s\n",
      "[CV] max_features=log2, min_samples_leaf=50, n_estimators=50 .........\n",
      "[CV]  max_features=log2, min_samples_leaf=50, n_estimators=50, score=0.666565, total=   5.3s\n",
      "[CV] max_features=log2, min_samples_leaf=50, n_estimators=100 ........\n",
      "[CV]  max_features=log2, min_samples_leaf=50, n_estimators=100, score=0.669411, total=   9.6s\n",
      "[CV] max_features=log2, min_samples_leaf=50, n_estimators=100 ........\n",
      "[CV]  max_features=log2, min_samples_leaf=50, n_estimators=100, score=0.673615, total=   9.7s\n",
      "[CV] max_features=log2, min_samples_leaf=50, n_estimators=100 ........\n",
      "[CV]  max_features=log2, min_samples_leaf=50, n_estimators=100, score=0.662535, total=   9.6s\n",
      "[CV] max_features=log2, min_samples_leaf=50, n_estimators=100 ........\n",
      "[CV]  max_features=log2, min_samples_leaf=50, n_estimators=100, score=0.676418, total=   9.6s\n",
      "[CV] max_features=log2, min_samples_leaf=50, n_estimators=100 ........\n",
      "[CV]  max_features=log2, min_samples_leaf=50, n_estimators=100, score=0.665182, total=   9.6s\n",
      "[CV] max_features=log2, min_samples_leaf=50, n_estimators=100 ........\n",
      "[CV]  max_features=log2, min_samples_leaf=50, n_estimators=100, score=0.666835, total=   9.7s\n",
      "[CV] max_features=log2, min_samples_leaf=50, n_estimators=100 ........\n",
      "[CV]  max_features=log2, min_samples_leaf=50, n_estimators=100, score=0.669683, total=   9.5s\n",
      "[CV] max_features=log2, min_samples_leaf=50, n_estimators=100 ........\n",
      "[CV]  max_features=log2, min_samples_leaf=50, n_estimators=100, score=0.662029, total=   9.6s\n",
      "[CV] max_features=log2, min_samples_leaf=50, n_estimators=100 ........\n",
      "[CV]  max_features=log2, min_samples_leaf=50, n_estimators=100, score=0.663114, total=   9.8s\n",
      "[CV] max_features=log2, min_samples_leaf=50, n_estimators=100 ........\n",
      "[CV]  max_features=log2, min_samples_leaf=50, n_estimators=100, score=0.668349, total=   9.4s\n",
      "[CV] max_features=log2, min_samples_leaf=100, n_estimators=50 ........\n",
      "[CV]  max_features=log2, min_samples_leaf=100, n_estimators=50, score=0.664936, total=   4.7s\n",
      "[CV] max_features=log2, min_samples_leaf=100, n_estimators=50 ........\n",
      "[CV]  max_features=log2, min_samples_leaf=100, n_estimators=50, score=0.668059, total=   4.8s\n",
      "[CV] max_features=log2, min_samples_leaf=100, n_estimators=50 ........\n",
      "[CV]  max_features=log2, min_samples_leaf=100, n_estimators=50, score=0.656568, total=   4.8s\n",
      "[CV] max_features=log2, min_samples_leaf=100, n_estimators=50 ........\n",
      "[CV]  max_features=log2, min_samples_leaf=100, n_estimators=50, score=0.668589, total=   4.8s\n",
      "[CV] max_features=log2, min_samples_leaf=100, n_estimators=50 ........\n",
      "[CV]  max_features=log2, min_samples_leaf=100, n_estimators=50, score=0.657034, total=   4.7s\n",
      "[CV] max_features=log2, min_samples_leaf=100, n_estimators=50 ........\n",
      "[CV]  max_features=log2, min_samples_leaf=100, n_estimators=50, score=0.659690, total=   4.9s\n",
      "[CV] max_features=log2, min_samples_leaf=100, n_estimators=50 ........\n",
      "[CV]  max_features=log2, min_samples_leaf=100, n_estimators=50, score=0.658688, total=   4.7s\n",
      "[CV] max_features=log2, min_samples_leaf=100, n_estimators=50 ........\n",
      "[CV]  max_features=log2, min_samples_leaf=100, n_estimators=50, score=0.651598, total=   4.8s\n",
      "[CV] max_features=log2, min_samples_leaf=100, n_estimators=50 ........\n",
      "[CV]  max_features=log2, min_samples_leaf=100, n_estimators=50, score=0.658742, total=   4.9s\n",
      "[CV] max_features=log2, min_samples_leaf=100, n_estimators=50 ........\n",
      "[CV]  max_features=log2, min_samples_leaf=100, n_estimators=50, score=0.659360, total=   4.8s\n",
      "[CV] max_features=log2, min_samples_leaf=100, n_estimators=100 .......\n",
      "[CV]  max_features=log2, min_samples_leaf=100, n_estimators=100, score=0.663526, total=   8.8s\n",
      "[CV] max_features=log2, min_samples_leaf=100, n_estimators=100 .......\n",
      "[CV]  max_features=log2, min_samples_leaf=100, n_estimators=100, score=0.666463, total=   8.6s\n",
      "[CV] max_features=log2, min_samples_leaf=100, n_estimators=100 .......\n",
      "[CV]  max_features=log2, min_samples_leaf=100, n_estimators=100, score=0.656867, total=   8.6s\n",
      "[CV] max_features=log2, min_samples_leaf=100, n_estimators=100 .......\n",
      "[CV]  max_features=log2, min_samples_leaf=100, n_estimators=100, score=0.667582, total=   8.6s\n",
      "[CV] max_features=log2, min_samples_leaf=100, n_estimators=100 .......\n",
      "[CV]  max_features=log2, min_samples_leaf=100, n_estimators=100, score=0.660972, total=   8.7s\n",
      "[CV] max_features=log2, min_samples_leaf=100, n_estimators=100 .......\n",
      "[CV]  max_features=log2, min_samples_leaf=100, n_estimators=100, score=0.661409, total=   8.6s\n",
      "[CV] max_features=log2, min_samples_leaf=100, n_estimators=100 .......\n",
      "[CV]  max_features=log2, min_samples_leaf=100, n_estimators=100, score=0.657826, total=   8.7s\n",
      "[CV] max_features=log2, min_samples_leaf=100, n_estimators=100 .......\n",
      "[CV]  max_features=log2, min_samples_leaf=100, n_estimators=100, score=0.653651, total=   8.6s\n",
      "[CV] max_features=log2, min_samples_leaf=100, n_estimators=100 .......\n",
      "[CV]  max_features=log2, min_samples_leaf=100, n_estimators=100, score=0.656847, total=   8.5s\n",
      "[CV] max_features=log2, min_samples_leaf=100, n_estimators=100 .......\n",
      "[CV]  max_features=log2, min_samples_leaf=100, n_estimators=100, score=0.659686, total=   8.6s\n"
     ]
    },
    {
     "name": "stderr",
     "output_type": "stream",
     "text": [
      "[Parallel(n_jobs=1)]: Done 300 out of 300 | elapsed: 68.5min finished\n"
     ]
    },
    {
     "data": {
      "text/plain": [
       "GridSearchCV(cv=10, error_score='raise',\n",
       "       estimator=RandomForestClassifier(bootstrap=True, class_weight='balanced',\n",
       "            criterion='gini', max_depth=None, max_features='auto',\n",
       "            max_leaf_nodes=None, min_impurity_split=1e-07,\n",
       "            min_samples_leaf=1, min_samples_split=2,\n",
       "            min_weight_fraction_leaf=0.0, n_estimators=10, n_jobs=4,\n",
       "            oob_score=False, random_state=None, verbose=0,\n",
       "            warm_start=False),\n",
       "       fit_params={}, iid=True, n_jobs=1,\n",
       "       param_grid={'max_features': [0.2, 'auto', 'log2'], 'n_estimators': [50, 100], 'min_samples_leaf': [1, 5, 10, 50, 100]},\n",
       "       pre_dispatch='2*n_jobs', refit=True, return_train_score=True,\n",
       "       scoring='f1', verbose=3)"
      ]
     },
     "execution_count": 40,
     "metadata": {},
     "output_type": "execute_result"
    }
   ],
   "source": [
    "grid_rf_l84.fit(X_train_l84, y_train_l84)"
   ]
  },
  {
   "cell_type": "code",
   "execution_count": 41,
   "metadata": {
    "collapsed": false
   },
   "outputs": [
    {
     "name": "stdout",
     "output_type": "stream",
     "text": [
      "{'max_features': 0.2, 'min_samples_leaf': 5, 'n_estimators': 100}\n"
     ]
    }
   ],
   "source": [
    "print(grid_rf_l84.best_params_)"
   ]
  },
  {
   "cell_type": "code",
   "execution_count": 42,
   "metadata": {
    "collapsed": true
   },
   "outputs": [],
   "source": [
    "# Run RF with optimal paramters \n",
    "opt_rf_l84 = RandomForestClassifier(class_weight = 'balanced', max_features = 0.2, min_samples_leaf = 5, n_estimators = 100)\n",
    "opt_rf_l84.fit(X_train_l84, y_train_l84)\n",
    "opt_rf_l84_pred = opt_rf_l84.predict(X_test_l84)"
   ]
  },
  {
   "cell_type": "code",
   "execution_count": 43,
   "metadata": {
    "collapsed": false
   },
   "outputs": [
    {
     "name": "stdout",
     "output_type": "stream",
     "text": [
      "             precision    recall  f1-score   support\n",
      "\n",
      "          0       0.75      0.75      0.75     51666\n",
      "          1       0.69      0.70      0.70     41974\n",
      "\n",
      "avg / total       0.73      0.73      0.73     93640\n",
      "\n"
     ]
    }
   ],
   "source": [
    "print(classification_report(y_test_l84, opt_rf_l84_pred))"
   ]
  },
  {
   "cell_type": "markdown",
   "metadata": {},
   "source": [
    "Random Forest, again, performs much better than Logistic Regression. \n",
    "Let's compare the performance with a **random model**. We will define this classifier as  one that is aware of the proportion (imblance) of classes in the training data, and makes predictions on testing data according to the ratio of positive and negative examples it sees in the training data. "
   ]
  },
  {
   "cell_type": "code",
   "execution_count": 44,
   "metadata": {
    "collapsed": true
   },
   "outputs": [],
   "source": [
    "# Build a random/control models to compare Random Forest performance with\n",
    "\n",
    "# proportion of positive class in training data\n",
    "pos_prop = np.sum(y_train_l84)/len(y_train_l84)  \n",
    "\n",
    "expected_pos_in_test = np.round(pos_prop*(len(y_test_l84)))\n",
    "               \n",
    "                \n",
    "#control predicts accroding to proportions of positive and negative examples in the training data\n",
    "zs = np.zeros(len(y_test_l84) - int(expected_pos_in_test)) #zeros\n",
    "os = np.ones((int(expected_pos_in_test)))\n",
    "                \n",
    "zo = np.concatenate((zs, os))\n",
    "                \n",
    "y_test_control = np.random.permutation(zo)              "
   ]
  },
  {
   "cell_type": "code",
   "execution_count": 45,
   "metadata": {
    "collapsed": false
   },
   "outputs": [
    {
     "name": "stdout",
     "output_type": "stream",
     "text": [
      "             precision    recall  f1-score   support\n",
      "\n",
      "          0       0.55      0.55      0.55     51666\n",
      "          1       0.45      0.45      0.45     41974\n",
      "\n",
      "avg / total       0.50      0.50      0.50     93640\n",
      "\n"
     ]
    }
   ],
   "source": [
    "print(classification_report(y_test_l84, y_test_control))"
   ]
  },
  {
   "cell_type": "markdown",
   "metadata": {},
   "source": [
    "Random (control) model has much lower precision and recall than random forest for loans with duration < 84 months.\n",
    "Let's again examine feature importances. "
   ]
  },
  {
   "cell_type": "code",
   "execution_count": 46,
   "metadata": {
    "collapsed": false
   },
   "outputs": [
    {
     "name": "stdout",
     "output_type": "stream",
     "text": [
      "Feature ranking:\n",
      "1. feature SP_to2016 (0.289196)\n",
      "2. feature SBAGuaranteedApprovalAdj (0.223007)\n",
      "3. feature JobsSupported (0.106649)\n",
      "4. feature RevolverStatus (0.034330)\n",
      "5. feature CA (0.031564)\n",
      "6. feature FL (0.028554)\n",
      "7. feature INDIVIDUAL (0.016419)\n",
      "8. feature Retail Trade (0.014239)\n",
      "9. feature GA (0.012046)\n",
      "10. feature FranchiseCodeBin (0.011234)\n",
      "11. feature TX (0.010899)\n",
      "12. feature Health Care & Social Assistance (0.010268)\n",
      "13. feature NY (0.008815)\n",
      "14. feature Construction (0.008623)\n",
      "15. feature PA (0.008377)\n",
      "16. feature Professional, Scientific, & Technical Services (0.008231)\n",
      "17. feature MA (0.008086)\n",
      "18. feature Other Services (0.007896)\n",
      "19. feature Wholesale Trade (0.007742)\n",
      "20. feature Manufacturing (0.007437)\n",
      "21. feature IL (0.006598)\n",
      "22. feature Transportation & Warehousing (0.006583)\n",
      "23. feature PR (0.006115)\n",
      "24. feature AZ (0.005460)\n",
      "25. feature Administrative/Support/Waste Management (0.005118)\n",
      "26. feature MT (0.005055)\n",
      "27. feature OH (0.004972)\n",
      "28. feature NJ (0.004888)\n",
      "29. feature UT (0.004489)\n",
      "30. feature MI (0.004296)\n",
      "31. feature CO (0.004280)\n",
      "32. feature MN (0.004009)\n",
      "33. feature NH (0.003963)\n",
      "34. feature MD (0.003683)\n",
      "35. feature ME (0.003624)\n",
      "36. feature NV (0.003541)\n",
      "37. feature Agriculture (0.003445)\n",
      "38. feature WA (0.003335)\n",
      "39. feature PARTNERSHIP (0.003289)\n",
      "40. feature Real Estate Rental & Leasing (0.003042)\n",
      "41. feature CT (0.003041)\n",
      "42. feature WI (0.002921)\n",
      "43. feature MO (0.002813)\n",
      "44. feature HI (0.002781)\n",
      "45. feature IN (0.002743)\n",
      "46. feature VA (0.002600)\n",
      "47. feature VT (0.002396)\n",
      "48. feature Arts, Entertainment, & Recreation (0.002383)\n",
      "49. feature NC (0.002303)\n",
      "50. feature ND (0.002160)\n",
      "51. feature Information (0.002016)\n",
      "52. feature RI (0.001963)\n",
      "53. feature KY (0.001959)\n",
      "54. feature Finance & Insurance (0.001841)\n",
      "55. feature KS (0.001798)\n",
      "56. feature TN (0.001698)\n",
      "57. feature LA (0.001623)\n",
      "58. feature NE (0.001589)\n",
      "59. feature IA (0.001523)\n",
      "60. feature OR (0.001522)\n",
      "61. feature OK (0.001521)\n",
      "62. feature AR (0.001499)\n",
      "63. feature AL (0.001444)\n",
      "64. feature MS (0.001178)\n",
      "65. feature SC (0.001139)\n",
      "66. feature Mining (0.001131)\n",
      "67. feature ID (0.001121)\n",
      "68. feature Educational Services (0.000991)\n",
      "69. feature NM (0.000914)\n",
      "70. feature DC (0.000572)\n",
      "71. feature WV (0.000395)\n",
      "72. feature WY (0.000381)\n",
      "73. feature SD (0.000361)\n",
      "74. feature DE (0.000246)\n",
      "75. feature Utilities (0.000033)\n",
      "76. feature Public Administration (0.000005)\n",
      "77. feature Management of Companies & Enterprises (0.000000)\n"
     ]
    },
    {
     "data": {
      "text/plain": [
       "<matplotlib.figure.Figure at 0x11bbe52e8>"
      ]
     },
     "metadata": {},
     "output_type": "display_data"
    }
   ],
   "source": [
    "# Feature ranking for random forest\n",
    "fig = plt.figure(figsize = (15,5))\n",
    "importances_rf_l84 = opt_rf_l84.feature_importances_\n",
    "std = np.std([tree.feature_importances_ for tree in opt_rf_l84.estimators_],\n",
    "            axis=0)\n",
    "indices_rf_l84 = np.argsort(importances_rf_l84)[::-1]\n",
    "fts_rf_l84 = list(X_train_l84.columns)\n",
    "# Print the feature ranking\n",
    "print(\"Feature ranking:\")\n",
    "\n",
    "for f in range(X_train_l84.shape[1]):\n",
    "   print(\"%d. feature %s (%f)\" % (f + 1, fts_rf_l84[indices_rf_l84[f]], importances_rf_l84[indices_rf_l84[f]]))"
   ]
  },
  {
   "cell_type": "code",
   "execution_count": 47,
   "metadata": {
    "collapsed": false
   },
   "outputs": [
    {
     "data": {
      "image/png": "[encoded data removed]",
      "text/plain": [
       "<matplotlib.figure.Figure at 0x114f845f8>"
      ]
     },
     "metadata": {},
     "output_type": "display_data"
    }
   ],
   "source": [
    "# Plot the feature importances of the forest\n",
    "importances = opt_rf_l84.feature_importances_\n",
    "std = np.std([tree.feature_importances_ for tree in opt_rf_l84.estimators_],\n",
    "             axis=0)\n",
    "indices = np.argsort(importances)[::-1]\n",
    "\n",
    "# Plot the feature importances of the forest\n",
    "fig = plt.figure(figsize = (10,5))\n",
    "\n",
    "plt.title(\"Feature importances\")\n",
    "plt.barh(range(10), importances[indices][0:10][::-1],\n",
    "       color=\"r\", xerr=std[indices][0:10][::-1], align=\"center\")\n",
    "# If you want to define your own labels,\n",
    "# change indices to a list of labels on the following line.\n",
    "plt.yticks(range(10), ['S&P 1500', 'Amount', 'Jobs Supported', 'Revolver Status',\n",
    "                       'CA',  'FL', 'Individual', 'Retail Trade', 'GA', 'Franchise'][::-1])\n",
    "    \n",
    "plt.ylim([-1,10])\n",
    "plt.tight_layout()\n",
    "\n",
    "\n",
    "fig.savefig('L84_RF_FImportance.png', dpi = 300)"
   ]
  },
  {
   "cell_type": "markdown",
   "metadata": {},
   "source": [
    "This is similar to what we had before - the S&P 1500 and the amount of the loan are the most important factors, followed by the number of jobs the business supports."
   ]
  }
 ],
 "metadata": {
  "kernelspec": {
   "display_name": "Python 3",
   "language": "python",
   "name": "python3"
  },
  "language_info": {
   "codemirror_mode": {
    "name": "ipython",
    "version": 3
   },
   "file_extension": ".py",
   "mimetype": "text/x-python",
   "name": "python",
   "nbconvert_exporter": "python",
   "pygments_lexer": "ipython3",
   "version": "3.6.0"
  }
 },
 "nbformat": 4,
 "nbformat_minor": 2
}
