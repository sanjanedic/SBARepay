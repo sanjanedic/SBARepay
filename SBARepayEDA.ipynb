{
 "cells": [
  {
   "cell_type": "markdown",
   "metadata": {},
   "source": [
    "# Predicting Loan Defaults for Small Business Loans\n"
   ]
  },
  {
   "cell_type": "markdown",
   "metadata": {},
   "source": [
    "## Context"
   ]
  },
  {
   "cell_type": "markdown",
   "metadata": {},
   "source": [
    "\n",
    "Small Business Administration (SBA) is a government agency that has delivered millions of loans, loan guarantees, contracts, counseling sessions and other forms of assistance to small businesses since 1953. \n",
    "\n",
    "SBA offers a variety of loan programs for very specific purposes - the most common program is the general small business loans (7(a) program). SBA does NOT provide grants for starting and expanding a business - it provides guarantees on loans that are distributed by lending institutions, thus reducing the risk to those institutions. \n",
    "\n",
    "7(a) loans have a maximum loan amount of \\$5 million.  The average 7(a) loan amount in fiscal year 2015 was \\$371,628. The actual interest rate for a 7(a) loan guaranteed by the SBA is negotiated between the applicant and lender and subject to the SBA maximums plus some spread, and not available for the data analyzed here.\n",
    "\n",
    "SBA can guarantee as much as 85 percent on loans of up to \\$150,000 and 75 percent on loans of more than \\$150,000. SBA’s maximum exposure amount is \\$3,750,000. \n",
    "\n"
   ]
  },
  {
   "cell_type": "markdown",
   "metadata": {},
   "source": [
    "## Problem"
   ]
  },
  {
   "cell_type": "markdown",
   "metadata": {},
   "source": [
    "SBA provides assistance to small businesses to let them start new operations, expand existing ones, or recover after natural disasters. However (as can be seen below) a significant portion of loans default.\n",
    "1. Can we predict which loans will be repaid? \n",
    "2. What are the factors that are predictive of default? "
   ]
  },
  {
   "cell_type": "markdown",
   "metadata": {},
   "source": [
    "## Exploratory Data Analysis + Data Cleaning"
   ]
  },
  {
   "cell_type": "markdown",
   "metadata": {},
   "source": [
    "## Data - Part 1.\n",
    "As a part of the \"Open Government\" policy, SBA has released a loan-level list of all 7(a) loans approved since October 1990 (Fiscal Year 1991 - Present). These are released as multiple Excel files. We will first load these using Pandas and then save them for easier/quicker access later. "
   ]
  },
  {
   "cell_type": "code",
   "execution_count": 1,
   "metadata": {
    "collapsed": false
   },
   "outputs": [],
   "source": [
    "#Import necessary Python packages \n",
    "\n",
    "#data analysis tools\n",
    "import numpy as np\n",
    "import pandas as pd\n",
    "import datetime\n",
    "from dateutil.relativedelta import relativedelta\n",
    "\n",
    "\n",
    "#plotting tools\n",
    "import matplotlib.pyplot as plt\n",
    "%matplotlib inline\n",
    "import seaborn as sns\n",
    "import graphviz \n"
   ]
  },
  {
   "cell_type": "code",
   "execution_count": 2,
   "metadata": {
    "collapsed": true
   },
   "outputs": [],
   "source": [
    "#Load the data (3 parts)\n",
    "#loans_7a_part1 = pd.read_excel('FOIA - 7(a)(FY1991-FY1999).xlsx', skiprows = 1)"
   ]
  },
  {
   "cell_type": "code",
   "execution_count": 3,
   "metadata": {
    "collapsed": true
   },
   "outputs": [],
   "source": [
    "#loans_7a_part2 = pd.read_excel('FOIA - 7(a)(FY2000-FY2009).xlsx', skiprows = 1)"
   ]
  },
  {
   "cell_type": "code",
   "execution_count": 4,
   "metadata": {
    "collapsed": true
   },
   "outputs": [],
   "source": [
    "#loans_7a_part3 = pd.read_excel('FOIA - 7(a)(FY2010-Present).xlsx', skiprows = 1)"
   ]
  },
  {
   "cell_type": "code",
   "execution_count": 5,
   "metadata": {
    "collapsed": true
   },
   "outputs": [],
   "source": [
    "#Concatenate the data\n",
    "#loans_7a = pd.concat([loans_7a_part1, loans_7a_part2, loans_7a_part3])"
   ]
  },
  {
   "cell_type": "code",
   "execution_count": 6,
   "metadata": {
    "collapsed": true
   },
   "outputs": [],
   "source": [
    "#Save for quicker access later\n",
    "#loans_7a.to_pickle('loans_7a')"
   ]
  },
  {
   "cell_type": "code",
   "execution_count": 7,
   "metadata": {
    "collapsed": true
   },
   "outputs": [],
   "source": [
    "#Read in the raw data \n",
    "loans_7a = pd.read_pickle('loans_7a')"
   ]
  },
  {
   "cell_type": "code",
   "execution_count": 8,
   "metadata": {
    "collapsed": false,
    "scrolled": true
   },
   "outputs": [
    {
     "data": {
      "text/plain": [
       "['Program',\n",
       " 'BorrName',\n",
       " 'BorrStreet',\n",
       " 'BorrCity',\n",
       " 'BorrState',\n",
       " 'BorrZip',\n",
       " 'BankName',\n",
       " 'BankStreet',\n",
       " 'BankCity',\n",
       " 'BankState',\n",
       " 'BankZip',\n",
       " 'GrossApproval',\n",
       " 'SBAGuaranteedApproval',\n",
       " 'ApprovalDate',\n",
       " 'ApprovalFiscalYear',\n",
       " 'FirstDisbursementDate',\n",
       " 'DeliveryMethod',\n",
       " 'subpgmdesc',\n",
       " 'InitialInterestRate',\n",
       " 'TermInMonths',\n",
       " 'NaicsCode',\n",
       " 'NaicsDescription',\n",
       " 'FranchiseCode',\n",
       " 'FranchiseName',\n",
       " 'ProjectCounty',\n",
       " 'ProjectState',\n",
       " 'SBADistrictOffice',\n",
       " 'CongressionalDistrict',\n",
       " 'BusinessType',\n",
       " 'LoanStatus',\n",
       " 'ChargeOffDate',\n",
       " 'GrossChargeOffAmount',\n",
       " 'RevolverStatus',\n",
       " 'JobsSupported']"
      ]
     },
     "execution_count": 8,
     "metadata": {},
     "output_type": "execute_result"
    }
   ],
   "source": [
    "list(loans_7a.columns)"
   ]
  },
  {
   "cell_type": "code",
   "execution_count": 9,
   "metadata": {
    "collapsed": false
   },
   "outputs": [
    {
     "data": {
      "text/html": [
       "<div>\n",
       "<style>\n",
       "    .dataframe thead tr:only-child th {\n",
       "        text-align: right;\n",
       "    }\n",
       "\n",
       "    .dataframe thead th {\n",
       "        text-align: left;\n",
       "    }\n",
       "\n",
       "    .dataframe tbody tr th {\n",
       "        vertical-align: top;\n",
       "    }\n",
       "</style>\n",
       "<table border=\"1\" class=\"dataframe\">\n",
       "  <thead>\n",
       "    <tr style=\"text-align: right;\">\n",
       "      <th></th>\n",
       "      <th>BorrZip</th>\n",
       "      <th>GrossApproval</th>\n",
       "      <th>SBAGuaranteedApproval</th>\n",
       "      <th>ApprovalFiscalYear</th>\n",
       "      <th>InitialInterestRate</th>\n",
       "      <th>TermInMonths</th>\n",
       "      <th>NaicsCode</th>\n",
       "      <th>FranchiseCode</th>\n",
       "      <th>CongressionalDistrict</th>\n",
       "      <th>GrossChargeOffAmount</th>\n",
       "      <th>RevolverStatus</th>\n",
       "      <th>JobsSupported</th>\n",
       "    </tr>\n",
       "  </thead>\n",
       "  <tbody>\n",
       "    <tr>\n",
       "      <th>count</th>\n",
       "      <td>1.444020e+06</td>\n",
       "      <td>1.444020e+06</td>\n",
       "      <td>1.444020e+06</td>\n",
       "      <td>1.444020e+06</td>\n",
       "      <td>453262.000000</td>\n",
       "      <td>1.444020e+06</td>\n",
       "      <td>1.241195e+06</td>\n",
       "      <td>1.444020e+06</td>\n",
       "      <td>1.433569e+06</td>\n",
       "      <td>1.444020e+06</td>\n",
       "      <td>1.444020e+06</td>\n",
       "      <td>1.444020e+06</td>\n",
       "    </tr>\n",
       "    <tr>\n",
       "      <th>mean</th>\n",
       "      <td>5.225015e+04</td>\n",
       "      <td>2.404600e+05</td>\n",
       "      <td>1.768696e+05</td>\n",
       "      <td>2.005233e+03</td>\n",
       "      <td>6.259969</td>\n",
       "      <td>1.097951e+02</td>\n",
       "      <td>5.214967e+05</td>\n",
       "      <td>2.526164e+03</td>\n",
       "      <td>1.037184e+01</td>\n",
       "      <td>1.251509e+04</td>\n",
       "      <td>2.570678e-01</td>\n",
       "      <td>7.198887e+00</td>\n",
       "    </tr>\n",
       "    <tr>\n",
       "      <th>std</th>\n",
       "      <td>3.150702e+04</td>\n",
       "      <td>4.292367e+05</td>\n",
       "      <td>3.263411e+05</td>\n",
       "      <td>6.912574e+00</td>\n",
       "      <td>1.398681</td>\n",
       "      <td>7.708278e+01</td>\n",
       "      <td>1.739744e+05</td>\n",
       "      <td>1.186865e+04</td>\n",
       "      <td>1.133274e+01</td>\n",
       "      <td>6.849460e+04</td>\n",
       "      <td>4.370172e-01</td>\n",
       "      <td>2.974551e+01</td>\n",
       "    </tr>\n",
       "    <tr>\n",
       "      <th>min</th>\n",
       "      <td>0.000000e+00</td>\n",
       "      <td>0.000000e+00</td>\n",
       "      <td>0.000000e+00</td>\n",
       "      <td>1.991000e+03</td>\n",
       "      <td>0.000000</td>\n",
       "      <td>0.000000e+00</td>\n",
       "      <td>1.111100e+05</td>\n",
       "      <td>0.000000e+00</td>\n",
       "      <td>0.000000e+00</td>\n",
       "      <td>0.000000e+00</td>\n",
       "      <td>0.000000e+00</td>\n",
       "      <td>0.000000e+00</td>\n",
       "    </tr>\n",
       "    <tr>\n",
       "      <th>25%</th>\n",
       "      <td>2.240600e+04</td>\n",
       "      <td>3.500000e+04</td>\n",
       "      <td>2.000000e+04</td>\n",
       "      <td>2.000000e+03</td>\n",
       "      <td>5.450000</td>\n",
       "      <td>6.000000e+01</td>\n",
       "      <td>4.244600e+05</td>\n",
       "      <td>0.000000e+00</td>\n",
       "      <td>3.000000e+00</td>\n",
       "      <td>0.000000e+00</td>\n",
       "      <td>0.000000e+00</td>\n",
       "      <td>0.000000e+00</td>\n",
       "    </tr>\n",
       "    <tr>\n",
       "      <th>50%</th>\n",
       "      <td>5.370400e+04</td>\n",
       "      <td>9.850000e+04</td>\n",
       "      <td>6.035000e+04</td>\n",
       "      <td>2.006000e+03</td>\n",
       "      <td>6.000000</td>\n",
       "      <td>8.400000e+01</td>\n",
       "      <td>5.311100e+05</td>\n",
       "      <td>1.000000e+00</td>\n",
       "      <td>6.000000e+00</td>\n",
       "      <td>0.000000e+00</td>\n",
       "      <td>0.000000e+00</td>\n",
       "      <td>2.000000e+00</td>\n",
       "    </tr>\n",
       "    <tr>\n",
       "      <th>75%</th>\n",
       "      <td>8.090700e+04</td>\n",
       "      <td>2.500000e+05</td>\n",
       "      <td>1.825192e+05</td>\n",
       "      <td>2.011000e+03</td>\n",
       "      <td>6.990000</td>\n",
       "      <td>1.200000e+02</td>\n",
       "      <td>6.244100e+05</td>\n",
       "      <td>1.000000e+00</td>\n",
       "      <td>1.300000e+01</td>\n",
       "      <td>0.000000e+00</td>\n",
       "      <td>1.000000e+00</td>\n",
       "      <td>7.000000e+00</td>\n",
       "    </tr>\n",
       "    <tr>\n",
       "      <th>max</th>\n",
       "      <td>9.999900e+04</td>\n",
       "      <td>5.000000e+06</td>\n",
       "      <td>5.250000e+06</td>\n",
       "      <td>2.017000e+03</td>\n",
       "      <td>56.000000</td>\n",
       "      <td>8.470000e+02</td>\n",
       "      <td>9.999900e+05</td>\n",
       "      <td>9.308600e+04</td>\n",
       "      <td>5.300000e+01</td>\n",
       "      <td>3.512596e+06</td>\n",
       "      <td>1.000000e+00</td>\n",
       "      <td>9.500000e+03</td>\n",
       "    </tr>\n",
       "  </tbody>\n",
       "</table>\n",
       "</div>"
      ],
      "text/plain": [
       "            BorrZip  GrossApproval  SBAGuaranteedApproval  ApprovalFiscalYear  \\\n",
       "count  1.444020e+06   1.444020e+06           1.444020e+06        1.444020e+06   \n",
       "mean   5.225015e+04   2.404600e+05           1.768696e+05        2.005233e+03   \n",
       "std    3.150702e+04   4.292367e+05           3.263411e+05        6.912574e+00   \n",
       "min    0.000000e+00   0.000000e+00           0.000000e+00        1.991000e+03   \n",
       "25%    2.240600e+04   3.500000e+04           2.000000e+04        2.000000e+03   \n",
       "50%    5.370400e+04   9.850000e+04           6.035000e+04        2.006000e+03   \n",
       "75%    8.090700e+04   2.500000e+05           1.825192e+05        2.011000e+03   \n",
       "max    9.999900e+04   5.000000e+06           5.250000e+06        2.017000e+03   \n",
       "\n",
       "       InitialInterestRate  TermInMonths     NaicsCode  FranchiseCode  \\\n",
       "count        453262.000000  1.444020e+06  1.241195e+06   1.444020e+06   \n",
       "mean              6.259969  1.097951e+02  5.214967e+05   2.526164e+03   \n",
       "std               1.398681  7.708278e+01  1.739744e+05   1.186865e+04   \n",
       "min               0.000000  0.000000e+00  1.111100e+05   0.000000e+00   \n",
       "25%               5.450000  6.000000e+01  4.244600e+05   0.000000e+00   \n",
       "50%               6.000000  8.400000e+01  5.311100e+05   1.000000e+00   \n",
       "75%               6.990000  1.200000e+02  6.244100e+05   1.000000e+00   \n",
       "max              56.000000  8.470000e+02  9.999900e+05   9.308600e+04   \n",
       "\n",
       "       CongressionalDistrict  GrossChargeOffAmount  RevolverStatus  \\\n",
       "count           1.433569e+06          1.444020e+06    1.444020e+06   \n",
       "mean            1.037184e+01          1.251509e+04    2.570678e-01   \n",
       "std             1.133274e+01          6.849460e+04    4.370172e-01   \n",
       "min             0.000000e+00          0.000000e+00    0.000000e+00   \n",
       "25%             3.000000e+00          0.000000e+00    0.000000e+00   \n",
       "50%             6.000000e+00          0.000000e+00    0.000000e+00   \n",
       "75%             1.300000e+01          0.000000e+00    1.000000e+00   \n",
       "max             5.300000e+01          3.512596e+06    1.000000e+00   \n",
       "\n",
       "       JobsSupported  \n",
       "count   1.444020e+06  \n",
       "mean    7.198887e+00  \n",
       "std     2.974551e+01  \n",
       "min     0.000000e+00  \n",
       "25%     0.000000e+00  \n",
       "50%     2.000000e+00  \n",
       "75%     7.000000e+00  \n",
       "max     9.500000e+03  "
      ]
     },
     "execution_count": 9,
     "metadata": {},
     "output_type": "execute_result"
    }
   ],
   "source": [
    "loans_7a.describe()"
   ]
  },
  {
   "cell_type": "code",
   "execution_count": 10,
   "metadata": {
    "collapsed": false
   },
   "outputs": [
    {
     "data": {
      "text/plain": [
       "Program                        0\n",
       "BorrName                      52\n",
       "BorrStreet                   132\n",
       "BorrCity                      25\n",
       "BorrState                     28\n",
       "BorrZip                        0\n",
       "BankName                       0\n",
       "BankStreet                  2046\n",
       "BankCity                    2046\n",
       "BankState                   2108\n",
       "BankZip                     2096\n",
       "GrossApproval                  0\n",
       "SBAGuaranteedApproval          0\n",
       "ApprovalDate                   0\n",
       "ApprovalFiscalYear             0\n",
       "FirstDisbursementDate     194718\n",
       "DeliveryMethod                30\n",
       "subpgmdesc                     0\n",
       "InitialInterestRate       990758\n",
       "TermInMonths                   0\n",
       "NaicsCode                 202825\n",
       "NaicsDescription          236519\n",
       "FranchiseCode                  0\n",
       "FranchiseName            1351534\n",
       "ProjectCounty                656\n",
       "ProjectState                  58\n",
       "SBADistrictOffice             25\n",
       "CongressionalDistrict      10451\n",
       "BusinessType                  77\n",
       "LoanStatus                     0\n",
       "ChargeOffDate            1250443\n",
       "GrossChargeOffAmount           0\n",
       "RevolverStatus                 0\n",
       "JobsSupported                  0\n",
       "dtype: int64"
      ]
     },
     "execution_count": 10,
     "metadata": {},
     "output_type": "execute_result"
    }
   ],
   "source": [
    "#Check the number of NaN's (or missing values) for each column\n",
    "loans_7a.isnull().sum()"
   ]
  },
  {
   "cell_type": "code",
   "execution_count": 11,
   "metadata": {
    "collapsed": false
   },
   "outputs": [
    {
     "data": {
      "text/html": [
       "<div>\n",
       "<style>\n",
       "    .dataframe thead tr:only-child th {\n",
       "        text-align: right;\n",
       "    }\n",
       "\n",
       "    .dataframe thead th {\n",
       "        text-align: left;\n",
       "    }\n",
       "\n",
       "    .dataframe tbody tr th {\n",
       "        vertical-align: top;\n",
       "    }\n",
       "</style>\n",
       "<table border=\"1\" class=\"dataframe\">\n",
       "  <thead>\n",
       "    <tr style=\"text-align: right;\">\n",
       "      <th></th>\n",
       "      <th>Program</th>\n",
       "      <th>BorrName</th>\n",
       "      <th>BorrStreet</th>\n",
       "      <th>BorrCity</th>\n",
       "      <th>BorrState</th>\n",
       "      <th>BorrZip</th>\n",
       "      <th>BankName</th>\n",
       "      <th>BankStreet</th>\n",
       "      <th>BankCity</th>\n",
       "      <th>BankState</th>\n",
       "      <th>...</th>\n",
       "      <th>ProjectCounty</th>\n",
       "      <th>ProjectState</th>\n",
       "      <th>SBADistrictOffice</th>\n",
       "      <th>CongressionalDistrict</th>\n",
       "      <th>BusinessType</th>\n",
       "      <th>LoanStatus</th>\n",
       "      <th>ChargeOffDate</th>\n",
       "      <th>GrossChargeOffAmount</th>\n",
       "      <th>RevolverStatus</th>\n",
       "      <th>JobsSupported</th>\n",
       "    </tr>\n",
       "  </thead>\n",
       "  <tbody>\n",
       "    <tr>\n",
       "      <th>0</th>\n",
       "      <td>7A</td>\n",
       "      <td>TECHNIGRAPHICS</td>\n",
       "      <td>1880 PARKWAY BLVD.</td>\n",
       "      <td>WEST VALLEY</td>\n",
       "      <td>UT</td>\n",
       "      <td>84119</td>\n",
       "      <td>Bank of the West</td>\n",
       "      <td>180 Montgomery St</td>\n",
       "      <td>SAN FRANCISCO</td>\n",
       "      <td>CA</td>\n",
       "      <td>...</td>\n",
       "      <td>SALT LAKE</td>\n",
       "      <td>UT</td>\n",
       "      <td>UTAH DISTRICT OFFICE</td>\n",
       "      <td>4.0</td>\n",
       "      <td>PARTNERSHIP</td>\n",
       "      <td>PIF</td>\n",
       "      <td>NaT</td>\n",
       "      <td>0</td>\n",
       "      <td>0</td>\n",
       "      <td>0</td>\n",
       "    </tr>\n",
       "    <tr>\n",
       "      <th>1</th>\n",
       "      <td>7A</td>\n",
       "      <td>RUTH M. AND RONALD E. RIVARD</td>\n",
       "      <td>36 CABOT ROAD</td>\n",
       "      <td>MERRIMACK</td>\n",
       "      <td>NH</td>\n",
       "      <td>3054</td>\n",
       "      <td>MISSINGMAINBANKID</td>\n",
       "      <td>NaN</td>\n",
       "      <td>NaN</td>\n",
       "      <td>NaN</td>\n",
       "      <td>...</td>\n",
       "      <td>HILLSBOROUGH</td>\n",
       "      <td>NH</td>\n",
       "      <td>NEW HAMPSHIRE DISTRICT OFFICE</td>\n",
       "      <td>1.0</td>\n",
       "      <td>INDIVIDUAL</td>\n",
       "      <td>CANCLD</td>\n",
       "      <td>NaT</td>\n",
       "      <td>0</td>\n",
       "      <td>0</td>\n",
       "      <td>0</td>\n",
       "    </tr>\n",
       "    <tr>\n",
       "      <th>2</th>\n",
       "      <td>7A</td>\n",
       "      <td>FOUR SEASONS PLANT CTR., INC.</td>\n",
       "      <td>222 S. POPE ST.</td>\n",
       "      <td>BRECKENRIDGE</td>\n",
       "      <td>MN</td>\n",
       "      <td>56520</td>\n",
       "      <td>Bank of the West</td>\n",
       "      <td>180 Montgomery St</td>\n",
       "      <td>SAN FRANCISCO</td>\n",
       "      <td>CA</td>\n",
       "      <td>...</td>\n",
       "      <td>WILKIN</td>\n",
       "      <td>MN</td>\n",
       "      <td>MINNESOTA DISTRICT OFFICE</td>\n",
       "      <td>7.0</td>\n",
       "      <td>CORPORATION</td>\n",
       "      <td>PIF</td>\n",
       "      <td>NaT</td>\n",
       "      <td>0</td>\n",
       "      <td>0</td>\n",
       "      <td>0</td>\n",
       "    </tr>\n",
       "    <tr>\n",
       "      <th>3</th>\n",
       "      <td>7A</td>\n",
       "      <td>Michael Davis</td>\n",
       "      <td>P O BOX 1457</td>\n",
       "      <td>FOND DU LAC</td>\n",
       "      <td>WI</td>\n",
       "      <td>54936</td>\n",
       "      <td>U.S. Bank National Association</td>\n",
       "      <td>425 Walnut St</td>\n",
       "      <td>Cincinnati</td>\n",
       "      <td>OH</td>\n",
       "      <td>...</td>\n",
       "      <td>FOND DU LAC</td>\n",
       "      <td>WI</td>\n",
       "      <td>MILWAUKEE</td>\n",
       "      <td>6.0</td>\n",
       "      <td>CORPORATION</td>\n",
       "      <td>PIF</td>\n",
       "      <td>NaT</td>\n",
       "      <td>0</td>\n",
       "      <td>0</td>\n",
       "      <td>0</td>\n",
       "    </tr>\n",
       "    <tr>\n",
       "      <th>4</th>\n",
       "      <td>7A</td>\n",
       "      <td>ROBINS INSURANCE AGENCY, INC.</td>\n",
       "      <td>30 BURTON HILLS BLVD.</td>\n",
       "      <td>NASHVILLE</td>\n",
       "      <td>TN</td>\n",
       "      <td>37215</td>\n",
       "      <td>SunTrust Bank</td>\n",
       "      <td>25 Park Place NE</td>\n",
       "      <td>ATLANTA</td>\n",
       "      <td>GA</td>\n",
       "      <td>...</td>\n",
       "      <td>DAVIDSON</td>\n",
       "      <td>TN</td>\n",
       "      <td>TENNESSEE DISTRICT OFFICE</td>\n",
       "      <td>5.0</td>\n",
       "      <td>CORPORATION</td>\n",
       "      <td>PIF</td>\n",
       "      <td>NaT</td>\n",
       "      <td>0</td>\n",
       "      <td>0</td>\n",
       "      <td>0</td>\n",
       "    </tr>\n",
       "    <tr>\n",
       "      <th>5</th>\n",
       "      <td>7A</td>\n",
       "      <td>REHABILITATION ADVISORS, INC</td>\n",
       "      <td>445 WYMORE ROAD STE 220</td>\n",
       "      <td>WINTER PARK</td>\n",
       "      <td>FL</td>\n",
       "      <td>32789</td>\n",
       "      <td>TD Bank, National Association</td>\n",
       "      <td>2035 Limestone Rd</td>\n",
       "      <td>WILMINGTON</td>\n",
       "      <td>DE</td>\n",
       "      <td>...</td>\n",
       "      <td>ORANGE</td>\n",
       "      <td>FL</td>\n",
       "      <td>NORTH FLORIDA DISTRICT OFFICE</td>\n",
       "      <td>7.0</td>\n",
       "      <td>CORPORATION</td>\n",
       "      <td>PIF</td>\n",
       "      <td>NaT</td>\n",
       "      <td>0</td>\n",
       "      <td>0</td>\n",
       "      <td>0</td>\n",
       "    </tr>\n",
       "    <tr>\n",
       "      <th>6</th>\n",
       "      <td>7A</td>\n",
       "      <td>NEW ERA, INC.</td>\n",
       "      <td>1255 PARADISE HILL ROAD</td>\n",
       "      <td>CLARKSVILLE</td>\n",
       "      <td>TN</td>\n",
       "      <td>37041</td>\n",
       "      <td>First Tennessee Bank, National Association</td>\n",
       "      <td>165 Madison Ave, 1st Fl</td>\n",
       "      <td>MEMPHIS</td>\n",
       "      <td>TN</td>\n",
       "      <td>...</td>\n",
       "      <td>MONTGOMERY</td>\n",
       "      <td>TN</td>\n",
       "      <td>TENNESSEE DISTRICT OFFICE</td>\n",
       "      <td>7.0</td>\n",
       "      <td>CORPORATION</td>\n",
       "      <td>PIF</td>\n",
       "      <td>NaT</td>\n",
       "      <td>0</td>\n",
       "      <td>0</td>\n",
       "      <td>0</td>\n",
       "    </tr>\n",
       "    <tr>\n",
       "      <th>7</th>\n",
       "      <td>7A</td>\n",
       "      <td>GBR, INC. &amp; GERALD H &amp; BONITA</td>\n",
       "      <td>1103 SPRUCE</td>\n",
       "      <td>YANKTON</td>\n",
       "      <td>SD</td>\n",
       "      <td>57078</td>\n",
       "      <td>CorTrust Bank National Association</td>\n",
       "      <td>100 E Havens Ave</td>\n",
       "      <td>MITCHELL</td>\n",
       "      <td>SD</td>\n",
       "      <td>...</td>\n",
       "      <td>YANKTON</td>\n",
       "      <td>SD</td>\n",
       "      <td>SOUTH DAKOTA DISTRICT OFFICE</td>\n",
       "      <td>0.0</td>\n",
       "      <td>INDIVIDUAL</td>\n",
       "      <td>PIF</td>\n",
       "      <td>NaT</td>\n",
       "      <td>0</td>\n",
       "      <td>0</td>\n",
       "      <td>0</td>\n",
       "    </tr>\n",
       "    <tr>\n",
       "      <th>8</th>\n",
       "      <td>7A</td>\n",
       "      <td>MICRO-PACE COMPUTERS, INC.</td>\n",
       "      <td>604 N. COUNTRY FAIR DRIVE, S</td>\n",
       "      <td>CHAMPAIGN</td>\n",
       "      <td>IL</td>\n",
       "      <td>61821</td>\n",
       "      <td>Central Illinois Bank, A Branch of</td>\n",
       "      <td>2913 W Kirby Ave</td>\n",
       "      <td>CHAMPAIGN</td>\n",
       "      <td>IL</td>\n",
       "      <td>...</td>\n",
       "      <td>CHAMPAIGN</td>\n",
       "      <td>IL</td>\n",
       "      <td>SPRINGFIELD BRANCH OFFICE</td>\n",
       "      <td>13.0</td>\n",
       "      <td>CORPORATION</td>\n",
       "      <td>PIF</td>\n",
       "      <td>NaT</td>\n",
       "      <td>0</td>\n",
       "      <td>0</td>\n",
       "      <td>0</td>\n",
       "    </tr>\n",
       "    <tr>\n",
       "      <th>9</th>\n",
       "      <td>7A</td>\n",
       "      <td>M.C. INTERNATIONAL, INC</td>\n",
       "      <td>1100-B TUCKAHOE DRIVE</td>\n",
       "      <td>NASHVILLE</td>\n",
       "      <td>TN</td>\n",
       "      <td>37207</td>\n",
       "      <td>First Tennessee Bank, National Association</td>\n",
       "      <td>165 Madison Ave, 1st Fl</td>\n",
       "      <td>MEMPHIS</td>\n",
       "      <td>TN</td>\n",
       "      <td>...</td>\n",
       "      <td>DAVIDSON</td>\n",
       "      <td>TN</td>\n",
       "      <td>TENNESSEE DISTRICT OFFICE</td>\n",
       "      <td>5.0</td>\n",
       "      <td>CORPORATION</td>\n",
       "      <td>PIF</td>\n",
       "      <td>NaT</td>\n",
       "      <td>0</td>\n",
       "      <td>0</td>\n",
       "      <td>0</td>\n",
       "    </tr>\n",
       "  </tbody>\n",
       "</table>\n",
       "<p>10 rows × 34 columns</p>\n",
       "</div>"
      ],
      "text/plain": [
       "  Program                       BorrName                    BorrStreet  \\\n",
       "0      7A                 TECHNIGRAPHICS            1880 PARKWAY BLVD.   \n",
       "1      7A   RUTH M. AND RONALD E. RIVARD                 36 CABOT ROAD   \n",
       "2      7A  FOUR SEASONS PLANT CTR., INC.               222 S. POPE ST.   \n",
       "3      7A                  Michael Davis                  P O BOX 1457   \n",
       "4      7A  ROBINS INSURANCE AGENCY, INC.         30 BURTON HILLS BLVD.   \n",
       "5      7A   REHABILITATION ADVISORS, INC       445 WYMORE ROAD STE 220   \n",
       "6      7A                  NEW ERA, INC.       1255 PARADISE HILL ROAD   \n",
       "7      7A  GBR, INC. & GERALD H & BONITA                   1103 SPRUCE   \n",
       "8      7A     MICRO-PACE COMPUTERS, INC.  604 N. COUNTRY FAIR DRIVE, S   \n",
       "9      7A        M.C. INTERNATIONAL, INC         1100-B TUCKAHOE DRIVE   \n",
       "\n",
       "       BorrCity BorrState  BorrZip  \\\n",
       "0   WEST VALLEY        UT    84119   \n",
       "1     MERRIMACK        NH     3054   \n",
       "2  BRECKENRIDGE        MN    56520   \n",
       "3   FOND DU LAC        WI    54936   \n",
       "4     NASHVILLE        TN    37215   \n",
       "5   WINTER PARK        FL    32789   \n",
       "6   CLARKSVILLE        TN    37041   \n",
       "7       YANKTON        SD    57078   \n",
       "8     CHAMPAIGN        IL    61821   \n",
       "9     NASHVILLE        TN    37207   \n",
       "\n",
       "                                     BankName               BankStreet  \\\n",
       "0                            Bank of the West        180 Montgomery St   \n",
       "1                           MISSINGMAINBANKID                      NaN   \n",
       "2                            Bank of the West        180 Montgomery St   \n",
       "3              U.S. Bank National Association            425 Walnut St   \n",
       "4                               SunTrust Bank         25 Park Place NE   \n",
       "5               TD Bank, National Association        2035 Limestone Rd   \n",
       "6  First Tennessee Bank, National Association  165 Madison Ave, 1st Fl   \n",
       "7          CorTrust Bank National Association         100 E Havens Ave   \n",
       "8          Central Illinois Bank, A Branch of         2913 W Kirby Ave   \n",
       "9  First Tennessee Bank, National Association  165 Madison Ave, 1st Fl   \n",
       "\n",
       "        BankCity BankState      ...       ProjectCounty  ProjectState  \\\n",
       "0  SAN FRANCISCO        CA      ...           SALT LAKE            UT   \n",
       "1            NaN       NaN      ...        HILLSBOROUGH            NH   \n",
       "2  SAN FRANCISCO        CA      ...              WILKIN            MN   \n",
       "3     Cincinnati        OH      ...         FOND DU LAC            WI   \n",
       "4        ATLANTA        GA      ...            DAVIDSON            TN   \n",
       "5     WILMINGTON        DE      ...              ORANGE            FL   \n",
       "6        MEMPHIS        TN      ...          MONTGOMERY            TN   \n",
       "7       MITCHELL        SD      ...             YANKTON            SD   \n",
       "8      CHAMPAIGN        IL      ...           CHAMPAIGN            IL   \n",
       "9        MEMPHIS        TN      ...            DAVIDSON            TN   \n",
       "\n",
       "                SBADistrictOffice CongressionalDistrict  BusinessType  \\\n",
       "0           UTAH DISTRICT OFFICE                    4.0   PARTNERSHIP   \n",
       "1  NEW HAMPSHIRE DISTRICT OFFICE                    1.0    INDIVIDUAL   \n",
       "2      MINNESOTA DISTRICT OFFICE                    7.0   CORPORATION   \n",
       "3                       MILWAUKEE                   6.0   CORPORATION   \n",
       "4      TENNESSEE DISTRICT OFFICE                    5.0   CORPORATION   \n",
       "5  NORTH FLORIDA DISTRICT OFFICE                    7.0   CORPORATION   \n",
       "6      TENNESSEE DISTRICT OFFICE                    7.0   CORPORATION   \n",
       "7   SOUTH DAKOTA DISTRICT OFFICE                    0.0    INDIVIDUAL   \n",
       "8      SPRINGFIELD BRANCH OFFICE                   13.0   CORPORATION   \n",
       "9      TENNESSEE DISTRICT OFFICE                    5.0   CORPORATION   \n",
       "\n",
       "  LoanStatus ChargeOffDate GrossChargeOffAmount  RevolverStatus  JobsSupported  \n",
       "0        PIF           NaT                    0               0              0  \n",
       "1     CANCLD           NaT                    0               0              0  \n",
       "2        PIF           NaT                    0               0              0  \n",
       "3        PIF           NaT                    0               0              0  \n",
       "4        PIF           NaT                    0               0              0  \n",
       "5        PIF           NaT                    0               0              0  \n",
       "6        PIF           NaT                    0               0              0  \n",
       "7        PIF           NaT                    0               0              0  \n",
       "8        PIF           NaT                    0               0              0  \n",
       "9        PIF           NaT                    0               0              0  \n",
       "\n",
       "[10 rows x 34 columns]"
      ]
     },
     "execution_count": 11,
     "metadata": {},
     "output_type": "execute_result"
    }
   ],
   "source": [
    "#Examine the first 10 rows\n",
    "loans_7a.head(10)"
   ]
  },
  {
   "cell_type": "markdown",
   "metadata": {},
   "source": [
    "### Target Variable:\n",
    "Loan Status/Charged Off Amount \n",
    "\n",
    "Limit data to only those loans that have been completed (paid in full or defaulted/charfed off) or to \n",
    "completed loans that have matured?"
   ]
  },
  {
   "cell_type": "code",
   "execution_count": 12,
   "metadata": {
    "collapsed": false
   },
   "outputs": [
    {
     "data": {
      "text/plain": [
       "PIF       781877\n",
       "EXEMPT    273406\n",
       "CHGOFF    193618\n",
       "CANCLD    171998\n",
       "COMMIT     23121\n",
       "Name: LoanStatus, dtype: int64"
      ]
     },
     "execution_count": 12,
     "metadata": {},
     "output_type": "execute_result"
    }
   ],
   "source": [
    "loans_7a['LoanStatus'].value_counts()"
   ]
  },
  {
   "cell_type": "markdown",
   "metadata": {},
   "source": [
    "1. PIF = paid in full\n",
    "2. CHGOFF = charged off / defaulted\n",
    "3. CANCLD = cancelled\n",
    "4. COMMIT = commited but not disbursed\n",
    "5. EXEMPT = exempt, usually loans that are still in the process of being paid off"
   ]
  },
  {
   "cell_type": "markdown",
   "metadata": {},
   "source": [
    "### Potentially useful features:\n",
    "Borrower Location (State), Bank (?), Gross Approval, SBA Guaranteed Approval, Approval Fiscal Year,  Term In Months, NAICS Code, Franchise Code, Business Type, Revolver Status, Jobs Supported"
   ]
  },
  {
   "cell_type": "code",
   "execution_count": 13,
   "metadata": {
    "collapsed": false
   },
   "outputs": [
    {
     "data": {
      "text/plain": [
       "Index(['Program', 'BorrName', 'BorrStreet', 'BorrCity', 'BorrState', 'BorrZip',\n",
       "       'BankName', 'BankStreet', 'BankCity', 'BankState', 'BankZip',\n",
       "       'GrossApproval', 'SBAGuaranteedApproval', 'ApprovalDate',\n",
       "       'ApprovalFiscalYear', 'FirstDisbursementDate', 'DeliveryMethod',\n",
       "       'subpgmdesc', 'InitialInterestRate', 'TermInMonths', 'NaicsCode',\n",
       "       'NaicsDescription', 'FranchiseCode', 'FranchiseName', 'ProjectCounty',\n",
       "       'ProjectState', 'SBADistrictOffice', 'CongressionalDistrict',\n",
       "       'BusinessType', 'LoanStatus', 'ChargeOffDate', 'GrossChargeOffAmount',\n",
       "       'RevolverStatus', 'JobsSupported'],\n",
       "      dtype='object')"
      ]
     },
     "execution_count": 13,
     "metadata": {},
     "output_type": "execute_result"
    }
   ],
   "source": [
    "loans_7a.columns"
   ]
  },
  {
   "cell_type": "code",
   "execution_count": 14,
   "metadata": {
    "collapsed": false
   },
   "outputs": [],
   "source": [
    "#Remove irrelevant features\n",
    "loans_7a.drop(['Program', 'BorrName', 'BorrStreet', 'BorrCity', 'BorrZip', 'BankStreet',  'BankCity', 'BankState',                \n",
    "                'BankZip', 'NaicsDescription', 'FranchiseName', 'ProjectCounty', 'ProjectState',\n",
    "               'SBADistrictOffice', 'CongressionalDistrict'], axis = 1, inplace = True)\n"
   ]
  },
  {
   "cell_type": "code",
   "execution_count": 15,
   "metadata": {
    "collapsed": false
   },
   "outputs": [
    {
     "data": {
      "text/plain": [
       "Index(['BorrState', 'BankName', 'GrossApproval', 'SBAGuaranteedApproval',\n",
       "       'ApprovalDate', 'ApprovalFiscalYear', 'FirstDisbursementDate',\n",
       "       'DeliveryMethod', 'subpgmdesc', 'InitialInterestRate', 'TermInMonths',\n",
       "       'NaicsCode', 'FranchiseCode', 'BusinessType', 'LoanStatus',\n",
       "       'ChargeOffDate', 'GrossChargeOffAmount', 'RevolverStatus',\n",
       "       'JobsSupported'],\n",
       "      dtype='object')"
      ]
     },
     "execution_count": 15,
     "metadata": {},
     "output_type": "execute_result"
    }
   ],
   "source": [
    "loans_7a.columns"
   ]
  },
  {
   "cell_type": "code",
   "execution_count": 16,
   "metadata": {
    "collapsed": true
   },
   "outputs": [],
   "source": [
    "#Since initial interest rate is missing in 990758 rows, remove it\n",
    "loans_7a.drop('InitialInterestRate', axis = 1, inplace = True)"
   ]
  },
  {
   "cell_type": "code",
   "execution_count": 17,
   "metadata": {
    "collapsed": false
   },
   "outputs": [],
   "source": [
    "#Most frequent banks\n",
    "#loans_7a['BankName'].value_counts()\n"
   ]
  },
  {
   "cell_type": "markdown",
   "metadata": {},
   "source": [
    "### Approval amount and guaranteed amount are highly correlated! "
   ]
  },
  {
   "cell_type": "code",
   "execution_count": 18,
   "metadata": {
    "collapsed": false
   },
   "outputs": [
    {
     "data": {
      "text/plain": [
       "0.99203049820361355"
      ]
     },
     "execution_count": 18,
     "metadata": {},
     "output_type": "execute_result"
    }
   ],
   "source": [
    "loans_7a['GrossApproval'].corr(loans_7a['SBAGuaranteedApproval'])"
   ]
  },
  {
   "cell_type": "code",
   "execution_count": 19,
   "metadata": {
    "collapsed": false
   },
   "outputs": [],
   "source": [
    "loans_7a.drop('GrossApproval', axis = 1, inplace = True)"
   ]
  },
  {
   "cell_type": "code",
   "execution_count": 20,
   "metadata": {
    "collapsed": false
   },
   "outputs": [
    {
     "data": {
      "text/plain": [
       "CORPORATION    1058519\n",
       "INDIVIDUAL      334710\n",
       "PARTNERSHIP      50714\n",
       "Name: BusinessType, dtype: int64"
      ]
     },
     "execution_count": 20,
     "metadata": {},
     "output_type": "execute_result"
    }
   ],
   "source": [
    "loans_7a['BusinessType'].value_counts()\n"
   ]
  },
  {
   "cell_type": "code",
   "execution_count": 21,
   "metadata": {
    "collapsed": false
   },
   "outputs": [
    {
     "data": {
      "text/plain": [
       "1        745759\n",
       "0        605775\n",
       "78760      4725\n",
       "68020      2603\n",
       "50564      1269\n",
       "21780      1245\n",
       "25650      1129\n",
       "17998       943\n",
       "24850       718\n",
       "22470       685\n",
       "Name: FranchiseCode, dtype: int64"
      ]
     },
     "execution_count": 21,
     "metadata": {},
     "output_type": "execute_result"
    }
   ],
   "source": [
    "loans_7a['FranchiseCode'].value_counts().head(10)\n"
   ]
  },
  {
   "cell_type": "markdown",
   "metadata": {},
   "source": [
    "### Franchise code is 0 or 1 for non-franchises and a 5-digit code otherwise! Only 6.4% of approved loans were to franchises!"
   ]
  },
  {
   "cell_type": "code",
   "execution_count": 22,
   "metadata": {
    "collapsed": false
   },
   "outputs": [
    {
     "data": {
      "text/plain": [
       "6.4047589368568305"
      ]
     },
     "execution_count": 22,
     "metadata": {},
     "output_type": "execute_result"
    }
   ],
   "source": [
    "#Percent of franchises\n",
    "(loans_7a['FranchiseCode'] > 1).sum()/len(loans_7a)*100"
   ]
  },
  {
   "cell_type": "code",
   "execution_count": 23,
   "metadata": {
    "collapsed": true
   },
   "outputs": [],
   "source": [
    "#Turn franchise code into a binary variable\n",
    "def binarizeFranCode(code):\n",
    "    if code > 1:\n",
    "        return 1\n",
    "    else:\n",
    "        return 0"
   ]
  },
  {
   "cell_type": "code",
   "execution_count": 24,
   "metadata": {
    "collapsed": true
   },
   "outputs": [],
   "source": [
    "loans_7a['FranchiseCodeBin'] = loans_7a['FranchiseCode'].apply(binarizeFranCode)"
   ]
  },
  {
   "cell_type": "code",
   "execution_count": 25,
   "metadata": {
    "collapsed": false
   },
   "outputs": [
    {
     "data": {
      "text/plain": [
       "0    1351534\n",
       "1      92486\n",
       "Name: FranchiseCodeBin, dtype: int64"
      ]
     },
     "execution_count": 25,
     "metadata": {},
     "output_type": "execute_result"
    }
   ],
   "source": [
    "loans_7a['FranchiseCodeBin'].value_counts()"
   ]
  },
  {
   "cell_type": "code",
   "execution_count": 26,
   "metadata": {
    "collapsed": true
   },
   "outputs": [],
   "source": [
    "loans_7a.drop('FranchiseCode', axis = 1, inplace = True)"
   ]
  },
  {
   "cell_type": "markdown",
   "metadata": {},
   "source": [
    "The North American Industry Classification System (NAICS) \n",
    " classifies business establishments based on the activities in which they are primarily engaged.\n",
    " ### There are more than 1300 different NAICS values in this dataset!"
   ]
  },
  {
   "cell_type": "code",
   "execution_count": 27,
   "metadata": {
    "collapsed": false
   },
   "outputs": [
    {
     "data": {
      "text/plain": [
       "1380"
      ]
     },
     "execution_count": 27,
     "metadata": {},
     "output_type": "execute_result"
    }
   ],
   "source": [
    "loans_7a['NaicsCode'].nunique()"
   ]
  },
  {
   "cell_type": "code",
   "execution_count": 28,
   "metadata": {
    "collapsed": false
   },
   "outputs": [
    {
     "data": {
      "text/plain": [
       "202825"
      ]
     },
     "execution_count": 28,
     "metadata": {},
     "output_type": "execute_result"
    }
   ],
   "source": [
    "loans_7a['NaicsCode'].isnull().sum()"
   ]
  },
  {
   "cell_type": "code",
   "execution_count": 29,
   "metadata": {
    "collapsed": true
   },
   "outputs": [],
   "source": [
    "#remove rows with missing NAICS Codes"
   ]
  },
  {
   "cell_type": "code",
   "execution_count": 30,
   "metadata": {
    "collapsed": false
   },
   "outputs": [],
   "source": [
    "loans_7a.dropna(subset = ['NaicsCode'], inplace = True)"
   ]
  },
  {
   "cell_type": "code",
   "execution_count": 31,
   "metadata": {
    "collapsed": true
   },
   "outputs": [],
   "source": [
    "loans_7a.reset_index(drop = True, inplace = True)"
   ]
  },
  {
   "cell_type": "markdown",
   "metadata": {},
   "source": [
    "### Completed vs. Matured Loans"
   ]
  },
  {
   "cell_type": "code",
   "execution_count": 32,
   "metadata": {
    "collapsed": false
   },
   "outputs": [],
   "source": [
    "#replace CHGOFF with DEFAULT for simplicity \n",
    "def repCHGOFF_DEFAULT(status):\n",
    "    if status == 'CHGOFF':\n",
    "        return 'DEFAULT'\n",
    "    else:\n",
    "        return status\n",
    "loans_7a['LoanStatus'] = loans_7a['LoanStatus'].apply(repCHGOFF_DEFAULT)"
   ]
  },
  {
   "cell_type": "code",
   "execution_count": 33,
   "metadata": {
    "collapsed": false
   },
   "outputs": [
    {
     "data": {
      "text/plain": [
       "PIF        630223\n",
       "EXEMPT     272143\n",
       "DEFAULT    170653\n",
       "CANCLD     145055\n",
       "COMMIT      23121\n",
       "Name: LoanStatus, dtype: int64"
      ]
     },
     "execution_count": 33,
     "metadata": {},
     "output_type": "execute_result"
    }
   ],
   "source": [
    "loans_7a['LoanStatus'].value_counts()"
   ]
  },
  {
   "cell_type": "code",
   "execution_count": 34,
   "metadata": {
    "collapsed": false
   },
   "outputs": [
    {
     "data": {
      "text/plain": [
       "0.21308292419800318"
      ]
     },
     "execution_count": 34,
     "metadata": {},
     "output_type": "execute_result"
    }
   ],
   "source": [
    "# percent of loans that defaulted out of all PIF or DEFAULT loans\n",
    "loans_7a['LoanStatus'].value_counts()['DEFAULT']/(loans_7a['LoanStatus'].value_counts()['DEFAULT'] + loans_7a['LoanStatus'].value_counts()['PIF'])"
   ]
  },
  {
   "cell_type": "markdown",
   "metadata": {
    "collapsed": false
   },
   "source": [
    "## Data - Part 2.\n",
    "As a an indicator of economic state at the time a loan is awarded, use S&P 1500 composite index.\n",
    "Source: http://www.econ.yale.edu/~shiller/data.htm"
   ]
  },
  {
   "cell_type": "code",
   "execution_count": 35,
   "metadata": {
    "collapsed": true
   },
   "outputs": [],
   "source": [
    "# Load monthly consumer price index and composite S&P index \n",
    "cpi_sp = pd.read_excel('ie_data.xls', sep = ' ', skiprows=7)\n",
    "#use only values starting in 1990\n",
    "cpi_sp  = cpi_sp[cpi_sp['Date']>1989]"
   ]
  },
  {
   "cell_type": "code",
   "execution_count": 36,
   "metadata": {
    "collapsed": true
   },
   "outputs": [],
   "source": [
    "#keep only relevant columns: date (year+month), S&P 1500 index and Consumer Price Index (CPI)\n",
    "cpi_sp = cpi_sp[['Date', 'P', 'CPI']]"
   ]
  },
  {
   "cell_type": "code",
   "execution_count": 37,
   "metadata": {
    "collapsed": false
   },
   "outputs": [
    {
     "data": {
      "text/html": [
       "<div>\n",
       "<style>\n",
       "    .dataframe thead tr:only-child th {\n",
       "        text-align: right;\n",
       "    }\n",
       "\n",
       "    .dataframe thead th {\n",
       "        text-align: left;\n",
       "    }\n",
       "\n",
       "    .dataframe tbody tr th {\n",
       "        vertical-align: top;\n",
       "    }\n",
       "</style>\n",
       "<table border=\"1\" class=\"dataframe\">\n",
       "  <thead>\n",
       "    <tr style=\"text-align: right;\">\n",
       "      <th></th>\n",
       "      <th>Date</th>\n",
       "      <th>SP</th>\n",
       "      <th>CPI</th>\n",
       "    </tr>\n",
       "  </thead>\n",
       "  <tbody>\n",
       "    <tr>\n",
       "      <th>1416</th>\n",
       "      <td>1989.01</td>\n",
       "      <td>285.4</td>\n",
       "      <td>121.1</td>\n",
       "    </tr>\n",
       "    <tr>\n",
       "      <th>1417</th>\n",
       "      <td>1989.02</td>\n",
       "      <td>294</td>\n",
       "      <td>121.6</td>\n",
       "    </tr>\n",
       "    <tr>\n",
       "      <th>1418</th>\n",
       "      <td>1989.03</td>\n",
       "      <td>292.7</td>\n",
       "      <td>122.3</td>\n",
       "    </tr>\n",
       "    <tr>\n",
       "      <th>1419</th>\n",
       "      <td>1989.04</td>\n",
       "      <td>302.3</td>\n",
       "      <td>123.1</td>\n",
       "    </tr>\n",
       "    <tr>\n",
       "      <th>1420</th>\n",
       "      <td>1989.05</td>\n",
       "      <td>313.9</td>\n",
       "      <td>123.8</td>\n",
       "    </tr>\n",
       "  </tbody>\n",
       "</table>\n",
       "</div>"
      ],
      "text/plain": [
       "         Date     SP    CPI\n",
       "1416  1989.01  285.4  121.1\n",
       "1417  1989.02    294  121.6\n",
       "1418  1989.03  292.7  122.3\n",
       "1419  1989.04  302.3  123.1\n",
       "1420  1989.05  313.9  123.8"
      ]
     },
     "execution_count": 37,
     "metadata": {},
     "output_type": "execute_result"
    }
   ],
   "source": [
    "#rename the columns\n",
    "cpi_sp.columns = ['Date', 'SP', 'CPI']\n",
    "cpi_sp.head()"
   ]
  },
  {
   "cell_type": "code",
   "execution_count": 38,
   "metadata": {
    "collapsed": false
   },
   "outputs": [
    {
     "data": {
      "text/html": [
       "<div>\n",
       "<style>\n",
       "    .dataframe thead tr:only-child th {\n",
       "        text-align: right;\n",
       "    }\n",
       "\n",
       "    .dataframe thead th {\n",
       "        text-align: left;\n",
       "    }\n",
       "\n",
       "    .dataframe tbody tr th {\n",
       "        vertical-align: top;\n",
       "    }\n",
       "</style>\n",
       "<table border=\"1\" class=\"dataframe\">\n",
       "  <thead>\n",
       "    <tr style=\"text-align: right;\">\n",
       "      <th></th>\n",
       "      <th>Date</th>\n",
       "      <th>SP</th>\n",
       "      <th>CPI</th>\n",
       "      <th>Date_dt</th>\n",
       "    </tr>\n",
       "  </thead>\n",
       "  <tbody>\n",
       "    <tr>\n",
       "      <th>1416</th>\n",
       "      <td>1989.01</td>\n",
       "      <td>285.4</td>\n",
       "      <td>121.1</td>\n",
       "      <td>1989-01-01</td>\n",
       "    </tr>\n",
       "    <tr>\n",
       "      <th>1417</th>\n",
       "      <td>1989.02</td>\n",
       "      <td>294</td>\n",
       "      <td>121.6</td>\n",
       "      <td>1989-02-01</td>\n",
       "    </tr>\n",
       "    <tr>\n",
       "      <th>1418</th>\n",
       "      <td>1989.03</td>\n",
       "      <td>292.7</td>\n",
       "      <td>122.3</td>\n",
       "      <td>1989-03-01</td>\n",
       "    </tr>\n",
       "    <tr>\n",
       "      <th>1419</th>\n",
       "      <td>1989.04</td>\n",
       "      <td>302.3</td>\n",
       "      <td>123.1</td>\n",
       "      <td>1989-04-01</td>\n",
       "    </tr>\n",
       "    <tr>\n",
       "      <th>1420</th>\n",
       "      <td>1989.05</td>\n",
       "      <td>313.9</td>\n",
       "      <td>123.8</td>\n",
       "      <td>1989-05-01</td>\n",
       "    </tr>\n",
       "    <tr>\n",
       "      <th>1421</th>\n",
       "      <td>1989.06</td>\n",
       "      <td>323.7</td>\n",
       "      <td>124.1</td>\n",
       "      <td>1989-06-01</td>\n",
       "    </tr>\n",
       "    <tr>\n",
       "      <th>1422</th>\n",
       "      <td>1989.07</td>\n",
       "      <td>331.9</td>\n",
       "      <td>124.4</td>\n",
       "      <td>1989-07-01</td>\n",
       "    </tr>\n",
       "    <tr>\n",
       "      <th>1423</th>\n",
       "      <td>1989.08</td>\n",
       "      <td>346.6</td>\n",
       "      <td>124.6</td>\n",
       "      <td>1989-08-01</td>\n",
       "    </tr>\n",
       "    <tr>\n",
       "      <th>1424</th>\n",
       "      <td>1989.09</td>\n",
       "      <td>347.3</td>\n",
       "      <td>125</td>\n",
       "      <td>1989-09-01</td>\n",
       "    </tr>\n",
       "    <tr>\n",
       "      <th>1425</th>\n",
       "      <td>1989.10</td>\n",
       "      <td>347.4</td>\n",
       "      <td>125.6</td>\n",
       "      <td>1989-10-01</td>\n",
       "    </tr>\n",
       "  </tbody>\n",
       "</table>\n",
       "</div>"
      ],
      "text/plain": [
       "         Date     SP    CPI     Date_dt\n",
       "1416  1989.01  285.4  121.1  1989-01-01\n",
       "1417  1989.02    294  121.6  1989-02-01\n",
       "1418  1989.03  292.7  122.3  1989-03-01\n",
       "1419  1989.04  302.3  123.1  1989-04-01\n",
       "1420  1989.05  313.9  123.8  1989-05-01\n",
       "1421  1989.06  323.7  124.1  1989-06-01\n",
       "1422  1989.07  331.9  124.4  1989-07-01\n",
       "1423  1989.08  346.6  124.6  1989-08-01\n",
       "1424  1989.09  347.3    125  1989-09-01\n",
       "1425  1989.10  347.4  125.6  1989-10-01"
      ]
     },
     "execution_count": 38,
     "metadata": {},
     "output_type": "execute_result"
    }
   ],
   "source": [
    "#change the format of the date from year.month to datetime (and deal with issues of .10 getting shortented to .1)\n",
    "def split_date(x):\n",
    "    tmp = str(x).split('.')\n",
    "    if tmp[1] == '1':\n",
    "        tmp[1] = '10'\n",
    "    return tmp\n",
    "cpi_sp['Date_dt'] = cpi_sp['Date'].apply(split_date)\n",
    "s = '-'\n",
    "cpi_sp['Date_dt'] = cpi_sp['Date_dt'].apply(lambda x: s.join(x))\n",
    "cpi_sp['Date_dt'] = cpi_sp['Date_dt'].apply(lambda x: x + '-01')\n",
    "cpi_sp.reset_index()\n",
    "cpi_sp.head(10)"
   ]
  },
  {
   "cell_type": "code",
   "execution_count": 39,
   "metadata": {
    "collapsed": true
   },
   "outputs": [],
   "source": [
    "cpi_sp.drop('Date', axis = 1, inplace = True)"
   ]
  },
  {
   "cell_type": "code",
   "execution_count": 40,
   "metadata": {
    "collapsed": true
   },
   "outputs": [],
   "source": [
    "#rename the columns\n",
    "cpi_sp.columns = ['SP', 'CPI', 'Date']"
   ]
  },
  {
   "cell_type": "code",
   "execution_count": 41,
   "metadata": {
    "collapsed": false
   },
   "outputs": [
    {
     "data": {
      "text/html": [
       "<div>\n",
       "<style>\n",
       "    .dataframe thead tr:only-child th {\n",
       "        text-align: right;\n",
       "    }\n",
       "\n",
       "    .dataframe thead th {\n",
       "        text-align: left;\n",
       "    }\n",
       "\n",
       "    .dataframe tbody tr th {\n",
       "        vertical-align: top;\n",
       "    }\n",
       "</style>\n",
       "<table border=\"1\" class=\"dataframe\">\n",
       "  <thead>\n",
       "    <tr style=\"text-align: right;\">\n",
       "      <th></th>\n",
       "      <th>Date</th>\n",
       "      <th>CPI_to2016</th>\n",
       "      <th>SP_to2016</th>\n",
       "    </tr>\n",
       "  </thead>\n",
       "  <tbody>\n",
       "    <tr>\n",
       "      <th>0</th>\n",
       "      <td>1989-01-01</td>\n",
       "      <td>1.95637</td>\n",
       "      <td>558.347</td>\n",
       "    </tr>\n",
       "    <tr>\n",
       "      <th>1</th>\n",
       "      <td>1989-02-01</td>\n",
       "      <td>1.94832</td>\n",
       "      <td>572.807</td>\n",
       "    </tr>\n",
       "    <tr>\n",
       "      <th>2</th>\n",
       "      <td>1989-03-01</td>\n",
       "      <td>1.93717</td>\n",
       "      <td>567.01</td>\n",
       "    </tr>\n",
       "    <tr>\n",
       "      <th>3</th>\n",
       "      <td>1989-04-01</td>\n",
       "      <td>1.92458</td>\n",
       "      <td>581.801</td>\n",
       "    </tr>\n",
       "    <tr>\n",
       "      <th>4</th>\n",
       "      <td>1989-05-01</td>\n",
       "      <td>1.9137</td>\n",
       "      <td>600.71</td>\n",
       "    </tr>\n",
       "  </tbody>\n",
       "</table>\n",
       "</div>"
      ],
      "text/plain": [
       "         Date CPI_to2016 SP_to2016\n",
       "0  1989-01-01    1.95637   558.347\n",
       "1  1989-02-01    1.94832   572.807\n",
       "2  1989-03-01    1.93717    567.01\n",
       "3  1989-04-01    1.92458   581.801\n",
       "4  1989-05-01     1.9137    600.71"
      ]
     },
     "execution_count": 41,
     "metadata": {},
     "output_type": "execute_result"
    }
   ],
   "source": [
    "#adjust S&P for CPI relative to January 2016 US Dollar value\n",
    "cpi2016 = float(cpi_sp[cpi_sp['Date'] == '2016-01-01']['CPI'])\n",
    "cpi_sp['CPI_to2016'] = cpi2016/cpi_sp['CPI']\n",
    "cpi_sp['SP_to2016'] = cpi_sp['SP'].multiply(cpi_sp['CPI_to2016'])\n",
    "cpi_sp.drop(['CPI', 'SP'], axis = 1, inplace = True)\n",
    "cpi_sp.reset_index(inplace = True, drop = True)\n",
    "cpi_sp.head()\n"
   ]
  },
  {
   "cell_type": "code",
   "execution_count": 42,
   "metadata": {
    "collapsed": false
   },
   "outputs": [
    {
     "data": {
      "image/png": "[encoded data removed]",
      "text/plain": [
       "<matplotlib.figure.Figure at 0x138234e10>"
      ]
     },
     "metadata": {},
     "output_type": "display_data"
    }
   ],
   "source": [
    "#Plot monhtly S&P (adjusted to 2016)\n",
    "fig = plt.figure(figsize = (10,5))\n",
    "axes = fig.add_subplot(1, 1, 1, facecolor ='gainsboro')\n",
    "axes.plot(pd.to_datetime(cpi_sp['Date']), cpi_sp['SP_to2016'], c = 'k', linewidth = 3)\n",
    "plt.xlabel('Year', fontsize = 20)\n",
    "plt.ylabel('S&P 1500', fontsize = 20)\n",
    "plt.xticks(fontsize = 20)\n",
    "plt.yticks(fontsize = 20)\n",
    "plt.tight_layout()\n",
    "plt.show()\n"
   ]
  },
  {
   "cell_type": "code",
   "execution_count": 43,
   "metadata": {
    "collapsed": true
   },
   "outputs": [],
   "source": [
    "fig.savefig('1_SP1500.png', dpi = 300)\n"
   ]
  },
  {
   "cell_type": "code",
   "execution_count": 44,
   "metadata": {
    "collapsed": true
   },
   "outputs": [],
   "source": [
    "#Use S&P value relative to loan's approval date\n",
    "\n",
    "cpi_sp.columns = [['ApprovalDate', 'CPI_to2016', 'SP_to2016']]\n",
    "\n",
    "#merge loan data with CPI + S&P data \n",
    "#keep only the date and set it to first of the month in order to use CPI and SP data\n",
    "loans_7a['ApprovalDate'] = loans_7a['ApprovalDate'].apply(lambda x:x.date())\n",
    "loans_7a['ApprovalDate'] = loans_7a['ApprovalDate'].apply(lambda x: x.replace(day = 1)) \n",
    "loans_7a['ApprovalDate']  = pd.to_datetime(loans_7a['ApprovalDate'])\n",
    "cpi_sp['ApprovalDate'] = pd.to_datetime(cpi_sp['ApprovalDate'])"
   ]
  },
  {
   "cell_type": "code",
   "execution_count": 45,
   "metadata": {
    "collapsed": true
   },
   "outputs": [],
   "source": [
    "loans_7a = pd.merge(loans_7a, cpi_sp, on = 'ApprovalDate', how = 'left')"
   ]
  },
  {
   "cell_type": "code",
   "execution_count": 46,
   "metadata": {
    "collapsed": false
   },
   "outputs": [
    {
     "data": {
      "text/html": [
       "<div>\n",
       "<style>\n",
       "    .dataframe thead tr:only-child th {\n",
       "        text-align: right;\n",
       "    }\n",
       "\n",
       "    .dataframe thead th {\n",
       "        text-align: left;\n",
       "    }\n",
       "\n",
       "    .dataframe tbody tr th {\n",
       "        vertical-align: top;\n",
       "    }\n",
       "</style>\n",
       "<table border=\"1\" class=\"dataframe\">\n",
       "  <thead>\n",
       "    <tr style=\"text-align: right;\">\n",
       "      <th></th>\n",
       "      <th>BorrState</th>\n",
       "      <th>BankName</th>\n",
       "      <th>SBAGuaranteedApproval</th>\n",
       "      <th>ApprovalDate</th>\n",
       "      <th>ApprovalFiscalYear</th>\n",
       "      <th>FirstDisbursementDate</th>\n",
       "      <th>DeliveryMethod</th>\n",
       "      <th>subpgmdesc</th>\n",
       "      <th>TermInMonths</th>\n",
       "      <th>NaicsCode</th>\n",
       "      <th>BusinessType</th>\n",
       "      <th>LoanStatus</th>\n",
       "      <th>ChargeOffDate</th>\n",
       "      <th>GrossChargeOffAmount</th>\n",
       "      <th>RevolverStatus</th>\n",
       "      <th>JobsSupported</th>\n",
       "      <th>FranchiseCodeBin</th>\n",
       "      <th>CPI_to2016</th>\n",
       "      <th>SP_to2016</th>\n",
       "    </tr>\n",
       "  </thead>\n",
       "  <tbody>\n",
       "    <tr>\n",
       "      <th>0</th>\n",
       "      <td>UT</td>\n",
       "      <td>Bank of the West</td>\n",
       "      <td>671360</td>\n",
       "      <td>1990-10-01</td>\n",
       "      <td>1991</td>\n",
       "      <td>1990-10-31</td>\n",
       "      <td>PLP</td>\n",
       "      <td>Guaranty</td>\n",
       "      <td>120</td>\n",
       "      <td>323121.0</td>\n",
       "      <td>PARTNERSHIP</td>\n",
       "      <td>PIF</td>\n",
       "      <td>NaT</td>\n",
       "      <td>0</td>\n",
       "      <td>0</td>\n",
       "      <td>0</td>\n",
       "      <td>0</td>\n",
       "      <td>1.77465</td>\n",
       "      <td>545.031</td>\n",
       "    </tr>\n",
       "    <tr>\n",
       "      <th>1</th>\n",
       "      <td>NH</td>\n",
       "      <td>MISSINGMAINBANKID</td>\n",
       "      <td>108000</td>\n",
       "      <td>1990-10-01</td>\n",
       "      <td>1991</td>\n",
       "      <td>NaT</td>\n",
       "      <td>CLP</td>\n",
       "      <td>Guaranty</td>\n",
       "      <td>240</td>\n",
       "      <td>421830.0</td>\n",
       "      <td>INDIVIDUAL</td>\n",
       "      <td>CANCLD</td>\n",
       "      <td>NaT</td>\n",
       "      <td>0</td>\n",
       "      <td>0</td>\n",
       "      <td>0</td>\n",
       "      <td>0</td>\n",
       "      <td>1.77465</td>\n",
       "      <td>545.031</td>\n",
       "    </tr>\n",
       "    <tr>\n",
       "      <th>2</th>\n",
       "      <td>FL</td>\n",
       "      <td>TD Bank, National Association</td>\n",
       "      <td>170000</td>\n",
       "      <td>1990-10-01</td>\n",
       "      <td>1991</td>\n",
       "      <td>1991-01-31</td>\n",
       "      <td>OTH 7A</td>\n",
       "      <td>Guaranty</td>\n",
       "      <td>60</td>\n",
       "      <td>624310.0</td>\n",
       "      <td>CORPORATION</td>\n",
       "      <td>PIF</td>\n",
       "      <td>NaT</td>\n",
       "      <td>0</td>\n",
       "      <td>0</td>\n",
       "      <td>0</td>\n",
       "      <td>0</td>\n",
       "      <td>1.77465</td>\n",
       "      <td>545.031</td>\n",
       "    </tr>\n",
       "    <tr>\n",
       "      <th>3</th>\n",
       "      <td>SD</td>\n",
       "      <td>CorTrust Bank National Association</td>\n",
       "      <td>116200</td>\n",
       "      <td>1990-10-01</td>\n",
       "      <td>1991</td>\n",
       "      <td>1991-01-31</td>\n",
       "      <td>OTH 7A</td>\n",
       "      <td>Guaranty</td>\n",
       "      <td>180</td>\n",
       "      <td>442210.0</td>\n",
       "      <td>INDIVIDUAL</td>\n",
       "      <td>PIF</td>\n",
       "      <td>NaT</td>\n",
       "      <td>0</td>\n",
       "      <td>0</td>\n",
       "      <td>0</td>\n",
       "      <td>0</td>\n",
       "      <td>1.77465</td>\n",
       "      <td>545.031</td>\n",
       "    </tr>\n",
       "    <tr>\n",
       "      <th>4</th>\n",
       "      <td>IL</td>\n",
       "      <td>Central Illinois Bank, A Branch of</td>\n",
       "      <td>280500</td>\n",
       "      <td>1990-10-01</td>\n",
       "      <td>1991</td>\n",
       "      <td>1990-10-31</td>\n",
       "      <td>OTH 7A</td>\n",
       "      <td>Guaranty</td>\n",
       "      <td>84</td>\n",
       "      <td>421990.0</td>\n",
       "      <td>CORPORATION</td>\n",
       "      <td>PIF</td>\n",
       "      <td>NaT</td>\n",
       "      <td>0</td>\n",
       "      <td>0</td>\n",
       "      <td>0</td>\n",
       "      <td>0</td>\n",
       "      <td>1.77465</td>\n",
       "      <td>545.031</td>\n",
       "    </tr>\n",
       "  </tbody>\n",
       "</table>\n",
       "</div>"
      ],
      "text/plain": [
       "  BorrState                            BankName  SBAGuaranteedApproval  \\\n",
       "0        UT                    Bank of the West                 671360   \n",
       "1        NH                   MISSINGMAINBANKID                 108000   \n",
       "2        FL       TD Bank, National Association                 170000   \n",
       "3        SD  CorTrust Bank National Association                 116200   \n",
       "4        IL  Central Illinois Bank, A Branch of                 280500   \n",
       "\n",
       "  ApprovalDate  ApprovalFiscalYear FirstDisbursementDate DeliveryMethod  \\\n",
       "0   1990-10-01                1991            1990-10-31            PLP   \n",
       "1   1990-10-01                1991                   NaT            CLP   \n",
       "2   1990-10-01                1991            1991-01-31         OTH 7A   \n",
       "3   1990-10-01                1991            1991-01-31         OTH 7A   \n",
       "4   1990-10-01                1991            1990-10-31         OTH 7A   \n",
       "\n",
       "  subpgmdesc  TermInMonths  NaicsCode BusinessType LoanStatus ChargeOffDate  \\\n",
       "0   Guaranty           120   323121.0  PARTNERSHIP        PIF           NaT   \n",
       "1   Guaranty           240   421830.0   INDIVIDUAL     CANCLD           NaT   \n",
       "2   Guaranty            60   624310.0  CORPORATION        PIF           NaT   \n",
       "3   Guaranty           180   442210.0   INDIVIDUAL        PIF           NaT   \n",
       "4   Guaranty            84   421990.0  CORPORATION        PIF           NaT   \n",
       "\n",
       "   GrossChargeOffAmount  RevolverStatus  JobsSupported  FranchiseCodeBin  \\\n",
       "0                     0               0              0                 0   \n",
       "1                     0               0              0                 0   \n",
       "2                     0               0              0                 0   \n",
       "3                     0               0              0                 0   \n",
       "4                     0               0              0                 0   \n",
       "\n",
       "  CPI_to2016 SP_to2016  \n",
       "0    1.77465   545.031  \n",
       "1    1.77465   545.031  \n",
       "2    1.77465   545.031  \n",
       "3    1.77465   545.031  \n",
       "4    1.77465   545.031  "
      ]
     },
     "execution_count": 46,
     "metadata": {},
     "output_type": "execute_result"
    }
   ],
   "source": [
    "loans_7a.head()"
   ]
  },
  {
   "cell_type": "code",
   "execution_count": 47,
   "metadata": {
    "collapsed": false
   },
   "outputs": [
    {
     "data": {
      "text/plain": [
       "0"
      ]
     },
     "execution_count": 47,
     "metadata": {},
     "output_type": "execute_result"
    }
   ],
   "source": [
    "#check for NaNs\n",
    "loans_7a['SP_to2016'].isnull().sum()"
   ]
  },
  {
   "cell_type": "code",
   "execution_count": 48,
   "metadata": {
    "collapsed": false
   },
   "outputs": [],
   "source": [
    "#adjust dollar amounts to 2016 US Dollar value \n",
    "loans_7a['SBAGuaranteedApprovalAdj'] = loans_7a['SBAGuaranteedApproval'].multiply(loans_7a['CPI_to2016']).astype('float64')\n",
    "loans_7a['GrossChargeOffAmountAdj'] = loans_7a['GrossChargeOffAmount'].multiply(loans_7a['CPI_to2016']).astype('float64')"
   ]
  },
  {
   "cell_type": "code",
   "execution_count": 49,
   "metadata": {
    "collapsed": false
   },
   "outputs": [
    {
     "data": {
      "text/plain": [
       "0    333240\n",
       "2    123504\n",
       "1    102330\n",
       "3     90921\n",
       "4     87490\n",
       "Name: JobsSupported, dtype: int64"
      ]
     },
     "execution_count": 49,
     "metadata": {},
     "output_type": "execute_result"
    }
   ],
   "source": [
    "loans_7a['JobsSupported'].value_counts().head()"
   ]
  },
  {
   "cell_type": "code",
   "execution_count": 50,
   "metadata": {
    "collapsed": false
   },
   "outputs": [
    {
     "data": {
      "text/plain": [
       "0.26848319563001782"
      ]
     },
     "execution_count": 50,
     "metadata": {},
     "output_type": "execute_result"
    }
   ],
   "source": [
    "loans_7a['JobsSupported'].value_counts()[0]/len(loans_7a)"
   ]
  },
  {
   "cell_type": "markdown",
   "metadata": {},
   "source": [
    "Jobs Supported = \"Total Jobs Created + Jobs Retained as reported by lender on SBA Loan Application.  SBA does not review, audit, or validate these numbers - they are simply self-reported, good faith estimates by the lender.\"\n",
    "\n",
    "26.8% of businesses are non-employers! \n"
   ]
  },
  {
   "cell_type": "code",
   "execution_count": 51,
   "metadata": {
    "collapsed": true
   },
   "outputs": [],
   "source": [
    "#group data by approval fiscal year \n",
    "loans_7a_by_FY = loans_7a.groupby('ApprovalFiscalYear')"
   ]
  },
  {
   "cell_type": "code",
   "execution_count": 52,
   "metadata": {
    "collapsed": false
   },
   "outputs": [],
   "source": [
    "clrs    = [\"#4878CF\", \"#6ACC65\", \"#D65F5F\", \"#B47CC7\", \"#C4AD66\", \"#77BEDB\"]\n",
    "newPal   = dict(PIF = clrs[0], DEFAULT = clrs[2], CANCLD = clrs[1], COMMIT = clrs[3], EXEMPT = clrs[4])\n"
   ]
  },
  {
   "cell_type": "code",
   "execution_count": 53,
   "metadata": {
    "collapsed": false,
    "scrolled": true
   },
   "outputs": [
    {
     "data": {
      "text/plain": [
       "<matplotlib.legend.Legend at 0x10e813710>"
      ]
     },
     "execution_count": 53,
     "metadata": {},
     "output_type": "execute_result"
    },
    {
     "data": {
      "image/png": "[encoded data removed]",
      "text/plain": [
       "<matplotlib.figure.Figure at 0x12d290cf8>"
      ]
     },
     "metadata": {},
     "output_type": "display_data"
    }
   ],
   "source": [
    "#get a sense of number of each Loan Status per approval year\n",
    "sns.set_context('poster', font_scale = 1.2)\n",
    "\n",
    "g = sns.factorplot(x ='ApprovalFiscalYear', y = 'SBAGuaranteedApprovalAdj',\n",
    "            hue = 'LoanStatus', hue_order = ['PIF', 'DEFAULT', 'CANCLD', 'COMMIT', 'EXEMPT'],\n",
    "                   kind = 'point', data = loans_7a, estimator = np.count_nonzero, \n",
    "               ci = None, size = 5, aspect = 3, palette = newPal, legend = False)\n",
    "\n",
    "g.set_xticklabels(rotation = 30)\n",
    "\n",
    "sns.plt.title('7A Loans')\n",
    "sns.plt.xlabel('Approval Fiscal Year')\n",
    "sns.plt.ylabel('Number of Loans')\n",
    "sns.plt.legend(['Paid in Full', 'Defaulted', 'Cancelled', 'Committed', 'Exempt'], loc = 'best', fontsize = 20)\n"
   ]
  },
  {
   "cell_type": "code",
   "execution_count": 54,
   "metadata": {
    "collapsed": true
   },
   "outputs": [],
   "source": [
    "g.savefig('2_AllLoans_Counts_FY.png', dpi = 300)"
   ]
  },
  {
   "cell_type": "code",
   "execution_count": 55,
   "metadata": {
    "collapsed": false
   },
   "outputs": [],
   "source": [
    "\n",
    "loans_7a_by_FY = loans_7a.groupby('ApprovalFiscalYear')"
   ]
  },
  {
   "cell_type": "code",
   "execution_count": 56,
   "metadata": {
    "collapsed": false
   },
   "outputs": [
    {
     "data": {
      "text/plain": [
       "<matplotlib.legend.Legend at 0x12469afd0>"
      ]
     },
     "execution_count": 56,
     "metadata": {},
     "output_type": "execute_result"
    },
    {
     "data": {
      "image/png": "[encoded data removed]",
      "text/plain": [
       "<matplotlib.figure.Figure at 0x1a032d320>"
      ]
     },
     "metadata": {},
     "output_type": "display_data"
    }
   ],
   "source": [
    "#get a sense of number of each Loan Status per approval year\n",
    "\n",
    "sns.set_context('poster', font_scale = 1.2)\n",
    "\n",
    "\n",
    "g = sns.factorplot(x ='ApprovalFiscalYear', y = 'SBAGuaranteedApprovalAdj',\n",
    "            hue = 'LoanStatus', hue_order = ['PIF', 'DEFAULT', 'CANCLD', 'COMMIT', 'EXEMPT'],\n",
    "                   kind = 'bar', data = loans_7a, estimator = np.count_nonzero, \n",
    "               ci = None, size = 5, aspect = 3, palette = newPal, legend = False)\n",
    "\n",
    "\n",
    "g.set_xticklabels(rotation = 30)\n",
    "\n",
    "sns.plt.title('7A Loans')\n",
    "sns.plt.xlabel('Approval Fiscal Year')\n",
    "sns.plt.ylabel('Number of Loans')\n",
    "sns.plt.legend(['Paid in Full', 'Defaulted', 'Cancelled', 'Committed', 'Exempt'], loc = 'best', fontsize = 20)\n",
    "\n"
   ]
  },
  {
   "cell_type": "markdown",
   "metadata": {},
   "source": [
    "The plot bellow shows the actual amounts paid in full and charged off each year. "
   ]
  },
  {
   "cell_type": "code",
   "execution_count": 57,
   "metadata": {
    "collapsed": true
   },
   "outputs": [],
   "source": [
    "#group by year and loan status \n",
    "loans_7a_by_FY_by_LoanStatus = loans_7a.groupby(by = ['ApprovalFiscalYear', 'LoanStatus'], as_index = False).sum()"
   ]
  },
  {
   "cell_type": "code",
   "execution_count": 58,
   "metadata": {
    "collapsed": false
   },
   "outputs": [
    {
     "data": {
      "text/html": [
       "<div>\n",
       "<style>\n",
       "    .dataframe thead tr:only-child th {\n",
       "        text-align: right;\n",
       "    }\n",
       "\n",
       "    .dataframe thead th {\n",
       "        text-align: left;\n",
       "    }\n",
       "\n",
       "    .dataframe tbody tr th {\n",
       "        vertical-align: top;\n",
       "    }\n",
       "</style>\n",
       "<table border=\"1\" class=\"dataframe\">\n",
       "  <thead>\n",
       "    <tr style=\"text-align: right;\">\n",
       "      <th></th>\n",
       "      <th>ApprovalFiscalYear</th>\n",
       "      <th>LoanStatus</th>\n",
       "      <th>SBAGuaranteedApproval</th>\n",
       "      <th>TermInMonths</th>\n",
       "      <th>NaicsCode</th>\n",
       "      <th>GrossChargeOffAmount</th>\n",
       "      <th>RevolverStatus</th>\n",
       "      <th>JobsSupported</th>\n",
       "      <th>FranchiseCodeBin</th>\n",
       "      <th>SBAGuaranteedApprovalAdj</th>\n",
       "      <th>GrossChargeOffAmountAdj</th>\n",
       "    </tr>\n",
       "  </thead>\n",
       "  <tbody>\n",
       "    <tr>\n",
       "      <th>0</th>\n",
       "      <td>1991</td>\n",
       "      <td>CANCLD</td>\n",
       "      <td>161133219</td>\n",
       "      <td>115877</td>\n",
       "      <td>4.423785e+08</td>\n",
       "      <td>0</td>\n",
       "      <td>1</td>\n",
       "      <td>0</td>\n",
       "      <td>45</td>\n",
       "      <td>2.820334e+08</td>\n",
       "      <td>0.000000e+00</td>\n",
       "    </tr>\n",
       "    <tr>\n",
       "      <th>1</th>\n",
       "      <td>1991</td>\n",
       "      <td>DEFAULT</td>\n",
       "      <td>175799656</td>\n",
       "      <td>87780</td>\n",
       "      <td>4.045433e+08</td>\n",
       "      <td>108218977</td>\n",
       "      <td>0</td>\n",
       "      <td>0</td>\n",
       "      <td>38</td>\n",
       "      <td>3.083094e+08</td>\n",
       "      <td>1.897405e+08</td>\n",
       "    </tr>\n",
       "    <tr>\n",
       "      <th>2</th>\n",
       "      <td>1991</td>\n",
       "      <td>EXEMPT</td>\n",
       "      <td>10037760</td>\n",
       "      <td>7599</td>\n",
       "      <td>2.839959e+07</td>\n",
       "      <td>0</td>\n",
       "      <td>0</td>\n",
       "      <td>0</td>\n",
       "      <td>2</td>\n",
       "      <td>1.756865e+07</td>\n",
       "      <td>0.000000e+00</td>\n",
       "    </tr>\n",
       "    <tr>\n",
       "      <th>3</th>\n",
       "      <td>1991</td>\n",
       "      <td>PIF</td>\n",
       "      <td>1148843333</td>\n",
       "      <td>860704</td>\n",
       "      <td>3.107813e+09</td>\n",
       "      <td>0</td>\n",
       "      <td>3</td>\n",
       "      <td>0</td>\n",
       "      <td>235</td>\n",
       "      <td>2.011165e+09</td>\n",
       "      <td>0.000000e+00</td>\n",
       "    </tr>\n",
       "    <tr>\n",
       "      <th>4</th>\n",
       "      <td>1992</td>\n",
       "      <td>CANCLD</td>\n",
       "      <td>192405480</td>\n",
       "      <td>132171</td>\n",
       "      <td>5.085422e+08</td>\n",
       "      <td>0</td>\n",
       "      <td>4</td>\n",
       "      <td>0</td>\n",
       "      <td>40</td>\n",
       "      <td>3.269076e+08</td>\n",
       "      <td>0.000000e+00</td>\n",
       "    </tr>\n",
       "  </tbody>\n",
       "</table>\n",
       "</div>"
      ],
      "text/plain": [
       "   ApprovalFiscalYear LoanStatus  SBAGuaranteedApproval  TermInMonths  \\\n",
       "0                1991     CANCLD              161133219        115877   \n",
       "1                1991    DEFAULT              175799656         87780   \n",
       "2                1991     EXEMPT               10037760          7599   \n",
       "3                1991        PIF             1148843333        860704   \n",
       "4                1992     CANCLD              192405480        132171   \n",
       "\n",
       "      NaicsCode  GrossChargeOffAmount  RevolverStatus  JobsSupported  \\\n",
       "0  4.423785e+08                     0               1              0   \n",
       "1  4.045433e+08             108218977               0              0   \n",
       "2  2.839959e+07                     0               0              0   \n",
       "3  3.107813e+09                     0               3              0   \n",
       "4  5.085422e+08                     0               4              0   \n",
       "\n",
       "   FranchiseCodeBin  SBAGuaranteedApprovalAdj  GrossChargeOffAmountAdj  \n",
       "0                45              2.820334e+08             0.000000e+00  \n",
       "1                38              3.083094e+08             1.897405e+08  \n",
       "2                 2              1.756865e+07             0.000000e+00  \n",
       "3               235              2.011165e+09             0.000000e+00  \n",
       "4                40              3.269076e+08             0.000000e+00  "
      ]
     },
     "execution_count": 58,
     "metadata": {},
     "output_type": "execute_result"
    }
   ],
   "source": [
    "loans_7a_by_FY_by_LoanStatus.head()"
   ]
  },
  {
   "cell_type": "code",
   "execution_count": 59,
   "metadata": {
    "collapsed": false
   },
   "outputs": [
    {
     "data": {
      "image/png": "[encoded data removed]",
      "text/plain": [
       "<matplotlib.figure.Figure at 0x124684cf8>"
      ]
     },
     "metadata": {},
     "output_type": "display_data"
    }
   ],
   "source": [
    "#Plot amount paid in full and amount charged off per approval year \n",
    "fig = plt.figure(figsize = (16, 6))\n",
    "ax = fig.add_subplot(1, 1, 1, facecolor ='gainsboro')\n",
    "\n",
    "n_groups = loans_7a['ApprovalFiscalYear'].nunique()\n",
    "\n",
    "sum_pif = loans_7a_by_FY_by_LoanStatus[loans_7a_by_FY_by_LoanStatus['LoanStatus']=='PIF']['SBAGuaranteedApprovalAdj']\n",
    "\n",
    "sum_choff = loans_7a_by_FY_by_LoanStatus[loans_7a_by_FY_by_LoanStatus['LoanStatus']== 'DEFAULT']['GrossChargeOffAmountAdj']\n",
    "\n",
    "x = np.arange(1991, 2017)\n",
    "\n",
    "y = np.array(sum_pif)[:-1]\n",
    "z = np.array(sum_choff)\n",
    "\n",
    "ax.bar(x-0.4, y,width=0.5,color='b',align='center')\n",
    "ax.bar(x, z,width=0.5,color='r',align='center')\n",
    "plt.xlabel('Approval Fiscal Year', fontsize = 20)\n",
    "plt.xticks(loans_7a['ApprovalFiscalYear'].unique(), rotation = 30)\n",
    "plt.ylabel('2016 US Dollars', fontsize = 20)\n",
    "plt.title('7A Loans', fontsize = 20)\n",
    "plt.legend(labels = ['Paid in Full', 'Defaulted'], fontsize = 20)\n",
    "plt.tight_layout()\n",
    "plt.show()\n"
   ]
  },
  {
   "cell_type": "code",
   "execution_count": 60,
   "metadata": {
    "collapsed": true
   },
   "outputs": [],
   "source": [
    "fig.savefig('3_Completed_per_FY.png', dpi = 300)"
   ]
  },
  {
   "cell_type": "code",
   "execution_count": 61,
   "metadata": {
    "collapsed": true
   },
   "outputs": [],
   "source": [
    "#Look at Maturity Date and only use loans whose maturity data has pased\n",
    "loans_7a['MaturityDate'] = loans_7a['ApprovalDate'] + loans_7a['TermInMonths'].values.astype(\"timedelta64[M]\")\n",
    "loans_7a['MaturityYear'] = loans_7a['MaturityDate'].dt.year\n",
    "loans_7a_matured = loans_7a[loans_7a['MaturityDate'] < '2017-07-01']\n"
   ]
  },
  {
   "cell_type": "code",
   "execution_count": 62,
   "metadata": {
    "collapsed": false
   },
   "outputs": [
    {
     "data": {
      "text/plain": [
       "0"
      ]
     },
     "execution_count": 62,
     "metadata": {},
     "output_type": "execute_result"
    }
   ],
   "source": [
    "loans_7a_matured['MaturityYear'].isnull().sum()"
   ]
  },
  {
   "cell_type": "code",
   "execution_count": 63,
   "metadata": {
    "collapsed": true
   },
   "outputs": [],
   "source": [
    "loans_7a_matured.reset_index(inplace = True, drop = True)"
   ]
  },
  {
   "cell_type": "code",
   "execution_count": 64,
   "metadata": {
    "collapsed": false
   },
   "outputs": [
    {
     "name": "stdout",
     "output_type": "stream",
     "text": [
      "<class 'pandas.core.frame.DataFrame'>\n",
      "RangeIndex: 755660 entries, 0 to 755659\n",
      "Data columns (total 23 columns):\n",
      "BorrState                   755658 non-null object\n",
      "BankName                    755660 non-null object\n",
      "SBAGuaranteedApproval       755660 non-null int64\n",
      "ApprovalDate                755660 non-null datetime64[ns]\n",
      "ApprovalFiscalYear          755660 non-null int64\n",
      "FirstDisbursementDate       663929 non-null datetime64[ns]\n",
      "DeliveryMethod              755657 non-null object\n",
      "subpgmdesc                  755660 non-null object\n",
      "TermInMonths                755660 non-null int64\n",
      "NaicsCode                   755660 non-null float64\n",
      "BusinessType                755619 non-null object\n",
      "LoanStatus                  755660 non-null object\n",
      "ChargeOffDate               158154 non-null datetime64[ns]\n",
      "GrossChargeOffAmount        755660 non-null int64\n",
      "RevolverStatus              755660 non-null int64\n",
      "JobsSupported               755660 non-null int64\n",
      "FranchiseCodeBin            755660 non-null int64\n",
      "CPI_to2016                  755660 non-null object\n",
      "SP_to2016                   755660 non-null object\n",
      "SBAGuaranteedApprovalAdj    755660 non-null float64\n",
      "GrossChargeOffAmountAdj     755660 non-null float64\n",
      "MaturityDate                755660 non-null datetime64[ns]\n",
      "MaturityYear                755660 non-null int64\n",
      "dtypes: datetime64[ns](4), float64(3), int64(8), object(8)\n",
      "memory usage: 132.6+ MB\n"
     ]
    }
   ],
   "source": [
    "loans_7a_matured.info()"
   ]
  },
  {
   "cell_type": "code",
   "execution_count": 65,
   "metadata": {
    "collapsed": true
   },
   "outputs": [],
   "source": [
    "#Plot amount paid in full and amount charged off per approval year when looking at matured loans only \n",
    "\n",
    "n_groups = loans_7a_matured['ApprovalFiscalYear'].nunique()\n",
    "\n",
    "loans_7a_by_AY_by_LoanStatus = loans_7a_matured.groupby(by = ['ApprovalFiscalYear', 'LoanStatus'], as_index = False).sum()\n",
    "\n",
    "sum_pif = loans_7a_by_AY_by_LoanStatus[loans_7a_by_AY_by_LoanStatus['LoanStatus']=='PIF']['SBAGuaranteedApprovalAdj']\n",
    "\n",
    "sum_def = loans_7a_by_AY_by_LoanStatus[loans_7a_by_AY_by_LoanStatus['LoanStatus']=='DEFAULT']['GrossChargeOffAmountAdj']\n"
   ]
  },
  {
   "cell_type": "code",
   "execution_count": 66,
   "metadata": {
    "collapsed": false
   },
   "outputs": [
    {
     "data": {
      "image/png": "[encoded data removed]",
      "text/plain": [
       "<matplotlib.figure.Figure at 0x12278ff98>"
      ]
     },
     "metadata": {},
     "output_type": "display_data"
    }
   ],
   "source": [
    "fig = plt.figure(figsize = (16, 6))\n",
    "ax = fig.add_subplot(1, 1, 1, facecolor = \"gainsboro\")\n",
    "sns.set_context('poster', font_scale = 1.2)\n",
    "\n",
    "\n",
    "x = np.arange(1991, 2017)\n",
    "\n",
    "y = np.array(sum_pif)[:-1]\n",
    "z = np.array(sum_def)\n",
    "\n",
    "ax.bar(x-0.4, y,width=0.5,color='b',align='center')\n",
    "ax.bar(x, z,width=0.5,color='r',align='center')\n",
    "plt.xlabel('Approval Fiscal Year')\n",
    "plt.xticks(loans_7a_matured['ApprovalFiscalYear'].unique(), rotation = 30)\n",
    "plt.ylabel('2016 US Dollars', fontsize = 20)\n",
    "plt.title('SBA 7A Loans (Matured)', fontsize = 20)\n",
    "plt.legend(labels = ['Paid in Full', 'Defaulted'], fontsize = 20)\n",
    "plt.tight_layout()\n",
    "plt.show()"
   ]
  },
  {
   "cell_type": "code",
   "execution_count": 67,
   "metadata": {
    "collapsed": true
   },
   "outputs": [],
   "source": [
    "fig.savefig('4_Matured_per_FY.png', dpi = 300)"
   ]
  },
  {
   "cell_type": "code",
   "execution_count": 68,
   "metadata": {
    "collapsed": false
   },
   "outputs": [
    {
     "data": {
      "text/plain": [
       "array([2000, 2010, 1995, 2005, 1997, 1991, 1992, 1996, 2003, 2015, 2008,\n",
       "       2004, 1998, 2009, 1999, 2014, 2006, 1993, 2001, 1994, 2012, 1990,\n",
       "       2016, 2002, 2007, 2011, 2013, 2017])"
      ]
     },
     "execution_count": 68,
     "metadata": {},
     "output_type": "execute_result"
    }
   ],
   "source": [
    "loans_7a_matured['MaturityYear'].unique()"
   ]
  },
  {
   "cell_type": "code",
   "execution_count": 69,
   "metadata": {
    "collapsed": false
   },
   "outputs": [
    {
     "data": {
      "text/plain": [
       "1338"
      ]
     },
     "execution_count": 69,
     "metadata": {},
     "output_type": "execute_result"
    }
   ],
   "source": [
    "loans_7a_matured['NaicsCode'].nunique()"
   ]
  },
  {
   "cell_type": "code",
   "execution_count": 70,
   "metadata": {
    "collapsed": false
   },
   "outputs": [
    {
     "data": {
      "text/plain": [
       "FA$TRK (Small Loan Express)                               404241\n",
       "Guaranty                                                  288276\n",
       "Community Express                                          37730\n",
       "Patriot Express                                             5086\n",
       "Revolving Line of Credit Exports - Sec. 7(a) (14)           4192\n",
       "Contract Guaranty                                           2853\n",
       "International Trade - Sec, 7(a) (16)                        2556\n",
       "Gulf Opportunity                                            2142\n",
       "Standard Asset Based                                        1920\n",
       "Rural Lender Advantage                                      1535\n",
       "Seasonal Line of Credit                                     1285\n",
       "Small Asset Based                                           1052\n",
       "Lender Advantage Initiative                                  591\n",
       "Small General Contractors - Sec. 7(a) (9)                    551\n",
       "Greenline - Revolving L. of Cred. - Current Assets           510\n",
       "Domestic Revolving Line of Credit - Current Assets           341\n",
       "Special Markets Program                                      183\n",
       "509 - DEALER FLOOR PLAN                                      129\n",
       "USCAIP Guaranty (NAFTA)                                      116\n",
       "Defense Loans and Technical Assistance, Funded 9/26/95       106\n",
       "EXPORT IMPORT HARMONIZATION                                   76\n",
       "Y2K Loan                                                      75\n",
       "Community Advantage Initiative                                42\n",
       "Domestic Revolving Line of Credit - Fixed Assets              33\n",
       "Greenline - Revolving L. of Cred. - Fixed Assets              20\n",
       "Pollution Control Guaranteed Loans - Sec. 7(a)(12)            18\n",
       "Co-GTY with Import/Export                                      1\n",
       "Name: subpgmdesc, dtype: int64"
      ]
     },
     "execution_count": 70,
     "metadata": {},
     "output_type": "execute_result"
    }
   ],
   "source": [
    "loans_7a_matured['subpgmdesc'].value_counts()"
   ]
  },
  {
   "cell_type": "code",
   "execution_count": 71,
   "metadata": {
    "collapsed": false
   },
   "outputs": [
    {
     "data": {
      "text/plain": [
       "0.0"
      ]
     },
     "execution_count": 71,
     "metadata": {},
     "output_type": "execute_result"
    }
   ],
   "source": [
    "#missing NAICS codes ?\n",
    "loans_7a_matured['NaicsCode'].isnull().sum()/len(loans_7a_matured)"
   ]
  },
  {
   "cell_type": "markdown",
   "metadata": {
    "collapsed": true
   },
   "source": [
    "### NAICS Codes may be grouped into 20 industry sectors "
   ]
  },
  {
   "cell_type": "code",
   "execution_count": 72,
   "metadata": {
    "collapsed": true
   },
   "outputs": [],
   "source": [
    "code_groups = {'Agriculture': 11, 'Mining' : 21, 'Utilities' : 22,\n",
    "'Construction' : 23, 'Manufacturing' : [31, 32, 33], 'Wholesale Trade' : 42,\n",
    "'Retail Trade' : [44, 45], 'Transportation & Warehousing' : [48, 49],\n",
    "'Information' : 51, 'Finance & Insurance' : 52, \n",
    "'Real Estate Rental & Leasing' : 53, \n",
    "'Professional, Scientific, & Technical Services' : 54,\n",
    "'Management of Companies & Enterprises': 55,\n",
    "'Administrative/Support/Waste Management' : 56,\n",
    "'Educational Services' : 61,\n",
    "'Health Care & Social Assistance' : 62,\n",
    "'Arts, Entertainment, & Recreation' : 71,\n",
    "'Accommodation & Food Services' : 72,\n",
    "'Other Services' : 81,\n",
    "'Public Administration' : 92}"
   ]
  },
  {
   "cell_type": "code",
   "execution_count": 73,
   "metadata": {
    "collapsed": false
   },
   "outputs": [
    {
     "name": "stderr",
     "output_type": "stream",
     "text": [
      "/anaconda/lib/python3.6/site-packages/ipykernel/__main__.py:4: SettingWithCopyWarning: \n",
      "A value is trying to be set on a copy of a slice from a DataFrame.\n",
      "Try using .loc[row_indexer,col_indexer] = value instead\n",
      "\n",
      "See the caveats in the documentation: http://pandas.pydata.org/pandas-docs/stable/indexing.html#indexing-view-versus-copy\n",
      "/anaconda/lib/python3.6/site-packages/pandas/core/generic.py:3660: SettingWithCopyWarning: \n",
      "A value is trying to be set on a copy of a slice from a DataFrame\n",
      "\n",
      "See the caveats in the documentation: http://pandas.pydata.org/pandas-docs/stable/indexing.html#indexing-view-versus-copy\n",
      "  self._update_inplace(new_data)\n",
      "/anaconda/lib/python3.6/site-packages/ipykernel/__main__.py:6: SettingWithCopyWarning: \n",
      "A value is trying to be set on a copy of a slice from a DataFrame.\n",
      "Try using .loc[row_indexer,col_indexer] = value instead\n",
      "\n",
      "See the caveats in the documentation: http://pandas.pydata.org/pandas-docs/stable/indexing.html#indexing-view-versus-copy\n"
     ]
    },
    {
     "data": {
      "text/html": [
       "<div>\n",
       "<style>\n",
       "    .dataframe thead tr:only-child th {\n",
       "        text-align: right;\n",
       "    }\n",
       "\n",
       "    .dataframe thead th {\n",
       "        text-align: left;\n",
       "    }\n",
       "\n",
       "    .dataframe tbody tr th {\n",
       "        vertical-align: top;\n",
       "    }\n",
       "</style>\n",
       "<table border=\"1\" class=\"dataframe\">\n",
       "  <thead>\n",
       "    <tr style=\"text-align: right;\">\n",
       "      <th></th>\n",
       "      <th>BorrState</th>\n",
       "      <th>BankName</th>\n",
       "      <th>SBAGuaranteedApproval</th>\n",
       "      <th>ApprovalDate</th>\n",
       "      <th>ApprovalFiscalYear</th>\n",
       "      <th>FirstDisbursementDate</th>\n",
       "      <th>DeliveryMethod</th>\n",
       "      <th>subpgmdesc</th>\n",
       "      <th>TermInMonths</th>\n",
       "      <th>NaicsCode</th>\n",
       "      <th>...</th>\n",
       "      <th>JobsSupported</th>\n",
       "      <th>FranchiseCodeBin</th>\n",
       "      <th>CPI_to2016</th>\n",
       "      <th>SP_to2016</th>\n",
       "      <th>SBAGuaranteedApprovalAdj</th>\n",
       "      <th>GrossChargeOffAmountAdj</th>\n",
       "      <th>MaturityDate</th>\n",
       "      <th>MaturityYear</th>\n",
       "      <th>Code</th>\n",
       "      <th>Sector</th>\n",
       "    </tr>\n",
       "  </thead>\n",
       "  <tbody>\n",
       "    <tr>\n",
       "      <th>0</th>\n",
       "      <td>UT</td>\n",
       "      <td>Bank of the West</td>\n",
       "      <td>671360</td>\n",
       "      <td>1990-10-01</td>\n",
       "      <td>1991</td>\n",
       "      <td>1990-10-31</td>\n",
       "      <td>PLP</td>\n",
       "      <td>Guaranty</td>\n",
       "      <td>120</td>\n",
       "      <td>323121.0</td>\n",
       "      <td>...</td>\n",
       "      <td>0</td>\n",
       "      <td>0</td>\n",
       "      <td>1.77465</td>\n",
       "      <td>545.031</td>\n",
       "      <td>1.191430e+06</td>\n",
       "      <td>0.0</td>\n",
       "      <td>2000-09-30 10:12:00</td>\n",
       "      <td>2000</td>\n",
       "      <td>32</td>\n",
       "      <td>Manufacturing</td>\n",
       "    </tr>\n",
       "    <tr>\n",
       "      <th>1</th>\n",
       "      <td>NH</td>\n",
       "      <td>MISSINGMAINBANKID</td>\n",
       "      <td>108000</td>\n",
       "      <td>1990-10-01</td>\n",
       "      <td>1991</td>\n",
       "      <td>NaT</td>\n",
       "      <td>CLP</td>\n",
       "      <td>Guaranty</td>\n",
       "      <td>240</td>\n",
       "      <td>421830.0</td>\n",
       "      <td>...</td>\n",
       "      <td>0</td>\n",
       "      <td>0</td>\n",
       "      <td>1.77465</td>\n",
       "      <td>545.031</td>\n",
       "      <td>1.916624e+05</td>\n",
       "      <td>0.0</td>\n",
       "      <td>2010-09-30 20:24:00</td>\n",
       "      <td>2010</td>\n",
       "      <td>42</td>\n",
       "      <td>Wholesale Trade</td>\n",
       "    </tr>\n",
       "    <tr>\n",
       "      <th>2</th>\n",
       "      <td>FL</td>\n",
       "      <td>TD Bank, National Association</td>\n",
       "      <td>170000</td>\n",
       "      <td>1990-10-01</td>\n",
       "      <td>1991</td>\n",
       "      <td>1991-01-31</td>\n",
       "      <td>OTH 7A</td>\n",
       "      <td>Guaranty</td>\n",
       "      <td>60</td>\n",
       "      <td>624310.0</td>\n",
       "      <td>...</td>\n",
       "      <td>0</td>\n",
       "      <td>0</td>\n",
       "      <td>1.77465</td>\n",
       "      <td>545.031</td>\n",
       "      <td>3.016908e+05</td>\n",
       "      <td>0.0</td>\n",
       "      <td>1995-10-01 05:06:00</td>\n",
       "      <td>1995</td>\n",
       "      <td>62</td>\n",
       "      <td>Health Care &amp; Social Assistance</td>\n",
       "    </tr>\n",
       "    <tr>\n",
       "      <th>3</th>\n",
       "      <td>SD</td>\n",
       "      <td>CorTrust Bank National Association</td>\n",
       "      <td>116200</td>\n",
       "      <td>1990-10-01</td>\n",
       "      <td>1991</td>\n",
       "      <td>1991-01-31</td>\n",
       "      <td>OTH 7A</td>\n",
       "      <td>Guaranty</td>\n",
       "      <td>180</td>\n",
       "      <td>442210.0</td>\n",
       "      <td>...</td>\n",
       "      <td>0</td>\n",
       "      <td>0</td>\n",
       "      <td>1.77465</td>\n",
       "      <td>545.031</td>\n",
       "      <td>2.062145e+05</td>\n",
       "      <td>0.0</td>\n",
       "      <td>2005-09-30 15:18:00</td>\n",
       "      <td>2005</td>\n",
       "      <td>44</td>\n",
       "      <td>Retail Trade</td>\n",
       "    </tr>\n",
       "    <tr>\n",
       "      <th>4</th>\n",
       "      <td>IL</td>\n",
       "      <td>Central Illinois Bank, A Branch of</td>\n",
       "      <td>280500</td>\n",
       "      <td>1990-10-01</td>\n",
       "      <td>1991</td>\n",
       "      <td>1990-10-31</td>\n",
       "      <td>OTH 7A</td>\n",
       "      <td>Guaranty</td>\n",
       "      <td>84</td>\n",
       "      <td>421990.0</td>\n",
       "      <td>...</td>\n",
       "      <td>0</td>\n",
       "      <td>0</td>\n",
       "      <td>1.77465</td>\n",
       "      <td>545.031</td>\n",
       "      <td>4.977898e+05</td>\n",
       "      <td>0.0</td>\n",
       "      <td>1997-09-30 16:44:24</td>\n",
       "      <td>1997</td>\n",
       "      <td>42</td>\n",
       "      <td>Wholesale Trade</td>\n",
       "    </tr>\n",
       "  </tbody>\n",
       "</table>\n",
       "<p>5 rows × 25 columns</p>\n",
       "</div>"
      ],
      "text/plain": [
       "  BorrState                            BankName  SBAGuaranteedApproval  \\\n",
       "0        UT                    Bank of the West                 671360   \n",
       "1        NH                   MISSINGMAINBANKID                 108000   \n",
       "2        FL       TD Bank, National Association                 170000   \n",
       "3        SD  CorTrust Bank National Association                 116200   \n",
       "4        IL  Central Illinois Bank, A Branch of                 280500   \n",
       "\n",
       "  ApprovalDate  ApprovalFiscalYear FirstDisbursementDate DeliveryMethod  \\\n",
       "0   1990-10-01                1991            1990-10-31            PLP   \n",
       "1   1990-10-01                1991                   NaT            CLP   \n",
       "2   1990-10-01                1991            1991-01-31         OTH 7A   \n",
       "3   1990-10-01                1991            1991-01-31         OTH 7A   \n",
       "4   1990-10-01                1991            1990-10-31         OTH 7A   \n",
       "\n",
       "  subpgmdesc  TermInMonths  NaicsCode               ...                 \\\n",
       "0   Guaranty           120   323121.0               ...                  \n",
       "1   Guaranty           240   421830.0               ...                  \n",
       "2   Guaranty            60   624310.0               ...                  \n",
       "3   Guaranty           180   442210.0               ...                  \n",
       "4   Guaranty            84   421990.0               ...                  \n",
       "\n",
       "  JobsSupported FranchiseCodeBin CPI_to2016  SP_to2016  \\\n",
       "0             0                0    1.77465    545.031   \n",
       "1             0                0    1.77465    545.031   \n",
       "2             0                0    1.77465    545.031   \n",
       "3             0                0    1.77465    545.031   \n",
       "4             0                0    1.77465    545.031   \n",
       "\n",
       "   SBAGuaranteedApprovalAdj  GrossChargeOffAmountAdj        MaturityDate  \\\n",
       "0              1.191430e+06                      0.0 2000-09-30 10:12:00   \n",
       "1              1.916624e+05                      0.0 2010-09-30 20:24:00   \n",
       "2              3.016908e+05                      0.0 1995-10-01 05:06:00   \n",
       "3              2.062145e+05                      0.0 2005-09-30 15:18:00   \n",
       "4              4.977898e+05                      0.0 1997-09-30 16:44:24   \n",
       "\n",
       "  MaturityYear Code                           Sector  \n",
       "0         2000   32                    Manufacturing  \n",
       "1         2010   42                  Wholesale Trade  \n",
       "2         1995   62  Health Care & Social Assistance  \n",
       "3         2005   44                     Retail Trade  \n",
       "4         1997   42                  Wholesale Trade  \n",
       "\n",
       "[5 rows x 25 columns]"
      ]
     },
     "execution_count": 73,
     "metadata": {},
     "output_type": "execute_result"
    }
   ],
   "source": [
    "#Get the \"Sector\" variable from NAICS codes\n",
    "\n",
    "#only the first two digitis of NAICS code are relevant to group into 20 sectors\n",
    "loans_7a_matured['Sector'] = (loans_7a_matured['NaicsCode'].apply(lambda x:x/10000))\n",
    "loans_7a_matured['Sector'].fillna(0, inplace = True)\n",
    "loans_7a_matured['Sector'] = (loans_7a_matured['Sector'].apply(int))\n",
    "\n",
    "\n",
    "code_groups.values()\n",
    "\n",
    "tmp = 0\n",
    "list_codes = []\n",
    "list_cat = []\n",
    "for i in range(len(code_groups.values())):\n",
    "    val = list(code_groups.values())[i]\n",
    "    if type(val) == int:\n",
    "        list_codes.append(val)\n",
    "        list_cat.append(list(code_groups.keys())[i])\n",
    "        \n",
    "    else:\n",
    "        for j in range(len(val)):\n",
    "            list_codes.append(val[j])\n",
    "            list_cat.append(list(code_groups.keys())[i])\n",
    "        \n",
    "\n",
    "code_cat = pd.DataFrame(list_codes, columns = ['Code'])\n",
    "\n",
    "\n",
    "code_cat['Sector'] = list_cat\n",
    "code_cat\n",
    "\n",
    "\n",
    "cols = list(loans_7a_matured.columns)\n",
    "\n",
    "cols[-1] = 'Code'\n",
    "\n",
    "loans_7a_matured.columns = cols\n",
    "\n",
    "\n",
    "loans_7a_matured = pd.merge(loans_7a_matured, code_cat, on = 'Code', how = 'left')\n",
    "\n",
    "loans_7a_matured.head()\n"
   ]
  },
  {
   "cell_type": "code",
   "execution_count": 74,
   "metadata": {
    "collapsed": false
   },
   "outputs": [
    {
     "data": {
      "text/plain": [
       "7"
      ]
     },
     "execution_count": 74,
     "metadata": {},
     "output_type": "execute_result"
    }
   ],
   "source": [
    "loans_7a_matured['Sector'].isnull().sum()"
   ]
  },
  {
   "cell_type": "code",
   "execution_count": 75,
   "metadata": {
    "collapsed": true
   },
   "outputs": [],
   "source": [
    "loans_7a_matured.dropna(subset = ['Sector'], inplace = True)"
   ]
  },
  {
   "cell_type": "code",
   "execution_count": 76,
   "metadata": {
    "collapsed": true
   },
   "outputs": [],
   "source": [
    "loans_7a_matured.reset_index(inplace = True, drop=True)"
   ]
  },
  {
   "cell_type": "code",
   "execution_count": 77,
   "metadata": {
    "collapsed": true
   },
   "outputs": [],
   "source": [
    "#keep only paid in full or defaulted loans\n",
    "loans_7a_matured = loans_7a_matured[(loans_7a_matured['LoanStatus']=='PIF') | \n",
    "                                                             (loans_7a_matured['LoanStatus']=='DEFAULT')]"
   ]
  },
  {
   "cell_type": "code",
   "execution_count": 78,
   "metadata": {
    "collapsed": false
   },
   "outputs": [],
   "source": [
    "by_sector = loans_7a_matured.groupby('Sector').sum()"
   ]
  },
  {
   "cell_type": "code",
   "execution_count": 79,
   "metadata": {
    "collapsed": false
   },
   "outputs": [
    {
     "data": {
      "text/html": [
       "<div>\n",
       "<style>\n",
       "    .dataframe thead tr:only-child th {\n",
       "        text-align: right;\n",
       "    }\n",
       "\n",
       "    .dataframe thead th {\n",
       "        text-align: left;\n",
       "    }\n",
       "\n",
       "    .dataframe tbody tr th {\n",
       "        vertical-align: top;\n",
       "    }\n",
       "</style>\n",
       "<table border=\"1\" class=\"dataframe\">\n",
       "  <thead>\n",
       "    <tr style=\"text-align: right;\">\n",
       "      <th></th>\n",
       "      <th>SBAGuaranteedApproval</th>\n",
       "      <th>ApprovalFiscalYear</th>\n",
       "      <th>TermInMonths</th>\n",
       "      <th>NaicsCode</th>\n",
       "      <th>GrossChargeOffAmount</th>\n",
       "      <th>RevolverStatus</th>\n",
       "      <th>JobsSupported</th>\n",
       "      <th>FranchiseCodeBin</th>\n",
       "      <th>SBAGuaranteedApprovalAdj</th>\n",
       "      <th>GrossChargeOffAmountAdj</th>\n",
       "      <th>MaturityYear</th>\n",
       "      <th>Code</th>\n",
       "    </tr>\n",
       "    <tr>\n",
       "      <th>Sector</th>\n",
       "      <th></th>\n",
       "      <th></th>\n",
       "      <th></th>\n",
       "      <th></th>\n",
       "      <th></th>\n",
       "      <th></th>\n",
       "      <th></th>\n",
       "      <th></th>\n",
       "      <th></th>\n",
       "      <th></th>\n",
       "      <th></th>\n",
       "      <th></th>\n",
       "    </tr>\n",
       "  </thead>\n",
       "  <tbody>\n",
       "    <tr>\n",
       "      <th>Accommodation &amp; Food Services</th>\n",
       "      <td>6004734098</td>\n",
       "      <td>119267043</td>\n",
       "      <td>4768187</td>\n",
       "      <td>4.296205e+10</td>\n",
       "      <td>1817428021</td>\n",
       "      <td>11963</td>\n",
       "      <td>751018</td>\n",
       "      <td>12721</td>\n",
       "      <td>7.498952e+09</td>\n",
       "      <td>2.196629e+09</td>\n",
       "      <td>119646986</td>\n",
       "      <td>4283424</td>\n",
       "    </tr>\n",
       "    <tr>\n",
       "      <th>Administrative/Support/Waste Management</th>\n",
       "      <td>1950027704</td>\n",
       "      <td>67847434</td>\n",
       "      <td>2331275</td>\n",
       "      <td>1.901068e+10</td>\n",
       "      <td>436594187</td>\n",
       "      <td>13673</td>\n",
       "      <td>321284</td>\n",
       "      <td>1929</td>\n",
       "      <td>2.450614e+09</td>\n",
       "      <td>5.266983e+08</td>\n",
       "      <td>68032112</td>\n",
       "      <td>1895320</td>\n",
       "    </tr>\n",
       "    <tr>\n",
       "      <th>Agriculture</th>\n",
       "      <td>1409228337</td>\n",
       "      <td>16150594</td>\n",
       "      <td>803146</td>\n",
       "      <td>9.125816e+08</td>\n",
       "      <td>176757041</td>\n",
       "      <td>932</td>\n",
       "      <td>22335</td>\n",
       "      <td>7</td>\n",
       "      <td>2.023685e+09</td>\n",
       "      <td>2.379037e+08</td>\n",
       "      <td>16215308</td>\n",
       "      <td>88803</td>\n",
       "    </tr>\n",
       "    <tr>\n",
       "      <th>Arts, Entertainment, &amp; Recreation</th>\n",
       "      <td>1320386479</td>\n",
       "      <td>26932229</td>\n",
       "      <td>1103091</td>\n",
       "      <td>9.590061e+09</td>\n",
       "      <td>307113658</td>\n",
       "      <td>3250</td>\n",
       "      <td>86409</td>\n",
       "      <td>1296</td>\n",
       "      <td>1.797776e+09</td>\n",
       "      <td>3.855993e+08</td>\n",
       "      <td>27020250</td>\n",
       "      <td>954453</td>\n",
       "    </tr>\n",
       "    <tr>\n",
       "      <th>Construction</th>\n",
       "      <td>4759155784</td>\n",
       "      <td>131253767</td>\n",
       "      <td>4354561</td>\n",
       "      <td>1.551183e+10</td>\n",
       "      <td>1096864025</td>\n",
       "      <td>29646</td>\n",
       "      <td>462572</td>\n",
       "      <td>537</td>\n",
       "      <td>6.208953e+09</td>\n",
       "      <td>1.345566e+09</td>\n",
       "      <td>131598158</td>\n",
       "      <td>1506316</td>\n",
       "    </tr>\n",
       "  </tbody>\n",
       "</table>\n",
       "</div>"
      ],
      "text/plain": [
       "                                         SBAGuaranteedApproval  \\\n",
       "Sector                                                           \n",
       "Accommodation & Food Services                       6004734098   \n",
       "Administrative/Support/Waste Management             1950027704   \n",
       "Agriculture                                         1409228337   \n",
       "Arts, Entertainment, & Recreation                   1320386479   \n",
       "Construction                                        4759155784   \n",
       "\n",
       "                                         ApprovalFiscalYear  TermInMonths  \\\n",
       "Sector                                                                      \n",
       "Accommodation & Food Services                     119267043       4768187   \n",
       "Administrative/Support/Waste Management            67847434       2331275   \n",
       "Agriculture                                        16150594        803146   \n",
       "Arts, Entertainment, & Recreation                  26932229       1103091   \n",
       "Construction                                      131253767       4354561   \n",
       "\n",
       "                                            NaicsCode  GrossChargeOffAmount  \\\n",
       "Sector                                                                        \n",
       "Accommodation & Food Services            4.296205e+10            1817428021   \n",
       "Administrative/Support/Waste Management  1.901068e+10             436594187   \n",
       "Agriculture                              9.125816e+08             176757041   \n",
       "Arts, Entertainment, & Recreation        9.590061e+09             307113658   \n",
       "Construction                             1.551183e+10            1096864025   \n",
       "\n",
       "                                         RevolverStatus  JobsSupported  \\\n",
       "Sector                                                                   \n",
       "Accommodation & Food Services                     11963         751018   \n",
       "Administrative/Support/Waste Management           13673         321284   \n",
       "Agriculture                                         932          22335   \n",
       "Arts, Entertainment, & Recreation                  3250          86409   \n",
       "Construction                                      29646         462572   \n",
       "\n",
       "                                         FranchiseCodeBin  \\\n",
       "Sector                                                      \n",
       "Accommodation & Food Services                       12721   \n",
       "Administrative/Support/Waste Management              1929   \n",
       "Agriculture                                             7   \n",
       "Arts, Entertainment, & Recreation                    1296   \n",
       "Construction                                          537   \n",
       "\n",
       "                                         SBAGuaranteedApprovalAdj  \\\n",
       "Sector                                                              \n",
       "Accommodation & Food Services                        7.498952e+09   \n",
       "Administrative/Support/Waste Management              2.450614e+09   \n",
       "Agriculture                                          2.023685e+09   \n",
       "Arts, Entertainment, & Recreation                    1.797776e+09   \n",
       "Construction                                         6.208953e+09   \n",
       "\n",
       "                                         GrossChargeOffAmountAdj  \\\n",
       "Sector                                                             \n",
       "Accommodation & Food Services                       2.196629e+09   \n",
       "Administrative/Support/Waste Management             5.266983e+08   \n",
       "Agriculture                                         2.379037e+08   \n",
       "Arts, Entertainment, & Recreation                   3.855993e+08   \n",
       "Construction                                        1.345566e+09   \n",
       "\n",
       "                                         MaturityYear     Code  \n",
       "Sector                                                          \n",
       "Accommodation & Food Services               119646986  4283424  \n",
       "Administrative/Support/Waste Management      68032112  1895320  \n",
       "Agriculture                                  16215308    88803  \n",
       "Arts, Entertainment, & Recreation            27020250   954453  \n",
       "Construction                                131598158  1506316  "
      ]
     },
     "execution_count": 79,
     "metadata": {},
     "output_type": "execute_result"
    }
   ],
   "source": [
    "by_sector.head()"
   ]
  },
  {
   "cell_type": "code",
   "execution_count": 80,
   "metadata": {
    "collapsed": false
   },
   "outputs": [
    {
     "data": {
      "image/png": "[encoded data removed]",
      "text/plain": [
       "<matplotlib.figure.Figure at 0x19e020668>"
      ]
     },
     "metadata": {},
     "output_type": "display_data"
    }
   ],
   "source": [
    "fig = plt.figure(figsize=(16,6))\n",
    "axes = fig.add_subplot(1, 1, 1, facecolor = 'gainsboro')\n",
    "axes.plot(by_sector['SBAGuaranteedApprovalAdj'], by_sector['GrossChargeOffAmountAdj'], 'ro')\n",
    "plt.xlabel('Total SBA Guaranteed Amount per Sector \\n(2016 US Dollars)')\n",
    "plt.ylabel('Total Charged Off Amount per Sectos \\n(2016 US Dollars)')\n",
    "plt.tight_layout()\n"
   ]
  },
  {
   "cell_type": "code",
   "execution_count": 81,
   "metadata": {
    "collapsed": false
   },
   "outputs": [],
   "source": [
    "by_sector.reset_index(inplace = True)"
   ]
  },
  {
   "cell_type": "code",
   "execution_count": 82,
   "metadata": {
    "collapsed": true
   },
   "outputs": [],
   "source": [
    "by_sector['Percent Defaulted'] = (by_sector['GrossChargeOffAmountAdj']/ by_sector['SBAGuaranteedApprovalAdj'])*100"
   ]
  },
  {
   "cell_type": "code",
   "execution_count": 83,
   "metadata": {
    "collapsed": false
   },
   "outputs": [
    {
     "data": {
      "text/plain": [
       "<matplotlib.text.Text at 0x1226fd9b0>"
      ]
     },
     "execution_count": 83,
     "metadata": {},
     "output_type": "execute_result"
    },
    {
     "data": {
      "image/png": "[encoded data removed]",
      "text/plain": [
       "<matplotlib.figure.Figure at 0x13cba8470>"
      ]
     },
     "metadata": {},
     "output_type": "display_data"
    }
   ],
   "source": [
    "sns.set_context('poster', font_scale = 1.2)\n",
    "\n",
    "# Initialize the matplotlib figure\n",
    "f, ax = plt.subplots(figsize=(8, 7))\n",
    "\n",
    "pco = by_sector.sort_values(\"Percent Defaulted\", ascending=False)\n",
    "\n",
    "# Plot the total % defaulted (in dollars)\n",
    "sns.set_color_codes(\"pastel\")\n",
    "sns.barplot(y = \"Sector\", x = \"Percent Defaulted\", data=pco, palette=\"Reds_d\")\n",
    "ax.set_xlabel('Percent Defaulted  ($)')\n",
    "ax.set_ylabel('')\n",
    "\n",
    "ax.set_title('Industry Sector')\n",
    "\n"
   ]
  },
  {
   "cell_type": "code",
   "execution_count": 84,
   "metadata": {
    "collapsed": false
   },
   "outputs": [],
   "source": [
    "by_sector_ct = loans_7a_matured.groupby('Sector').agg(lambda ts: (ts > 0).sum()) "
   ]
  },
  {
   "cell_type": "code",
   "execution_count": 85,
   "metadata": {
    "collapsed": true
   },
   "outputs": [],
   "source": [
    "by_sector_ct.reset_index(inplace = True)"
   ]
  },
  {
   "cell_type": "code",
   "execution_count": 86,
   "metadata": {
    "collapsed": true
   },
   "outputs": [],
   "source": [
    "by_sector_ct['Percent Defaulted'] = (by_sector_ct['GrossChargeOffAmountAdj']/ by_sector_ct['SBAGuaranteedApprovalAdj'])*100"
   ]
  },
  {
   "cell_type": "code",
   "execution_count": 106,
   "metadata": {
    "collapsed": false
   },
   "outputs": [
    {
     "data": {
      "image/png": "[encoded data removed]",
      "text/plain": [
       "<matplotlib.figure.Figure at 0x1227fd470>"
      ]
     },
     "metadata": {},
     "output_type": "display_data"
    }
   ],
   "source": [
    "sns.set_context('poster', font_scale = 1.2)\n",
    "\n",
    "# Initialize the matplotlib figure\n",
    "f, ax = plt.subplots(figsize=(12, 18))\n",
    "\n",
    "pco = by_sector_ct.sort_values(\"Percent Defaulted\", ascending=False)\n",
    "\n",
    "# Plot the total percent defaulted (in number of loans)\n",
    "sns.set_color_codes(\"pastel\")\n",
    "sns.barplot(y=\"Sector\", x= \"Percent Defaulted\", data=pco, palette=\"Reds_d\")\n",
    "ax.set_xlabel('Percent Defaulted  (# of Loans)')\n",
    "\n",
    "ax.set_ylabel('')\n",
    "\n",
    "ax.set_title('Industry Sector')\n",
    "f.tight_layout()"
   ]
  },
  {
   "cell_type": "code",
   "execution_count": 107,
   "metadata": {
    "collapsed": true
   },
   "outputs": [],
   "source": [
    "f.savefig('Sector.png', dpi = 300)"
   ]
  },
  {
   "cell_type": "code",
   "execution_count": 88,
   "metadata": {
    "collapsed": false
   },
   "outputs": [
    {
     "name": "stdout",
     "output_type": "stream",
     "text": [
      "0\n",
      "199\n",
      "2\n",
      "2\n",
      "7\n",
      "3\n",
      "1\n",
      "19\n",
      "12\n",
      "8132\n",
      "606\n",
      "2\n"
     ]
    }
   ],
   "source": [
    "#get states \n",
    "\n",
    "borr_states = set(loans_7a_matured['BorrState'].unique())\n",
    "\n",
    "states = [\"AL\", \"AK\", \"AZ\", \"AR\", \"CA\", \"CO\", \"CT\", \"DC\", \"DE\", \"FL\", \"GA\", \n",
    "          \"HI\", \"ID\", \"IL\", \"IN\", \"IA\", \"KS\", \"KY\", \"LA\", \"ME\", \"MD\", \n",
    "          \"MA\", \"MI\", \"MN\", \"MS\", \"MO\", \"MT\", \"NE\", \"NV\", \"NH\", \"NJ\", \n",
    "          \"NM\", \"NY\", \"NC\", \"ND\", \"OH\", \"OK\", \"OR\", \"PA\", \"RI\", \"SC\", \n",
    "          \"SD\", \"TN\", \"TX\", \"UT\", \"VT\", \"VA\", \"WA\", \"WV\", \"WI\", \"WY\"]\n",
    "\n",
    "#US teritories \n",
    "borr_states.difference(states)\n",
    "\n",
    "#count all the \"odd\" ones\n",
    "for s in borr_states.difference(states):\n",
    "   print((loans_7a_matured['BorrState'] == s).sum())\n",
    "\n",
    "#PR has 9834 loans, all others < 1000\n",
    "\n",
    "print((loans_7a_matured['BorrState']).isnull().sum())\n",
    "\n"
   ]
  },
  {
   "cell_type": "code",
   "execution_count": 89,
   "metadata": {
    "collapsed": false
   },
   "outputs": [
    {
     "name": "stdout",
     "output_type": "stream",
     "text": [
      "2\n"
     ]
    }
   ],
   "source": [
    "#number of nans for states\n",
    "print((loans_7a_matured['BorrState']).isnull().sum())\n",
    "\n",
    "\n",
    "#drop the territories except for PR\n",
    "\n",
    "for s in {'FM', 'MP', 'GU', 'MH', 'PW', 'AE', 'VI', 'AS', 'TQ'}:\n",
    "     loans_7a_matured = loans_7a_matured[loans_7a_matured['BorrState'] != s]   \n",
    "\n",
    "\n",
    "#drop the nans\n",
    "loans_7a_matured = loans_7a_matured[loans_7a_matured['BorrState'].notnull()]\n"
   ]
  },
  {
   "cell_type": "code",
   "execution_count": 90,
   "metadata": {
    "collapsed": false
   },
   "outputs": [
    {
     "name": "stdout",
     "output_type": "stream",
     "text": [
      "<class 'pandas.core.frame.DataFrame'>\n",
      "Int64Index: 650263 entries, 0 to 755647\n",
      "Data columns (total 25 columns):\n",
      "BorrState                   650263 non-null object\n",
      "BankName                    650263 non-null object\n",
      "SBAGuaranteedApproval       650263 non-null int64\n",
      "ApprovalDate                650263 non-null datetime64[ns]\n",
      "ApprovalFiscalYear          650263 non-null int64\n",
      "FirstDisbursementDate       648495 non-null datetime64[ns]\n",
      "DeliveryMethod              650261 non-null object\n",
      "subpgmdesc                  650263 non-null object\n",
      "TermInMonths                650263 non-null int64\n",
      "NaicsCode                   650263 non-null float64\n",
      "BusinessType                650227 non-null object\n",
      "LoanStatus                  650263 non-null object\n",
      "ChargeOffDate               158036 non-null datetime64[ns]\n",
      "GrossChargeOffAmount        650263 non-null int64\n",
      "RevolverStatus              650263 non-null int64\n",
      "JobsSupported               650263 non-null int64\n",
      "FranchiseCodeBin            650263 non-null int64\n",
      "CPI_to2016                  650263 non-null object\n",
      "SP_to2016                   650263 non-null object\n",
      "SBAGuaranteedApprovalAdj    650263 non-null float64\n",
      "GrossChargeOffAmountAdj     650263 non-null float64\n",
      "MaturityDate                650263 non-null datetime64[ns]\n",
      "MaturityYear                650263 non-null int64\n",
      "Code                        650263 non-null int64\n",
      "Sector                      650263 non-null object\n",
      "dtypes: datetime64[ns](4), float64(3), int64(9), object(9)\n",
      "memory usage: 129.0+ MB\n"
     ]
    }
   ],
   "source": [
    "loans_7a_matured.info()"
   ]
  },
  {
   "cell_type": "markdown",
   "metadata": {},
   "source": [
    "### For categorical variables, we will use one-hot encoding"
   ]
  },
  {
   "cell_type": "code",
   "execution_count": 91,
   "metadata": {
    "collapsed": false
   },
   "outputs": [],
   "source": [
    "#One-hot encoding: state, year approved, category, business type, loan tatus\n",
    "loans_7a_matured = pd.concat([loans_7a_matured, pd.get_dummies(loans_7a_matured['BorrState'], drop_first=True)], axis  = 1)\n",
    "loans_7a_matured = pd.concat([loans_7a_matured, pd.get_dummies(loans_7a_matured['Sector'], drop_first=True)], axis  = 1)\n",
    "loans_7a_matured = pd.concat([loans_7a_matured, pd.get_dummies(loans_7a_matured['LoanStatus'], drop_first = True)], axis  = 1)\n",
    "loans_7a_matured = pd.concat([loans_7a_matured, pd.get_dummies(loans_7a_matured['BusinessType'], drop_first = True)], axis  = 1)\n",
    "loans_7a_matured = pd.concat([loans_7a_matured, pd.get_dummies(loans_7a_matured['ApprovalFiscalYear'], drop_first = True)], axis  = 1)\n"
   ]
  },
  {
   "cell_type": "code",
   "execution_count": 92,
   "metadata": {
    "collapsed": false
   },
   "outputs": [
    {
     "data": {
      "text/plain": [
       "['BorrState',\n",
       " 'BankName',\n",
       " 'SBAGuaranteedApproval',\n",
       " 'ApprovalDate',\n",
       " 'ApprovalFiscalYear',\n",
       " 'FirstDisbursementDate',\n",
       " 'DeliveryMethod',\n",
       " 'subpgmdesc',\n",
       " 'TermInMonths',\n",
       " 'NaicsCode',\n",
       " 'BusinessType',\n",
       " 'LoanStatus',\n",
       " 'ChargeOffDate',\n",
       " 'GrossChargeOffAmount',\n",
       " 'RevolverStatus',\n",
       " 'JobsSupported',\n",
       " 'FranchiseCodeBin',\n",
       " 'CPI_to2016',\n",
       " 'SP_to2016',\n",
       " 'SBAGuaranteedApprovalAdj',\n",
       " 'GrossChargeOffAmountAdj',\n",
       " 'MaturityDate',\n",
       " 'MaturityYear',\n",
       " 'Code',\n",
       " 'Sector',\n",
       " 'AL',\n",
       " 'AR',\n",
       " 'AZ',\n",
       " 'CA',\n",
       " 'CO',\n",
       " 'CT',\n",
       " 'DC',\n",
       " 'DE',\n",
       " 'FL',\n",
       " 'GA',\n",
       " 'HI',\n",
       " 'IA',\n",
       " 'ID',\n",
       " 'IL',\n",
       " 'IN',\n",
       " 'KS',\n",
       " 'KY',\n",
       " 'LA',\n",
       " 'MA',\n",
       " 'MD',\n",
       " 'ME',\n",
       " 'MI',\n",
       " 'MN',\n",
       " 'MO',\n",
       " 'MS',\n",
       " 'MT',\n",
       " 'NC',\n",
       " 'ND',\n",
       " 'NE',\n",
       " 'NH',\n",
       " 'NJ',\n",
       " 'NM',\n",
       " 'NV',\n",
       " 'NY',\n",
       " 'OH',\n",
       " 'OK',\n",
       " 'OR',\n",
       " 'PA',\n",
       " 'PR',\n",
       " 'RI',\n",
       " 'SC',\n",
       " 'SD',\n",
       " 'TN',\n",
       " 'TX',\n",
       " 'UT',\n",
       " 'VA',\n",
       " 'VT',\n",
       " 'WA',\n",
       " 'WI',\n",
       " 'WV',\n",
       " 'WY',\n",
       " 'Administrative/Support/Waste Management',\n",
       " 'Agriculture',\n",
       " 'Arts, Entertainment, & Recreation',\n",
       " 'Construction',\n",
       " 'Educational Services',\n",
       " 'Finance & Insurance',\n",
       " 'Health Care & Social Assistance',\n",
       " 'Information',\n",
       " 'Management of Companies & Enterprises',\n",
       " 'Manufacturing',\n",
       " 'Mining',\n",
       " 'Other Services',\n",
       " 'Professional, Scientific, & Technical Services',\n",
       " 'Public Administration',\n",
       " 'Real Estate Rental & Leasing',\n",
       " 'Retail Trade',\n",
       " 'Transportation & Warehousing',\n",
       " 'Utilities',\n",
       " 'Wholesale Trade',\n",
       " 'PIF',\n",
       " 'INDIVIDUAL',\n",
       " 'PARTNERSHIP',\n",
       " 1992,\n",
       " 1993,\n",
       " 1994,\n",
       " 1995,\n",
       " 1996,\n",
       " 1997,\n",
       " 1998,\n",
       " 1999,\n",
       " 2000,\n",
       " 2001,\n",
       " 2002,\n",
       " 2003,\n",
       " 2004,\n",
       " 2005,\n",
       " 2006,\n",
       " 2007,\n",
       " 2008,\n",
       " 2009,\n",
       " 2010,\n",
       " 2011,\n",
       " 2012,\n",
       " 2013,\n",
       " 2014,\n",
       " 2015,\n",
       " 2016,\n",
       " 2017]"
      ]
     },
     "execution_count": 92,
     "metadata": {},
     "output_type": "execute_result"
    }
   ],
   "source": [
    "list(loans_7a_matured.columns)"
   ]
  },
  {
   "cell_type": "code",
   "execution_count": 93,
   "metadata": {
    "collapsed": true
   },
   "outputs": [],
   "source": [
    "loans_7a_matured.reset_index(inplace = True, drop = True)"
   ]
  },
  {
   "cell_type": "code",
   "execution_count": 94,
   "metadata": {
    "collapsed": false
   },
   "outputs": [
    {
     "name": "stdout",
     "output_type": "stream",
     "text": [
      "<class 'pandas.core.frame.DataFrame'>\n",
      "RangeIndex: 650263 entries, 0 to 650262\n",
      "Columns: 124 entries, BorrState to 2017\n",
      "dtypes: datetime64[ns](4), float64(3), int64(9), object(9), uint8(99)\n",
      "memory usage: 185.4+ MB\n"
     ]
    }
   ],
   "source": [
    "loans_7a_matured.info()"
   ]
  },
  {
   "cell_type": "code",
   "execution_count": 95,
   "metadata": {
    "collapsed": false
   },
   "outputs": [
    {
     "data": {
      "text/plain": [
       "['BorrState',\n",
       " 'BankName',\n",
       " 'SBAGuaranteedApproval',\n",
       " 'ApprovalDate',\n",
       " 'ApprovalFiscalYear',\n",
       " 'FirstDisbursementDate',\n",
       " 'DeliveryMethod',\n",
       " 'subpgmdesc',\n",
       " 'TermInMonths',\n",
       " 'NaicsCode',\n",
       " 'BusinessType',\n",
       " 'LoanStatus',\n",
       " 'ChargeOffDate',\n",
       " 'GrossChargeOffAmount',\n",
       " 'RevolverStatus',\n",
       " 'JobsSupported',\n",
       " 'FranchiseCodeBin',\n",
       " 'CPI_to2016',\n",
       " 'SP_to2016',\n",
       " 'SBAGuaranteedApprovalAdj',\n",
       " 'GrossChargeOffAmountAdj',\n",
       " 'MaturityDate',\n",
       " 'MaturityYear',\n",
       " 'Code',\n",
       " 'Sector',\n",
       " 'AL',\n",
       " 'AR',\n",
       " 'AZ',\n",
       " 'CA',\n",
       " 'CO',\n",
       " 'CT',\n",
       " 'DC',\n",
       " 'DE',\n",
       " 'FL',\n",
       " 'GA',\n",
       " 'HI',\n",
       " 'IA',\n",
       " 'ID',\n",
       " 'IL',\n",
       " 'IN',\n",
       " 'KS',\n",
       " 'KY',\n",
       " 'LA',\n",
       " 'MA',\n",
       " 'MD',\n",
       " 'ME',\n",
       " 'MI',\n",
       " 'MN',\n",
       " 'MO',\n",
       " 'MS',\n",
       " 'MT',\n",
       " 'NC',\n",
       " 'ND',\n",
       " 'NE',\n",
       " 'NH',\n",
       " 'NJ',\n",
       " 'NM',\n",
       " 'NV',\n",
       " 'NY',\n",
       " 'OH',\n",
       " 'OK',\n",
       " 'OR',\n",
       " 'PA',\n",
       " 'PR',\n",
       " 'RI',\n",
       " 'SC',\n",
       " 'SD',\n",
       " 'TN',\n",
       " 'TX',\n",
       " 'UT',\n",
       " 'VA',\n",
       " 'VT',\n",
       " 'WA',\n",
       " 'WI',\n",
       " 'WV',\n",
       " 'WY',\n",
       " 'Administrative/Support/Waste Management',\n",
       " 'Agriculture',\n",
       " 'Arts, Entertainment, & Recreation',\n",
       " 'Construction',\n",
       " 'Educational Services',\n",
       " 'Finance & Insurance',\n",
       " 'Health Care & Social Assistance',\n",
       " 'Information',\n",
       " 'Management of Companies & Enterprises',\n",
       " 'Manufacturing',\n",
       " 'Mining',\n",
       " 'Other Services',\n",
       " 'Professional, Scientific, & Technical Services',\n",
       " 'Public Administration',\n",
       " 'Real Estate Rental & Leasing',\n",
       " 'Retail Trade',\n",
       " 'Transportation & Warehousing',\n",
       " 'Utilities',\n",
       " 'Wholesale Trade',\n",
       " 'PIF',\n",
       " 'INDIVIDUAL',\n",
       " 'PARTNERSHIP',\n",
       " 1992,\n",
       " 1993,\n",
       " 1994,\n",
       " 1995,\n",
       " 1996,\n",
       " 1997,\n",
       " 1998,\n",
       " 1999,\n",
       " 2000,\n",
       " 2001,\n",
       " 2002,\n",
       " 2003,\n",
       " 2004,\n",
       " 2005,\n",
       " 2006,\n",
       " 2007,\n",
       " 2008,\n",
       " 2009,\n",
       " 2010,\n",
       " 2011,\n",
       " 2012,\n",
       " 2013,\n",
       " 2014,\n",
       " 2015,\n",
       " 2016,\n",
       " 2017]"
      ]
     },
     "execution_count": 95,
     "metadata": {},
     "output_type": "execute_result"
    }
   ],
   "source": [
    "list(loans_7a_matured.columns)"
   ]
  },
  {
   "cell_type": "code",
   "execution_count": 96,
   "metadata": {
    "collapsed": true
   },
   "outputs": [],
   "source": [
    "#drop columns we won't use\n",
    "loans_7a_matured.drop(['BorrState', 'BankName', 'ApprovalDate', 'SBAGuaranteedApproval', 'ApprovalFiscalYear', \n",
    "           'GrossChargeOffAmount',\n",
    "           'FirstDisbursementDate', 'DeliveryMethod','subpgmdesc', 'NaicsCode', 'BusinessType', 'LoanStatus',\n",
    "           'ChargeOffDate', 'CPI_to2016', 'MaturityDate', 'MaturityYear', 'Code', 'Sector' ], axis = 1, inplace = True)"
   ]
  },
  {
   "cell_type": "code",
   "execution_count": 97,
   "metadata": {
    "collapsed": true
   },
   "outputs": [],
   "source": [
    "pd.to_pickle(loans_7a_matured, 'loans_7a_matured')"
   ]
  }
 ],
 "metadata": {
  "kernelspec": {
   "display_name": "Python 3",
   "language": "python",
   "name": "python3"
  },
  "language_info": {
   "codemirror_mode": {
    "name": "ipython",
    "version": 3
   },
   "file_extension": ".py",
   "mimetype": "text/x-python",
   "name": "python",
   "nbconvert_exporter": "python",
   "pygments_lexer": "ipython3",
   "version": "3.6.0"
  }
 },
 "nbformat": 4,
 "nbformat_minor": 2
}
